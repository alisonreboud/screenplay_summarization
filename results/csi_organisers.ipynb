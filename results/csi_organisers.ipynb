{
 "cells": [
  {
   "cell_type": "code",
   "execution_count": 1,
   "metadata": {},
   "outputs": [],
   "source": [
    "import os \n",
    "from os import listdir\n",
    "from moviepy.editor import VideoFileClip, concatenate_videoclips"
   ]
  },
  {
   "cell_type": "code",
   "execution_count": 3,
   "metadata": {},
   "outputs": [
    {
     "name": "stdout",
     "output_type": "stream",
     "text": [
      "[]\n",
      "clip_1.mp4\n",
      "clip_2.mp4\n",
      "clip_4.mp4\n",
      "clip_5.mp4\n",
      "clip_7.mp4\n",
      "clip_6.mp4\n",
      "clip_9.mp4\n",
      "clip_0.mp4\n",
      "clip_10.mp4\n",
      "clip_3.mp4\n",
      "clip_8.mp4\n",
      "clip_11.mp4\n",
      "[]\n",
      "clip_12.mp4\n",
      "clip_1.mp4\n",
      "clip_2.mp4\n",
      "clip_4.mp4\n",
      "clip_5.mp4\n",
      "clip_7.mp4\n",
      "clip_6.mp4\n",
      "clip_9.mp4\n",
      "clip_0.mp4\n",
      "clip_10.mp4\n",
      "clip_3.mp4\n",
      "clip_8.mp4\n",
      "clip_11.mp4\n",
      "[]\n",
      "clip_12.mp4\n",
      "clip_1.mp4\n",
      "clip_2.mp4\n",
      "clip_4.mp4\n",
      "clip_5.mp4\n",
      "clip_7.mp4\n",
      "clip_6.mp4\n",
      "clip_9.mp4\n",
      "clip_0.mp4\n",
      "clip_10.mp4\n",
      "clip_3.mp4\n",
      "clip_8.mp4\n",
      "clip_11.mp4\n"
     ]
    }
   ],
   "source": [
    "path_video_segments='csi_organisers' \n",
    "\n",
    "for sub in (listdir(path_video_segments)):\n",
    "    print(ordered_list_segments)\n",
    "    for segment in listdir(os.path.join(path_video_segments+'/'+sub)):\n",
    "        print(segment)\n",
    "        segment_nbr=segment.split('_')[1]\n",
    "        segment_nbr=segment_nbr.split('.')[0]\n",
    "        segment_renamed=os.path.join(segment_nbr+'-'+sub)\n",
    "        os.rename(os.path.join(path_video_segments+'/'+sub+'/'+segment),os.path.join(path_video_segments+'/'+sub+'/'+segment_renamed))\n",
    "\n",
    "\n",
    "            "
   ]
  },
  {
   "cell_type": "code",
   "execution_count": 5,
   "metadata": {},
   "outputs": [
    {
     "name": "stdout",
     "output_type": "stream",
     "text": [
      "12\n"
     ]
    },
    {
     "name": "stderr",
     "output_type": "stream",
     "text": [
      "chunk:   0%|          | 52/55872 [00:00<01:48, 516.20it/s, now=None]"
     ]
    },
    {
     "name": "stdout",
     "output_type": "stream",
     "text": [
      "12\n",
      "Moviepy - Building video csi_organisers_merged/s05e08.mp4.\n",
      "MoviePy - Writing audio in s05e08TEMP_MPY_wvf_snd.mp3\n"
     ]
    },
    {
     "name": "stderr",
     "output_type": "stream",
     "text": [
      "t:   0%|          | 37/63346 [00:00<02:52, 367.31it/s, now=None]        "
     ]
    },
    {
     "name": "stdout",
     "output_type": "stream",
     "text": [
      "MoviePy - Done.\n",
      "Moviepy - Writing video csi_organisers_merged/s05e08.mp4\n",
      "\n"
     ]
    },
    {
     "name": "stderr",
     "output_type": "stream",
     "text": [
      "                                                                   \r"
     ]
    },
    {
     "name": "stdout",
     "output_type": "stream",
     "text": [
      "Moviepy - Done !\n",
      "Moviepy - video ready csi_organisers_merged/s05e08.mp4\n",
      "13\n"
     ]
    },
    {
     "name": "stderr",
     "output_type": "stream",
     "text": [
      "chunk:   0%|          | 67/54413 [00:00<01:22, 660.83it/s, now=None]"
     ]
    },
    {
     "name": "stdout",
     "output_type": "stream",
     "text": [
      "13\n",
      "Moviepy - Building video csi_organisers_merged/s02e04.mp4.\n",
      "MoviePy - Writing audio in s02e04TEMP_MPY_wvf_snd.mp3\n"
     ]
    },
    {
     "name": "stderr",
     "output_type": "stream",
     "text": [
      "t:   0%|          | 30/61692 [00:00<03:28, 295.87it/s, now=None]        "
     ]
    },
    {
     "name": "stdout",
     "output_type": "stream",
     "text": [
      "MoviePy - Done.\n",
      "Moviepy - Writing video csi_organisers_merged/s02e04.mp4\n",
      "\n"
     ]
    },
    {
     "name": "stderr",
     "output_type": "stream",
     "text": [
      "                                                                   \r"
     ]
    },
    {
     "name": "stdout",
     "output_type": "stream",
     "text": [
      "Moviepy - Done !\n",
      "Moviepy - video ready csi_organisers_merged/s02e04.mp4\n",
      "13\n"
     ]
    },
    {
     "name": "stderr",
     "output_type": "stream",
     "text": [
      "chunk:   0%|          | 73/51457 [00:00<01:10, 728.71it/s, now=None]"
     ]
    },
    {
     "name": "stdout",
     "output_type": "stream",
     "text": [
      "13\n",
      "Moviepy - Building video csi_organisers_merged/s02e09.mp4.\n",
      "MoviePy - Writing audio in s02e09TEMP_MPY_wvf_snd.mp3\n"
     ]
    },
    {
     "name": "stderr",
     "output_type": "stream",
     "text": [
      "t:   0%|          | 29/58342 [00:00<03:21, 289.45it/s, now=None]        "
     ]
    },
    {
     "name": "stdout",
     "output_type": "stream",
     "text": [
      "MoviePy - Done.\n",
      "Moviepy - Writing video csi_organisers_merged/s02e09.mp4\n",
      "\n"
     ]
    },
    {
     "name": "stderr",
     "output_type": "stream",
     "text": [
      "                                                                   \r"
     ]
    },
    {
     "name": "stdout",
     "output_type": "stream",
     "text": [
      "Moviepy - Done !\n",
      "Moviepy - video ready csi_organisers_merged/s02e09.mp4\n"
     ]
    }
   ],
   "source": [
    "\n",
    "#format = 23-s04e23\n",
    "\n",
    "\n",
    "for sub in (listdir(path_video_segments)):\n",
    "#for sub in reste:\n",
    "    #print(nbr_files)\n",
    "    nbr_files= len([segment for segment in listdir(os.path.join(path_video_segments+'/'+sub))])\n",
    "    print(nbr_files)\n",
    "    ordered_list_segments=[]\n",
    "    for nbr in range(nbr_files):\n",
    "        ordered_list_segments.append(VideoFileClip(path_video_segments+'/'+sub+'/'+str(nbr)+'-'+sub))\n",
    "    print(len(ordered_list_segments))\n",
    "    final_video= concatenate_videoclips(ordered_list_segments)\n",
    "    final_video.write_videofile('csi_organisers_merged/'+sub+'.mp4')\n",
    "    \n",
    "\n",
    "    \n",
    "    \n",
    "    #print(ordered_list_segments)\n",
    "    #for segment in listdir(os.path.join(path_video_segments+'/'+sub)):\n",
    "        #print(segment)\n",
    "        #segment_nbr=segment.split('_')[1]\n",
    "        #segment_nbr=segment_nbr.split('.')[0]\n",
    "        #segment_renamed=os.path.join(segment_nbr+'-'+sub)\n",
    "        #os.rename(os.path.join(path_video_segments+'/'+sub+'/'+segment),os.path.join(path_video_segments+'/'+sub+'/'+segment_renamed))\n",
    "\n",
    "\n",
    "            \n",
    "            \n",
    "        #print(segment_nbr)\n",
    "\n",
    "        #print(segment_renamed)\n",
    "        #os.rename(os.path.join(path_video_segments+'/'+sub+'/'+segment),os.path.join(path_video_segments+'/'+segment_renamed))\n"
   ]
  },
  {
   "cell_type": "code",
   "execution_count": 24,
   "metadata": {},
   "outputs": [],
   "source": [
    "\n",
    "     \n",
    "\n",
    "   "
   ]
  },
  {
   "cell_type": "code",
   "execution_count": null,
   "metadata": {},
   "outputs": [],
   "source": []
  }
 ],
 "metadata": {
  "kernelspec": {
   "display_name": "Python 3",
   "language": "python",
   "name": "python3"
  },
  "language_info": {
   "codemirror_mode": {
    "name": "ipython",
    "version": 3
   },
   "file_extension": ".py",
   "mimetype": "text/x-python",
   "name": "python",
   "nbconvert_exporter": "python",
   "pygments_lexer": "ipython3",
   "version": "3.6.9"
  }
 },
 "nbformat": 4,
 "nbformat_minor": 2
}
