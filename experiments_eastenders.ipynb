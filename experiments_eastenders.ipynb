{
 "cells": [
  {
   "cell_type": "code",
   "execution_count": 22,
   "metadata": {},
   "outputs": [],
   "source": [
    "import pandas as pd\n",
    "pd.set_option('display.max_colwidth', -1)"
   ]
  },
  {
   "cell_type": "code",
   "execution_count": 25,
   "metadata": {},
   "outputs": [
    {
     "name": "stdout",
     "output_type": "stream",
     "text": [
      "Index(['Unnamed: 0', 'Unnamed: 0.1', 'begin', 'end', 'filename', 'shot_id',\n",
      "       'transcript', 'extramarital affair', 'get divorced',\n",
      "       'illegitimate child', 'institutionalized for emotional problem',\n",
      "       'happily married', 'serious accident', 'murdered', 'attempt suicide',\n",
      "       'blackmailed', 'unfaithful spouse', 'sexually assaulted', 'abortion',\n",
      "       'score'],\n",
      "      dtype='object')\n"
     ]
    }
   ],
   "source": [
    "#df=pd.read_csv('life_scale_ranking_Max_Jack_Tanya.csv')\n",
    "df=pd.read_csv('soap_opera_scale_Max_Jack_Tanya.csv')\n",
    "print(df.columns)\n",
    "cols_to_keep=['Unnamed: 0','Unnamed: 0.1', 'begin', 'end', 'filename', 'shot_id', 'transcript','score','abortion']\n",
    "df['score_max'] = df.drop(cols_to_keep, axis=1).max(axis=1)\n",
    "df=df.sort_values(by=['score_max'],ascending=False)"
   ]
  },
  {
   "cell_type": "code",
   "execution_count": 27,
   "metadata": {},
   "outputs": [
    {
     "data": {
      "text/plain": [
       "2        Can you tell Bianca, when she peels  herself off of her deathbed, that next time, I want a doctor's note.                                                                                                                                                                               \n",
       "679      They drove off a cliff.                                                                                                                                                                                                                                                                 \n",
       "1111     What?  I wouldn't be surprised if he threw himself in front of that car,                                                                                                                                                                                                                \n",
       "20       Suzy, she threw it in the canal.                                                                                                                                                                                                                                                        \n",
       "562      So stop sulking and get  yourself up the hospital.                                                                                                                                                                                                                                      \n",
       "1442     You're the runt  of the litter.  SAY IT!                                                                                                                                                                                                                                                \n",
       "155      She ain't even my kid  and I nearly went away  for her...again.                                                                                                                                                                                                                         \n",
       "2027     It's a runt.  But it's her birthday  present. You still in there, Phil?                                                                                                                                                                                                                 \n",
       "162      We can't leave him Shirl.  Not in  this state. Well, he ain't my kid.                                                                                                                                                                                                                   \n",
       "502      What, getting knocked up at fourteen?  No, I don't think so. That young?                                                                                                                                                                                                                \n",
       "826      So stop feeling sorry for yourself  and get up that hospital. Mo, he's won, all right?                                                                                                                                                                                                  \n",
       "2606     Fancy one of my lot having  to see a psychiatrist, eh? Mum, where's Whitney?                                                                                                                                                                                                            \n",
       "672      What do you mean?  Well, you've already said it  yourself.  If she goes to the shrink, she's in the system.                                                                                                                                                                             \n",
       "87       Well, it would've just been so  much easier if she was your baby.                                                                                                                                                                                                                       \n",
       "1002     No.  You're underage.  Anyway, your  Dad'll be back soon. And Suzy.                                                                                                                                                                                                                     \n",
       "1029     Thought I was gonna die.                                                                                                                                                                                                                                                                \n",
       "9        What's the point?  The baby's  gonna die, innit? Sometimes I wonder what Roxy ever saw in you.                                                                                                                                                                                          \n",
       "770      Goodness knows what state her  baby's in. What makes you say that? Didn't you hear?                                                                                                                                                                                                     \n",
       "2608     Losing your dad like that.  How much you loved him. I never had a son, Sean.  I wish I had.                                                                                                                                                                                             \n",
       "2011     Me?  Nervous?  I had that part  of my personality removed at 13.                                                                                                                                                                                                                        \n",
       "1121     It must be hard, accepting that  someone you loved tried to kill you.                                                                                                                                                                                                                   \n",
       "779      You can't sit here moping all day.  Get your bag. Come on, it's only gonna  be for a couple of hours. Can't I go round Ben's? No you can't, you've been suspended!  Grounded too, am I? You can take that homework Ben  brought round, though.  I don't want you falling behind.  Go on.\n",
       "183      That's your Auntie Ron you're  kicking, so soon as you're out, you're grounded!                                                                                                                                                                                                         \n",
       "131      Will you stop it, Mother.  Don't tell me to stop it. Tell your father.  He's the one  with the dirty little secret.                                                                                                                                                                     \n",
       "598      It's just a shame they're  not yours then, isn't it?                                                                                                                                                                                                                                    \n",
       "22       Nobody wants me.  Nobody cares about me.                                                                                                                                                                                                                                                \n",
       "984      Watching your mother-in-law  drive off a cliff in your brand new Merc.                                                                                                                                                                                                                  \n",
       "454      She'll find out.  How?  He's never gonna see them. Just as well for this little 'un.                                                                                                                                                                                                    \n",
       "1782     It ain't his fault  he lost his dad, is it?                                                                                                                                                                                                                                             \n",
       "1595     Lauren's grounded.                                                                                                                                                                                                                                                                      \n",
       "                ...                                                                                                                                                                                                                                                                              \n",
       "12095    What, is it for work?  Yeah, why not?                                                                                                                                                                                                                                                   \n",
       "12072    We can go for a drink.  We can catch a movie.                                                                                                                                                                                                                                           \n",
       "12092    Summer loves this park.                                                                                                                                                                                                                                                                 \n",
       "12091    Some stray moggy's  giving him hay fever.                                                                                                                                                                                                                                               \n",
       "12106    to do some financial predictions.                                                                                                                                                                                                                                                       \n",
       "12085    So, I thought  when your workers take a break...                                                                                                                                                                                                                                        \n",
       "12039    Friends, people who want to  support you. I used to love performing at school,                                                                                                                                                                                                          \n",
       "12115    he knows about computers, right?                                                                                                                                                                                                                                                        \n",
       "12107    He's the best thing that's  ever happened to us. He's an ex-con.  He's hardly a good influence is he.                                                                                                                                                                                   \n",
       "12103    How's things with school?                                                                                                                                                                                                                                                               \n",
       "12096    The Escort RS Cosworth,  that was a motor. I always had the passion for motors.                                                                                                                                                                                                         \n",
       "12097    You know, a little bit of our lives  not everyone knows about? Whether it's a bit of romance,  or...an exercise class. That is completely different  and you know it. Come on, when am I gonna meet him?                                                                                \n",
       "12110    He was a real daddy's boy!                                                                                                                                                                                                                                                              \n",
       "12098    So what's that - homework?  No, just stuff...                                                                                                                                                                                                                                           \n",
       "12101    Romeo and Juliet, surely?  That's the old-fashioned version,  with all the \"thees\" and \"thous\". This is the new version  where you can understand what they're talking about.                                                                                                           \n",
       "12108    Probably just a car  back-firing or something. Yeah.                                                                                                                                                                                                                                    \n",
       "12119    ..from a talent scout.  He's seen your act.                                                                                                                                                                                                                                             \n",
       "12114    You must wanna do something?  Not bothered. Oh, it's your birthday,  you gotta do something special. We'll have cake with the kids,  watch a DVD. Not with the kids.  Me and you on our own. Like what?  I don't know, go out, for dinner, go somewhere.                                \n",
       "12100    Yeah, pathetic weirdos.  No.  Very respectable people...                                                                                                                                                                                                                                \n",
       "12111    I love making cakes,                                                                                                                                                                                                                                                                    \n",
       "12105    You're a good little worker.                                                                                                                                                                                                                                                            \n",
       "12121    Eric Mitchell, South East Counties  Junior Champion, 1957.                                                                                                                                                                                                                              \n",
       "12118    Summer just gone,  Gareth rescued a three-legged dog. It was nothing, really.                                                                                                                                                                                                           \n",
       "12120    What's that?  First fan mail?                                                                                                                                                                                                                                                           \n",
       "12122    It's a car part, Ian.                                                                                                                                                                                                                                                                   \n",
       "12116    Taken up body building now, have we?  That's an excellent idea.                                                                                                                                                                                                                         \n",
       "12117    I did a lot of sunbathing  by the pool... in my bikini.  Got loads of pictures  if you wanna see 'em. I don't like holiday snaps.  So, what do you think?                                                                                                                               \n",
       "12123    ..This beautiful replica cake of  the Queen Victoria pub. Is that it?                                                                                                                                                                                                                   \n",
       "12124    It's just a house.                                                                                                                                                                                                                                                                      \n",
       "12125    This is you searching  for a job, is it?                                                                                                                                                                                                                                                \n",
       "Name: transcript, Length: 12126, dtype: object"
      ]
     },
     "execution_count": 27,
     "metadata": {},
     "output_type": "execute_result"
    }
   ],
   "source": [
    "df.transcript\n",
    "\n"
   ]
  },
  {
   "cell_type": "code",
   "execution_count": 5,
   "metadata": {},
   "outputs": [
    {
     "data": {
      "text/plain": [
       "{'extramarital affair': 0.5050505050505051,\n",
       " 'get divorced': 0.5102040816326531,\n",
       " 'illegitimate child': 0.6896551724137931,\n",
       " 'institutionalized for emotional problem': 0.6993006993006994,\n",
       " 'happily married': 0.2469135802469136,\n",
       " 'serious accident': 0.33783783783783783,\n",
       " 'murdered': 0.5524861878453039,\n",
       " 'attempt suicide': 0.7936507936507936,\n",
       " 'blackmailed': 0.5376344086021505,\n",
       " 'unfaithful spouse': 0.4484304932735426,\n",
       " 'sexually assaulted': 0.3846153846153846,\n",
       " 'abortion': 0.7092198581560284}"
      ]
     },
     "execution_count": 5,
     "metadata": {},
     "output_type": "execute_result"
    }
   ],
   "source": [
    "{'extramarital affair': 1/1.98, 'get divorced': 1/1.96,'illegitimate child': 1/1.45,'institutionalized for emotional problem': 1/1.43,'happily married': 1/4.05,'serious accident': 1/2.96,'murdered': 1/1.81,'attempt suicide': 1/1.26,'blackmailed': 1/1.86,'unfaithful spouse': 1/2.23,'sexually assaulted': 1/2.60,'abortion': 1/1.41}"
   ]
  },
  {
   "cell_type": "code",
   "execution_count": null,
   "metadata": {},
   "outputs": [],
   "source": []
  }
 ],
 "metadata": {
  "kernelspec": {
   "display_name": "Python 3",
   "language": "python",
   "name": "python3"
  },
  "language_info": {
   "codemirror_mode": {
    "name": "ipython",
    "version": 3
   },
   "file_extension": ".py",
   "mimetype": "text/x-python",
   "name": "python",
   "nbconvert_exporter": "python",
   "pygments_lexer": "ipython3",
   "version": "3.6.9"
  }
 },
 "nbformat": 4,
 "nbformat_minor": 2
}
