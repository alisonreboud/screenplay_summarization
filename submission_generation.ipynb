{
 "cells": [
  {
   "cell_type": "code",
   "execution_count": 245,
   "metadata": {},
   "outputs": [],
   "source": [
    "import os \n",
    "import time\n",
    "import json\n",
    "import nltk\n",
    "import string\n",
    "import pickle\n",
    "import datetime\n",
    "import pickle\n",
    "import pandas as pd\n",
    "from os import listdir\n",
    "import re\n",
    "from sklearn.metrics import f1_score, recall_score, precision_score\n"
   ]
  },
  {
   "cell_type": "code",
   "execution_count": 3,
   "metadata": {},
   "outputs": [],
   "source": [
    "import numpy as np\n",
    "import pandas as pd\n",
    "import xml.etree.ElementTree as xml"
   ]
  },
  {
   "cell_type": "code",
   "execution_count": 4,
   "metadata": {},
   "outputs": [],
   "source": [
    "from moviepy.editor import *\n",
    "from tqdm.notebook import tqdm\n",
    "from collections import Counter\n",
    "\n",
    "from nltk.stem import PorterStemmer\n",
    "from nltk.stem import LancasterStemmer\n",
    "from nltk.tokenize import sent_tokenize, word_tokenize\n",
    "\n",
    "from sklearn.feature_extraction.text import TfidfVectorizer, TfidfTransformer\n",
    "\n",
    "strptime = datetime.datetime.strptime"
   ]
  },
  {
   "cell_type": "code",
   "execution_count": 420,
   "metadata": {},
   "outputs": [
    {
     "name": "stdout",
     "output_type": "stream",
     "text": [
      "support ['Synopsis When four members of a family are brutally murdered in a suburban house, except the two daughters who are the sole survivors, the nightshift is called', 'At first, Gil Grissom and his entire team suspect a bizarre cult murder, but the evidence tells an even more disturbing story, when they discover the motive behind the massacre'] ..\n",
      "marked ['Synopsis When four members of a family are brutally murdered in a suburban house , except the two daughters who are the sole survivors , the nightshift is called', 'At first , Gil #Grissom and his entire team suspect a bizarre cult murder , but the evidence tells an even more disturbing story , when they discover the motive behind the massacre'] ..\n",
      "characters [[], ['Grissom']] ..\n"
     ]
    }
   ],
   "source": [
    "mentions_path = 'coref/summaries_mentions_first_story.pickle'\n",
    "mentions = pickle.load(open(mentions_path, 'rb'))\n",
    "print('support', mentions['s01e07']['support'][:2], '..')\n",
    "print('marked', mentions['s01e07']['marked'][:2], '..')\n",
    "print('characters', mentions['s01e07']['characters'][:2], '..')\n"
   ]
  },
  {
   "cell_type": "code",
   "execution_count": 421,
   "metadata": {},
   "outputs": [],
   "source": [
    "path_screenplays_scenes='coref/csi-corpus/screenplay_summarization/scene_level_n_aspects'\n",
    "all_chars = []\n",
    "ep_characters = {}\n",
    "\n",
    "eps=[]\n",
    "\n",
    "for ep in listdir(path_screenplays_scenes):\n",
    "    #print(ep)\n",
    "    annotated_scenes=pd.read_csv(path_screenplays_scenes+'/'+ep)\n",
    "    eps.append(ep.split('.csv')[0])\n",
    "    \n",
    "\n",
    "\n"
   ]
  },
  {
   "cell_type": "code",
   "execution_count": 390,
   "metadata": {},
   "outputs": [
    {
     "name": "stdout",
     "output_type": "stream",
     "text": [
      "['s03e12', 's05e13', 's01e20', 's05e10', 's01e08', 's03e11', 's04e14', 's05e22', 's03e19', 's04e23', 's05e21', 's02e06', 's04e10', 's05e08', 's03e05', 's04e22', 's04e09', 's05e06', 's01e13', 's02e01', 's05e17', 's01e07', 's04e21', 's05e12', 's02e15', 's04e12', 's03e03', 's04e05', 's02e10', 's02e09', 's05e05', 's05e03', 's02e04', 's04e15', 's01e23', 's03e21', 's04e06', 's03e08', 's01e19']\n",
      "s02e04\n"
     ]
    }
   ],
   "source": [
    "print(eps)\n",
    "print(eps[-7])\n",
    "\n"
   ]
  },
  {
   "cell_type": "code",
   "execution_count": 133,
   "metadata": {},
   "outputs": [
    {
     "name": "stdout",
     "output_type": "stream",
     "text": [
      "yo\n"
     ]
    }
   ],
   "source": [
    "df=pd.DataFrame()\n",
    "df['content'] = \n",
    "print('yo')"
   ]
  },
  {
   "cell_type": "code",
   "execution_count": 51,
   "metadata": {},
   "outputs": [],
   "source": [
    "ps = PorterStemmer()\n",
    "ls = LancasterStemmer()\n",
    "do_stem = True\n"
   ]
  },
  {
   "cell_type": "code",
   "execution_count": 14,
   "metadata": {},
   "outputs": [
    {
     "data": {
      "text/plain": [
       "'kill'"
      ]
     },
     "execution_count": 14,
     "metadata": {},
     "output_type": "execute_result"
    }
   ],
   "source": [
    "ps.stem('kills')"
   ]
  },
  {
   "cell_type": "code",
   "execution_count": null,
   "metadata": {},
   "outputs": [],
   "source": [
    "def compute_similarity(content, summary_line, method):\n",
    "    if method[0] == 'tfidf':\n",
    "        weights = method[1]\n",
    "        return sum(weights[w] if w in weights else 0 for w in set(content.split()) if w in summary_line.split())\n",
    "    if method[0] == 'tfidf_log':\n",
    "        weights = method[1]\n",
    "        dn = np.log(len(content.split() + summary_line.split()) + 1) if len(content.strip().split()) > 0 else 1\n",
    "        return sum(weights[w] if w in weights else 0 for w in set(content.split()) if w in summary_line.split())/dn\n",
    "    if method[0] == 'tfidf_log_2':\n",
    "        weights = method[1]\n",
    "        n = sum(1 if w in weights else 0 for w in set(content.split()) if w in summary_line.split())\n",
    "        dn = np.log(len(content.split() + summary_line.split()) - n + 1) \n",
    "        dn = dn if dn > 0 else 1\n",
    "        return sum(weights[w] if w in weights else 0 for w in set(content.split()) if w in summary_line.split())/dn\n",
    "    if method[0] == 'tfidf_log_3':\n",
    "        weights = method[1]\n",
    "        n = sum(1 if w in weights else 0 for w in set(content.split()) if w in summary_line.split())\n",
    "        dn = np.log10(len(content.split() + summary_line.split()) - n + 1) \n",
    "        dn = dn if dn > 0 else 1\n",
    "        return sum(weights[w] if w in weights else 0 for w in set(content.split()) if w in summary_line.split())/dn\n",
    "    if method[0] == 'tfidf_sqrt':\n",
    "        weights = method[1]\n",
    "        n = sum(1 if w in weights else 0 for w in set(content.split()) if w in summary_line.split())\n",
    "        dn = np.sqrt(len(content.split() + summary_line.split()) - n + 1) \n",
    "        dn = dn if dn > 0 else 1\n",
    "        return sum(weights[w] if w in weights else 0 for w in set(content.split()) if w in summary_line.split())/dn\n",
    "    elif method[0] == 'count':\n",
    "        return len([w for w in set(content.split()) if w in summary_line.split()])\n",
    "    elif method[0] == 'count_2':\n",
    "        dn = np.log(len(content.split() + summary_line.split()) + 1) \n",
    "        dn = dn if dn > 0 else 1\n",
    "        return len([w for w in set(content.split()) if w in summary_line.split()]) / dn"
   ]
  },
  {
   "cell_type": "code",
   "execution_count": 486,
   "metadata": {},
   "outputs": [
    {
     "data": {
      "application/vnd.jupyter.widget-view+json": {
       "model_id": "e3769d00b431486585537e1c1e05e892",
       "version_major": 2,
       "version_minor": 0
      },
      "text/plain": [
       "HBox(children=(FloatProgress(value=0.0, max=48.0), HTML(value='')))"
      ]
     },
     "metadata": {},
     "output_type": "display_data"
    },
    {
     "name": "stdout",
     "output_type": "stream",
     "text": [
      "\n",
      "tfidf\n",
      "0.36363636363636365\n"
     ]
    },
    {
     "data": {
      "application/vnd.jupyter.widget-view+json": {
       "model_id": "2de905c3a160436d8142836f7be24ee8",
       "version_major": 2,
       "version_minor": 0
      },
      "text/plain": [
       "HBox(children=(FloatProgress(value=0.0, max=34.0), HTML(value='')))"
      ]
     },
     "metadata": {},
     "output_type": "display_data"
    },
    {
     "name": "stdout",
     "output_type": "stream",
     "text": [
      "\n",
      "tfidf\n",
      "0.7777777777777778\n"
     ]
    },
    {
     "data": {
      "application/vnd.jupyter.widget-view+json": {
       "model_id": "028f9f1b53e249dba8266967e36af98b",
       "version_major": 2,
       "version_minor": 0
      },
      "text/plain": [
       "HBox(children=(FloatProgress(value=0.0, max=33.0), HTML(value='')))"
      ]
     },
     "metadata": {},
     "output_type": "display_data"
    },
    {
     "name": "stdout",
     "output_type": "stream",
     "text": [
      "\n",
      "tfidf\n",
      "0.6153846153846154\n"
     ]
    },
    {
     "data": {
      "application/vnd.jupyter.widget-view+json": {
       "model_id": "b11204bfedd7421aa028f32176e6f206",
       "version_major": 2,
       "version_minor": 0
      },
      "text/plain": [
       "HBox(children=(FloatProgress(value=0.0, max=34.0), HTML(value='')))"
      ]
     },
     "metadata": {},
     "output_type": "display_data"
    },
    {
     "name": "stdout",
     "output_type": "stream",
     "text": [
      "\n",
      "tfidf\n",
      "0.3333333333333333\n"
     ]
    },
    {
     "data": {
      "application/vnd.jupyter.widget-view+json": {
       "model_id": "87134cc972134bf486899e8a4c2459c7",
       "version_major": 2,
       "version_minor": 0
      },
      "text/plain": [
       "HBox(children=(FloatProgress(value=0.0, max=41.0), HTML(value='')))"
      ]
     },
     "metadata": {},
     "output_type": "display_data"
    },
    {
     "name": "stdout",
     "output_type": "stream",
     "text": [
      "\n",
      "tfidf\n",
      "0.45454545454545453\n"
     ]
    },
    {
     "data": {
      "application/vnd.jupyter.widget-view+json": {
       "model_id": "9914ab92c5564b79a78b1e417e15e57a",
       "version_major": 2,
       "version_minor": 0
      },
      "text/plain": [
       "HBox(children=(FloatProgress(value=0.0, max=43.0), HTML(value='')))"
      ]
     },
     "metadata": {},
     "output_type": "display_data"
    },
    {
     "name": "stdout",
     "output_type": "stream",
     "text": [
      "\n",
      "tfidf\n",
      "0.2222222222222222\n"
     ]
    },
    {
     "data": {
      "application/vnd.jupyter.widget-view+json": {
       "model_id": "730b8734d1ef43bc8d3ddabd918d0216",
       "version_major": 2,
       "version_minor": 0
      },
      "text/plain": [
       "HBox(children=(FloatProgress(value=0.0, max=44.0), HTML(value='')))"
      ]
     },
     "metadata": {},
     "output_type": "display_data"
    },
    {
     "name": "stdout",
     "output_type": "stream",
     "text": [
      "\n",
      "tfidf\n",
      "0.5333333333333333\n"
     ]
    },
    {
     "data": {
      "application/vnd.jupyter.widget-view+json": {
       "model_id": "1d9d70528d6942f9ba4a31411167d6f1",
       "version_major": 2,
       "version_minor": 0
      },
      "text/plain": [
       "HBox(children=(FloatProgress(value=0.0, max=32.0), HTML(value='')))"
      ]
     },
     "metadata": {},
     "output_type": "display_data"
    },
    {
     "name": "stdout",
     "output_type": "stream",
     "text": [
      "\n",
      "tfidf\n",
      "0.2857142857142857\n"
     ]
    },
    {
     "data": {
      "application/vnd.jupyter.widget-view+json": {
       "model_id": "7c62961806d347fe9c92fe8f6a1b2d63",
       "version_major": 2,
       "version_minor": 0
      },
      "text/plain": [
       "HBox(children=(FloatProgress(value=0.0, max=44.0), HTML(value='')))"
      ]
     },
     "metadata": {},
     "output_type": "display_data"
    },
    {
     "name": "stdout",
     "output_type": "stream",
     "text": [
      "\n",
      "tfidf\n",
      "0.6\n"
     ]
    },
    {
     "data": {
      "application/vnd.jupyter.widget-view+json": {
       "model_id": "b54e1111223a4df7ae3a9655c24ca008",
       "version_major": 2,
       "version_minor": 0
      },
      "text/plain": [
       "HBox(children=(FloatProgress(value=0.0, max=48.0), HTML(value='')))"
      ]
     },
     "metadata": {},
     "output_type": "display_data"
    },
    {
     "name": "stdout",
     "output_type": "stream",
     "text": [
      "\n",
      "tfidf\n",
      "0.3076923076923077\n"
     ]
    },
    {
     "data": {
      "application/vnd.jupyter.widget-view+json": {
       "model_id": "14f8c79cec97419fa98015065ea29c2f",
       "version_major": 2,
       "version_minor": 0
      },
      "text/plain": [
       "HBox(children=(FloatProgress(value=0.0, max=37.0), HTML(value='')))"
      ]
     },
     "metadata": {},
     "output_type": "display_data"
    },
    {
     "name": "stdout",
     "output_type": "stream",
     "text": [
      "\n",
      "tfidf\n",
      "0.38461538461538464\n"
     ]
    },
    {
     "data": {
      "application/vnd.jupyter.widget-view+json": {
       "model_id": "db9b1337620e4cf5be5286f678c9b80d",
       "version_major": 2,
       "version_minor": 0
      },
      "text/plain": [
       "HBox(children=(FloatProgress(value=0.0, max=44.0), HTML(value='')))"
      ]
     },
     "metadata": {},
     "output_type": "display_data"
    },
    {
     "name": "stdout",
     "output_type": "stream",
     "text": [
      "\n",
      "tfidf\n",
      "0.5833333333333334\n"
     ]
    },
    {
     "data": {
      "application/vnd.jupyter.widget-view+json": {
       "model_id": "122c5b0647b4478d91c4c34cc6bf14ae",
       "version_major": 2,
       "version_minor": 0
      },
      "text/plain": [
       "HBox(children=(FloatProgress(value=0.0, max=33.0), HTML(value='')))"
      ]
     },
     "metadata": {},
     "output_type": "display_data"
    },
    {
     "name": "stdout",
     "output_type": "stream",
     "text": [
      "\n",
      "tfidf\n",
      "0.5625\n"
     ]
    },
    {
     "data": {
      "application/vnd.jupyter.widget-view+json": {
       "model_id": "6e6b3c314e454bbca3e15ba2ba25f079",
       "version_major": 2,
       "version_minor": 0
      },
      "text/plain": [
       "HBox(children=(FloatProgress(value=0.0, max=37.0), HTML(value='')))"
      ]
     },
     "metadata": {},
     "output_type": "display_data"
    },
    {
     "name": "stdout",
     "output_type": "stream",
     "text": [
      "\n",
      "tfidf\n",
      "0.5454545454545454\n"
     ]
    },
    {
     "data": {
      "application/vnd.jupyter.widget-view+json": {
       "model_id": "b6890abf328c4da790200b44f2a5dfbb",
       "version_major": 2,
       "version_minor": 0
      },
      "text/plain": [
       "HBox(children=(FloatProgress(value=0.0, max=59.0), HTML(value='')))"
      ]
     },
     "metadata": {},
     "output_type": "display_data"
    },
    {
     "name": "stdout",
     "output_type": "stream",
     "text": [
      "\n",
      "tfidf\n",
      "0.3888888888888889\n"
     ]
    },
    {
     "data": {
      "application/vnd.jupyter.widget-view+json": {
       "model_id": "9e08790b368842ac91974d60c3dd3e8b",
       "version_major": 2,
       "version_minor": 0
      },
      "text/plain": [
       "HBox(children=(FloatProgress(value=0.0, max=35.0), HTML(value='')))"
      ]
     },
     "metadata": {},
     "output_type": "display_data"
    },
    {
     "name": "stdout",
     "output_type": "stream",
     "text": [
      "\n",
      "tfidf\n",
      "0.20000000000000004\n"
     ]
    },
    {
     "data": {
      "application/vnd.jupyter.widget-view+json": {
       "model_id": "9d8c4ada4f9544afabbb81e909e5f98f",
       "version_major": 2,
       "version_minor": 0
      },
      "text/plain": [
       "HBox(children=(FloatProgress(value=0.0, max=31.0), HTML(value='')))"
      ]
     },
     "metadata": {},
     "output_type": "display_data"
    },
    {
     "name": "stdout",
     "output_type": "stream",
     "text": [
      "\n",
      "tfidf\n",
      "0.2222222222222222\n"
     ]
    },
    {
     "data": {
      "application/vnd.jupyter.widget-view+json": {
       "model_id": "713b4a729c294012b543d25132984a35",
       "version_major": 2,
       "version_minor": 0
      },
      "text/plain": [
       "HBox(children=(FloatProgress(value=0.0, max=45.0), HTML(value='')))"
      ]
     },
     "metadata": {},
     "output_type": "display_data"
    },
    {
     "name": "stdout",
     "output_type": "stream",
     "text": [
      "\n",
      "tfidf\n",
      "0.3\n"
     ]
    },
    {
     "data": {
      "application/vnd.jupyter.widget-view+json": {
       "model_id": "68e9c83e9bd34b5ba8a592fba5b2ac3c",
       "version_major": 2,
       "version_minor": 0
      },
      "text/plain": [
       "HBox(children=(FloatProgress(value=0.0, max=34.0), HTML(value='')))"
      ]
     },
     "metadata": {},
     "output_type": "display_data"
    },
    {
     "name": "stdout",
     "output_type": "stream",
     "text": [
      "\n",
      "tfidf\n",
      "0.25\n"
     ]
    },
    {
     "data": {
      "application/vnd.jupyter.widget-view+json": {
       "model_id": "34bd6d8406c5457eb9e7ae354da19d48",
       "version_major": 2,
       "version_minor": 0
      },
      "text/plain": [
       "HBox(children=(FloatProgress(value=0.0, max=42.0), HTML(value='')))"
      ]
     },
     "metadata": {},
     "output_type": "display_data"
    },
    {
     "name": "stdout",
     "output_type": "stream",
     "text": [
      "\n",
      "tfidf\n",
      "0.2222222222222222\n"
     ]
    },
    {
     "data": {
      "application/vnd.jupyter.widget-view+json": {
       "model_id": "550cdb501b094d1c804d4c572650aa77",
       "version_major": 2,
       "version_minor": 0
      },
      "text/plain": [
       "HBox(children=(FloatProgress(value=0.0, max=45.0), HTML(value='')))"
      ]
     },
     "metadata": {},
     "output_type": "display_data"
    },
    {
     "name": "stdout",
     "output_type": "stream",
     "text": [
      "\n",
      "tfidf\n",
      "0.35714285714285715\n"
     ]
    },
    {
     "data": {
      "application/vnd.jupyter.widget-view+json": {
       "model_id": "0b7626b64e434392bb99e3b7767ec8a8",
       "version_major": 2,
       "version_minor": 0
      },
      "text/plain": [
       "HBox(children=(FloatProgress(value=0.0, max=51.0), HTML(value='')))"
      ]
     },
     "metadata": {},
     "output_type": "display_data"
    },
    {
     "name": "stdout",
     "output_type": "stream",
     "text": [
      "\n",
      "tfidf\n",
      "0.21428571428571427\n"
     ]
    },
    {
     "data": {
      "application/vnd.jupyter.widget-view+json": {
       "model_id": "2718eb1857724fa5892b1a8f74d628b7",
       "version_major": 2,
       "version_minor": 0
      },
      "text/plain": [
       "HBox(children=(FloatProgress(value=0.0, max=31.0), HTML(value='')))"
      ]
     },
     "metadata": {},
     "output_type": "display_data"
    },
    {
     "name": "stdout",
     "output_type": "stream",
     "text": [
      "\n",
      "tfidf\n",
      "0.6363636363636364\n"
     ]
    },
    {
     "data": {
      "application/vnd.jupyter.widget-view+json": {
       "model_id": "0f6a253bd5b54913816087fc29fc7388",
       "version_major": 2,
       "version_minor": 0
      },
      "text/plain": [
       "HBox(children=(FloatProgress(value=0.0, max=32.0), HTML(value='')))"
      ]
     },
     "metadata": {},
     "output_type": "display_data"
    },
    {
     "name": "stdout",
     "output_type": "stream",
     "text": [
      "\n",
      "tfidf\n",
      "0.5\n"
     ]
    },
    {
     "data": {
      "application/vnd.jupyter.widget-view+json": {
       "model_id": "3be2b490bf7d4e619babcbfdcae9f0b9",
       "version_major": 2,
       "version_minor": 0
      },
      "text/plain": [
       "HBox(children=(FloatProgress(value=0.0, max=47.0), HTML(value='')))"
      ]
     },
     "metadata": {},
     "output_type": "display_data"
    },
    {
     "name": "stdout",
     "output_type": "stream",
     "text": [
      "\n",
      "tfidf\n",
      "0.5555555555555556\n"
     ]
    },
    {
     "data": {
      "application/vnd.jupyter.widget-view+json": {
       "model_id": "55cac38e8f86475ea1b9e8f334fedc91",
       "version_major": 2,
       "version_minor": 0
      },
      "text/plain": [
       "HBox(children=(FloatProgress(value=0.0, max=33.0), HTML(value='')))"
      ]
     },
     "metadata": {},
     "output_type": "display_data"
    },
    {
     "name": "stdout",
     "output_type": "stream",
     "text": [
      "\n",
      "tfidf\n",
      "0.4444444444444444\n"
     ]
    },
    {
     "data": {
      "application/vnd.jupyter.widget-view+json": {
       "model_id": "2c093ace53f34bea9a48581f39b682a5",
       "version_major": 2,
       "version_minor": 0
      },
      "text/plain": [
       "HBox(children=(FloatProgress(value=0.0, max=39.0), HTML(value='')))"
      ]
     },
     "metadata": {},
     "output_type": "display_data"
    },
    {
     "name": "stdout",
     "output_type": "stream",
     "text": [
      "\n",
      "tfidf\n",
      "0.5625\n"
     ]
    },
    {
     "data": {
      "application/vnd.jupyter.widget-view+json": {
       "model_id": "1fd6442cfccd40e3863b7b93390533b6",
       "version_major": 2,
       "version_minor": 0
      },
      "text/plain": [
       "HBox(children=(FloatProgress(value=0.0, max=37.0), HTML(value='')))"
      ]
     },
     "metadata": {},
     "output_type": "display_data"
    },
    {
     "name": "stdout",
     "output_type": "stream",
     "text": [
      "\n",
      "tfidf\n",
      "0.5\n"
     ]
    },
    {
     "data": {
      "application/vnd.jupyter.widget-view+json": {
       "model_id": "beac20c1282c4ffda5824e43490f0bf0",
       "version_major": 2,
       "version_minor": 0
      },
      "text/plain": [
       "HBox(children=(FloatProgress(value=0.0, max=44.0), HTML(value='')))"
      ]
     },
     "metadata": {},
     "output_type": "display_data"
    },
    {
     "name": "stdout",
     "output_type": "stream",
     "text": [
      "\n",
      "tfidf\n",
      "0.42857142857142855\n"
     ]
    },
    {
     "data": {
      "application/vnd.jupyter.widget-view+json": {
       "model_id": "c5394b479dd84669bf946cb4872f1f9b",
       "version_major": 2,
       "version_minor": 0
      },
      "text/plain": [
       "HBox(children=(FloatProgress(value=0.0, max=35.0), HTML(value='')))"
      ]
     },
     "metadata": {},
     "output_type": "display_data"
    },
    {
     "name": "stdout",
     "output_type": "stream",
     "text": [
      "\n",
      "tfidf\n",
      "0.5\n"
     ]
    },
    {
     "data": {
      "application/vnd.jupyter.widget-view+json": {
       "model_id": "2390bb1e70ca462cb2b5a51e4b5eb2cf",
       "version_major": 2,
       "version_minor": 0
      },
      "text/plain": [
       "HBox(children=(FloatProgress(value=0.0, max=35.0), HTML(value='')))"
      ]
     },
     "metadata": {},
     "output_type": "display_data"
    },
    {
     "name": "stdout",
     "output_type": "stream",
     "text": [
      "\n",
      "tfidf\n",
      "0.4666666666666667\n"
     ]
    },
    {
     "data": {
      "application/vnd.jupyter.widget-view+json": {
       "model_id": "3eb9ce9e6b5046c7b18acee443044150",
       "version_major": 2,
       "version_minor": 0
      },
      "text/plain": [
       "HBox(children=(FloatProgress(value=0.0, max=32.0), HTML(value='')))"
      ]
     },
     "metadata": {},
     "output_type": "display_data"
    },
    {
     "name": "stdout",
     "output_type": "stream",
     "text": [
      "\n",
      "tfidf\n",
      "0.4000000000000001\n"
     ]
    },
    {
     "data": {
      "application/vnd.jupyter.widget-view+json": {
       "model_id": "3a2c29dcfe144e1c892dd647781ccad5",
       "version_major": 2,
       "version_minor": 0
      },
      "text/plain": [
       "HBox(children=(FloatProgress(value=0.0, max=45.0), HTML(value='')))"
      ]
     },
     "metadata": {},
     "output_type": "display_data"
    },
    {
     "name": "stdout",
     "output_type": "stream",
     "text": [
      "\n",
      "tfidf\n",
      "0.10000000000000002\n"
     ]
    },
    {
     "data": {
      "application/vnd.jupyter.widget-view+json": {
       "model_id": "d83b59af81ac44d1af10ee737ecabfd0",
       "version_major": 2,
       "version_minor": 0
      },
      "text/plain": [
       "HBox(children=(FloatProgress(value=0.0, max=35.0), HTML(value='')))"
      ]
     },
     "metadata": {},
     "output_type": "display_data"
    },
    {
     "name": "stdout",
     "output_type": "stream",
     "text": [
      "\n",
      "tfidf\n",
      "0.25\n"
     ]
    },
    {
     "data": {
      "application/vnd.jupyter.widget-view+json": {
       "model_id": "06a886fb187e4e64a00f2f20564f82c3",
       "version_major": 2,
       "version_minor": 0
      },
      "text/plain": [
       "HBox(children=(FloatProgress(value=0.0, max=40.0), HTML(value='')))"
      ]
     },
     "metadata": {},
     "output_type": "display_data"
    },
    {
     "name": "stdout",
     "output_type": "stream",
     "text": [
      "\n",
      "tfidf\n",
      "0.36363636363636365\n"
     ]
    },
    {
     "data": {
      "application/vnd.jupyter.widget-view+json": {
       "model_id": "5b132639f0284886a4c75c0a7153e070",
       "version_major": 2,
       "version_minor": 0
      },
      "text/plain": [
       "HBox(children=(FloatProgress(value=0.0, max=43.0), HTML(value='')))"
      ]
     },
     "metadata": {},
     "output_type": "display_data"
    },
    {
     "name": "stdout",
     "output_type": "stream",
     "text": [
      "\n",
      "tfidf\n",
      "0.47058823529411764\n"
     ]
    },
    {
     "data": {
      "application/vnd.jupyter.widget-view+json": {
       "model_id": "cfe04740835e4f82947aeed9c0417265",
       "version_major": 2,
       "version_minor": 0
      },
      "text/plain": [
       "HBox(children=(FloatProgress(value=0.0, max=37.0), HTML(value='')))"
      ]
     },
     "metadata": {},
     "output_type": "display_data"
    },
    {
     "name": "stdout",
     "output_type": "stream",
     "text": [
      "\n",
      "tfidf\n",
      "0.25\n"
     ]
    },
    {
     "data": {
      "application/vnd.jupyter.widget-view+json": {
       "model_id": "c3d69aaec6524a719afa4fa68b42ec73",
       "version_major": 2,
       "version_minor": 0
      },
      "text/plain": [
       "HBox(children=(FloatProgress(value=0.0, max=49.0), HTML(value='')))"
      ]
     },
     "metadata": {},
     "output_type": "display_data"
    },
    {
     "name": "stdout",
     "output_type": "stream",
     "text": [
      "\n",
      "tfidf\n",
      "0.5\n"
     ]
    },
    {
     "data": {
      "application/vnd.jupyter.widget-view+json": {
       "model_id": "08418a5fcc5341d2b4f6ddef99dd01c1",
       "version_major": 2,
       "version_minor": 0
      },
      "text/plain": [
       "HBox(children=(FloatProgress(value=0.0, max=36.0), HTML(value='')))"
      ]
     },
     "metadata": {},
     "output_type": "display_data"
    },
    {
     "name": "stdout",
     "output_type": "stream",
     "text": [
      "\n",
      "tfidf\n",
      "0.36363636363636365\n"
     ]
    }
   ],
   "source": [
    "f1_scores=[]\n",
    "\n",
    "#eps=['s02e04']\n",
    "\n",
    "\n",
    "#eps=['s03e12', 's05e13', 's01e20', 's05e10', 's01e08', 's04e14', 's05e22', 's03e19', 's04e23', 's05e21', 's02e06', 's04e10', 's05e08', 's03e05', 's04e22', 's05e06', 's01e13', 's02e01', 's05e17', 's01e07', 's04e21', 's05e12', 's02e15', 's04e12', 's03e03', 's04e05', 's02e10', 's02e09', 's05e05', 's05e03', 's04e15', 's01e23', 's03e21', 's04e06', 's03e08', 's01e19']\n",
    "\n",
    "for ep in eps:\n",
    "    method_used=('tfidf',tfidf_weights)\n",
    "    annotated_scenes=pd.read_csv(path_screenplays_scenes+'/'+ep+'.csv')\n",
    "    nb_positive=len(annotated_scenes[annotated_scenes['in_summary'] == 1])\n",
    "    vectorizer = TfidfVectorizer(min_df=2, stop_words='english')\n",
    "    corpus = [' '.join(ps.stem(w) for w in word_tokenize(s) if w.lower() not in vectorizer.get_stop_words()) if do_stem else s for s in annotated_scenes['scene_text'].values]\n",
    "    corpus = [s.translate(str.maketrans('', '', string.punctuation)).replace('  ', ' ').lower() for s in corpus]\n",
    "    #print(len(corpus))\n",
    "    #print(len(summaries))\n",
    "    vectorizer.fit(corpus)\n",
    "    corpus_tf_idf = vectorizer.transform(corpus)\n",
    "    word_count = Counter([w for s in corpus for w in s.split()])\n",
    "    ', '.join(sorted(vectorizer.get_stop_words()))\n",
    "    tfidf_weights = dict(zip(vectorizer.get_feature_names(), vectorizer.idf_))\n",
    "    summaries_raw = [s for s in mentions[ep]['support']]\n",
    "    summaries = [' '.join(ps.stem(w) for w in word_tokenize(s) if w.lower() not in vectorizer.get_stop_words()) if do_stem else s for s in summaries_raw]\n",
    "    summaries = [s.translate(str.maketrans('', '', string.punctuation)).replace('  ', ' ') for s in summaries]\n",
    "    similarity_matrix = np.zeros((len(corpus), len(summaries)))\n",
    "    for i, content in tqdm(enumerate(corpus), total=len(corpus)):\n",
    "        for j, s in enumerate(summaries):\n",
    "            #print(i)\n",
    "            #print(j)\n",
    "            similarity_matrix[i, j] = compute_similarity(content, s, method=method_used)\n",
    "    unrolled_sm = [(similarity_matrix[i, j], i, j)  for i in range(len(corpus)) for j in range(len(summaries))]\n",
    "    best_matches = sorted(unrolled_sm, key=lambda x: -x[0])\n",
    "    score = {}\n",
    "    #print(j, summaries_raw[j])\n",
    "    for (v, scene, syn) in best_matches:\n",
    "        if scene not in score : score[scene] = []\n",
    "        score[scene].append(syn)\n",
    "        \n",
    "        \n",
    "    for s in score:\n",
    "        #print(max(score[s]))\n",
    "        #print(sum(score[s]))\n",
    "        #score[s] = sum(score[s])\n",
    "        score[s] = max(score[s])\n",
    "\n",
    "        \n",
    "    reses = sorted(score.items(), key=lambda x: -x[1])\n",
    "    scenes=[i[0] for i in reses[0:nb_positive]]\n",
    "    #print(reses[0])\n",
    "\n",
    "    #print(syn, summaries_raw[syn])\n",
    "    \n",
    "    \n",
    "    annotated_scenes['prediction'] = annotated_scenes['scene_id'].apply(lambda x: 1 if x in scenes else 0)\n",
    "    #annotated_scenes['synopses'] = annotated_scenes['prediction'].apply(lambda x: summaries_raw[syn]  if x==1 else 0)\n",
    "    annotated_scenes['aspect?'] = annotated_scenes['aspects'].apply(lambda x: 0 if x == 'None' else 1)\n",
    "    print(method_used[0])\n",
    "    annotated_scenes.to_csv(ep+'_'+method_used[0]+'_similarity.csv')\n",
    "    \n",
    "    #print('Episode')\n",
    "    #print(ep)\n",
    "    print(f1_score(annotated_scenes.in_summary, annotated_scenes.prediction))\n",
    "    f1_scores.append(f1_score(annotated_scenes.in_summary, annotated_scenes.prediction))\n",
    "    \n",
    "    "
   ]
  },
  {
   "cell_type": "code",
   "execution_count": 489,
   "metadata": {},
   "outputs": [
    {
     "name": "stdout",
     "output_type": "stream",
     "text": [
      "39\n",
      "0.10000000000000002\n",
      "0.10000000000000002\n",
      "s02e04\n"
     ]
    }
   ],
   "source": [
    "print(len(f1_scores))\n",
    "print(np.min(f1_scores))\n",
    "print(f1_scores[-7])\n",
    "\n",
    "method_used=('tfidf',tfidf_weights)\n",
    "ep=eps[-7]\n",
    "print(ep)\n"
   ]
  },
  {
   "cell_type": "code",
   "execution_count": null,
   "metadata": {},
   "outputs": [],
   "source": [
    "df_asp=pd.DataFrame(columns=['ep', 'asp_sum', 'asp_nosum', 'noasp_sum', 'nb_in_sum','nb_aspect'])\n",
    "for ep in eps:\n",
    "    df=pd.read_csv(ep+'_'+method_used[0]+'_similarity.csv')  \n",
    "    in_summary=df.loc[df['in_summary'] == 1]\n",
    "    asp=df.loc[df['aspect?'] == 1]\n",
    "    asp_sum=df.loc[(df['aspect?'] == 1) & (df['in_summary'] == 1)]\n",
    "    asp_nosum=df.loc[(df['aspect?'] == 1) & (df['in_summary'] == 0)]\n",
    "    noasp_sum=df.loc[(df['aspect?'] == 0) & (df['in_summary'] == 1)]\n",
    "    episode= pd.DataFrame(data= {'ep': [ep], 'asp_sum': [len(asp_sum)], 'asp_nosum': [len(asp_nosum)], 'noasp_sum':[len(noasp_sum)],'nb_in_sum':[len(in_summary)],'nb_aspect':[len(asp)]})\n",
    "    #print(episode)\n",
    "    df_asp=df_asp.append(episode,ignore_index=True)\n",
    "\n",
    "df_asp.loc['Total']= df_asp.sum()  \n",
    "df_asp['ep']['Total']=''\n",
    "print(df_asp)"
   ]
  },
  {
   "cell_type": "code",
   "execution_count": 433,
   "metadata": {},
   "outputs": [
    {
     "name": "stdout",
     "output_type": "stream",
     "text": [
      "Crime scene\n",
      "0    22\n",
      "1     5\n",
      "Name: aspect_mentionned, dtype: int64\n",
      "Victim\n",
      "0    26\n",
      "1     9\n",
      "Name: aspect_mentionned, dtype: int64\n",
      "Death cause\n",
      "0    32\n",
      "Name: aspect_mentionned, dtype: int64\n",
      "Perpetrator\n",
      "0    57\n",
      "1     1\n",
      "Name: aspect_mentionned, dtype: int64\n",
      "Evidence\n",
      "0    153\n",
      "1     25\n",
      "Name: aspect_mentionned, dtype: int64\n",
      "Motive\n",
      "0    42\n",
      "1     3\n",
      "Name: aspect_mentionned, dtype: int64\n"
     ]
    }
   ],
   "source": [
    "aspects =['Crime scene', 'Victim', 'Death cause', 'Perpetrator', 'Evidence', 'Motive']\n",
    "#aspects =['Crime scene']\n",
    "\n",
    "for aspect in aspects:\n",
    "    df_aspect=pd.DataFrame(columns=['scene_id', 'scene_text', 'in_summary', 'aspects',\n",
    "       'prediction','ep','aspect_mentionned'])\n",
    "    for ep in eps:\n",
    "        df=pd.read_csv(ep+'_'+method_used[0]+'_similarity.csv')\n",
    "        match=df[['scene_id', 'scene_text', 'in_summary', 'aspects',\n",
    "       'prediction']][df.isin([aspect]).aspects]\n",
    "        #print(match)\n",
    "        match['ep']=ep\n",
    "        #match['aspect_mentionned']=match.scene_text.apply(lambda lst: 1 if x for x in lst in aspect.lower() else 0 )\n",
    "        #match['aspect_mentionned']=match.scene_text.apply(lambda x: 1 if x.contains(aspect.lower()) else 0 )\n",
    "        #any(aspect.lower() in x for x in lst)\n",
    "        #match['aspect_mentionned']=match[['aspects']][match.scene_text.str.contains('Camera')]='True'\n",
    "        match['aspect_mentionned']= np.where(match.scene_text.str.contains(aspect.lower()), 1, 0)\n",
    "        \n",
    "        \n",
    "        \n",
    "        df_aspect=df_aspect.append(match,ignore_index=True)\n",
    "        \n",
    "    #df_aspect.to_csv(aspect+'.csv')\n",
    "    #print(df_aspect.ep[4])\n",
    "    #print(df_aspect.scene_text[4])\n",
    "    #print(df_aspect.in_summary[4])\n",
    "    print(aspect)\n",
    "    print(df_aspect['aspect_mentionned'].value_counts())\n",
    "    #print(df_aspect['scene_text'])\n",
    "    #print('Recall',recall_score(df_aspect.in_summary.astype(int), df_aspect.prediction.astype(int)))\n",
    "    #print('Precision',precision_score(df_aspect.in_summary.astype(int), df_aspect.prediction.astype(int)))\n",
    "    #print('-----------------------------------------------------------')\n",
    "\n",
    "        \n"
   ]
  },
  {
   "cell_type": "code",
   "execution_count": 54,
   "metadata": {},
   "outputs": [
    {
     "name": "stdout",
     "output_type": "stream",
     "text": [
      "970\n"
     ]
    }
   ],
   "source": [
    "for ep in eps:\n",
    "    df=pd.read_csv(ep+'_'+method_used[0]+'_similarity.csv')\n",
    "    print(df)"
   ]
  },
  {
   "cell_type": "code",
   "execution_count": 55,
   "metadata": {},
   "outputs": [
    {
     "data": {
      "text/plain": [
       "Counter({'camera': 24,\n",
       "         'open': 17,\n",
       "         'collin': 39,\n",
       "         'mail': 2,\n",
       "         'box': 3,\n",
       "         'sprinkler': 3,\n",
       "         'push': 5,\n",
       "         'slowli': 1,\n",
       "         'bunni': 2,\n",
       "         'lawn': 5,\n",
       "         'decor': 2,\n",
       "         'near': 2,\n",
       "         'shut': 3,\n",
       "         'moment': 3,\n",
       "         'door': 26,\n",
       "         'woman': 12,\n",
       "         'scream': 3,\n",
       "         'tinacollin': 46,\n",
       "         'help': 10,\n",
       "         'tina': 37,\n",
       "         'run': 8,\n",
       "         'hous': 26,\n",
       "         'oh': 6,\n",
       "         'god': 3,\n",
       "         'somebodi': 6,\n",
       "         'street': 1,\n",
       "         'lung': 1,\n",
       "         'neighbor': 5,\n",
       "         's': 122,\n",
       "         'light': 9,\n",
       "         'have': 2,\n",
       "         'turn': 26,\n",
       "         'reach': 10,\n",
       "         'start': 13,\n",
       "         'pound': 1,\n",
       "         'emerg': 1,\n",
       "         'vehicl': 3,\n",
       "         'offic': 9,\n",
       "         'car': 9,\n",
       "         'surround': 1,\n",
       "         'grissom': 298,\n",
       "         'drive': 1,\n",
       "         'scene': 13,\n",
       "         'dispatch': 2,\n",
       "         'radio': 1,\n",
       "         'park': 1,\n",
       "         'exit': 1,\n",
       "         'meet': 4,\n",
       "         'det': 8,\n",
       "         'oriley': 11,\n",
       "         'head': 14,\n",
       "         'hey': 6,\n",
       "         'detoriley': 24,\n",
       "         'press': 3,\n",
       "         'go': 13,\n",
       "         'did': 29,\n",
       "         'count': 1,\n",
       "         'chang': 3,\n",
       "         'call': 5,\n",
       "         'dead': 9,\n",
       "         'mother': 8,\n",
       "         'father': 12,\n",
       "         'teenag': 2,\n",
       "         'boy': 7,\n",
       "         'sister': 5,\n",
       "         'luckier': 1,\n",
       "         'point': 3,\n",
       "         'girl': 18,\n",
       "         'talk': 7,\n",
       "         'blanket': 1,\n",
       "         'wrap': 1,\n",
       "         'teen': 3,\n",
       "         'heard': 4,\n",
       "         'nois': 2,\n",
       "         'hid': 2,\n",
       "         'closet': 2,\n",
       "         'alert': 1,\n",
       "         'shout': 1,\n",
       "         'littl': 19,\n",
       "         'sit': 12,\n",
       "         'seat': 2,\n",
       "         'polic': 7,\n",
       "         'younger': 1,\n",
       "         'nt': 49,\n",
       "         'kill': 13,\n",
       "         'tag': 1,\n",
       "         'team': 4,\n",
       "         'soak': 1,\n",
       "         'wet': 1,\n",
       "         'look': 85,\n",
       "         'see': 9,\n",
       "         'handkerchief': 1,\n",
       "         'tightli': 1,\n",
       "         'mouth': 5,\n",
       "         'rush': 1,\n",
       "         'bush': 3,\n",
       "         'throw': 2,\n",
       "         'matter': 1,\n",
       "         'guy': 8,\n",
       "         've': 4,\n",
       "         'insid': 13,\n",
       "         'put': 18,\n",
       "         'notebook': 1,\n",
       "         'coat': 1,\n",
       "         'pocket': 2,\n",
       "         'walk': 45,\n",
       "         'away': 10,\n",
       "         'grimli': 1,\n",
       "         'stare': 5,\n",
       "         'sigh': 2,\n",
       "         'shibley': 11,\n",
       "         'equip': 1,\n",
       "         'son': 5,\n",
       "         'kit': 1,\n",
       "         'sign': 2,\n",
       "         'hand': 17,\n",
       "         'board': 1,\n",
       "         'pair': 3,\n",
       "         'latex': 1,\n",
       "         'glove': 3,\n",
       "         'thought': 4,\n",
       "         'lie': 5,\n",
       "         'm': 16,\n",
       "         'preliminari': 1,\n",
       "         'walkthrough': 1,\n",
       "         're': 8,\n",
       "         'note': 4,\n",
       "         'shibe': 1,\n",
       "         'frame': 5,\n",
       "         'famili': 21,\n",
       "         'photograph': 10,\n",
       "         'wall': 11,\n",
       "         'switch': 1,\n",
       "         'move': 8,\n",
       "         'stop': 10,\n",
       "         'touch': 4,\n",
       "         'want': 19,\n",
       "         'exactli': 1,\n",
       "         'way': 7,\n",
       "         'withdraw': 1,\n",
       "         'stair': 4,\n",
       "         'lead': 1,\n",
       "         'second': 6,\n",
       "         'floor': 17,\n",
       "         'pass': 4,\n",
       "         'hang': 4,\n",
       "         'air': 2,\n",
       "         'smell': 1,\n",
       "         'like': 10,\n",
       "         'copper': 1,\n",
       "         'lot': 2,\n",
       "         'blood': 29,\n",
       "         'breath': 3,\n",
       "         'ye': 12,\n",
       "         'sir': 3,\n",
       "         'stairway': 1,\n",
       "         'statu': 1,\n",
       "         'rabbit': 2,\n",
       "         'thing': 5,\n",
       "         'hallway': 24,\n",
       "         'feet': 4,\n",
       "         'bodi': 20,\n",
       "         'spatter': 5,\n",
       "         'corner': 1,\n",
       "         'male': 1,\n",
       "         'caucasian': 2,\n",
       "         'approxim': 2,\n",
       "         '40': 1,\n",
       "         'year': 2,\n",
       "         'old': 2,\n",
       "         'pool': 1,\n",
       "         'cautious': 2,\n",
       "         'appear': 5,\n",
       "         'take': 27,\n",
       "         'write': 5,\n",
       "         'kneel': 5,\n",
       "         'drag': 1,\n",
       "         'mark': 2,\n",
       "         'doe': 16,\n",
       "         'multipl': 2,\n",
       "         'stab': 6,\n",
       "         'wound': 2,\n",
       "         'neck': 2,\n",
       "         'singleedg': 1,\n",
       "         'blade': 1,\n",
       "         'forc': 1,\n",
       "         'degre': 1,\n",
       "         'left': 8,\n",
       "         'right': 15,\n",
       "         'intern': 1,\n",
       "         'jugular': 1,\n",
       "         'vein': 1,\n",
       "         'transect': 2,\n",
       "         'face': 2,\n",
       "         'west': 1,\n",
       "         'east': 1,\n",
       "         'north': 1,\n",
       "         'foot': 1,\n",
       "         'south': 2,\n",
       "         'think': 10,\n",
       "         'sick': 2,\n",
       "         'sara': 102,\n",
       "         'grab': 8,\n",
       "         'clipboard': 3,\n",
       "         'got': 21,\n",
       "         'fresh': 2,\n",
       "         'leav': 18,\n",
       "         'cough': 1,\n",
       "         'goe': 4,\n",
       "         'scanner': 1,\n",
       "         'quadrupl': 2,\n",
       "         'figur': 3,\n",
       "         'need': 12,\n",
       "         'sleep': 3,\n",
       "         'latch': 1,\n",
       "         'bullsey': 2,\n",
       "         'symbol': 2,\n",
       "         'swirl': 2,\n",
       "         'cult': 3,\n",
       "         'manson': 2,\n",
       "         'messag': 1,\n",
       "         'rest': 1,\n",
       "         'master': 2,\n",
       "         'bedroom': 9,\n",
       "         'bed': 10,\n",
       "         'mr': 11,\n",
       "         'recit': 1,\n",
       "         'femal': 1,\n",
       "         'throat': 1,\n",
       "         'carotid': 1,\n",
       "         'arteri': 1,\n",
       "         'exsanguin': 1,\n",
       "         'hemorrhag': 1,\n",
       "         'defens': 1,\n",
       "         'cursori': 1,\n",
       "         'opinion': 1,\n",
       "         'listen': 2,\n",
       "         'silenc': 1,\n",
       "         'hear': 6,\n",
       "         'drip': 4,\n",
       "         'lean': 3,\n",
       "         'clot': 1,\n",
       "         'fingertip': 1,\n",
       "         'feel': 2,\n",
       "         'soul': 1,\n",
       "         'room': 28,\n",
       "         'pictur': 9,\n",
       "         'hall': 4,\n",
       "         'follow': 2,\n",
       "         'brenda': 50,\n",
       "         'normal': 4,\n",
       "         'cut': 16,\n",
       "         'lift': 7,\n",
       "         'sheet': 3,\n",
       "         'underneath': 1,\n",
       "         'check': 10,\n",
       "         'window': 3,\n",
       "         'mirror': 4,\n",
       "         'bull': 1,\n",
       "         'eye': 4,\n",
       "         'reflect': 2,\n",
       "         'find': 7,\n",
       "         'bloodi': 3,\n",
       "         'print': 16,\n",
       "         'close': 4,\n",
       "         'sight': 1,\n",
       "         'barf': 1,\n",
       "         'bag': 1,\n",
       "         'paramed': 4,\n",
       "         'immedi': 2,\n",
       "         'escort': 1,\n",
       "         'detori': 1,\n",
       "         'd': 5,\n",
       "         'work': 10,\n",
       "         'instead': 1,\n",
       "         'tell': 8,\n",
       "         'entir': 1,\n",
       "         'graveyard': 2,\n",
       "         'shift': 4,\n",
       "         'asap': 1,\n",
       "         'except': 1,\n",
       "         'photo': 23,\n",
       "         'blown': 2,\n",
       "         'time': 5,\n",
       "         'lab': 6,\n",
       "         'forens': 4,\n",
       "         'tool': 1,\n",
       "         'avail': 1,\n",
       "         'crime': 9,\n",
       "         'la': 2,\n",
       "         'vega': 2,\n",
       "         'tonight': 5,\n",
       "         'report': 7,\n",
       "         'stand': 14,\n",
       "         'outsid': 7,\n",
       "         'give': 5,\n",
       "         'news': 4,\n",
       "         'reporter1': 6,\n",
       "         'fear': 2,\n",
       "         'neighborhood': 2,\n",
       "         'just': 20,\n",
       "         'boulevard': 1,\n",
       "         'palpabl': 1,\n",
       "         'scott': 1,\n",
       "         'wife': 1,\n",
       "         'brutal': 1,\n",
       "         'murder': 11,\n",
       "         'past': 2,\n",
       "         'reporter2': 1,\n",
       "         'innoc': 1,\n",
       "         'view': 1,\n",
       "         'screen': 1,\n",
       "         'author': 1,\n",
       "         'far': 1,\n",
       "         'offer': 1,\n",
       "         'comment': 1,\n",
       "         'fuel': 1,\n",
       "         'killer': 6,\n",
       "         'loos': 1,\n",
       "         'reporter3': 2,\n",
       "         'man': 4,\n",
       "         'linger': 1,\n",
       "         'watch': 8,\n",
       "         'okay': 12,\n",
       "         'll': 15,\n",
       "         'cloth': 7,\n",
       "         'sergeant': 1,\n",
       "         'step': 9,\n",
       "         'asid': 4,\n",
       "         'sorri': 2,\n",
       "         'happen': 5,\n",
       "         'scare': 3,\n",
       "         'quietli': 2,\n",
       "         'soon': 2,\n",
       "         'detect': 2,\n",
       "         'thank': 4,\n",
       "         'hi': 3,\n",
       "         'blink': 1,\n",
       "         'tri': 2,\n",
       "         'hurt': 1,\n",
       "         'come': 4,\n",
       "         'mayb': 2,\n",
       "         'say': 9,\n",
       "         'brendacollin': 1,\n",
       "         'buffalo': 9,\n",
       "         'respond': 4,\n",
       "         'sens': 1,\n",
       "         'nick': 53,\n",
       "         'catherin': 115,\n",
       "         'warrick': 43,\n",
       "         'rule': 4,\n",
       "         'interview': 3,\n",
       "         'sheriff': 6,\n",
       "         'media': 4,\n",
       "         'hour': 3,\n",
       "         'ago': 2,\n",
       "         'map': 7,\n",
       "         'sampl': 5,\n",
       "         'perimet': 1,\n",
       "         'know': 19,\n",
       "         'duck': 1,\n",
       "         'tape': 3,\n",
       "         'kitchen': 6,\n",
       "         'said': 5,\n",
       "         'evid': 14,\n",
       "         'cours': 1,\n",
       "         'stay': 2,\n",
       "         'main': 2,\n",
       "         'side': 1,\n",
       "         'hug': 3,\n",
       "         'disturb': 1,\n",
       "         'continu': 3,\n",
       "         'notic': 7,\n",
       "         'knife': 10,\n",
       "         'drawer': 4,\n",
       "         'pull': 3,\n",
       "         'miss': 1,\n",
       "         'knew': 1,\n",
       "         'suspect': 4,\n",
       "         'place': 3,\n",
       "         'good': 9,\n",
       "         'linoleum': 1,\n",
       "         'best': 2,\n",
       "         'surfac': 3,\n",
       "         'knee': 1,\n",
       "         'mere': 1,\n",
       "         'inch': 1,\n",
       "         'hold': 5,\n",
       "         'special': 4,\n",
       "         'shoe': 5,\n",
       "         'short': 1,\n",
       "         'lifter': 2,\n",
       "         'toy': 3,\n",
       "         'electrostat': 1,\n",
       "         'dust': 1,\n",
       "         'supercharg': 1,\n",
       "         'lint': 1,\n",
       "         'remov': 4,\n",
       "         'footprint': 1,\n",
       "         'possibl': 1,\n",
       "         'flip': 2,\n",
       "         'clear': 1,\n",
       "         'imag': 1,\n",
       "         'question': 5,\n",
       "         'ems': 6,\n",
       "         '1': 9,\n",
       "         'book': 4,\n",
       "         'relax': 1,\n",
       "         'use': 5,\n",
       "         'entri': 1,\n",
       "         'saw': 4,\n",
       "         'husband': 3,\n",
       "         'felt': 1,\n",
       "         'puls': 1,\n",
       "         'em': 2,\n",
       "         'match': 13,\n",
       "         'fellow': 1,\n",
       "         'twice': 1,\n",
       "         'clean': 3,\n",
       "         'bim': 1,\n",
       "         'wait': 3,\n",
       "         'interest': 2,\n",
       "         'truth': 2,\n",
       "         'rumor': 1,\n",
       "         'commit': 1,\n",
       "         'small': 3,\n",
       "         'tidbid': 1,\n",
       "         'satisfi': 1,\n",
       "         'sheriffbrianmobley': 10,\n",
       "         'mayor': 1,\n",
       "         'ask': 9,\n",
       "         'lay': 1,\n",
       "         'case': 14,\n",
       "         'feed': 1,\n",
       "         'defus': 1,\n",
       "         'panic': 1,\n",
       "         'eckli': 11,\n",
       "         'speak': 5,\n",
       "         'volum': 1,\n",
       "         'conrad': 4,\n",
       "         'process': 2,\n",
       "         'excus': 1,\n",
       "         'went': 3,\n",
       "         'let': 9,\n",
       "         'assur': 1,\n",
       "         'situat': 1,\n",
       "         'control': 1,\n",
       "         'crew': 2,\n",
       "         'temporarili': 1,\n",
       "         'forgotten': 1,\n",
       "         'transport': 1,\n",
       "         'depart': 2,\n",
       "         'brass': 54,\n",
       "         'kid': 12,\n",
       "         'taxi': 1,\n",
       "         'servic': 6,\n",
       "         'biggest': 2,\n",
       "         'gape': 1,\n",
       "         'tire': 8,\n",
       "         'dirt': 4,\n",
       "         'yard': 1,\n",
       "         'entryway': 2,\n",
       "         'bedsid': 1,\n",
       "         'tabl': 9,\n",
       "         'bloodstain': 1,\n",
       "         'bedsheet': 1,\n",
       "         'extentryway': 2,\n",
       "         'bidi': 9,\n",
       "         'extyard': 1,\n",
       "         'intsecondfloorhallway': 1,\n",
       "         'pick': 11,\n",
       "         'bindl': 1,\n",
       "         'intsecondfloorboysbedroom': 1,\n",
       "         'coron': 2,\n",
       "         'brought': 1,\n",
       "         'david': 2,\n",
       "         'phillip': 1,\n",
       "         'person': 1,\n",
       "         'properti': 2,\n",
       "         'jewelri': 1,\n",
       "         'davidphillip': 1,\n",
       "         'doorway': 2,\n",
       "         'play': 2,\n",
       "         'pop': 3,\n",
       "         'warner': 1,\n",
       "         'hit': 1,\n",
       "         'fist': 1,\n",
       "         'frustrat': 1,\n",
       "         'buy': 1,\n",
       "         'mean': 2,\n",
       "         'shake': 1,\n",
       "         'studi': 1,\n",
       "         'butter': 1,\n",
       "         'imit': 1,\n",
       "         'nod': 7,\n",
       "         'agreement': 1,\n",
       "         'quick': 8,\n",
       "         'explain': 2,\n",
       "         'confin': 1,\n",
       "         'woke': 1,\n",
       "         'ran': 4,\n",
       "         'protect': 4,\n",
       "         'narrat': 1,\n",
       "         'finish': 4,\n",
       "         'gave': 2,\n",
       "         'life': 1,\n",
       "         'yeah': 12,\n",
       "         'hole': 3,\n",
       "         'fan': 1,\n",
       "         'daughter': 4,\n",
       "         'boyfriend': 3,\n",
       "         'wonder': 1,\n",
       "         'draw': 1,\n",
       "         'black': 1,\n",
       "         'crayon': 4,\n",
       "         'vigor': 1,\n",
       "         'color': 2,\n",
       "         'scientist': 1,\n",
       "         'mom': 2,\n",
       "         'primari': 1,\n",
       "         'till': 2,\n",
       "         'big': 1,\n",
       "         'deal': 2,\n",
       "         'ca': 3,\n",
       "         'sent': 1,\n",
       "         'casework': 2,\n",
       "         'hospit': 3,\n",
       "         'adopt': 1,\n",
       "         'sunris': 1,\n",
       "         'psych': 2,\n",
       "         'eval': 1,\n",
       "         'glanc': 8,\n",
       "         'pretti': 1,\n",
       "         'pink': 3,\n",
       "         'scratch': 1,\n",
       "         'ride': 1,\n",
       "         'paper': 2,\n",
       "         'flat': 1,\n",
       "         'ear': 1,\n",
       "         'sound': 2,\n",
       "         'footstep': 3,\n",
       "         'lock': 1,\n",
       "         'night': 13,\n",
       "         'dad': 6,\n",
       "         'safe': 1,\n",
       "         'hook': 3,\n",
       "         'differ': 3,\n",
       "         'live': 1,\n",
       "         'peopl': 1,\n",
       "         'late': 3,\n",
       "         'brother': 2,\n",
       "         'zerotwo': 1,\n",
       "         'pronounc': 1,\n",
       "         'ohtwoforti': 1,\n",
       "         'came': 3,\n",
       "         'motorcycl': 1,\n",
       "         'drove': 1,\n",
       "         'bet': 1,\n",
       "         'drop': 6,\n",
       "         'handrol': 1,\n",
       "         'cigarett': 3,\n",
       "         'probabl': 2,\n",
       "         'shortcut': 1,\n",
       "         'hmm': 2,\n",
       "         'beat': 3,\n",
       "         'cool': 1,\n",
       "         'mixtur': 1,\n",
       "         'pour': 1,\n",
       "         'dr': 4,\n",
       "         'leever': 3,\n",
       "         'stuf': 2,\n",
       "         'arm': 3,\n",
       "         'rep': 1,\n",
       "         'conni': 7,\n",
       "         'bellvu': 7,\n",
       "         'drleever': 4,\n",
       "         'conniebellvu': 8,\n",
       "         'fine': 2,\n",
       "         'consult': 1,\n",
       "         'page': 1,\n",
       "         'psychiatr': 1,\n",
       "         'resid': 1,\n",
       "         'complet': 3,\n",
       "         'ignor': 1,\n",
       "         'possess': 1,\n",
       "         'manner': 1,\n",
       "         'exam': 3,\n",
       "         'hair': 1,\n",
       "         'answer': 5,\n",
       "         'tens': 1,\n",
       "         'gun': 1,\n",
       "         'jacket': 1,\n",
       "         'tie': 1,\n",
       "         'waist': 1,\n",
       "         'tug': 1,\n",
       "         'attent': 1,\n",
       "         'post': 2,\n",
       "         'directli': 1,\n",
       "         'choic': 1,\n",
       "         'unmistak': 1,\n",
       "         'tuck': 1,\n",
       "         'vaniti': 1,\n",
       "         'focu': 1,\n",
       "         'soda': 1,\n",
       "         'counter': 1,\n",
       "         'smile': 6,\n",
       "         'day': 4,\n",
       "         'marker': 9,\n",
       "         '3': 3,\n",
       "         '2': 7,\n",
       "         '4': 2,\n",
       "         'lateday': 1,\n",
       "         'crouch': 1,\n",
       "         '5': 2,\n",
       "         'opp': 1,\n",
       "         'evening': 1,\n",
       "         'plastic': 1,\n",
       "         'architectur': 1,\n",
       "         'layout': 1,\n",
       "         'dissolv': 1,\n",
       "         'catheirn': 1,\n",
       "         'clock': 1,\n",
       "         'chime': 1,\n",
       "         'final': 1,\n",
       "         'realiz': 1,\n",
       "         'lind': 2,\n",
       "         'scrambl': 1,\n",
       "         'examin': 3,\n",
       "         'al': 1,\n",
       "         'thud': 1,\n",
       "         'curs': 1,\n",
       "         'damn': 3,\n",
       "         'osha': 1,\n",
       "         'rememb': 3,\n",
       "         'tread': 2,\n",
       "         'mmhmm': 2,\n",
       "         'fbi': 1,\n",
       "         'regist': 1,\n",
       "         'belong': 1,\n",
       "         '93': 1,\n",
       "         'honda': 1,\n",
       "         'scooter': 8,\n",
       "         'dmv': 1,\n",
       "         'block': 1,\n",
       "         'own': 1,\n",
       "         'make': 2,\n",
       "         'that': 1,\n",
       "         'subject': 1,\n",
       "         'aliv': 1,\n",
       "         'ladi': 2,\n",
       "         'macbeth': 2,\n",
       "         'out': 1,\n",
       "         'spot': 3,\n",
       "         'trace': 1,\n",
       "         'lindsey': 9,\n",
       "         'eddi': 7,\n",
       "         'vinyl': 1,\n",
       "         'record': 2,\n",
       "         'album': 1,\n",
       "         'honey': 1,\n",
       "         'lindseywillow': 1,\n",
       "         'mommi': 1,\n",
       "         'glad': 1,\n",
       "         'get': 5,\n",
       "         'stereo': 1,\n",
       "         'daddi': 2,\n",
       "         'ballet': 1,\n",
       "         'teacher': 1,\n",
       "         'told': 4,\n",
       "         'ed': 2,\n",
       "         'apolog': 1,\n",
       "         'eddiewillow': 13,\n",
       "         'realli': 3,\n",
       "         'cath': 4,\n",
       "         'bad': 1,\n",
       "         'hungri': 1,\n",
       "         'pancak': 2,\n",
       "         'dinner': 1,\n",
       "         'pager': 1,\n",
       "         'beep': 1,\n",
       "         'phone': 6,\n",
       "         'ring': 2,\n",
       "         'bust': 1,\n",
       "         'promptli': 1,\n",
       "         'conradeckli': 14,\n",
       "         'result': 2,\n",
       "         'gil': 2,\n",
       "         'sport': 1,\n",
       "         'stardust': 1,\n",
       "         'competit': 1,\n",
       "         'usual': 1,\n",
       "         'win': 1,\n",
       "         'softbal': 1,\n",
       "         'summer': 1,\n",
       "         'joke': 2,\n",
       "         'ass': 1,\n",
       "         'line': 3,\n",
       "         '143': 1,\n",
       "         'oliv': 14,\n",
       "         'hoover': 1,\n",
       "         'visit': 2,\n",
       "         'parent': 4,\n",
       "         'freak': 2,\n",
       "         'sexual': 3,\n",
       "         'disappear': 1,\n",
       "         'cost': 1,\n",
       "         'money': 1,\n",
       "         'slack': 1,\n",
       "         'support': 1,\n",
       "         'bought': 1,\n",
       "         'share': 2,\n",
       "         'pen': 3,\n",
       "         'join': 1,\n",
       "         'homicid': 1,\n",
       "         'pajama': 2,\n",
       "         'plate': 1,\n",
       "         'food': 1,\n",
       "         'hello': 1,\n",
       "         'stuff': 1,\n",
       "         'collect': 2,\n",
       "         'dna': 1,\n",
       "         'smoke': 3,\n",
       "         'nonfamili': 1,\n",
       "         'member': 1,\n",
       "         'carbon': 1,\n",
       "         'monoxid': 1,\n",
       "         'shrink': 1,\n",
       "         'cataton': 1,\n",
       "         'state': 1,\n",
       "         'trauma': 2,\n",
       "         'deep': 3,\n",
       "         'do': 1,\n",
       "         'believ': 2,\n",
       "         'crack': 1,\n",
       "         'absolut': 1,\n",
       "         'express': 1,\n",
       "         'break': 3,\n",
       "         'credit': 1,\n",
       "         'snicker': 1,\n",
       "         'fast': 1,\n",
       "         'appreci': 1,\n",
       "         'piec': 3,\n",
       "         'eat': 1,\n",
       "         'request': 1,\n",
       "         'statement': 1,\n",
       "         'bent': 1,\n",
       "         'bleed': 1,\n",
       "         'profus': 1,\n",
       "         'trip': 1,\n",
       "         'upstair': 1,\n",
       "         'stori': 1,\n",
       "         'owner': 1,\n",
       "         'suburbanteenguy': 6,\n",
       "         'nasti': 1,\n",
       "         'ground': 1,\n",
       "         'week': 1,\n",
       "         'camp': 1,\n",
       "         'church': 1,\n",
       "         'group': 1,\n",
       "         'jesseoverton': 17,\n",
       "         'x': 2,\n",
       "         'lawyer': 5,\n",
       "         'investig': 2,\n",
       "         'stoke': 1,\n",
       "         'jess': 14,\n",
       "         'overton': 10,\n",
       "         'nervous': 1,\n",
       "         'shirt': 1,\n",
       "         'sharon': 2,\n",
       "         'stone': 2,\n",
       "         'basic': 1,\n",
       "         'instinct': 1,\n",
       "         'dude': 2,\n",
       "         'ai': 1,\n",
       "         'movi': 1,\n",
       "         'toss': 3,\n",
       "         'pack': 5,\n",
       "         'unmark': 1,\n",
       "         'rip': 1,\n",
       "         'timeshar': 1,\n",
       "         'admit': 1,\n",
       "         'react': 1,\n",
       "         'reaction': 2,\n",
       "         'warrant': 1,\n",
       "         'search': 1,\n",
       "         'coach': 1,\n",
       "         'understand': 1,\n",
       "         'wo': 1,\n",
       "         'doctor': 1,\n",
       "         'catch': 1,\n",
       "         'accus': 1,\n",
       "         'remain': 1,\n",
       "         'quiet': 1,\n",
       "         'attach': 2,\n",
       "         'hahaha': 1,\n",
       "         'houston': 1,\n",
       "         'liftoff': 1,\n",
       "         'scope': 1,\n",
       "         'half': 1,\n",
       "         'ah': 1,\n",
       "         'broke': 1,\n",
       "         'both': 1,\n",
       "         'nickwarrick': 1,\n",
       "         'sophist': 1,\n",
       "         'crimin': 1,\n",
       "         'huh': 2,\n",
       "         'trash': 3,\n",
       "         'part': 1,\n",
       "         'getaway': 1,\n",
       "         'new': 1,\n",
       "         'whoa': 1,\n",
       "         'jean': 2,\n",
       "         'yet': 1,\n",
       "         'shakespear': 1,\n",
       "         'detector': 1,\n",
       "         'oper': 2,\n",
       "         'machin': 2,\n",
       "         'plead': 1,\n",
       "         'guilti': 1,\n",
       "         'weapon': 1,\n",
       "         'mug': 1,\n",
       "         'liedetectoroper': 12,\n",
       "         'approach': 1,\n",
       "         'school': 1,\n",
       "         'escap': 1,\n",
       "         'death': 1,\n",
       "         'penalti': 1,\n",
       "         'oclock': 1,\n",
       "         'straight': 2,\n",
       "         'flashback': 14,\n",
       "         'end': 7,\n",
       "         'resum': 7,\n",
       "         'present': 5,\n",
       "         'select': 1,\n",
       "         'choos': 1,\n",
       "         'grip': 1,\n",
       "         'barbara': 2,\n",
       "         'wake': 1,\n",
       "         'wide': 1,\n",
       "         'die': 1,\n",
       "         'attack': 3,\n",
       "         'mad': 1,\n",
       "         'paus': 1,\n",
       "         'show': 2,\n",
       "         'carri': 4,\n",
       "         'b': 1,\n",
       "         'st': 1,\n",
       "         'rd': 1,\n",
       "         'whi': 1,\n",
       "         'respiratori': 1,\n",
       "         'inconsist': 1,\n",
       "         'care': 3,\n",
       "         'hide': 1,\n",
       "         'autopsi': 2,\n",
       "         'dralbertrobbin': 6,\n",
       "         'seal': 1,\n",
       "         'assist': 1,\n",
       "         'sure': 2,\n",
       "         'deliv': 1,\n",
       "         'word': 2,\n",
       "         'robbin': 1,\n",
       "         'storag': 1,\n",
       "         'angrili': 1,\n",
       "         'base': 1,\n",
       "         'afraid': 1,\n",
       "         'motion': 2,\n",
       "         'pimplyfac': 1,\n",
       "         'confess': 1,\n",
       "         'kept': 1,\n",
       "         'loop': 1,\n",
       "         'careerkil': 1,\n",
       "         'sad': 1,\n",
       "         'career': 1,\n",
       "         'taken': 2,\n",
       "         'compar': 1,\n",
       "         'envelop': 1,\n",
       "         'empti': 1,\n",
       "         'baggi': 1,\n",
       "         'amulet': 1,\n",
       "         'chain': 2,\n",
       "         'cell': 2,\n",
       "         'abus': 2,\n",
       "         'overt': 1,\n",
       "         'ultraviolet': 1,\n",
       "         'skin': 1,\n",
       "         'click': 2,\n",
       "         'unti': 1,\n",
       "         'gown': 2,\n",
       "         'slip': 1,\n",
       "         'shoulder': 2,\n",
       "         'ruler': 1,\n",
       "         'readi': 1,\n",
       "         'garag': 2,\n",
       "         'schemat': 1,\n",
       "         'xr0048096822003': 1,\n",
       "         '00398': 4,\n",
       "         'intrud': 1,\n",
       "         '17': 1,\n",
       "         '47': 1,\n",
       "         'subdu': 1,\n",
       "         'enter': 1,\n",
       "         'save': 1,\n",
       "         '36': 1,\n",
       "         '30': 1,\n",
       "         '18': 3,\n",
       "         'magnifi': 2,\n",
       "         'glass': 3,\n",
       "         'cast': 1,\n",
       "         'red': 2,\n",
       "         'fall': 2,\n",
       "         'repeatedli': 1,\n",
       "         'white': 2,\n",
       "         'flash': 2,\n",
       "         'knock': 1,\n",
       "         'file': 2,\n",
       "         'packag': 1,\n",
       "         'tedgoggl': 12,\n",
       "         'willow': 1,\n",
       "         'ted': 1,\n",
       "         'goggl': 1,\n",
       "         'actual': 1,\n",
       "         'inquir': 1,\n",
       "         'neglect': 3,\n",
       "         'danc': 1,\n",
       "         'class': 1,\n",
       "         'routin': 1,\n",
       "         'job': 1,\n",
       "         'idea': 1,\n",
       "         'band': 1,\n",
       "         'field': 1,\n",
       "         'form': 3,\n",
       "         'xray': 1,\n",
       "         'uh': 1,\n",
       "         'droplet': 1,\n",
       "         'fill': 2,\n",
       "         'develop': 1,\n",
       "         'bruis': 1,\n",
       "         'reinterview': 1,\n",
       "         'certain': 1,\n",
       "         'depend': 1,\n",
       "         'victim': 1,\n",
       "         'glu': 1,\n",
       "         'horribl': 1,\n",
       "         'long': 1,\n",
       "         'young': 2,\n",
       "         'medallion': 1,\n",
       "         'learn': 1,\n",
       "         'thirteen': 1,\n",
       "         'bigger': 1,\n",
       "         'nice': 2,\n",
       "         'hate': 1,\n",
       "         'chair': 1,\n",
       "         'clutch': 1,\n",
       "         'bear': 1,\n",
       "         'blankli': 1,\n",
       "         'locker': 2,\n",
       "         'bench': 1,\n",
       "         'ice': 1,\n",
       "         'knuckl': 1,\n",
       "         '24': 1,\n",
       "         'appl': 2,\n",
       "         'basket': 1,\n",
       "         'desk': 1,\n",
       "         'bite': 2,\n",
       "         'forward': 1,\n",
       "         'pencil': 2,\n",
       "         'fold': 1,\n",
       "         'newspap': 2,\n",
       "         'crossword': 4,\n",
       "         'puzzl': 4})"
      ]
     },
     "execution_count": 55,
     "metadata": {},
     "output_type": "execute_result"
    }
   ],
   "source": [
    "word_count"
   ]
  },
  {
   "cell_type": "code",
   "execution_count": 22,
   "metadata": {},
   "outputs": [
    {
     "data": {
      "text/plain": [
       "(36, 271)"
      ]
     },
     "execution_count": 22,
     "metadata": {},
     "output_type": "execute_result"
    }
   ],
   "source": [
    "corpus_tf_idf.shape"
   ]
  },
  {
   "cell_type": "code",
   "execution_count": 56,
   "metadata": {
    "scrolled": false
   },
   "outputs": [
    {
     "name": "stdout",
     "output_type": "stream",
     "text": [
      "318\n"
     ]
    },
    {
     "data": {
      "text/plain": [
       "'a, about, above, across, after, afterwards, again, against, all, almost, alone, along, already, also, although, always, am, among, amongst, amoungst, amount, an, and, another, any, anyhow, anyone, anything, anyway, anywhere, are, around, as, at, back, be, became, because, become, becomes, becoming, been, before, beforehand, behind, being, below, beside, besides, between, beyond, bill, both, bottom, but, by, call, can, cannot, cant, co, con, could, couldnt, cry, de, describe, detail, do, done, down, due, during, each, eg, eight, either, eleven, else, elsewhere, empty, enough, etc, even, ever, every, everyone, everything, everywhere, except, few, fifteen, fifty, fill, find, fire, first, five, for, former, formerly, forty, found, four, from, front, full, further, get, give, go, had, has, hasnt, have, he, hence, her, here, hereafter, hereby, herein, hereupon, hers, herself, him, himself, his, how, however, hundred, i, ie, if, in, inc, indeed, interest, into, is, it, its, itself, keep, last, latter, latterly, least, less, ltd, made, many, may, me, meanwhile, might, mill, mine, more, moreover, most, mostly, move, much, must, my, myself, name, namely, neither, never, nevertheless, next, nine, no, nobody, none, noone, nor, not, nothing, now, nowhere, of, off, often, on, once, one, only, onto, or, other, others, otherwise, our, ours, ourselves, out, over, own, part, per, perhaps, please, put, rather, re, same, see, seem, seemed, seeming, seems, serious, several, she, should, show, side, since, sincere, six, sixty, so, some, somehow, someone, something, sometime, sometimes, somewhere, still, such, system, take, ten, than, that, the, their, them, themselves, then, thence, there, thereafter, thereby, therefore, therein, thereupon, these, they, thick, thin, third, this, those, though, three, through, throughout, thru, thus, to, together, too, top, toward, towards, twelve, twenty, two, un, under, until, up, upon, us, very, via, was, we, well, were, what, whatever, when, whence, whenever, where, whereafter, whereas, whereby, wherein, whereupon, wherever, whether, which, while, whither, who, whoever, whole, whom, whose, why, will, with, within, without, would, yet, you, your, yours, yourself, yourselves'"
      ]
     },
     "execution_count": 56,
     "metadata": {},
     "output_type": "execute_result"
    }
   ],
   "source": [
    "print(len(vectorizer.get_stop_words()))\n"
   ]
  },
  {
   "cell_type": "code",
   "execution_count": 57,
   "metadata": {},
   "outputs": [],
   "source": []
  },
  {
   "cell_type": "code",
   "execution_count": 58,
   "metadata": {},
   "outputs": [
    {
     "data": {
      "text/plain": [
       "2.466337068793427"
      ]
     },
     "execution_count": 58,
     "metadata": {},
     "output_type": "execute_result"
    }
   ],
   "source": [
    "tfidf_weights['camera']"
   ]
  },
  {
   "cell_type": "code",
   "execution_count": 59,
   "metadata": {},
   "outputs": [
    {
     "data": {
      "text/plain": [
       "3.5649493574615367"
      ]
     },
     "execution_count": 59,
     "metadata": {},
     "output_type": "execute_result"
    }
   ],
   "source": [
    "tfidf_weights['man']"
   ]
  },
  {
   "cell_type": "code",
   "execution_count": 60,
   "metadata": {},
   "outputs": [
    {
     "data": {
      "text/plain": [
       "2.3121863889661687"
      ]
     },
     "execution_count": 60,
     "metadata": {},
     "output_type": "execute_result"
    }
   ],
   "source": [
    "tfidf_weights['hallway']"
   ]
  },
  {
   "cell_type": "code",
   "execution_count": 135,
   "metadata": {},
   "outputs": [],
   "source": [
    "\n",
    "#summaries_raw = [' '.join(w[1:] if w[0] in ['@', '#', '~'] else w for w in s.split(' ')) for s in summaries_raw]\n"
   ]
  },
  {
   "cell_type": "code",
   "execution_count": 63,
   "metadata": {},
   "outputs": [
    {
     "name": "stdout",
     "output_type": "stream",
     "text": [
      " gil grissom entir team suspect bizarr cult murder evid tell disturb stori discov motiv massacr\n"
     ]
    }
   ],
   "source": []
  },
  {
   "cell_type": "code",
   "execution_count": 64,
   "metadata": {},
   "outputs": [],
   "source": []
  },
  {
   "cell_type": "code",
   "execution_count": 43,
   "metadata": {},
   "outputs": [
    {
     "data": {
      "text/plain": [
       "(0, 3)"
      ]
     },
     "execution_count": 43,
     "metadata": {},
     "output_type": "execute_result"
    }
   ],
   "source": [
    "compute_similarity('No more excus . a woman is talk to a man and he is smile TV : ryan stacey',\n",
    "                   'kat persuad stacey and jean to come to R & R with kat and kim , leav charli and alfi to look after lili',\n",
    "                    method=('tfidf', tfidf_weights)), compute_similarity('No more excus . a woman is talk to a man and he is smile TV : ryan stacey',\n",
    "                   'kat persuad stacey and jean to come to R & R with kat and kim , leav charli and alfi to look after lili',\n",
    "                    method=('count',))"
   ]
  },
  {
   "cell_type": "code",
   "execution_count": 232,
   "metadata": {},
   "outputs": [
    {
     "data": {
      "text/plain": [
       "3.337750494112952"
      ]
     },
     "execution_count": 232,
     "metadata": {},
     "output_type": "execute_result"
    }
   ],
   "source": [
    "tfidf_weights['stacey']"
   ]
  },
  {
   "cell_type": "code",
   "execution_count": 65,
   "metadata": {},
   "outputs": [
    {
     "data": {
      "application/vnd.jupyter.widget-view+json": {
       "model_id": "fa223ca42bf949d7b92d5473b652f8ce",
       "version_major": 2,
       "version_minor": 0
      },
      "text/plain": [
       "HBox(children=(FloatProgress(value=0.0, max=51.0), HTML(value='')))"
      ]
     },
     "metadata": {},
     "output_type": "display_data"
    },
    {
     "name": "stdout",
     "output_type": "stream",
     "text": [
      "\n",
      "CPU times: user 102 ms, sys: 3.63 ms, total: 105 ms\n",
      "Wall time: 101 ms\n"
     ]
    }
   ],
   "source": [
    "\n"
   ]
  },
  {
   "cell_type": "code",
   "execution_count": 68,
   "metadata": {},
   "outputs": [
    {
     "name": "stdout",
     "output_type": "stream",
     "text": [
      "41\n",
      "51\n"
     ]
    }
   ],
   "source": [
    "print(len(summaries))\n",
    "print(len(corpus))"
   ]
  },
  {
   "cell_type": "code",
   "execution_count": 70,
   "metadata": {},
   "outputs": [],
   "source": []
  },
  {
   "cell_type": "code",
   "execution_count": 71,
   "metadata": {},
   "outputs": [
    {
     "data": {
      "text/plain": [
       "(10.0, 43, 37)"
      ]
     },
     "execution_count": 71,
     "metadata": {},
     "output_type": "execute_result"
    }
   ],
   "source": [
    "best_matches_count[0]"
   ]
  },
  {
   "cell_type": "code",
   "execution_count": 106,
   "metadata": {},
   "outputs": [
    {
     "name": "stdout",
     "output_type": "stream",
     "text": [
      "43 [' ( In the garage , CATHERINE speaks into a tape recorder as she takes her notes . )', ' ( She looks at a schematic of the crime scene , # XR-0048-096822-003 . )', ' ( As she speaks , the camera follows on the map . )', \" ( It starts with the figure of the father in the hallway in front of BRENDA 'S bedroom door ... )\", ' [[Catherine]] notes on mapping : collins family murder', ' [[Catherine]] case # 00-398', ' [[Catherine]] intruder killed mother', ' ( ... then moves to the photo of the mother in the bedroom , Case # 00-398 , Photo # 17 . )', ' [[Catherine]] father went to protect the little girl', ' [[Catherine]] got nicked by knife', \" ( Camera moves from the boy 's room on the map to the photo , Case # 00-398 , Photo # 47 . )\", \" [[Catherine]] killer subdued him as dad was entering the little girl 's room to\", ' [[Catherine]] ... save her', \" ( Something does n't click . )\", \" ( It does n't match the photos she 's looking at . )\", ' ( She looks at the photo of the blood drops found on floor , Case # 00-398 , Photo # 36 . )', ' ( From this photo , she looks at another photo , # 30 . )', ' ( And another photo , # 18 . )', \" ( CATHERINE does n't like what she 's seeing . )\", ' ( She reaches for the magnifying glass to look again at Photo # 18 . )', ' ( Quick flashback to : Cast in red light , MR COLLINS steps out of the bedroom and is attacked from behind . )', \" ( MR COLLINS falls to the floor in front of BRENDA 'S bedroom door . )\", ' ( JESSE OVERTON stabs MR COLLINS repeatedly . )', ' ( White flash to : JESSE carries the dripping knife down the hallway . )', ' ( End of flashback . )', ' ( Resume to PHOTO # 18 . )', ' [[Catherine]] grissom', ' ( CATHERINE drops the magnifying glass and reaches for her cell phone . )', \" ( There 's a light knock on the door . )\", ' ( CATHERINE looks up . )', ' ( A man carrying a file package walks in )', ' [[Ted_Goggle]] catherine willows ?', \" [[Catherine]] who 's asking ?\", ' [[Ted_Goggle]] ted goggle', \" [[Ted_Goggle]] i 'm with family services\", \" [[Ted_Goggle]] were you working the collins ' case ?\", \" [[Catherine]] you know , your department ca n't seem to get things straight\", \" [[Catherine]] if you 're looking for the little girl , she 's already got a caseworker\", \" [[Ted_Goggle]] actually , i 'm inquiring about your little girl\", ' [[Catherine]] my lindsey ?', ' [[Catherine]] why ?', ' [[Catherine]] what are you talking about ?', ' [[Ted_Goggle]] your husband , eddie , filed a report', ' [[Ted_Goggle]] says you neglected to pick her up after dance class last night', ' [[Ted_Goggle]] that you routinely neglect her for your job', \" [[Catherine]] is this eddie 's idea of a joke ?\", ' [[Catherine]] what , are you in one of his bands ?', ' [[Ted_Goggle]] i already made a field visit to your house', \" [[Ted_Goggle]] here 's the form\", ' ( He hands her the form . )', ' ( She looks at it . )', ' [[Ted_Goggle]] lindsey seems okay but there is going to be an investigation as to whether there was parental neglect', \" [[Ted_Goggle]] you 're on notice\", ' ( He leaves the garage . )']\n",
      "======================\n",
      "30 [' ( CATHERINE and GRISSOM re-question TINA COLLINS . )', \" [[Tina_Collins]] i do n't know why i did n't get blood on my pajamas\", \" [[Tina_Collins]] i just did n't\", ' [[Catherine]] but your statement says that you bent down and hugged your mother who was bleeding profusely', \" [[Catherine]] then you ran out , tripping over your father 's body in the upstairs hallway\", ' [[Grissom]] but there was no blood on you', ' [[Tina_Collins]] i saw my family dead', ' [[Tina_Collins]] i was scared', ' [[Tina_Collins]] i ran to the neighbors', ' [[Tina_Collins]] that is the truth', ' [[Grissom]] the evidence is telling a different story']\n",
      "======================\n",
      "34 [\" ( BRASS walks over to GRISSOM 'S office where GRISSOM still has TINA COLLINS sitting inside . )\", \" [[Brass]] the kid 's name is jesse overton\", ' [[Brass]] he time-shares the scooter', \" [[Brass]] he admits to having s*x with your girl , and he 's asking for a lawyer\", \" ( TINA COLLINS starts to react to what she 's hearing . )\", ' ( GRISSOM and CATHERINE both notice her reactions . )', ' [[Brass]] i want to get a warrant and search his house', \" [[Brass]] i 'll keep you posted\", ' ( BRASS leaves the room . )', ' ( TINA looks at GRISSOM . )', ' [[Tina_Collins]] i want to see my sister', \" [[Grissom]] it 's not going to happen , tina\", \" [[Catherine]] it 's a little too late to start coaching her now\", \" [[Tina_Collins]] you do n't understand\", ' [[Tina_Collins]] i need to speak with her', \" [[Grissom]] she wo n't speak\", \" [[Catherine]] the doctor says it 's from trauma\", ' [[Catherine]] what happened , tina ?', ' [[Catherine]] did you catch your boyfriend killing your family ?', ' ( TINA sits back , not responding to the accusation . )', ' ( She glances up at GRISSOM but remains quiet . )']\n",
      "======================\n",
      "43 [' ( In the garage , CATHERINE speaks into a tape recorder as she takes her notes . )', ' ( She looks at a schematic of the crime scene , # XR-0048-096822-003 . )', ' ( As she speaks , the camera follows on the map . )', \" ( It starts with the figure of the father in the hallway in front of BRENDA 'S bedroom door ... )\", ' [[Catherine]] notes on mapping : collins family murder', ' [[Catherine]] case # 00-398', ' [[Catherine]] intruder killed mother', ' ( ... then moves to the photo of the mother in the bedroom , Case # 00-398 , Photo # 17 . )', ' [[Catherine]] father went to protect the little girl', ' [[Catherine]] got nicked by knife', \" ( Camera moves from the boy 's room on the map to the photo , Case # 00-398 , Photo # 47 . )\", \" [[Catherine]] killer subdued him as dad was entering the little girl 's room to\", ' [[Catherine]] ... save her', \" ( Something does n't click . )\", \" ( It does n't match the photos she 's looking at . )\", ' ( She looks at the photo of the blood drops found on floor , Case # 00-398 , Photo # 36 . )', ' ( From this photo , she looks at another photo , # 30 . )', ' ( And another photo , # 18 . )', \" ( CATHERINE does n't like what she 's seeing . )\", ' ( She reaches for the magnifying glass to look again at Photo # 18 . )', ' ( Quick flashback to : Cast in red light , MR COLLINS steps out of the bedroom and is attacked from behind . )', \" ( MR COLLINS falls to the floor in front of BRENDA 'S bedroom door . )\", ' ( JESSE OVERTON stabs MR COLLINS repeatedly . )', ' ( White flash to : JESSE carries the dripping knife down the hallway . )', ' ( End of flashback . )', ' ( Resume to PHOTO # 18 . )', ' [[Catherine]] grissom', ' ( CATHERINE drops the magnifying glass and reaches for her cell phone . )', \" ( There 's a light knock on the door . )\", ' ( CATHERINE looks up . )', ' ( A man carrying a file package walks in )', ' [[Ted_Goggle]] catherine willows ?', \" [[Catherine]] who 's asking ?\", ' [[Ted_Goggle]] ted goggle', \" [[Ted_Goggle]] i 'm with family services\", \" [[Ted_Goggle]] were you working the collins ' case ?\", \" [[Catherine]] you know , your department ca n't seem to get things straight\", \" [[Catherine]] if you 're looking for the little girl , she 's already got a caseworker\", \" [[Ted_Goggle]] actually , i 'm inquiring about your little girl\", ' [[Catherine]] my lindsey ?', ' [[Catherine]] why ?', ' [[Catherine]] what are you talking about ?', ' [[Ted_Goggle]] your husband , eddie , filed a report', ' [[Ted_Goggle]] says you neglected to pick her up after dance class last night', ' [[Ted_Goggle]] that you routinely neglect her for your job', \" [[Catherine]] is this eddie 's idea of a joke ?\", ' [[Catherine]] what , are you in one of his bands ?', ' [[Ted_Goggle]] i already made a field visit to your house', \" [[Ted_Goggle]] here 's the form\", ' ( He hands her the form . )', ' ( She looks at it . )', ' [[Ted_Goggle]] lindsey seems okay but there is going to be an investigation as to whether there was parental neglect', \" [[Ted_Goggle]] you 're on notice\", ' ( He leaves the garage . )']\n",
      "======================\n",
      "18 [' ( CATHERINE reports to GRISSOM . )', ' [[Catherine]] i got the blood samples on the way to the lab', ' [[Grissom]] good', ' [[Grissom]] you buy this cult thing ?', \" [[Catherine]] you mean the blood swirls next to the father 's body in the boys ' room ?\", ' ( CATHERINE shakes her head . )', ' [[Catherine]] i studied pictures of the manson murders', \" [[Catherine]] this is n't butter\", \" [[Catherine]] it 's imitation\", ' ( GRISSOM nods in agreement . )', \" [[Catherine]] what 's your take ?\", ' [[Grissom]] whoever did it killed the mother first', ' [[Grissom]] in her sleep , quick', ' [[Catherine]] explains why the blood is confined to the bed and the floor under it', ' [[Grissom]] husband woke up', ' [[Grissom]] ran to protect his kids', ' ( They start walking out of the bedroom as GRISSOM narrates . )', ' [[Grissom]] the killer nicked him here', ' [[Grissom]] and then finished him off down the hall', ' [[Catherine]] gave his life for the little girl', ' [[Catherine]] there should be more blood', ' [[Grissom]] yeah', \" [[Grissom]] it 's a hole\", ' [[Grissom]] we need to fill it', \" [[Grissom]] if we start from the inside and fan out whoever 's left at the scene\", ' [[Catherine]] the first suspect', ' [[Grissom]] the teen daughter ?', \" [[Catherine]] well , she 'd need help\", ' [[Catherine]] maybe a boyfriend ?', \" [[Grissom]] i wonder if they call him 'buffalo '\"]\n",
      "======================\n",
      "36 [' [[Brass]] sophisticated criminal , huh ?', ' ( BRASS lifts up and opens the trash can . )', ' ( Inside are the scooter parts . )', ' [[Grissom]] hmm ?', ' [[Brass]] this is the getaway vehicle', ' [[Brass]] tossing it in his own trash ?', ' [[Brass]] what else is new ?', ' ( GRISSOM picks up the tire . )', ' ( BRASS looks inside the trash can and finds something else . )', ' [[Brass]] whoa', ' [[Brass]] is this a pair of jeans under all that blood ?', \" [[Grissom]] 'yet who would have thought the old man to have so much blood in him ?\", ' [[Brass]] what was that ?', \" [[Grissom]] that 's shakespeare\", ' ( BRASS nods and hands the bloodied jeans to GRISSOM . )', ' ( GRISSOM and BRASS watch as the LIE DETECTOR OPERATOR hooks up JESSE OVERTON to the machine . )', \" [[Grissom]] the lawyer 's pleading him guilty\", ' [[Brass]] had to , once i put the murder weapon in his mug']\n",
      "======================\n",
      "43 [' ( In the garage , CATHERINE speaks into a tape recorder as she takes her notes . )', ' ( She looks at a schematic of the crime scene , # XR-0048-096822-003 . )', ' ( As she speaks , the camera follows on the map . )', \" ( It starts with the figure of the father in the hallway in front of BRENDA 'S bedroom door ... )\", ' [[Catherine]] notes on mapping : collins family murder', ' [[Catherine]] case # 00-398', ' [[Catherine]] intruder killed mother', ' ( ... then moves to the photo of the mother in the bedroom , Case # 00-398 , Photo # 17 . )', ' [[Catherine]] father went to protect the little girl', ' [[Catherine]] got nicked by knife', \" ( Camera moves from the boy 's room on the map to the photo , Case # 00-398 , Photo # 47 . )\", \" [[Catherine]] killer subdued him as dad was entering the little girl 's room to\", ' [[Catherine]] ... save her', \" ( Something does n't click . )\", \" ( It does n't match the photos she 's looking at . )\", ' ( She looks at the photo of the blood drops found on floor , Case # 00-398 , Photo # 36 . )', ' ( From this photo , she looks at another photo , # 30 . )', ' ( And another photo , # 18 . )', \" ( CATHERINE does n't like what she 's seeing . )\", ' ( She reaches for the magnifying glass to look again at Photo # 18 . )', ' ( Quick flashback to : Cast in red light , MR COLLINS steps out of the bedroom and is attacked from behind . )', \" ( MR COLLINS falls to the floor in front of BRENDA 'S bedroom door . )\", ' ( JESSE OVERTON stabs MR COLLINS repeatedly . )', ' ( White flash to : JESSE carries the dripping knife down the hallway . )', ' ( End of flashback . )', ' ( Resume to PHOTO # 18 . )', ' [[Catherine]] grissom', ' ( CATHERINE drops the magnifying glass and reaches for her cell phone . )', \" ( There 's a light knock on the door . )\", ' ( CATHERINE looks up . )', ' ( A man carrying a file package walks in )', ' [[Ted_Goggle]] catherine willows ?', \" [[Catherine]] who 's asking ?\", ' [[Ted_Goggle]] ted goggle', \" [[Ted_Goggle]] i 'm with family services\", \" [[Ted_Goggle]] were you working the collins ' case ?\", \" [[Catherine]] you know , your department ca n't seem to get things straight\", \" [[Catherine]] if you 're looking for the little girl , she 's already got a caseworker\", \" [[Ted_Goggle]] actually , i 'm inquiring about your little girl\", ' [[Catherine]] my lindsey ?', ' [[Catherine]] why ?', ' [[Catherine]] what are you talking about ?', ' [[Ted_Goggle]] your husband , eddie , filed a report', ' [[Ted_Goggle]] says you neglected to pick her up after dance class last night', ' [[Ted_Goggle]] that you routinely neglect her for your job', \" [[Catherine]] is this eddie 's idea of a joke ?\", ' [[Catherine]] what , are you in one of his bands ?', ' [[Ted_Goggle]] i already made a field visit to your house', \" [[Ted_Goggle]] here 's the form\", ' ( He hands her the form . )', ' ( She looks at it . )', ' [[Ted_Goggle]] lindsey seems okay but there is going to be an investigation as to whether there was parental neglect', \" [[Ted_Goggle]] you 're on notice\", ' ( He leaves the garage . )']\n",
      "======================\n",
      "43 [' ( In the garage , CATHERINE speaks into a tape recorder as she takes her notes . )', ' ( She looks at a schematic of the crime scene , # XR-0048-096822-003 . )', ' ( As she speaks , the camera follows on the map . )', \" ( It starts with the figure of the father in the hallway in front of BRENDA 'S bedroom door ... )\", ' [[Catherine]] notes on mapping : collins family murder', ' [[Catherine]] case # 00-398', ' [[Catherine]] intruder killed mother', ' ( ... then moves to the photo of the mother in the bedroom , Case # 00-398 , Photo # 17 . )', ' [[Catherine]] father went to protect the little girl', ' [[Catherine]] got nicked by knife', \" ( Camera moves from the boy 's room on the map to the photo , Case # 00-398 , Photo # 47 . )\", \" [[Catherine]] killer subdued him as dad was entering the little girl 's room to\", ' [[Catherine]] ... save her', \" ( Something does n't click . )\", \" ( It does n't match the photos she 's looking at . )\", ' ( She looks at the photo of the blood drops found on floor , Case # 00-398 , Photo # 36 . )', ' ( From this photo , she looks at another photo , # 30 . )', ' ( And another photo , # 18 . )', \" ( CATHERINE does n't like what she 's seeing . )\", ' ( She reaches for the magnifying glass to look again at Photo # 18 . )', ' ( Quick flashback to : Cast in red light , MR COLLINS steps out of the bedroom and is attacked from behind . )', \" ( MR COLLINS falls to the floor in front of BRENDA 'S bedroom door . )\", ' ( JESSE OVERTON stabs MR COLLINS repeatedly . )', ' ( White flash to : JESSE carries the dripping knife down the hallway . )', ' ( End of flashback . )', ' ( Resume to PHOTO # 18 . )', ' [[Catherine]] grissom', ' ( CATHERINE drops the magnifying glass and reaches for her cell phone . )', \" ( There 's a light knock on the door . )\", ' ( CATHERINE looks up . )', ' ( A man carrying a file package walks in )', ' [[Ted_Goggle]] catherine willows ?', \" [[Catherine]] who 's asking ?\", ' [[Ted_Goggle]] ted goggle', \" [[Ted_Goggle]] i 'm with family services\", \" [[Ted_Goggle]] were you working the collins ' case ?\", \" [[Catherine]] you know , your department ca n't seem to get things straight\", \" [[Catherine]] if you 're looking for the little girl , she 's already got a caseworker\", \" [[Ted_Goggle]] actually , i 'm inquiring about your little girl\", ' [[Catherine]] my lindsey ?', ' [[Catherine]] why ?', ' [[Catherine]] what are you talking about ?', ' [[Ted_Goggle]] your husband , eddie , filed a report', ' [[Ted_Goggle]] says you neglected to pick her up after dance class last night', ' [[Ted_Goggle]] that you routinely neglect her for your job', \" [[Catherine]] is this eddie 's idea of a joke ?\", ' [[Catherine]] what , are you in one of his bands ?', ' [[Ted_Goggle]] i already made a field visit to your house', \" [[Ted_Goggle]] here 's the form\", ' ( He hands her the form . )', ' ( She looks at it . )', ' [[Ted_Goggle]] lindsey seems okay but there is going to be an investigation as to whether there was parental neglect', \" [[Ted_Goggle]] you 're on notice\", ' ( He leaves the garage . )']\n",
      "======================\n",
      "20 [' ( BRASS and GRISSOM interview TINA COLLINS . )', ' [[Brass]] tina , do you know what time you heard those noises ?', ' [[Tina_Collins]] no , but they sounded like footsteps coming from the kitchen', \" [[Brass]] and that 's when you hid in the closet ?\", ' [[Tina_Collins]] yes', ' [[Brass]] does your family normally keep the doors locked at night ?', \" [[Tina_Collins]] i do n't know\", ' [[Tina_Collins]] my dad checks the house at night', \" [[Tina_Collins]] it 's always been a safe neighborhood\", ' [[Grissom]] tina ... do you ... go out with anyone special ?', ' [[Tina_Collins]] i hook up with different guys', ' [[Tina_Collins]] no one special', \" [[Grissom]] are any of them ... called 'buffalo ' ?\", \" ( TINA does n't look at them . )\", ' ( BRASS notices this immediately . )', \" [[Tina_Collins]] 'buffalo ' ?\", ' [[Tina_Collins]] no', ' ( GRISSOM notices it also . )', ' [[Brass]] how about this , tina ?', ' [[Brass]] you live in a house with six people , right ?', ' [[Brass]] you must be used to hearing footsteps in the kitchen late at night', ' [[Brass]] why so scared last night ?', \" [[Tina_Collins]] i know my brothers ' footsteps\", \" [[Tina_Collins]] and my dad 's\", ' [[Tina_Collins]] these were different']\n",
      "======================\n",
      "43 [' ( In the garage , CATHERINE speaks into a tape recorder as she takes her notes . )', ' ( She looks at a schematic of the crime scene , # XR-0048-096822-003 . )', ' ( As she speaks , the camera follows on the map . )', \" ( It starts with the figure of the father in the hallway in front of BRENDA 'S bedroom door ... )\", ' [[Catherine]] notes on mapping : collins family murder', ' [[Catherine]] case # 00-398', ' [[Catherine]] intruder killed mother', ' ( ... then moves to the photo of the mother in the bedroom , Case # 00-398 , Photo # 17 . )', ' [[Catherine]] father went to protect the little girl', ' [[Catherine]] got nicked by knife', \" ( Camera moves from the boy 's room on the map to the photo , Case # 00-398 , Photo # 47 . )\", \" [[Catherine]] killer subdued him as dad was entering the little girl 's room to\", ' [[Catherine]] ... save her', \" ( Something does n't click . )\", \" ( It does n't match the photos she 's looking at . )\", ' ( She looks at the photo of the blood drops found on floor , Case # 00-398 , Photo # 36 . )', ' ( From this photo , she looks at another photo , # 30 . )', ' ( And another photo , # 18 . )', \" ( CATHERINE does n't like what she 's seeing . )\", ' ( She reaches for the magnifying glass to look again at Photo # 18 . )', ' ( Quick flashback to : Cast in red light , MR COLLINS steps out of the bedroom and is attacked from behind . )', \" ( MR COLLINS falls to the floor in front of BRENDA 'S bedroom door . )\", ' ( JESSE OVERTON stabs MR COLLINS repeatedly . )', ' ( White flash to : JESSE carries the dripping knife down the hallway . )', ' ( End of flashback . )', ' ( Resume to PHOTO # 18 . )', ' [[Catherine]] grissom', ' ( CATHERINE drops the magnifying glass and reaches for her cell phone . )', \" ( There 's a light knock on the door . )\", ' ( CATHERINE looks up . )', ' ( A man carrying a file package walks in )', ' [[Ted_Goggle]] catherine willows ?', \" [[Catherine]] who 's asking ?\", ' [[Ted_Goggle]] ted goggle', \" [[Ted_Goggle]] i 'm with family services\", \" [[Ted_Goggle]] were you working the collins ' case ?\", \" [[Catherine]] you know , your department ca n't seem to get things straight\", \" [[Catherine]] if you 're looking for the little girl , she 's already got a caseworker\", \" [[Ted_Goggle]] actually , i 'm inquiring about your little girl\", ' [[Catherine]] my lindsey ?', ' [[Catherine]] why ?', ' [[Catherine]] what are you talking about ?', ' [[Ted_Goggle]] your husband , eddie , filed a report', ' [[Ted_Goggle]] says you neglected to pick her up after dance class last night', ' [[Ted_Goggle]] that you routinely neglect her for your job', \" [[Catherine]] is this eddie 's idea of a joke ?\", ' [[Catherine]] what , are you in one of his bands ?', ' [[Ted_Goggle]] i already made a field visit to your house', \" [[Ted_Goggle]] here 's the form\", ' ( He hands her the form . )', ' ( She looks at it . )', ' [[Ted_Goggle]] lindsey seems okay but there is going to be an investigation as to whether there was parental neglect', \" [[Ted_Goggle]] you 're on notice\", ' ( He leaves the garage . )']\n",
      "======================\n",
      "45 [\" [[Catherine]] it 's me\", \" [[Catherine]] something 's off on the map\", ' [[Grissom]] off ?', ' [[Grissom]] how ?', ' [[Catherine]] uh', \" [[Catherine]] i 'm looking at dad 's blood in the hall\", ' [[Catherine]] i found an interesting drop', \" [[Catherine]] the droplet tells me that he was n't running to the little girl 's room\", ' [[Grissom]] he was coming out of it ?', ' [[Catherine]] yeah', \" ( Quick flashback to : MR COLLINS coming out of BRENDA 'S bedroom when he 's being attacked . )\", ' [[Catherine]] i filled one of your holes , grissom', ' ( JESSE gets up from over MR COLLINS . )', ' [[Catherine]] the father was killed first -- then the mother', ' ( JESSE carries the dripping knife down the hallway . )', ' [[Catherine]] and the blood that we found in the hallway was from the knife', ' ( End of flashback . )', ' ( Resume to GRISSOM . )', ' ( CATHERINE shuts her phone off and throws it on the table in front of her . )', ' ( She picks up the Family Services form and looks at it . )']\n",
      "======================\n",
      "47 [' ( GRISSOM and BRASS re-interviews TINA COLLINS . )', ' ( Camera opens on the photos on the table in front of TINA . )', ' [[Grissom]] we have forensic evidence that your father sexually abused your sister', ' ( TINA reaches out a hand and touches the photos in front of her . )', ' [[Grissom]] we also know ... that he was in her room the night of the murders', ' [[Tina_Collins]] how can you tell ?', ' [[Grissom]] blood drops', ' [[Grissom]] they fall a certain way depending on the motion of the victim', ' ( TINA takes a deep breath , her eyes glued to the photos on the table . )', \" [[Grissom]] something horrible happened in that house , did n't it , tina ?\", ' [[Grissom]] long before the night of the murders', ' [[Tina_Collins]] that was the last night he was going to touch her', ' [[Grissom]] but why your mother ?', ' [[Grissom]] and why your brothers ?', ' [[Tina_Collins]] because they should have protected me', ' [[Grissom]] you ?', ' [[Tina_Collins]] my father', ' ( Quick flashback to : A YOUNG TINA COLLINS sitting on her bed . )', \" ( She looks up at her mother standing in the doorway to 'TINA 'S ' room . )\", ' ( She leaves and shuts the door . )', ' ( In the mirror , we see her father in the room alone with TINA . )', ' ( White flash to : The buffalo medallion on a chain around his neck . )', ' ( End of flashback . )', ' ( Resume to present . )', ' [[Tina_Collins]] i was young', ' [[Tina_Collins]] i learned to deal', ' [[Tina_Collins]] but when he went for my daughter', ' [[Grissom]] brenda is ... ?', ' [[Grissom]] and who is ... ?', ' [[Tina_Collins]] the father ?', ' [[Tina_Collins]] i was thirteen ... and nobody noticed that my clothes were getting bigger', ' [[Tina_Collins]] nice , huh ?', ' [[Tina_Collins]] brenda may hate me for what i did ... but i protected her', ' [[Tina_Collins]] i did that much']\n",
      "======================\n",
      "12 [' ( GRISSOM walks cautiously in the kitchen . )', \" ( DET O'RILEY walks into the kitchen . )\", \" [[Det._O'Riley]] they said you were looking for me\", ' [[Grissom]] hey , stop !', ' [[Grissom]] evidence !', \" ( DET O'RILEY stops and changes his course , staying off of the main floor and on the sides of the room . )\", \" [[Det._O'Riley]] we got to hug the wall ?\", \" [[Det._O'Riley]] this is the only room with no blood in it\", \" [[Det._O'Riley]] there 's nothing to disturb\", ' [[Grissom]] you guys will never get it , will you ?', ' ( GRISSOM continues to look around and notices the open knife drawer . )', ' ( He reaches over and pulls it open . )', ' [[Grissom]] knife drawer', ' [[Grissom]] one missing', \" [[Det._O'Riley]] it 's the only drawer open\", \" [[Det._O'Riley]] the killer knew where they were going\", \" [[Grissom]] i think the suspect 's been in this house before\", ' [[Grissom]] and this is the first place they stopped tonight', ' ( GRISSOM looks down at the floor . )', ' [[Grissom]] good', ' [[Grissom]] linoleum', ' [[Grissom]] the best surface', \" [[Det._O'Riley]] best surface for what ?\"]\n",
      "======================\n",
      "14 [' ( GRISSOM questions the paramedics . )', ' [[EMS_#1]] we did everything by the book , sir', ' [[Grissom]] relax', ' [[Grissom]] i just want to know where you walked in the house and who you touched in there', ' [[EMS_#1]] well , we did use the main entry , and up the stairs', ' [[EMS_#1]] but once we saw the husband , we grabbed the walls', ' [[EMS_#1]] i felt the pulses in each room', ' [[EMS_#1]] once i found they were dead , we booked', ' [[Grissom]] show me the bottom of your shoe', \" ( GRISSOM takes the shoe print and checks it against the EMS 's . )\", ' ( The first one is not a match . )', ' [[Grissom]] now yours', \" ( The second EMS 's shoes match the prints found in the kitchen . )\", ' ( He stands up . )', ' [[Grissom]] you fellows were both in the kitchen', \" [[EMS_#1]] we did n't see any bodies in there so i did n't think twice about walking on the surface\", ' [[Grissom]] all right', ' [[Grissom]] yours are the only clean prints i found', ' [[Grissom]] thanks', ' [[Grissom]] you can go back to work', ' ( The paramedics leave . )', \" ( DET O'RILEY walks up to GRISSOM . )\", \" [[Det._O'Riley]] news bim 's waiting for you\", \" [[Det._O'Riley]] thinks you have an 'interesting look '\", ' ( GRISSOM looks over at the media hanging just outside the crime scene tape . )', ' [[Reporter_1_(woman)]] any truth to the rumor that a cult may have committed these crimes ?', \" [[Grissom]] i do n't know that\", \" [[Reporter_1_(woman)]] but you would n't rule it out ?\", \" [[Grissom]] i do n't rule anything out\", ' ( That small tidbid seemed to satisfy the news media . )', ' ( From behind him , someone calls him . )', ' [[Sheriff_Brian_Mobley]] grissom', ' [[Grissom]] sheriff ?', ' [[Sheriff_Brian_Mobley]] the mayor has already called', ' [[Sheriff_Brian_Mobley]] so what have you got ?', ' [[Grissom]] nothing', \" [[Sheriff_Brian_Mobley]] i 'm not asking you to lay out your whole case\", ' [[Sheriff_Brian_Mobley]] just give me something i can run with', ' [[Sheriff_Brian_Mobley]] i have got to feed the press and defuse the panic', \" [[Grissom]] as soon as i have something , you 'll have something\", \" [[Sheriff_Brian_Mobley]] here 's a thought\", \" [[Sheriff_Brian_Mobley]] why do n't you try being more like ecklie ?\", \" [[Grissom]] i could speak volumes about conrad ecklie , but i have a crime scene to process so ... you 'll have to excuse me\", ' [[Reporter_1_(woman)]] sheriff , can you tell me what went on inside ?', ' ( SHERIFF walks over to the media and talks with them . )', ' [[Sheriff_Brian_Mobley]] let me assure everyone that the situation is well under control', \" [[Sheriff_Brian_Mobley]] we do n't have any suspects at this time , but our forensic crew\", ' ( Still sitting in the front of the police car and temporarily forgotten is BRENDA COLLINS . )', ' ( GRISSOM walks over to SARA . )', ' [[Sara]] you want me inside ?', ' [[Grissom]] i need you to transport the little girl to the police department', ' [[Grissom]] brass is waiting for you', \" [[Sara]] you 're kidding me , right ?\", \" [[Sara]] i 'm a taxi service on the biggest case of the year ?\", ' [[Grissom]] sara', ' [[Grissom]] i need one of us with that little girl', ' ( GRISSOM turns and walks back into the house leaving SARA with her mouth gaping . )']\n",
      "======================\n",
      "18 [' ( CATHERINE reports to GRISSOM . )', ' [[Catherine]] i got the blood samples on the way to the lab', ' [[Grissom]] good', ' [[Grissom]] you buy this cult thing ?', \" [[Catherine]] you mean the blood swirls next to the father 's body in the boys ' room ?\", ' ( CATHERINE shakes her head . )', ' [[Catherine]] i studied pictures of the manson murders', \" [[Catherine]] this is n't butter\", \" [[Catherine]] it 's imitation\", ' ( GRISSOM nods in agreement . )', \" [[Catherine]] what 's your take ?\", ' [[Grissom]] whoever did it killed the mother first', ' [[Grissom]] in her sleep , quick', ' [[Catherine]] explains why the blood is confined to the bed and the floor under it', ' [[Grissom]] husband woke up', ' [[Grissom]] ran to protect his kids', ' ( They start walking out of the bedroom as GRISSOM narrates . )', ' [[Grissom]] the killer nicked him here', ' [[Grissom]] and then finished him off down the hall', ' [[Catherine]] gave his life for the little girl', ' [[Catherine]] there should be more blood', ' [[Grissom]] yeah', \" [[Grissom]] it 's a hole\", ' [[Grissom]] we need to fill it', \" [[Grissom]] if we start from the inside and fan out whoever 's left at the scene\", ' [[Catherine]] the first suspect', ' [[Grissom]] the teen daughter ?', \" [[Catherine]] well , she 'd need help\", ' [[Catherine]] maybe a boyfriend ?', \" [[Grissom]] i wonder if they call him 'buffalo '\"]\n",
      "======================\n",
      "18 [' ( CATHERINE reports to GRISSOM . )', ' [[Catherine]] i got the blood samples on the way to the lab', ' [[Grissom]] good', ' [[Grissom]] you buy this cult thing ?', \" [[Catherine]] you mean the blood swirls next to the father 's body in the boys ' room ?\", ' ( CATHERINE shakes her head . )', ' [[Catherine]] i studied pictures of the manson murders', \" [[Catherine]] this is n't butter\", \" [[Catherine]] it 's imitation\", ' ( GRISSOM nods in agreement . )', \" [[Catherine]] what 's your take ?\", ' [[Grissom]] whoever did it killed the mother first', ' [[Grissom]] in her sleep , quick', ' [[Catherine]] explains why the blood is confined to the bed and the floor under it', ' [[Grissom]] husband woke up', ' [[Grissom]] ran to protect his kids', ' ( They start walking out of the bedroom as GRISSOM narrates . )', ' [[Grissom]] the killer nicked him here', ' [[Grissom]] and then finished him off down the hall', ' [[Catherine]] gave his life for the little girl', ' [[Catherine]] there should be more blood', ' [[Grissom]] yeah', \" [[Grissom]] it 's a hole\", ' [[Grissom]] we need to fill it', \" [[Grissom]] if we start from the inside and fan out whoever 's left at the scene\", ' [[Catherine]] the first suspect', ' [[Grissom]] the teen daughter ?', \" [[Catherine]] well , she 'd need help\", ' [[Catherine]] maybe a boyfriend ?', \" [[Grissom]] i wonder if they call him 'buffalo '\"]\n",
      "======================\n",
      "18 [' ( CATHERINE reports to GRISSOM . )', ' [[Catherine]] i got the blood samples on the way to the lab', ' [[Grissom]] good', ' [[Grissom]] you buy this cult thing ?', \" [[Catherine]] you mean the blood swirls next to the father 's body in the boys ' room ?\", ' ( CATHERINE shakes her head . )', ' [[Catherine]] i studied pictures of the manson murders', \" [[Catherine]] this is n't butter\", \" [[Catherine]] it 's imitation\", ' ( GRISSOM nods in agreement . )', \" [[Catherine]] what 's your take ?\", ' [[Grissom]] whoever did it killed the mother first', ' [[Grissom]] in her sleep , quick', ' [[Catherine]] explains why the blood is confined to the bed and the floor under it', ' [[Grissom]] husband woke up', ' [[Grissom]] ran to protect his kids', ' ( They start walking out of the bedroom as GRISSOM narrates . )', ' [[Grissom]] the killer nicked him here', ' [[Grissom]] and then finished him off down the hall', ' [[Catherine]] gave his life for the little girl', ' [[Catherine]] there should be more blood', ' [[Grissom]] yeah', \" [[Grissom]] it 's a hole\", ' [[Grissom]] we need to fill it', \" [[Grissom]] if we start from the inside and fan out whoever 's left at the scene\", ' [[Catherine]] the first suspect', ' [[Grissom]] the teen daughter ?', \" [[Catherine]] well , she 'd need help\", ' [[Catherine]] maybe a boyfriend ?', \" [[Grissom]] i wonder if they call him 'buffalo '\"]\n",
      "======================\n",
      "18 [' ( CATHERINE reports to GRISSOM . )', ' [[Catherine]] i got the blood samples on the way to the lab', ' [[Grissom]] good', ' [[Grissom]] you buy this cult thing ?', \" [[Catherine]] you mean the blood swirls next to the father 's body in the boys ' room ?\", ' ( CATHERINE shakes her head . )', ' [[Catherine]] i studied pictures of the manson murders', \" [[Catherine]] this is n't butter\", \" [[Catherine]] it 's imitation\", ' ( GRISSOM nods in agreement . )', \" [[Catherine]] what 's your take ?\", ' [[Grissom]] whoever did it killed the mother first', ' [[Grissom]] in her sleep , quick', ' [[Catherine]] explains why the blood is confined to the bed and the floor under it', ' [[Grissom]] husband woke up', ' [[Grissom]] ran to protect his kids', ' ( They start walking out of the bedroom as GRISSOM narrates . )', ' [[Grissom]] the killer nicked him here', ' [[Grissom]] and then finished him off down the hall', ' [[Catherine]] gave his life for the little girl', ' [[Catherine]] there should be more blood', ' [[Grissom]] yeah', \" [[Grissom]] it 's a hole\", ' [[Grissom]] we need to fill it', \" [[Grissom]] if we start from the inside and fan out whoever 's left at the scene\", ' [[Catherine]] the first suspect', ' [[Grissom]] the teen daughter ?', \" [[Catherine]] well , she 'd need help\", ' [[Catherine]] maybe a boyfriend ?', \" [[Grissom]] i wonder if they call him 'buffalo '\"]\n",
      "======================\n",
      "29 [' ( The door opens and SARA walks in to join the meeting . )', ' [[Sara]] hey , heard you have a suspect', ' [[Warrick]] we got about four just on the tire prints alone', \" [[Warrick]] homicide 's grabbing them up\", \" [[Grissom]] let 's talk about what else we have\", \" [[Grissom]] tina collins ' pajama top from the murder scene without a drop of blood on it\", ' ( SARA grabs a plate of food and takes a seat . )', ' [[Sara]] hello', ' [[Sara]] how does she explain that ?', \" [[Catherine]] we 're about to go ask her\", ' [[Catherine]] nick , what did you find out about that stuff that you collected at the back of the house ?', ' [[Nick]] the bidi ?', \" [[Nick]] dna 's still processing but tina said nobody in the family smoked\", ' [[Sara]] so a non-family member was out there', ' [[Grissom]] bidi ?', ' [[Grissom]] bidi ?', ' [[Grissom]] i thought you found a cigarette and a match behind the house', \" [[Nick]] well , it 's just like a cigarette\", ' [[Sara]] kids smoke them', \" [[Sara]] they think there 's less carbon monoxide\", ' [[Grissom]] what did you find out about the psych exam on the little girl ?', ' [[Sara]] the shrink says the kid is in a catatonic state from a trauma', \" [[Sara]] i could 've told you that\", \" [[Sara]] but she did respond to the name 'buffalo '\", ' [[Grissom]] respond how ?', ' [[Sara]] she freaked out', ' ( CATHERINE stares at SARA and takes a deep breath . )', ' [[Grissom]] and ... what are you doing about it now ?', ' ( SARA nods as she looks at GRISSOM . )', ' [[Sara]] going back to the girl', ' ( beat )', ' [[Sara]] i left her in the car', ' ( GRISSOM looks at her . )', \" ( CATHERINE ca n't believe what she 's hearing . )\", ' [[Sara]] the windows are cracked', ' ( GRISSOM stares at SARA , absolutely no expression on his face . )', ' ( SARA breaks out into a smile and stands up . )', ' [[Sara]] give me a little credit', \" [[Sara]] she 's at the hospital\", ' ( WARRICK snickers at the fast one SARA just pulled on GRISSOM and CATHERINE . )', ' ( NICK also smiles appreciatively . )', ' ( GRISSOM turns to look at CATHERINE . )', ' ( CATHERINE stares , then pops a piece of something in her mouth to eat . )']\n",
      "======================\n",
      "34 [\" ( BRASS walks over to GRISSOM 'S office where GRISSOM still has TINA COLLINS sitting inside . )\", \" [[Brass]] the kid 's name is jesse overton\", ' [[Brass]] he time-shares the scooter', \" [[Brass]] he admits to having s*x with your girl , and he 's asking for a lawyer\", \" ( TINA COLLINS starts to react to what she 's hearing . )\", ' ( GRISSOM and CATHERINE both notice her reactions . )', ' [[Brass]] i want to get a warrant and search his house', \" [[Brass]] i 'll keep you posted\", ' ( BRASS leaves the room . )', ' ( TINA looks at GRISSOM . )', ' [[Tina_Collins]] i want to see my sister', \" [[Grissom]] it 's not going to happen , tina\", \" [[Catherine]] it 's a little too late to start coaching her now\", \" [[Tina_Collins]] you do n't understand\", ' [[Tina_Collins]] i need to speak with her', \" [[Grissom]] she wo n't speak\", \" [[Catherine]] the doctor says it 's from trauma\", ' [[Catherine]] what happened , tina ?', ' [[Catherine]] did you catch your boyfriend killing your family ?', ' ( TINA sits back , not responding to the accusation . )', ' ( She glances up at GRISSOM but remains quiet . )']\n",
      "======================\n",
      "34 [\" ( BRASS walks over to GRISSOM 'S office where GRISSOM still has TINA COLLINS sitting inside . )\", \" [[Brass]] the kid 's name is jesse overton\", ' [[Brass]] he time-shares the scooter', \" [[Brass]] he admits to having s*x with your girl , and he 's asking for a lawyer\", \" ( TINA COLLINS starts to react to what she 's hearing . )\", ' ( GRISSOM and CATHERINE both notice her reactions . )', ' [[Brass]] i want to get a warrant and search his house', \" [[Brass]] i 'll keep you posted\", ' ( BRASS leaves the room . )', ' ( TINA looks at GRISSOM . )', ' [[Tina_Collins]] i want to see my sister', \" [[Grissom]] it 's not going to happen , tina\", \" [[Catherine]] it 's a little too late to start coaching her now\", \" [[Tina_Collins]] you do n't understand\", ' [[Tina_Collins]] i need to speak with her', \" [[Grissom]] she wo n't speak\", \" [[Catherine]] the doctor says it 's from trauma\", ' [[Catherine]] what happened , tina ?', ' [[Catherine]] did you catch your boyfriend killing your family ?', ' ( TINA sits back , not responding to the accusation . )', ' ( She glances up at GRISSOM but remains quiet . )']\n",
      "======================\n",
      "43 [' ( In the garage , CATHERINE speaks into a tape recorder as she takes her notes . )', ' ( She looks at a schematic of the crime scene , # XR-0048-096822-003 . )', ' ( As she speaks , the camera follows on the map . )', \" ( It starts with the figure of the father in the hallway in front of BRENDA 'S bedroom door ... )\", ' [[Catherine]] notes on mapping : collins family murder', ' [[Catherine]] case # 00-398', ' [[Catherine]] intruder killed mother', ' ( ... then moves to the photo of the mother in the bedroom , Case # 00-398 , Photo # 17 . )', ' [[Catherine]] father went to protect the little girl', ' [[Catherine]] got nicked by knife', \" ( Camera moves from the boy 's room on the map to the photo , Case # 00-398 , Photo # 47 . )\", \" [[Catherine]] killer subdued him as dad was entering the little girl 's room to\", ' [[Catherine]] ... save her', \" ( Something does n't click . )\", \" ( It does n't match the photos she 's looking at . )\", ' ( She looks at the photo of the blood drops found on floor , Case # 00-398 , Photo # 36 . )', ' ( From this photo , she looks at another photo , # 30 . )', ' ( And another photo , # 18 . )', \" ( CATHERINE does n't like what she 's seeing . )\", ' ( She reaches for the magnifying glass to look again at Photo # 18 . )', ' ( Quick flashback to : Cast in red light , MR COLLINS steps out of the bedroom and is attacked from behind . )', \" ( MR COLLINS falls to the floor in front of BRENDA 'S bedroom door . )\", ' ( JESSE OVERTON stabs MR COLLINS repeatedly . )', ' ( White flash to : JESSE carries the dripping knife down the hallway . )', ' ( End of flashback . )', ' ( Resume to PHOTO # 18 . )', ' [[Catherine]] grissom', ' ( CATHERINE drops the magnifying glass and reaches for her cell phone . )', \" ( There 's a light knock on the door . )\", ' ( CATHERINE looks up . )', ' ( A man carrying a file package walks in )', ' [[Ted_Goggle]] catherine willows ?', \" [[Catherine]] who 's asking ?\", ' [[Ted_Goggle]] ted goggle', \" [[Ted_Goggle]] i 'm with family services\", \" [[Ted_Goggle]] were you working the collins ' case ?\", \" [[Catherine]] you know , your department ca n't seem to get things straight\", \" [[Catherine]] if you 're looking for the little girl , she 's already got a caseworker\", \" [[Ted_Goggle]] actually , i 'm inquiring about your little girl\", ' [[Catherine]] my lindsey ?', ' [[Catherine]] why ?', ' [[Catherine]] what are you talking about ?', ' [[Ted_Goggle]] your husband , eddie , filed a report', ' [[Ted_Goggle]] says you neglected to pick her up after dance class last night', ' [[Ted_Goggle]] that you routinely neglect her for your job', \" [[Catherine]] is this eddie 's idea of a joke ?\", ' [[Catherine]] what , are you in one of his bands ?', ' [[Ted_Goggle]] i already made a field visit to your house', \" [[Ted_Goggle]] here 's the form\", ' ( He hands her the form . )', ' ( She looks at it . )', ' [[Ted_Goggle]] lindsey seems okay but there is going to be an investigation as to whether there was parental neglect', \" [[Ted_Goggle]] you 're on notice\", ' ( He leaves the garage . )']\n",
      "======================\n",
      "45 [\" [[Catherine]] it 's me\", \" [[Catherine]] something 's off on the map\", ' [[Grissom]] off ?', ' [[Grissom]] how ?', ' [[Catherine]] uh', \" [[Catherine]] i 'm looking at dad 's blood in the hall\", ' [[Catherine]] i found an interesting drop', \" [[Catherine]] the droplet tells me that he was n't running to the little girl 's room\", ' [[Grissom]] he was coming out of it ?', ' [[Catherine]] yeah', \" ( Quick flashback to : MR COLLINS coming out of BRENDA 'S bedroom when he 's being attacked . )\", ' [[Catherine]] i filled one of your holes , grissom', ' ( JESSE gets up from over MR COLLINS . )', ' [[Catherine]] the father was killed first -- then the mother', ' ( JESSE carries the dripping knife down the hallway . )', ' [[Catherine]] and the blood that we found in the hallway was from the knife', ' ( End of flashback . )', ' ( Resume to GRISSOM . )', ' ( CATHERINE shuts her phone off and throws it on the table in front of her . )', ' ( She picks up the Family Services form and looks at it . )']\n",
      "======================\n",
      "47 [' ( GRISSOM and BRASS re-interviews TINA COLLINS . )', ' ( Camera opens on the photos on the table in front of TINA . )', ' [[Grissom]] we have forensic evidence that your father sexually abused your sister', ' ( TINA reaches out a hand and touches the photos in front of her . )', ' [[Grissom]] we also know ... that he was in her room the night of the murders', ' [[Tina_Collins]] how can you tell ?', ' [[Grissom]] blood drops', ' [[Grissom]] they fall a certain way depending on the motion of the victim', ' ( TINA takes a deep breath , her eyes glued to the photos on the table . )', \" [[Grissom]] something horrible happened in that house , did n't it , tina ?\", ' [[Grissom]] long before the night of the murders', ' [[Tina_Collins]] that was the last night he was going to touch her', ' [[Grissom]] but why your mother ?', ' [[Grissom]] and why your brothers ?', ' [[Tina_Collins]] because they should have protected me', ' [[Grissom]] you ?', ' [[Tina_Collins]] my father', ' ( Quick flashback to : A YOUNG TINA COLLINS sitting on her bed . )', \" ( She looks up at her mother standing in the doorway to 'TINA 'S ' room . )\", ' ( She leaves and shuts the door . )', ' ( In the mirror , we see her father in the room alone with TINA . )', ' ( White flash to : The buffalo medallion on a chain around his neck . )', ' ( End of flashback . )', ' ( Resume to present . )', ' [[Tina_Collins]] i was young', ' [[Tina_Collins]] i learned to deal', ' [[Tina_Collins]] but when he went for my daughter', ' [[Grissom]] brenda is ... ?', ' [[Grissom]] and who is ... ?', ' [[Tina_Collins]] the father ?', ' [[Tina_Collins]] i was thirteen ... and nobody noticed that my clothes were getting bigger', ' [[Tina_Collins]] nice , huh ?', ' [[Tina_Collins]] brenda may hate me for what i did ... but i protected her', ' [[Tina_Collins]] i did that much']\n",
      "======================\n",
      "47 [' ( GRISSOM and BRASS re-interviews TINA COLLINS . )', ' ( Camera opens on the photos on the table in front of TINA . )', ' [[Grissom]] we have forensic evidence that your father sexually abused your sister', ' ( TINA reaches out a hand and touches the photos in front of her . )', ' [[Grissom]] we also know ... that he was in her room the night of the murders', ' [[Tina_Collins]] how can you tell ?', ' [[Grissom]] blood drops', ' [[Grissom]] they fall a certain way depending on the motion of the victim', ' ( TINA takes a deep breath , her eyes glued to the photos on the table . )', \" [[Grissom]] something horrible happened in that house , did n't it , tina ?\", ' [[Grissom]] long before the night of the murders', ' [[Tina_Collins]] that was the last night he was going to touch her', ' [[Grissom]] but why your mother ?', ' [[Grissom]] and why your brothers ?', ' [[Tina_Collins]] because they should have protected me', ' [[Grissom]] you ?', ' [[Tina_Collins]] my father', ' ( Quick flashback to : A YOUNG TINA COLLINS sitting on her bed . )', \" ( She looks up at her mother standing in the doorway to 'TINA 'S ' room . )\", ' ( She leaves and shuts the door . )', ' ( In the mirror , we see her father in the room alone with TINA . )', ' ( White flash to : The buffalo medallion on a chain around his neck . )', ' ( End of flashback . )', ' ( Resume to present . )', ' [[Tina_Collins]] i was young', ' [[Tina_Collins]] i learned to deal', ' [[Tina_Collins]] but when he went for my daughter', ' [[Grissom]] brenda is ... ?', ' [[Grissom]] and who is ... ?', ' [[Tina_Collins]] the father ?', ' [[Tina_Collins]] i was thirteen ... and nobody noticed that my clothes were getting bigger', ' [[Tina_Collins]] nice , huh ?', ' [[Tina_Collins]] brenda may hate me for what i did ... but i protected her', ' [[Tina_Collins]] i did that much']\n",
      "======================\n",
      "47 [' ( GRISSOM and BRASS re-interviews TINA COLLINS . )', ' ( Camera opens on the photos on the table in front of TINA . )', ' [[Grissom]] we have forensic evidence that your father sexually abused your sister', ' ( TINA reaches out a hand and touches the photos in front of her . )', ' [[Grissom]] we also know ... that he was in her room the night of the murders', ' [[Tina_Collins]] how can you tell ?', ' [[Grissom]] blood drops', ' [[Grissom]] they fall a certain way depending on the motion of the victim', ' ( TINA takes a deep breath , her eyes glued to the photos on the table . )', \" [[Grissom]] something horrible happened in that house , did n't it , tina ?\", ' [[Grissom]] long before the night of the murders', ' [[Tina_Collins]] that was the last night he was going to touch her', ' [[Grissom]] but why your mother ?', ' [[Grissom]] and why your brothers ?', ' [[Tina_Collins]] because they should have protected me', ' [[Grissom]] you ?', ' [[Tina_Collins]] my father', ' ( Quick flashback to : A YOUNG TINA COLLINS sitting on her bed . )', \" ( She looks up at her mother standing in the doorway to 'TINA 'S ' room . )\", ' ( She leaves and shuts the door . )', ' ( In the mirror , we see her father in the room alone with TINA . )', ' ( White flash to : The buffalo medallion on a chain around his neck . )', ' ( End of flashback . )', ' ( Resume to present . )', ' [[Tina_Collins]] i was young', ' [[Tina_Collins]] i learned to deal', ' [[Tina_Collins]] but when he went for my daughter', ' [[Grissom]] brenda is ... ?', ' [[Grissom]] and who is ... ?', ' [[Tina_Collins]] the father ?', ' [[Tina_Collins]] i was thirteen ... and nobody noticed that my clothes were getting bigger', ' [[Tina_Collins]] nice , huh ?', ' [[Tina_Collins]] brenda may hate me for what i did ... but i protected her', ' [[Tina_Collins]] i did that much']\n",
      "======================\n",
      "47 [' ( GRISSOM and BRASS re-interviews TINA COLLINS . )', ' ( Camera opens on the photos on the table in front of TINA . )', ' [[Grissom]] we have forensic evidence that your father sexually abused your sister', ' ( TINA reaches out a hand and touches the photos in front of her . )', ' [[Grissom]] we also know ... that he was in her room the night of the murders', ' [[Tina_Collins]] how can you tell ?', ' [[Grissom]] blood drops', ' [[Grissom]] they fall a certain way depending on the motion of the victim', ' ( TINA takes a deep breath , her eyes glued to the photos on the table . )', \" [[Grissom]] something horrible happened in that house , did n't it , tina ?\", ' [[Grissom]] long before the night of the murders', ' [[Tina_Collins]] that was the last night he was going to touch her', ' [[Grissom]] but why your mother ?', ' [[Grissom]] and why your brothers ?', ' [[Tina_Collins]] because they should have protected me', ' [[Grissom]] you ?', ' [[Tina_Collins]] my father', ' ( Quick flashback to : A YOUNG TINA COLLINS sitting on her bed . )', \" ( She looks up at her mother standing in the doorway to 'TINA 'S ' room . )\", ' ( She leaves and shuts the door . )', ' ( In the mirror , we see her father in the room alone with TINA . )', ' ( White flash to : The buffalo medallion on a chain around his neck . )', ' ( End of flashback . )', ' ( Resume to present . )', ' [[Tina_Collins]] i was young', ' [[Tina_Collins]] i learned to deal', ' [[Tina_Collins]] but when he went for my daughter', ' [[Grissom]] brenda is ... ?', ' [[Grissom]] and who is ... ?', ' [[Tina_Collins]] the father ?', ' [[Tina_Collins]] i was thirteen ... and nobody noticed that my clothes were getting bigger', ' [[Tina_Collins]] nice , huh ?', ' [[Tina_Collins]] brenda may hate me for what i did ... but i protected her', ' [[Tina_Collins]] i did that much']\n",
      "======================\n",
      "10 [' ( GRISSOM walks up to the police car . )', ' [[Grissom]] thanks', ' ( The OFFICER steps aside and GRISSOM kneels down in front of BRENDA COLLINS . )', \" ( BRENDA does n't look at GRISSOM . )\", ' [[Grissom]] hi', ' [[Grissom]] is your name brenda ?', ' ( BRENDA blinks , then looks at GRISSOM . )', \" [[Grissom]] i 'm trying to find out who hurt your family\", ' [[Grissom]] do you think you could help me ?', ' [[Grissom]] did anyone come into your room tonight ?', ' [[Grissom]] through the door ?', ' [[Grissom]] through the window maybe ?', \" ( BRENDA does n't say anything . )\", ' [[Grissom]] okay', ' ( GRISSOM stands up and turns to leave . )', ' ( BRENDA stops him . )', ' [[Brenda_Collins]] the buffalo', ' ( GRISSOM turns around to look at BRENDA . )', ' ( He kneels back down in front of her . )', ' [[Grissom]] the buffalo ?', \" [[Grissom]] who 's the buffalo ?\", \" ( BRENDA does n't respond . )\", \" ( And she does n't look at GRISSOM . )\", ' [[Grissom]] brenda ?', \" ( Sensing he 's not going to get any more from her , he stands up and leaves . )\", ' ( BRENDA watches him go . )']\n",
      "======================\n",
      "14 [' ( GRISSOM questions the paramedics . )', ' [[EMS_#1]] we did everything by the book , sir', ' [[Grissom]] relax', ' [[Grissom]] i just want to know where you walked in the house and who you touched in there', ' [[EMS_#1]] well , we did use the main entry , and up the stairs', ' [[EMS_#1]] but once we saw the husband , we grabbed the walls', ' [[EMS_#1]] i felt the pulses in each room', ' [[EMS_#1]] once i found they were dead , we booked', ' [[Grissom]] show me the bottom of your shoe', \" ( GRISSOM takes the shoe print and checks it against the EMS 's . )\", ' ( The first one is not a match . )', ' [[Grissom]] now yours', \" ( The second EMS 's shoes match the prints found in the kitchen . )\", ' ( He stands up . )', ' [[Grissom]] you fellows were both in the kitchen', \" [[EMS_#1]] we did n't see any bodies in there so i did n't think twice about walking on the surface\", ' [[Grissom]] all right', ' [[Grissom]] yours are the only clean prints i found', ' [[Grissom]] thanks', ' [[Grissom]] you can go back to work', ' ( The paramedics leave . )', \" ( DET O'RILEY walks up to GRISSOM . )\", \" [[Det._O'Riley]] news bim 's waiting for you\", \" [[Det._O'Riley]] thinks you have an 'interesting look '\", ' ( GRISSOM looks over at the media hanging just outside the crime scene tape . )', ' [[Reporter_1_(woman)]] any truth to the rumor that a cult may have committed these crimes ?', \" [[Grissom]] i do n't know that\", \" [[Reporter_1_(woman)]] but you would n't rule it out ?\", \" [[Grissom]] i do n't rule anything out\", ' ( That small tidbid seemed to satisfy the news media . )', ' ( From behind him , someone calls him . )', ' [[Sheriff_Brian_Mobley]] grissom', ' [[Grissom]] sheriff ?', ' [[Sheriff_Brian_Mobley]] the mayor has already called', ' [[Sheriff_Brian_Mobley]] so what have you got ?', ' [[Grissom]] nothing', \" [[Sheriff_Brian_Mobley]] i 'm not asking you to lay out your whole case\", ' [[Sheriff_Brian_Mobley]] just give me something i can run with', ' [[Sheriff_Brian_Mobley]] i have got to feed the press and defuse the panic', \" [[Grissom]] as soon as i have something , you 'll have something\", \" [[Sheriff_Brian_Mobley]] here 's a thought\", \" [[Sheriff_Brian_Mobley]] why do n't you try being more like ecklie ?\", \" [[Grissom]] i could speak volumes about conrad ecklie , but i have a crime scene to process so ... you 'll have to excuse me\", ' [[Reporter_1_(woman)]] sheriff , can you tell me what went on inside ?', ' ( SHERIFF walks over to the media and talks with them . )', ' [[Sheriff_Brian_Mobley]] let me assure everyone that the situation is well under control', \" [[Sheriff_Brian_Mobley]] we do n't have any suspects at this time , but our forensic crew\", ' ( Still sitting in the front of the police car and temporarily forgotten is BRENDA COLLINS . )', ' ( GRISSOM walks over to SARA . )', ' [[Sara]] you want me inside ?', ' [[Grissom]] i need you to transport the little girl to the police department', ' [[Grissom]] brass is waiting for you', \" [[Sara]] you 're kidding me , right ?\", \" [[Sara]] i 'm a taxi service on the biggest case of the year ?\", ' [[Grissom]] sara', ' [[Grissom]] i need one of us with that little girl', ' ( GRISSOM turns and walks back into the house leaving SARA with her mouth gaping . )']\n",
      "======================\n",
      "14 [' ( GRISSOM questions the paramedics . )', ' [[EMS_#1]] we did everything by the book , sir', ' [[Grissom]] relax', ' [[Grissom]] i just want to know where you walked in the house and who you touched in there', ' [[EMS_#1]] well , we did use the main entry , and up the stairs', ' [[EMS_#1]] but once we saw the husband , we grabbed the walls', ' [[EMS_#1]] i felt the pulses in each room', ' [[EMS_#1]] once i found they were dead , we booked', ' [[Grissom]] show me the bottom of your shoe', \" ( GRISSOM takes the shoe print and checks it against the EMS 's . )\", ' ( The first one is not a match . )', ' [[Grissom]] now yours', \" ( The second EMS 's shoes match the prints found in the kitchen . )\", ' ( He stands up . )', ' [[Grissom]] you fellows were both in the kitchen', \" [[EMS_#1]] we did n't see any bodies in there so i did n't think twice about walking on the surface\", ' [[Grissom]] all right', ' [[Grissom]] yours are the only clean prints i found', ' [[Grissom]] thanks', ' [[Grissom]] you can go back to work', ' ( The paramedics leave . )', \" ( DET O'RILEY walks up to GRISSOM . )\", \" [[Det._O'Riley]] news bim 's waiting for you\", \" [[Det._O'Riley]] thinks you have an 'interesting look '\", ' ( GRISSOM looks over at the media hanging just outside the crime scene tape . )', ' [[Reporter_1_(woman)]] any truth to the rumor that a cult may have committed these crimes ?', \" [[Grissom]] i do n't know that\", \" [[Reporter_1_(woman)]] but you would n't rule it out ?\", \" [[Grissom]] i do n't rule anything out\", ' ( That small tidbid seemed to satisfy the news media . )', ' ( From behind him , someone calls him . )', ' [[Sheriff_Brian_Mobley]] grissom', ' [[Grissom]] sheriff ?', ' [[Sheriff_Brian_Mobley]] the mayor has already called', ' [[Sheriff_Brian_Mobley]] so what have you got ?', ' [[Grissom]] nothing', \" [[Sheriff_Brian_Mobley]] i 'm not asking you to lay out your whole case\", ' [[Sheriff_Brian_Mobley]] just give me something i can run with', ' [[Sheriff_Brian_Mobley]] i have got to feed the press and defuse the panic', \" [[Grissom]] as soon as i have something , you 'll have something\", \" [[Sheriff_Brian_Mobley]] here 's a thought\", \" [[Sheriff_Brian_Mobley]] why do n't you try being more like ecklie ?\", \" [[Grissom]] i could speak volumes about conrad ecklie , but i have a crime scene to process so ... you 'll have to excuse me\", ' [[Reporter_1_(woman)]] sheriff , can you tell me what went on inside ?', ' ( SHERIFF walks over to the media and talks with them . )', ' [[Sheriff_Brian_Mobley]] let me assure everyone that the situation is well under control', \" [[Sheriff_Brian_Mobley]] we do n't have any suspects at this time , but our forensic crew\", ' ( Still sitting in the front of the police car and temporarily forgotten is BRENDA COLLINS . )', ' ( GRISSOM walks over to SARA . )', ' [[Sara]] you want me inside ?', ' [[Grissom]] i need you to transport the little girl to the police department', ' [[Grissom]] brass is waiting for you', \" [[Sara]] you 're kidding me , right ?\", \" [[Sara]] i 'm a taxi service on the biggest case of the year ?\", ' [[Grissom]] sara', ' [[Grissom]] i need one of us with that little girl', ' ( GRISSOM turns and walks back into the house leaving SARA with her mouth gaping . )']\n",
      "======================\n",
      "14 [' ( GRISSOM questions the paramedics . )', ' [[EMS_#1]] we did everything by the book , sir', ' [[Grissom]] relax', ' [[Grissom]] i just want to know where you walked in the house and who you touched in there', ' [[EMS_#1]] well , we did use the main entry , and up the stairs', ' [[EMS_#1]] but once we saw the husband , we grabbed the walls', ' [[EMS_#1]] i felt the pulses in each room', ' [[EMS_#1]] once i found they were dead , we booked', ' [[Grissom]] show me the bottom of your shoe', \" ( GRISSOM takes the shoe print and checks it against the EMS 's . )\", ' ( The first one is not a match . )', ' [[Grissom]] now yours', \" ( The second EMS 's shoes match the prints found in the kitchen . )\", ' ( He stands up . )', ' [[Grissom]] you fellows were both in the kitchen', \" [[EMS_#1]] we did n't see any bodies in there so i did n't think twice about walking on the surface\", ' [[Grissom]] all right', ' [[Grissom]] yours are the only clean prints i found', ' [[Grissom]] thanks', ' [[Grissom]] you can go back to work', ' ( The paramedics leave . )', \" ( DET O'RILEY walks up to GRISSOM . )\", \" [[Det._O'Riley]] news bim 's waiting for you\", \" [[Det._O'Riley]] thinks you have an 'interesting look '\", ' ( GRISSOM looks over at the media hanging just outside the crime scene tape . )', ' [[Reporter_1_(woman)]] any truth to the rumor that a cult may have committed these crimes ?', \" [[Grissom]] i do n't know that\", \" [[Reporter_1_(woman)]] but you would n't rule it out ?\", \" [[Grissom]] i do n't rule anything out\", ' ( That small tidbid seemed to satisfy the news media . )', ' ( From behind him , someone calls him . )', ' [[Sheriff_Brian_Mobley]] grissom', ' [[Grissom]] sheriff ?', ' [[Sheriff_Brian_Mobley]] the mayor has already called', ' [[Sheriff_Brian_Mobley]] so what have you got ?', ' [[Grissom]] nothing', \" [[Sheriff_Brian_Mobley]] i 'm not asking you to lay out your whole case\", ' [[Sheriff_Brian_Mobley]] just give me something i can run with', ' [[Sheriff_Brian_Mobley]] i have got to feed the press and defuse the panic', \" [[Grissom]] as soon as i have something , you 'll have something\", \" [[Sheriff_Brian_Mobley]] here 's a thought\", \" [[Sheriff_Brian_Mobley]] why do n't you try being more like ecklie ?\", \" [[Grissom]] i could speak volumes about conrad ecklie , but i have a crime scene to process so ... you 'll have to excuse me\", ' [[Reporter_1_(woman)]] sheriff , can you tell me what went on inside ?', ' ( SHERIFF walks over to the media and talks with them . )', ' [[Sheriff_Brian_Mobley]] let me assure everyone that the situation is well under control', \" [[Sheriff_Brian_Mobley]] we do n't have any suspects at this time , but our forensic crew\", ' ( Still sitting in the front of the police car and temporarily forgotten is BRENDA COLLINS . )', ' ( GRISSOM walks over to SARA . )', ' [[Sara]] you want me inside ?', ' [[Grissom]] i need you to transport the little girl to the police department', ' [[Grissom]] brass is waiting for you', \" [[Sara]] you 're kidding me , right ?\", \" [[Sara]] i 'm a taxi service on the biggest case of the year ?\", ' [[Grissom]] sara', ' [[Grissom]] i need one of us with that little girl', ' ( GRISSOM turns and walks back into the house leaving SARA with her mouth gaping . )']\n",
      "======================\n",
      "16 [' ( Camera opens on small framed photographs on the bedside table . )', ' ( Camera moves over to show the bloodstained bedsheets , the body has already been removed . )', ' ( CATHERINE takes a sample of the blood found on the bed . )', ' ( Cut to : [_EXT_._ENTRYWAY_] NICK steps just outside the entryway and sees a bidi in the bushes . )', ' ( He takes a photograph of it . )', ' ( Cut to : [_EXT_._YARD_] WARRICK takes photographs of the tire prints in the dirt . )', ' ( Cut to : [_INT_._SECOND_FLOOR_HALLWAY_] CATHERINE takes another blood sample from the hallway floor . )', ' ( Cut to : [_EXT_._ENTRYWAY_] NICK picks up the bidi from the bushes and looks at it . )', ' ( He puts it in a bindle . )', ' ( He looks down and finds a used match . )', ' ( He picks that up also . )', \" ( Cut to : [_INT_._SECOND_FLOOR_BOYS_'_BEDROOM_] CATHERINE takes a blood sample from the hand prints on the wall . )\", \" ( She turns around and watches the CORONERS ' remove one of the boys ' bodies . )\"]\n",
      "======================\n",
      "24 [\" ( GRISSOM is in the lab examining TINA 'S clothes . )\", ' ( He turns on the ALS and cuts the top lights off . )', \" ( Off to the side , there 's a thud ... and a curse . )\", ' [[Warrick]] damn !', ' [[Grissom]] that you , warrick ?', ' ( WARRICK walks up to GRISSOM . )', \" [[Warrick]] you need to tell somebody when you 're cutting the lights\", ' [[Grissom]] what , are you working for osha now ?', ' [[Warrick]] grissom , you remember those tire treads', ' [[Warrick]] i found on the front lawn ?', ' [[Grissom]] mm-hmm', \" [[Warrick]] well , i ran them through the fbi register and they belong to a '93 honda scooter\", \" [[Grissom]] that 's good\", \" [[Warrick]] i dmv 'd it\", ' [[Warrick]] a kid four blocks away from the scene owns the same make', \" [[Grissom]] that 's very good\", \" [[Warrick]] i might have just blown open the case and all you give me is a 'that 's very good ' ?\", ' ( GRISSOM looks up at WARRICK , changing the subject completely . )', \" [[Grissom]] if your whole family was murdered , would n't you run to them to check to see if they were still alive ?\", ' [[Warrick]] yeah', ' ( GRISSOM goes back to examining the clothes . )', \" ( He does n't find it and gives up . )\", ' [[Grissom]] this is a lady macbeth', ' [[Warrick]] lady macbeth ?', ' ( GRISSOM turns the lights back on . )', \" [[Grissom]] 'out , out , damn spot ' there 's not a trace of blood on the teen daughter 's clothing\", ' [[Grissom]] not a spot']\n",
      "======================\n",
      "24 [\" ( GRISSOM is in the lab examining TINA 'S clothes . )\", ' ( He turns on the ALS and cuts the top lights off . )', \" ( Off to the side , there 's a thud ... and a curse . )\", ' [[Warrick]] damn !', ' [[Grissom]] that you , warrick ?', ' ( WARRICK walks up to GRISSOM . )', \" [[Warrick]] you need to tell somebody when you 're cutting the lights\", ' [[Grissom]] what , are you working for osha now ?', ' [[Warrick]] grissom , you remember those tire treads', ' [[Warrick]] i found on the front lawn ?', ' [[Grissom]] mm-hmm', \" [[Warrick]] well , i ran them through the fbi register and they belong to a '93 honda scooter\", \" [[Grissom]] that 's good\", \" [[Warrick]] i dmv 'd it\", ' [[Warrick]] a kid four blocks away from the scene owns the same make', \" [[Grissom]] that 's very good\", \" [[Warrick]] i might have just blown open the case and all you give me is a 'that 's very good ' ?\", ' ( GRISSOM looks up at WARRICK , changing the subject completely . )', \" [[Grissom]] if your whole family was murdered , would n't you run to them to check to see if they were still alive ?\", ' [[Warrick]] yeah', ' ( GRISSOM goes back to examining the clothes . )', \" ( He does n't find it and gives up . )\", ' [[Grissom]] this is a lady macbeth', ' [[Warrick]] lady macbeth ?', ' ( GRISSOM turns the lights back on . )', \" [[Grissom]] 'out , out , damn spot ' there 's not a trace of blood on the teen daughter 's clothing\", ' [[Grissom]] not a spot']\n",
      "======================\n",
      "29 [' ( The door opens and SARA walks in to join the meeting . )', ' [[Sara]] hey , heard you have a suspect', ' [[Warrick]] we got about four just on the tire prints alone', \" [[Warrick]] homicide 's grabbing them up\", \" [[Grissom]] let 's talk about what else we have\", \" [[Grissom]] tina collins ' pajama top from the murder scene without a drop of blood on it\", ' ( SARA grabs a plate of food and takes a seat . )', ' [[Sara]] hello', ' [[Sara]] how does she explain that ?', \" [[Catherine]] we 're about to go ask her\", ' [[Catherine]] nick , what did you find out about that stuff that you collected at the back of the house ?', ' [[Nick]] the bidi ?', \" [[Nick]] dna 's still processing but tina said nobody in the family smoked\", ' [[Sara]] so a non-family member was out there', ' [[Grissom]] bidi ?', ' [[Grissom]] bidi ?', ' [[Grissom]] i thought you found a cigarette and a match behind the house', \" [[Nick]] well , it 's just like a cigarette\", ' [[Sara]] kids smoke them', \" [[Sara]] they think there 's less carbon monoxide\", ' [[Grissom]] what did you find out about the psych exam on the little girl ?', ' [[Sara]] the shrink says the kid is in a catatonic state from a trauma', \" [[Sara]] i could 've told you that\", \" [[Sara]] but she did respond to the name 'buffalo '\", ' [[Grissom]] respond how ?', ' [[Sara]] she freaked out', ' ( CATHERINE stares at SARA and takes a deep breath . )', ' [[Grissom]] and ... what are you doing about it now ?', ' ( SARA nods as she looks at GRISSOM . )', ' [[Sara]] going back to the girl', ' ( beat )', ' [[Sara]] i left her in the car', ' ( GRISSOM looks at her . )', \" ( CATHERINE ca n't believe what she 's hearing . )\", ' [[Sara]] the windows are cracked', ' ( GRISSOM stares at SARA , absolutely no expression on his face . )', ' ( SARA breaks out into a smile and stands up . )', ' [[Sara]] give me a little credit', \" [[Sara]] she 's at the hospital\", ' ( WARRICK snickers at the fast one SARA just pulled on GRISSOM and CATHERINE . )', ' ( NICK also smiles appreciatively . )', ' ( GRISSOM turns to look at CATHERINE . )', ' ( CATHERINE stares , then pops a piece of something in her mouth to eat . )']\n",
      "======================\n",
      "29 [' ( The door opens and SARA walks in to join the meeting . )', ' [[Sara]] hey , heard you have a suspect', ' [[Warrick]] we got about four just on the tire prints alone', \" [[Warrick]] homicide 's grabbing them up\", \" [[Grissom]] let 's talk about what else we have\", \" [[Grissom]] tina collins ' pajama top from the murder scene without a drop of blood on it\", ' ( SARA grabs a plate of food and takes a seat . )', ' [[Sara]] hello', ' [[Sara]] how does she explain that ?', \" [[Catherine]] we 're about to go ask her\", ' [[Catherine]] nick , what did you find out about that stuff that you collected at the back of the house ?', ' [[Nick]] the bidi ?', \" [[Nick]] dna 's still processing but tina said nobody in the family smoked\", ' [[Sara]] so a non-family member was out there', ' [[Grissom]] bidi ?', ' [[Grissom]] bidi ?', ' [[Grissom]] i thought you found a cigarette and a match behind the house', \" [[Nick]] well , it 's just like a cigarette\", ' [[Sara]] kids smoke them', \" [[Sara]] they think there 's less carbon monoxide\", ' [[Grissom]] what did you find out about the psych exam on the little girl ?', ' [[Sara]] the shrink says the kid is in a catatonic state from a trauma', \" [[Sara]] i could 've told you that\", \" [[Sara]] but she did respond to the name 'buffalo '\", ' [[Grissom]] respond how ?', ' [[Sara]] she freaked out', ' ( CATHERINE stares at SARA and takes a deep breath . )', ' [[Grissom]] and ... what are you doing about it now ?', ' ( SARA nods as she looks at GRISSOM . )', ' [[Sara]] going back to the girl', ' ( beat )', ' [[Sara]] i left her in the car', ' ( GRISSOM looks at her . )', \" ( CATHERINE ca n't believe what she 's hearing . )\", ' [[Sara]] the windows are cracked', ' ( GRISSOM stares at SARA , absolutely no expression on his face . )', ' ( SARA breaks out into a smile and stands up . )', ' [[Sara]] give me a little credit', \" [[Sara]] she 's at the hospital\", ' ( WARRICK snickers at the fast one SARA just pulled on GRISSOM and CATHERINE . )', ' ( NICK also smiles appreciatively . )', ' ( GRISSOM turns to look at CATHERINE . )', ' ( CATHERINE stares , then pops a piece of something in her mouth to eat . )']\n",
      "======================\n",
      "29 [' ( The door opens and SARA walks in to join the meeting . )', ' [[Sara]] hey , heard you have a suspect', ' [[Warrick]] we got about four just on the tire prints alone', \" [[Warrick]] homicide 's grabbing them up\", \" [[Grissom]] let 's talk about what else we have\", \" [[Grissom]] tina collins ' pajama top from the murder scene without a drop of blood on it\", ' ( SARA grabs a plate of food and takes a seat . )', ' [[Sara]] hello', ' [[Sara]] how does she explain that ?', \" [[Catherine]] we 're about to go ask her\", ' [[Catherine]] nick , what did you find out about that stuff that you collected at the back of the house ?', ' [[Nick]] the bidi ?', \" [[Nick]] dna 's still processing but tina said nobody in the family smoked\", ' [[Sara]] so a non-family member was out there', ' [[Grissom]] bidi ?', ' [[Grissom]] bidi ?', ' [[Grissom]] i thought you found a cigarette and a match behind the house', \" [[Nick]] well , it 's just like a cigarette\", ' [[Sara]] kids smoke them', \" [[Sara]] they think there 's less carbon monoxide\", ' [[Grissom]] what did you find out about the psych exam on the little girl ?', ' [[Sara]] the shrink says the kid is in a catatonic state from a trauma', \" [[Sara]] i could 've told you that\", \" [[Sara]] but she did respond to the name 'buffalo '\", ' [[Grissom]] respond how ?', ' [[Sara]] she freaked out', ' ( CATHERINE stares at SARA and takes a deep breath . )', ' [[Grissom]] and ... what are you doing about it now ?', ' ( SARA nods as she looks at GRISSOM . )', ' [[Sara]] going back to the girl', ' ( beat )', ' [[Sara]] i left her in the car', ' ( GRISSOM looks at her . )', \" ( CATHERINE ca n't believe what she 's hearing . )\", ' [[Sara]] the windows are cracked', ' ( GRISSOM stares at SARA , absolutely no expression on his face . )', ' ( SARA breaks out into a smile and stands up . )', ' [[Sara]] give me a little credit', \" [[Sara]] she 's at the hospital\", ' ( WARRICK snickers at the fast one SARA just pulled on GRISSOM and CATHERINE . )', ' ( NICK also smiles appreciatively . )', ' ( GRISSOM turns to look at CATHERINE . )', ' ( CATHERINE stares , then pops a piece of something in her mouth to eat . )']\n",
      "======================\n",
      "29 [' ( The door opens and SARA walks in to join the meeting . )', ' [[Sara]] hey , heard you have a suspect', ' [[Warrick]] we got about four just on the tire prints alone', \" [[Warrick]] homicide 's grabbing them up\", \" [[Grissom]] let 's talk about what else we have\", \" [[Grissom]] tina collins ' pajama top from the murder scene without a drop of blood on it\", ' ( SARA grabs a plate of food and takes a seat . )', ' [[Sara]] hello', ' [[Sara]] how does she explain that ?', \" [[Catherine]] we 're about to go ask her\", ' [[Catherine]] nick , what did you find out about that stuff that you collected at the back of the house ?', ' [[Nick]] the bidi ?', \" [[Nick]] dna 's still processing but tina said nobody in the family smoked\", ' [[Sara]] so a non-family member was out there', ' [[Grissom]] bidi ?', ' [[Grissom]] bidi ?', ' [[Grissom]] i thought you found a cigarette and a match behind the house', \" [[Nick]] well , it 's just like a cigarette\", ' [[Sara]] kids smoke them', \" [[Sara]] they think there 's less carbon monoxide\", ' [[Grissom]] what did you find out about the psych exam on the little girl ?', ' [[Sara]] the shrink says the kid is in a catatonic state from a trauma', \" [[Sara]] i could 've told you that\", \" [[Sara]] but she did respond to the name 'buffalo '\", ' [[Grissom]] respond how ?', ' [[Sara]] she freaked out', ' ( CATHERINE stares at SARA and takes a deep breath . )', ' [[Grissom]] and ... what are you doing about it now ?', ' ( SARA nods as she looks at GRISSOM . )', ' [[Sara]] going back to the girl', ' ( beat )', ' [[Sara]] i left her in the car', ' ( GRISSOM looks at her . )', \" ( CATHERINE ca n't believe what she 's hearing . )\", ' [[Sara]] the windows are cracked', ' ( GRISSOM stares at SARA , absolutely no expression on his face . )', ' ( SARA breaks out into a smile and stands up . )', ' [[Sara]] give me a little credit', \" [[Sara]] she 's at the hospital\", ' ( WARRICK snickers at the fast one SARA just pulled on GRISSOM and CATHERINE . )', ' ( NICK also smiles appreciatively . )', ' ( GRISSOM turns to look at CATHERINE . )', ' ( CATHERINE stares , then pops a piece of something in her mouth to eat . )']\n",
      "======================\n",
      "29 [' ( The door opens and SARA walks in to join the meeting . )', ' [[Sara]] hey , heard you have a suspect', ' [[Warrick]] we got about four just on the tire prints alone', \" [[Warrick]] homicide 's grabbing them up\", \" [[Grissom]] let 's talk about what else we have\", \" [[Grissom]] tina collins ' pajama top from the murder scene without a drop of blood on it\", ' ( SARA grabs a plate of food and takes a seat . )', ' [[Sara]] hello', ' [[Sara]] how does she explain that ?', \" [[Catherine]] we 're about to go ask her\", ' [[Catherine]] nick , what did you find out about that stuff that you collected at the back of the house ?', ' [[Nick]] the bidi ?', \" [[Nick]] dna 's still processing but tina said nobody in the family smoked\", ' [[Sara]] so a non-family member was out there', ' [[Grissom]] bidi ?', ' [[Grissom]] bidi ?', ' [[Grissom]] i thought you found a cigarette and a match behind the house', \" [[Nick]] well , it 's just like a cigarette\", ' [[Sara]] kids smoke them', \" [[Sara]] they think there 's less carbon monoxide\", ' [[Grissom]] what did you find out about the psych exam on the little girl ?', ' [[Sara]] the shrink says the kid is in a catatonic state from a trauma', \" [[Sara]] i could 've told you that\", \" [[Sara]] but she did respond to the name 'buffalo '\", ' [[Grissom]] respond how ?', ' [[Sara]] she freaked out', ' ( CATHERINE stares at SARA and takes a deep breath . )', ' [[Grissom]] and ... what are you doing about it now ?', ' ( SARA nods as she looks at GRISSOM . )', ' [[Sara]] going back to the girl', ' ( beat )', ' [[Sara]] i left her in the car', ' ( GRISSOM looks at her . )', \" ( CATHERINE ca n't believe what she 's hearing . )\", ' [[Sara]] the windows are cracked', ' ( GRISSOM stares at SARA , absolutely no expression on his face . )', ' ( SARA breaks out into a smile and stands up . )', ' [[Sara]] give me a little credit', \" [[Sara]] she 's at the hospital\", ' ( WARRICK snickers at the fast one SARA just pulled on GRISSOM and CATHERINE . )', ' ( NICK also smiles appreciatively . )', ' ( GRISSOM turns to look at CATHERINE . )', ' ( CATHERINE stares , then pops a piece of something in her mouth to eat . )']\n",
      "======================\n",
      "33 [' [[Jesse_Overton]] we had s*x', ' [[Jesse_Overton]] so what ?', ' [[Jesse_Overton]] i want a lawyer', ' [[Brass]] you want a lawyer ?', \" [[Brass]] okay , we 'll get you a lawyer\", ' [[Brass]] investigator stokes will stay with you just in case you remember where you left that scooter', ' ( BRASS glances at NICK , then leaves the room . )', ' ( JESSE OVERTON nervously sits there for a moment , then reaches into his shirt pocket for a bidi . )', \" [[Nick]] there 's no smoking in here\", \" [[Jesse_Overton]] sharon stone -- 'basic instinct ' , dude\", \" [[Nick]] and i 'm not your dude\", \" [[Nick]] this ai n't a movie and sharon stone 's fine\", \" [[Nick]] let 's go\", ' ( JESSE OVERTON tosses the pack at NICK . )', ' ( NICK takes it and looks at the box . )', ' [[Nick]] matches ?', ' ( He tosses the matches to NICK . )', \" ( NICK opens the unmarked match pack and looks inside where there 's noticeably two matches ripped out from the pack . )\"]\n",
      "======================\n"
     ]
    }
   ],
   "source": [
    "for v, i, j in best_matches_count[:40]:\n",
    "    print(i, df['content'].iloc[i])\n",
    "    print(\"======================\")\n",
    "    #print(summaries_raw[j])\n",
    "    #print(\"======================\")\n",
    "    #print(v)\n",
    "    #print(\"======================\")\n",
    "    #print(list(w for w in set(summaries[j].split()) if w in corpus[i].split()))"
   ]
  },
  {
   "cell_type": "code",
   "execution_count": 237,
   "metadata": {},
   "outputs": [],
   "source": [
    "# similarity_matrix_tfidf = similarity_matrix"
   ]
  },
  {
   "cell_type": "code",
   "execution_count": 74,
   "metadata": {},
   "outputs": [
    {
     "data": {
      "application/vnd.jupyter.widget-view+json": {
       "model_id": "6d2b25c38c4c42c4af9cc2288c488d8b",
       "version_major": 2,
       "version_minor": 0
      },
      "text/plain": [
       "HBox(children=(FloatProgress(value=0.0, max=51.0), HTML(value='')))"
      ]
     },
     "metadata": {},
     "output_type": "display_data"
    },
    {
     "name": "stdout",
     "output_type": "stream",
     "text": [
      "\n",
      "CPU times: user 158 ms, sys: 248 µs, total: 158 ms\n",
      "Wall time: 154 ms\n"
     ]
    }
   ],
   "source": [
    "%%time\n",
    "similarity_matrix_tfidf = np.zeros((len(df), len(summaries)))\n",
    "for i, content in tqdm(enumerate(corpus), total=len(corpus)):\n",
    "    for j, s in enumerate(summaries):\n",
    "        similarity_matrix_tfidf[i, j] = compute_similarity(content, s, method=('tfidf_log_2', tfidf_weights))"
   ]
  },
  {
   "cell_type": "code",
   "execution_count": 75,
   "metadata": {},
   "outputs": [
    {
     "data": {
      "text/plain": [
       "5.073879393072383"
      ]
     },
     "execution_count": 75,
     "metadata": {},
     "output_type": "execute_result"
    }
   ],
   "source": [
    "np.max(similarity_matrix_tfidf)"
   ]
  },
  {
   "cell_type": "code",
   "execution_count": 76,
   "metadata": {},
   "outputs": [
    {
     "data": {
      "text/plain": [
       "(51, 41)"
      ]
     },
     "execution_count": 76,
     "metadata": {},
     "output_type": "execute_result"
    }
   ],
   "source": [
    "similarity_matrix_tfidf.shape"
   ]
  },
  {
   "cell_type": "code",
   "execution_count": 77,
   "metadata": {},
   "outputs": [],
   "source": [
    "unrolled_sm = [(similarity_matrix_tfidf[i, j], i, j) for i in range(len(corpus)) for j in range(len(summaries))]\n",
    "best_matches = sorted(unrolled_sm, key=lambda x: -x[0])"
   ]
  },
  {
   "cell_type": "code",
   "execution_count": 78,
   "metadata": {},
   "outputs": [
    {
     "data": {
      "text/plain": [
       "[(5.073879393072383, 18, 11),\n",
       " (4.478210112207396, 30, 20),\n",
       " (4.4170448331849865, 34, 25),\n",
       " (4.086215946851232, 43, 38),\n",
       " (4.007664596229994, 43, 22),\n",
       " (3.752180905484431, 43, 37),\n",
       " (3.674869350872889, 18, 36),\n",
       " (3.6345832008706274, 43, 8),\n",
       " (3.419196111273055, 45, 37),\n",
       " (3.2263587192807943, 36, 27)]"
      ]
     },
     "execution_count": 78,
     "metadata": {},
     "output_type": "execute_result"
    }
   ],
   "source": [
    "best_matches[:10]"
   ]
  },
  {
   "cell_type": "code",
   "execution_count": 375,
   "metadata": {
    "scrolled": false
   },
   "outputs": [
    {
     "ename": "KeyError",
     "evalue": "'content'",
     "output_type": "error",
     "traceback": [
      "\u001b[0;31m---------------------------------------------------------------------------\u001b[0m",
      "\u001b[0;31mKeyError\u001b[0m                                  Traceback (most recent call last)",
      "\u001b[0;32m~/.local/lib/python3.6/site-packages/pandas/core/indexes/base.py\u001b[0m in \u001b[0;36mget_loc\u001b[0;34m(self, key, method, tolerance)\u001b[0m\n\u001b[1;32m   2645\u001b[0m             \u001b[0;32mtry\u001b[0m\u001b[0;34m:\u001b[0m\u001b[0;34m\u001b[0m\u001b[0;34m\u001b[0m\u001b[0m\n\u001b[0;32m-> 2646\u001b[0;31m                 \u001b[0;32mreturn\u001b[0m \u001b[0mself\u001b[0m\u001b[0;34m.\u001b[0m\u001b[0m_engine\u001b[0m\u001b[0;34m.\u001b[0m\u001b[0mget_loc\u001b[0m\u001b[0;34m(\u001b[0m\u001b[0mkey\u001b[0m\u001b[0;34m)\u001b[0m\u001b[0;34m\u001b[0m\u001b[0;34m\u001b[0m\u001b[0m\n\u001b[0m\u001b[1;32m   2647\u001b[0m             \u001b[0;32mexcept\u001b[0m \u001b[0mKeyError\u001b[0m\u001b[0;34m:\u001b[0m\u001b[0;34m\u001b[0m\u001b[0;34m\u001b[0m\u001b[0m\n",
      "\u001b[0;32mpandas/_libs/index.pyx\u001b[0m in \u001b[0;36mpandas._libs.index.IndexEngine.get_loc\u001b[0;34m()\u001b[0m\n",
      "\u001b[0;32mpandas/_libs/index.pyx\u001b[0m in \u001b[0;36mpandas._libs.index.IndexEngine.get_loc\u001b[0;34m()\u001b[0m\n",
      "\u001b[0;32mpandas/_libs/hashtable_class_helper.pxi\u001b[0m in \u001b[0;36mpandas._libs.hashtable.PyObjectHashTable.get_item\u001b[0;34m()\u001b[0m\n",
      "\u001b[0;32mpandas/_libs/hashtable_class_helper.pxi\u001b[0m in \u001b[0;36mpandas._libs.hashtable.PyObjectHashTable.get_item\u001b[0;34m()\u001b[0m\n",
      "\u001b[0;31mKeyError\u001b[0m: 'content'",
      "\nDuring handling of the above exception, another exception occurred:\n",
      "\u001b[0;31mKeyError\u001b[0m                                  Traceback (most recent call last)",
      "\u001b[0;32m<ipython-input-375-b54a9127287b>\u001b[0m in \u001b[0;36m<module>\u001b[0;34m\u001b[0m\n\u001b[1;32m      1\u001b[0m \u001b[0;32mfor\u001b[0m \u001b[0mv\u001b[0m\u001b[0;34m,\u001b[0m \u001b[0mi\u001b[0m\u001b[0;34m,\u001b[0m \u001b[0mj\u001b[0m \u001b[0;32min\u001b[0m \u001b[0mbest_matches\u001b[0m\u001b[0;34m[\u001b[0m\u001b[0;34m:\u001b[0m\u001b[0;36m2\u001b[0m\u001b[0;34m]\u001b[0m\u001b[0;34m:\u001b[0m\u001b[0;34m\u001b[0m\u001b[0;34m\u001b[0m\u001b[0m\n\u001b[0;32m----> 2\u001b[0;31m     \u001b[0mprint\u001b[0m\u001b[0;34m(\u001b[0m\u001b[0mi\u001b[0m\u001b[0;34m,\u001b[0m \u001b[0mdf\u001b[0m\u001b[0;34m[\u001b[0m\u001b[0;34m'content'\u001b[0m\u001b[0;34m]\u001b[0m\u001b[0;34m.\u001b[0m\u001b[0miloc\u001b[0m\u001b[0;34m[\u001b[0m\u001b[0mi\u001b[0m\u001b[0;34m]\u001b[0m\u001b[0;34m)\u001b[0m\u001b[0;34m\u001b[0m\u001b[0;34m\u001b[0m\u001b[0m\n\u001b[0m\u001b[1;32m      3\u001b[0m     \u001b[0mprint\u001b[0m\u001b[0;34m(\u001b[0m\u001b[0;34m\"======================\"\u001b[0m\u001b[0;34m)\u001b[0m\u001b[0;34m\u001b[0m\u001b[0;34m\u001b[0m\u001b[0m\n\u001b[1;32m      4\u001b[0m     \u001b[0;31m#print(j, summaries_raw[j])\u001b[0m\u001b[0;34m\u001b[0m\u001b[0;34m\u001b[0m\u001b[0;34m\u001b[0m\u001b[0m\n\u001b[1;32m      5\u001b[0m     \u001b[0mprint\u001b[0m\u001b[0;34m(\u001b[0m\u001b[0;34m\"======================\"\u001b[0m\u001b[0;34m)\u001b[0m\u001b[0;34m\u001b[0m\u001b[0;34m\u001b[0m\u001b[0m\n",
      "\u001b[0;32m~/.local/lib/python3.6/site-packages/pandas/core/frame.py\u001b[0m in \u001b[0;36m__getitem__\u001b[0;34m(self, key)\u001b[0m\n\u001b[1;32m   2798\u001b[0m             \u001b[0;32mif\u001b[0m \u001b[0mself\u001b[0m\u001b[0;34m.\u001b[0m\u001b[0mcolumns\u001b[0m\u001b[0;34m.\u001b[0m\u001b[0mnlevels\u001b[0m \u001b[0;34m>\u001b[0m \u001b[0;36m1\u001b[0m\u001b[0;34m:\u001b[0m\u001b[0;34m\u001b[0m\u001b[0;34m\u001b[0m\u001b[0m\n\u001b[1;32m   2799\u001b[0m                 \u001b[0;32mreturn\u001b[0m \u001b[0mself\u001b[0m\u001b[0;34m.\u001b[0m\u001b[0m_getitem_multilevel\u001b[0m\u001b[0;34m(\u001b[0m\u001b[0mkey\u001b[0m\u001b[0;34m)\u001b[0m\u001b[0;34m\u001b[0m\u001b[0;34m\u001b[0m\u001b[0m\n\u001b[0;32m-> 2800\u001b[0;31m             \u001b[0mindexer\u001b[0m \u001b[0;34m=\u001b[0m \u001b[0mself\u001b[0m\u001b[0;34m.\u001b[0m\u001b[0mcolumns\u001b[0m\u001b[0;34m.\u001b[0m\u001b[0mget_loc\u001b[0m\u001b[0;34m(\u001b[0m\u001b[0mkey\u001b[0m\u001b[0;34m)\u001b[0m\u001b[0;34m\u001b[0m\u001b[0;34m\u001b[0m\u001b[0m\n\u001b[0m\u001b[1;32m   2801\u001b[0m             \u001b[0;32mif\u001b[0m \u001b[0mis_integer\u001b[0m\u001b[0;34m(\u001b[0m\u001b[0mindexer\u001b[0m\u001b[0;34m)\u001b[0m\u001b[0;34m:\u001b[0m\u001b[0;34m\u001b[0m\u001b[0;34m\u001b[0m\u001b[0m\n\u001b[1;32m   2802\u001b[0m                 \u001b[0mindexer\u001b[0m \u001b[0;34m=\u001b[0m \u001b[0;34m[\u001b[0m\u001b[0mindexer\u001b[0m\u001b[0;34m]\u001b[0m\u001b[0;34m\u001b[0m\u001b[0;34m\u001b[0m\u001b[0m\n",
      "\u001b[0;32m~/.local/lib/python3.6/site-packages/pandas/core/indexes/base.py\u001b[0m in \u001b[0;36mget_loc\u001b[0;34m(self, key, method, tolerance)\u001b[0m\n\u001b[1;32m   2646\u001b[0m                 \u001b[0;32mreturn\u001b[0m \u001b[0mself\u001b[0m\u001b[0;34m.\u001b[0m\u001b[0m_engine\u001b[0m\u001b[0;34m.\u001b[0m\u001b[0mget_loc\u001b[0m\u001b[0;34m(\u001b[0m\u001b[0mkey\u001b[0m\u001b[0;34m)\u001b[0m\u001b[0;34m\u001b[0m\u001b[0;34m\u001b[0m\u001b[0m\n\u001b[1;32m   2647\u001b[0m             \u001b[0;32mexcept\u001b[0m \u001b[0mKeyError\u001b[0m\u001b[0;34m:\u001b[0m\u001b[0;34m\u001b[0m\u001b[0;34m\u001b[0m\u001b[0m\n\u001b[0;32m-> 2648\u001b[0;31m                 \u001b[0;32mreturn\u001b[0m \u001b[0mself\u001b[0m\u001b[0;34m.\u001b[0m\u001b[0m_engine\u001b[0m\u001b[0;34m.\u001b[0m\u001b[0mget_loc\u001b[0m\u001b[0;34m(\u001b[0m\u001b[0mself\u001b[0m\u001b[0;34m.\u001b[0m\u001b[0m_maybe_cast_indexer\u001b[0m\u001b[0;34m(\u001b[0m\u001b[0mkey\u001b[0m\u001b[0;34m)\u001b[0m\u001b[0;34m)\u001b[0m\u001b[0;34m\u001b[0m\u001b[0;34m\u001b[0m\u001b[0m\n\u001b[0m\u001b[1;32m   2649\u001b[0m         \u001b[0mindexer\u001b[0m \u001b[0;34m=\u001b[0m \u001b[0mself\u001b[0m\u001b[0;34m.\u001b[0m\u001b[0mget_indexer\u001b[0m\u001b[0;34m(\u001b[0m\u001b[0;34m[\u001b[0m\u001b[0mkey\u001b[0m\u001b[0;34m]\u001b[0m\u001b[0;34m,\u001b[0m \u001b[0mmethod\u001b[0m\u001b[0;34m=\u001b[0m\u001b[0mmethod\u001b[0m\u001b[0;34m,\u001b[0m \u001b[0mtolerance\u001b[0m\u001b[0;34m=\u001b[0m\u001b[0mtolerance\u001b[0m\u001b[0;34m)\u001b[0m\u001b[0;34m\u001b[0m\u001b[0;34m\u001b[0m\u001b[0m\n\u001b[1;32m   2650\u001b[0m         \u001b[0;32mif\u001b[0m \u001b[0mindexer\u001b[0m\u001b[0;34m.\u001b[0m\u001b[0mndim\u001b[0m \u001b[0;34m>\u001b[0m \u001b[0;36m1\u001b[0m \u001b[0;32mor\u001b[0m \u001b[0mindexer\u001b[0m\u001b[0;34m.\u001b[0m\u001b[0msize\u001b[0m \u001b[0;34m>\u001b[0m \u001b[0;36m1\u001b[0m\u001b[0;34m:\u001b[0m\u001b[0;34m\u001b[0m\u001b[0;34m\u001b[0m\u001b[0m\n",
      "\u001b[0;32mpandas/_libs/index.pyx\u001b[0m in \u001b[0;36mpandas._libs.index.IndexEngine.get_loc\u001b[0;34m()\u001b[0m\n",
      "\u001b[0;32mpandas/_libs/index.pyx\u001b[0m in \u001b[0;36mpandas._libs.index.IndexEngine.get_loc\u001b[0;34m()\u001b[0m\n",
      "\u001b[0;32mpandas/_libs/hashtable_class_helper.pxi\u001b[0m in \u001b[0;36mpandas._libs.hashtable.PyObjectHashTable.get_item\u001b[0;34m()\u001b[0m\n",
      "\u001b[0;32mpandas/_libs/hashtable_class_helper.pxi\u001b[0m in \u001b[0;36mpandas._libs.hashtable.PyObjectHashTable.get_item\u001b[0;34m()\u001b[0m\n",
      "\u001b[0;31mKeyError\u001b[0m: 'content'"
     ]
    }
   ],
   "source": [
    "for v, i, j in best_matches[:2]:\n",
    "    print(i, df['content'].iloc[i])\n",
    "    print(\"======================\")\n",
    "    #print(j, summaries_raw[j])\n",
    "    print(\"======================\")\n",
    "    print()"
   ]
  },
  {
   "cell_type": "markdown",
   "metadata": {},
   "source": [
    "# Making the cut"
   ]
  },
  {
   "cell_type": "code",
   "execution_count": 107,
   "metadata": {},
   "outputs": [
    {
     "data": {
      "text/plain": [
       "[(5.073879393072383, 18, 11),\n",
       " (4.478210112207396, 30, 20),\n",
       " (4.4170448331849865, 34, 25),\n",
       " (4.086215946851232, 43, 38),\n",
       " (4.007664596229994, 43, 22),\n",
       " (3.752180905484431, 43, 37),\n",
       " (3.674869350872889, 18, 36),\n",
       " (3.6345832008706274, 43, 8),\n",
       " (3.419196111273055, 45, 37),\n",
       " (3.2263587192807943, 36, 27),\n",
       " (3.210115640509777, 16, 17),\n",
       " (3.143633682177115, 20, 12),\n",
       " (3.0970852254979633, 45, 38),\n",
       " (3.0310356319625127, 47, 36)]"
      ]
     },
     "execution_count": 107,
     "metadata": {},
     "output_type": "execute_result"
    }
   ],
   "source": [
    "best_matches[:14]"
   ]
  },
  {
   "cell_type": "code",
   "execution_count": 108,
   "metadata": {},
   "outputs": [],
   "source": []
  },
  {
   "cell_type": "code",
   "execution_count": 123,
   "metadata": {},
   "outputs": [
    {
     "data": {
      "text/plain": [
       "[18, 30, 34, 43, 45, 36, 16, 20, 47, 12, 14, 17, 15, 33]"
      ]
     },
     "execution_count": 123,
     "metadata": {},
     "output_type": "execute_result"
    }
   ],
   "source": []
  },
  {
   "cell_type": "code",
   "execution_count": 128,
   "metadata": {},
   "outputs": [
    {
     "data": {
      "text/html": [
       "<div>\n",
       "<style scoped>\n",
       "    .dataframe tbody tr th:only-of-type {\n",
       "        vertical-align: middle;\n",
       "    }\n",
       "\n",
       "    .dataframe tbody tr th {\n",
       "        vertical-align: top;\n",
       "    }\n",
       "\n",
       "    .dataframe thead th {\n",
       "        text-align: right;\n",
       "    }\n",
       "</style>\n",
       "<table border=\"1\" class=\"dataframe\">\n",
       "  <thead>\n",
       "    <tr style=\"text-align: right;\">\n",
       "      <th></th>\n",
       "      <th>scene_id</th>\n",
       "      <th>scene_text</th>\n",
       "      <th>in_summary</th>\n",
       "      <th>aspects</th>\n",
       "      <th>prediction</th>\n",
       "    </tr>\n",
       "  </thead>\n",
       "  <tbody>\n",
       "    <tr>\n",
       "      <th>0</th>\n",
       "      <td>0</td>\n",
       "      <td>[\" ( Camera opens on the front of the Collins ...</td>\n",
       "      <td>1</td>\n",
       "      <td>Perpetrator</td>\n",
       "      <td>0</td>\n",
       "    </tr>\n",
       "    <tr>\n",
       "      <th>1</th>\n",
       "      <td>1</td>\n",
       "      <td>[' ( Emergency vehicles and Officer cars surro...</td>\n",
       "      <td>0</td>\n",
       "      <td>None</td>\n",
       "      <td>0</td>\n",
       "    </tr>\n",
       "    <tr>\n",
       "      <th>2</th>\n",
       "      <td>2</td>\n",
       "      <td>[' ( GRISSOM and SHIBLEY walk toward the open ...</td>\n",
       "      <td>0</td>\n",
       "      <td>None</td>\n",
       "      <td>0</td>\n",
       "    </tr>\n",
       "    <tr>\n",
       "      <th>3</th>\n",
       "      <td>3</td>\n",
       "      <td>[' ( GRISSOM and SHIBELY walk inside . )', ' (...</td>\n",
       "      <td>1</td>\n",
       "      <td>Crime scene</td>\n",
       "      <td>0</td>\n",
       "    </tr>\n",
       "    <tr>\n",
       "      <th>4</th>\n",
       "      <td>4</td>\n",
       "      <td>[' ( The first thing they see down the hallway...</td>\n",
       "      <td>1</td>\n",
       "      <td>Victim,Death cause</td>\n",
       "      <td>0</td>\n",
       "    </tr>\n",
       "    <tr>\n",
       "      <th>5</th>\n",
       "      <td>5</td>\n",
       "      <td>[' ( GRISSOM and SARA walk into the Master Bed...</td>\n",
       "      <td>1</td>\n",
       "      <td>Victim,Death cause</td>\n",
       "      <td>0</td>\n",
       "    </tr>\n",
       "    <tr>\n",
       "      <th>6</th>\n",
       "      <td>6</td>\n",
       "      <td>[' ( SARA takes a picture of the dead woman . ...</td>\n",
       "      <td>1</td>\n",
       "      <td>Victim</td>\n",
       "      <td>0</td>\n",
       "    </tr>\n",
       "    <tr>\n",
       "      <th>7</th>\n",
       "      <td>7</td>\n",
       "      <td>[' ( GRISSOM walks out of the house . )', \" ( ...</td>\n",
       "      <td>0</td>\n",
       "      <td>None</td>\n",
       "      <td>0</td>\n",
       "    </tr>\n",
       "    <tr>\n",
       "      <th>8</th>\n",
       "      <td>8</td>\n",
       "      <td>[' ( A reporter standing outside the house giv...</td>\n",
       "      <td>0</td>\n",
       "      <td>None</td>\n",
       "      <td>0</td>\n",
       "    </tr>\n",
       "    <tr>\n",
       "      <th>9</th>\n",
       "      <td>9</td>\n",
       "      <td>[\" ( GRISSOM walks up to DET O'RILEY who is ta...</td>\n",
       "      <td>0</td>\n",
       "      <td>None</td>\n",
       "      <td>0</td>\n",
       "    </tr>\n",
       "    <tr>\n",
       "      <th>10</th>\n",
       "      <td>10</td>\n",
       "      <td>[' ( GRISSOM walks up to the police car . )', ...</td>\n",
       "      <td>0</td>\n",
       "      <td>None</td>\n",
       "      <td>0</td>\n",
       "    </tr>\n",
       "    <tr>\n",
       "      <th>11</th>\n",
       "      <td>11</td>\n",
       "      <td>[' ( GRISSOM walks up to NICK , CATHERINE and ...</td>\n",
       "      <td>0</td>\n",
       "      <td>None</td>\n",
       "      <td>0</td>\n",
       "    </tr>\n",
       "    <tr>\n",
       "      <th>12</th>\n",
       "      <td>12</td>\n",
       "      <td>[' ( GRISSOM walks cautiously in the kitchen ....</td>\n",
       "      <td>0</td>\n",
       "      <td>None</td>\n",
       "      <td>1</td>\n",
       "    </tr>\n",
       "    <tr>\n",
       "      <th>13</th>\n",
       "      <td>13</td>\n",
       "      <td>[' ( GRISSOM is on his hands and knees mere in...</td>\n",
       "      <td>0</td>\n",
       "      <td>None</td>\n",
       "      <td>0</td>\n",
       "    </tr>\n",
       "    <tr>\n",
       "      <th>14</th>\n",
       "      <td>14</td>\n",
       "      <td>[' ( GRISSOM questions the paramedics . )', ' ...</td>\n",
       "      <td>0</td>\n",
       "      <td>None</td>\n",
       "      <td>1</td>\n",
       "    </tr>\n",
       "    <tr>\n",
       "      <th>15</th>\n",
       "      <td>15</td>\n",
       "      <td>[' ( WARRICK finds some tire prints in the dir...</td>\n",
       "      <td>0</td>\n",
       "      <td>None</td>\n",
       "      <td>1</td>\n",
       "    </tr>\n",
       "    <tr>\n",
       "      <th>16</th>\n",
       "      <td>16</td>\n",
       "      <td>[' ( Camera opens on small framed photographs ...</td>\n",
       "      <td>0</td>\n",
       "      <td>None</td>\n",
       "      <td>1</td>\n",
       "    </tr>\n",
       "    <tr>\n",
       "      <th>17</th>\n",
       "      <td>17</td>\n",
       "      <td>[' ( GRISSOM watches as the body is brought do...</td>\n",
       "      <td>0</td>\n",
       "      <td>None</td>\n",
       "      <td>1</td>\n",
       "    </tr>\n",
       "    <tr>\n",
       "      <th>18</th>\n",
       "      <td>18</td>\n",
       "      <td>[' ( CATHERINE reports to GRISSOM . )', ' [[Ca...</td>\n",
       "      <td>0</td>\n",
       "      <td>None</td>\n",
       "      <td>1</td>\n",
       "    </tr>\n",
       "    <tr>\n",
       "      <th>19</th>\n",
       "      <td>19</td>\n",
       "      <td>[' ( Camera close up of BRENDA COLLINS drawing...</td>\n",
       "      <td>0</td>\n",
       "      <td>None</td>\n",
       "      <td>0</td>\n",
       "    </tr>\n",
       "    <tr>\n",
       "      <th>20</th>\n",
       "      <td>20</td>\n",
       "      <td>[' ( BRASS and GRISSOM interview TINA COLLINS ...</td>\n",
       "      <td>0</td>\n",
       "      <td>None</td>\n",
       "      <td>1</td>\n",
       "    </tr>\n",
       "    <tr>\n",
       "      <th>21</th>\n",
       "      <td>21</td>\n",
       "      <td>[' ( NICK and WARRICK kneel down looking at th...</td>\n",
       "      <td>1</td>\n",
       "      <td>Evidence</td>\n",
       "      <td>0</td>\n",
       "    </tr>\n",
       "    <tr>\n",
       "      <th>22</th>\n",
       "      <td>22</td>\n",
       "      <td>[\" ( BRENDA COLLINS walks out into the hallway...</td>\n",
       "      <td>0</td>\n",
       "      <td>None</td>\n",
       "      <td>0</td>\n",
       "    </tr>\n",
       "    <tr>\n",
       "      <th>23</th>\n",
       "      <td>23</td>\n",
       "      <td>[' ( Camera opens on the photographs tucked in...</td>\n",
       "      <td>0</td>\n",
       "      <td>None</td>\n",
       "      <td>0</td>\n",
       "    </tr>\n",
       "    <tr>\n",
       "      <th>24</th>\n",
       "      <td>24</td>\n",
       "      <td>[\" ( GRISSOM is in the lab examining TINA 'S c...</td>\n",
       "      <td>1</td>\n",
       "      <td>Evidence</td>\n",
       "      <td>0</td>\n",
       "    </tr>\n",
       "    <tr>\n",
       "      <th>25</th>\n",
       "      <td>25</td>\n",
       "      <td>[' ( CATHERINE walks into the house . )', ' [[...</td>\n",
       "      <td>0</td>\n",
       "      <td>None</td>\n",
       "      <td>0</td>\n",
       "    </tr>\n",
       "    <tr>\n",
       "      <th>26</th>\n",
       "      <td>26</td>\n",
       "      <td>[' ( The phone rings . )', ' ( GRISSOM answers...</td>\n",
       "      <td>0</td>\n",
       "      <td>None</td>\n",
       "      <td>0</td>\n",
       "    </tr>\n",
       "    <tr>\n",
       "      <th>27</th>\n",
       "      <td>27</td>\n",
       "      <td>[' ( GRISSOM walks through the hallway and pro...</td>\n",
       "      <td>0</td>\n",
       "      <td>None</td>\n",
       "      <td>0</td>\n",
       "    </tr>\n",
       "    <tr>\n",
       "      <th>28</th>\n",
       "      <td>28</td>\n",
       "      <td>[' ( WARRICK and BRASS interview OLIVER . )', ...</td>\n",
       "      <td>0</td>\n",
       "      <td>None</td>\n",
       "      <td>0</td>\n",
       "    </tr>\n",
       "    <tr>\n",
       "      <th>29</th>\n",
       "      <td>29</td>\n",
       "      <td>[' ( The door opens and SARA walks in to join ...</td>\n",
       "      <td>0</td>\n",
       "      <td>None</td>\n",
       "      <td>0</td>\n",
       "    </tr>\n",
       "    <tr>\n",
       "      <th>30</th>\n",
       "      <td>30</td>\n",
       "      <td>[' ( CATHERINE and GRISSOM re-question TINA CO...</td>\n",
       "      <td>0</td>\n",
       "      <td>None</td>\n",
       "      <td>1</td>\n",
       "    </tr>\n",
       "    <tr>\n",
       "      <th>31</th>\n",
       "      <td>31</td>\n",
       "      <td>[' ( NICK and BRASS question the scooter owner...</td>\n",
       "      <td>0</td>\n",
       "      <td>None</td>\n",
       "      <td>0</td>\n",
       "    </tr>\n",
       "    <tr>\n",
       "      <th>32</th>\n",
       "      <td>32</td>\n",
       "      <td>[' [[Suburban_Teen_Guy_#2]] i share the scoote...</td>\n",
       "      <td>0</td>\n",
       "      <td>None</td>\n",
       "      <td>0</td>\n",
       "    </tr>\n",
       "    <tr>\n",
       "      <th>33</th>\n",
       "      <td>33</td>\n",
       "      <td>[' [[Jesse_Overton]] we had s*x', ' [[Jesse_Ov...</td>\n",
       "      <td>1</td>\n",
       "      <td>Perpetrator</td>\n",
       "      <td>1</td>\n",
       "    </tr>\n",
       "    <tr>\n",
       "      <th>34</th>\n",
       "      <td>34</td>\n",
       "      <td>[\" ( BRASS walks over to GRISSOM 'S office whe...</td>\n",
       "      <td>0</td>\n",
       "      <td>None</td>\n",
       "      <td>1</td>\n",
       "    </tr>\n",
       "    <tr>\n",
       "      <th>35</th>\n",
       "      <td>35</td>\n",
       "      <td>[' ( NICK attaches the match found at the scen...</td>\n",
       "      <td>1</td>\n",
       "      <td>Evidence</td>\n",
       "      <td>0</td>\n",
       "    </tr>\n",
       "    <tr>\n",
       "      <th>36</th>\n",
       "      <td>36</td>\n",
       "      <td>[' [[Brass]] sophisticated criminal , huh ?', ...</td>\n",
       "      <td>1</td>\n",
       "      <td>Evidence</td>\n",
       "      <td>1</td>\n",
       "    </tr>\n",
       "    <tr>\n",
       "      <th>37</th>\n",
       "      <td>37</td>\n",
       "      <td>[' ( JESSE OVERTON answers questions while hoo...</td>\n",
       "      <td>1</td>\n",
       "      <td>None</td>\n",
       "      <td>0</td>\n",
       "    </tr>\n",
       "    <tr>\n",
       "      <th>38</th>\n",
       "      <td>38</td>\n",
       "      <td>[' ( BRASS walks out into the hallway carrying...</td>\n",
       "      <td>0</td>\n",
       "      <td>None</td>\n",
       "      <td>0</td>\n",
       "    </tr>\n",
       "    <tr>\n",
       "      <th>39</th>\n",
       "      <td>39</td>\n",
       "      <td>[' ( GRISSOM walks into the autopsy room . )',...</td>\n",
       "      <td>0</td>\n",
       "      <td>None</td>\n",
       "      <td>0</td>\n",
       "    </tr>\n",
       "    <tr>\n",
       "      <th>40</th>\n",
       "      <td>40</td>\n",
       "      <td>[' ( GRISSOM walks angrily through the hallway...</td>\n",
       "      <td>0</td>\n",
       "      <td>None</td>\n",
       "      <td>0</td>\n",
       "    </tr>\n",
       "    <tr>\n",
       "      <th>41</th>\n",
       "      <td>41</td>\n",
       "      <td>[' ( Piece by piece , GRISSOM goes through the...</td>\n",
       "      <td>1</td>\n",
       "      <td>Evidence</td>\n",
       "      <td>0</td>\n",
       "    </tr>\n",
       "    <tr>\n",
       "      <th>42</th>\n",
       "      <td>42</td>\n",
       "      <td>[' [[Grissom]] have some ultraviolet photograp...</td>\n",
       "      <td>0</td>\n",
       "      <td>None</td>\n",
       "      <td>0</td>\n",
       "    </tr>\n",
       "    <tr>\n",
       "      <th>43</th>\n",
       "      <td>43</td>\n",
       "      <td>[' ( In the garage , CATHERINE speaks into a t...</td>\n",
       "      <td>0</td>\n",
       "      <td>None</td>\n",
       "      <td>1</td>\n",
       "    </tr>\n",
       "    <tr>\n",
       "      <th>44</th>\n",
       "      <td>44</td>\n",
       "      <td>[\" ( Standing outside the X-Ray room , GRISSOM...</td>\n",
       "      <td>0</td>\n",
       "      <td>None</td>\n",
       "      <td>0</td>\n",
       "    </tr>\n",
       "    <tr>\n",
       "      <th>45</th>\n",
       "      <td>45</td>\n",
       "      <td>[\" [[Catherine]] it 's me\", \" [[Catherine]] so...</td>\n",
       "      <td>1</td>\n",
       "      <td>None</td>\n",
       "      <td>1</td>\n",
       "    </tr>\n",
       "    <tr>\n",
       "      <th>46</th>\n",
       "      <td>46</td>\n",
       "      <td>[' ( SARA develops the photos . )', ' ( She fl...</td>\n",
       "      <td>0</td>\n",
       "      <td>None</td>\n",
       "      <td>0</td>\n",
       "    </tr>\n",
       "    <tr>\n",
       "      <th>47</th>\n",
       "      <td>47</td>\n",
       "      <td>[' ( GRISSOM and BRASS re-interviews TINA COLL...</td>\n",
       "      <td>1</td>\n",
       "      <td>Motive</td>\n",
       "      <td>1</td>\n",
       "    </tr>\n",
       "    <tr>\n",
       "      <th>48</th>\n",
       "      <td>48</td>\n",
       "      <td>[' ( SARA and BRENDA sit in the chairs in the ...</td>\n",
       "      <td>0</td>\n",
       "      <td>None</td>\n",
       "      <td>0</td>\n",
       "    </tr>\n",
       "    <tr>\n",
       "      <th>49</th>\n",
       "      <td>49</td>\n",
       "      <td>[' ( CATHERINE closes her locker and leaves . ...</td>\n",
       "      <td>0</td>\n",
       "      <td>None</td>\n",
       "      <td>0</td>\n",
       "    </tr>\n",
       "    <tr>\n",
       "      <th>50</th>\n",
       "      <td>50</td>\n",
       "      <td>[' ( GRISSOM walks through the hallway and gla...</td>\n",
       "      <td>0</td>\n",
       "      <td>None</td>\n",
       "      <td>0</td>\n",
       "    </tr>\n",
       "  </tbody>\n",
       "</table>\n",
       "</div>"
      ],
      "text/plain": [
       "    scene_id                                         scene_text  in_summary  \\\n",
       "0          0  [\" ( Camera opens on the front of the Collins ...           1   \n",
       "1          1  [' ( Emergency vehicles and Officer cars surro...           0   \n",
       "2          2  [' ( GRISSOM and SHIBLEY walk toward the open ...           0   \n",
       "3          3  [' ( GRISSOM and SHIBELY walk inside . )', ' (...           1   \n",
       "4          4  [' ( The first thing they see down the hallway...           1   \n",
       "5          5  [' ( GRISSOM and SARA walk into the Master Bed...           1   \n",
       "6          6  [' ( SARA takes a picture of the dead woman . ...           1   \n",
       "7          7  [' ( GRISSOM walks out of the house . )', \" ( ...           0   \n",
       "8          8  [' ( A reporter standing outside the house giv...           0   \n",
       "9          9  [\" ( GRISSOM walks up to DET O'RILEY who is ta...           0   \n",
       "10        10  [' ( GRISSOM walks up to the police car . )', ...           0   \n",
       "11        11  [' ( GRISSOM walks up to NICK , CATHERINE and ...           0   \n",
       "12        12  [' ( GRISSOM walks cautiously in the kitchen ....           0   \n",
       "13        13  [' ( GRISSOM is on his hands and knees mere in...           0   \n",
       "14        14  [' ( GRISSOM questions the paramedics . )', ' ...           0   \n",
       "15        15  [' ( WARRICK finds some tire prints in the dir...           0   \n",
       "16        16  [' ( Camera opens on small framed photographs ...           0   \n",
       "17        17  [' ( GRISSOM watches as the body is brought do...           0   \n",
       "18        18  [' ( CATHERINE reports to GRISSOM . )', ' [[Ca...           0   \n",
       "19        19  [' ( Camera close up of BRENDA COLLINS drawing...           0   \n",
       "20        20  [' ( BRASS and GRISSOM interview TINA COLLINS ...           0   \n",
       "21        21  [' ( NICK and WARRICK kneel down looking at th...           1   \n",
       "22        22  [\" ( BRENDA COLLINS walks out into the hallway...           0   \n",
       "23        23  [' ( Camera opens on the photographs tucked in...           0   \n",
       "24        24  [\" ( GRISSOM is in the lab examining TINA 'S c...           1   \n",
       "25        25  [' ( CATHERINE walks into the house . )', ' [[...           0   \n",
       "26        26  [' ( The phone rings . )', ' ( GRISSOM answers...           0   \n",
       "27        27  [' ( GRISSOM walks through the hallway and pro...           0   \n",
       "28        28  [' ( WARRICK and BRASS interview OLIVER . )', ...           0   \n",
       "29        29  [' ( The door opens and SARA walks in to join ...           0   \n",
       "30        30  [' ( CATHERINE and GRISSOM re-question TINA CO...           0   \n",
       "31        31  [' ( NICK and BRASS question the scooter owner...           0   \n",
       "32        32  [' [[Suburban_Teen_Guy_#2]] i share the scoote...           0   \n",
       "33        33  [' [[Jesse_Overton]] we had s*x', ' [[Jesse_Ov...           1   \n",
       "34        34  [\" ( BRASS walks over to GRISSOM 'S office whe...           0   \n",
       "35        35  [' ( NICK attaches the match found at the scen...           1   \n",
       "36        36  [' [[Brass]] sophisticated criminal , huh ?', ...           1   \n",
       "37        37  [' ( JESSE OVERTON answers questions while hoo...           1   \n",
       "38        38  [' ( BRASS walks out into the hallway carrying...           0   \n",
       "39        39  [' ( GRISSOM walks into the autopsy room . )',...           0   \n",
       "40        40  [' ( GRISSOM walks angrily through the hallway...           0   \n",
       "41        41  [' ( Piece by piece , GRISSOM goes through the...           1   \n",
       "42        42  [' [[Grissom]] have some ultraviolet photograp...           0   \n",
       "43        43  [' ( In the garage , CATHERINE speaks into a t...           0   \n",
       "44        44  [\" ( Standing outside the X-Ray room , GRISSOM...           0   \n",
       "45        45  [\" [[Catherine]] it 's me\", \" [[Catherine]] so...           1   \n",
       "46        46  [' ( SARA develops the photos . )', ' ( She fl...           0   \n",
       "47        47  [' ( GRISSOM and BRASS re-interviews TINA COLL...           1   \n",
       "48        48  [' ( SARA and BRENDA sit in the chairs in the ...           0   \n",
       "49        49  [' ( CATHERINE closes her locker and leaves . ...           0   \n",
       "50        50  [' ( GRISSOM walks through the hallway and gla...           0   \n",
       "\n",
       "               aspects  prediction  \n",
       "0          Perpetrator           0  \n",
       "1                 None           0  \n",
       "2                 None           0  \n",
       "3          Crime scene           0  \n",
       "4   Victim,Death cause           0  \n",
       "5   Victim,Death cause           0  \n",
       "6               Victim           0  \n",
       "7                 None           0  \n",
       "8                 None           0  \n",
       "9                 None           0  \n",
       "10                None           0  \n",
       "11                None           0  \n",
       "12                None           1  \n",
       "13                None           0  \n",
       "14                None           1  \n",
       "15                None           1  \n",
       "16                None           1  \n",
       "17                None           1  \n",
       "18                None           1  \n",
       "19                None           0  \n",
       "20                None           1  \n",
       "21            Evidence           0  \n",
       "22                None           0  \n",
       "23                None           0  \n",
       "24            Evidence           0  \n",
       "25                None           0  \n",
       "26                None           0  \n",
       "27                None           0  \n",
       "28                None           0  \n",
       "29                None           0  \n",
       "30                None           1  \n",
       "31                None           0  \n",
       "32                None           0  \n",
       "33         Perpetrator           1  \n",
       "34                None           1  \n",
       "35            Evidence           0  \n",
       "36            Evidence           1  \n",
       "37                None           0  \n",
       "38                None           0  \n",
       "39                None           0  \n",
       "40                None           0  \n",
       "41            Evidence           0  \n",
       "42                None           0  \n",
       "43                None           1  \n",
       "44                None           0  \n",
       "45                None           1  \n",
       "46                None           0  \n",
       "47              Motive           1  \n",
       "48                None           0  \n",
       "49                None           0  \n",
       "50                None           0  "
      ]
     },
     "execution_count": 128,
     "metadata": {},
     "output_type": "execute_result"
    }
   ],
   "source": [
    "\n",
    "annotated_scenes"
   ]
  },
  {
   "cell_type": "code",
   "execution_count": 129,
   "metadata": {},
   "outputs": [
    {
     "data": {
      "text/plain": [
       "0.2857142857142857"
      ]
     },
     "execution_count": 129,
     "metadata": {},
     "output_type": "execute_result"
    }
   ],
   "source": [
    "\n",
    "f1_score(annotated_scenes.in_summary, annotated_scenes.prediction)"
   ]
  },
  {
   "cell_type": "code",
   "execution_count": 252,
   "metadata": {
    "scrolled": false
   },
   "outputs": [
    {
     "name": "stdout",
     "output_type": "stream",
     "text": [
      "JANINE =====>\n",
      "Janine let you out then?  She doesn't own me. Good. I'm going down the Town Hall to  get Lily's birth certificate changed. Why today?  Cos I'm working after. Come on, you, me and Lily. It'll be fun.  All right?   Ryan Stacey\n",
      "# Nothing more, nothing less  Love is the best... # You all right?  I know. Archie Mitchell's killer. I've  worked it out. Your precious Stacey.   Ryan Janine Stacey\n",
      "Any time you need me, you know  where I am. Please, Janine. Please?  You've dropped your bombshell,  Pat, why don't you just fly off to New Zealand and enjoy  yourself with your real family. I don't know why I bother  caring about you.   Ryan Janine\n",
      "I know you want nice little neat  answers. Life's not like that. Don't patronise me.  I'm not a kid any more. Then you should know you can't go  jumping to conclusions and calling it the truth cos that's  what you want to hear. Swear on my life  that it wasn't Stacey. I swear...  on your life...  that Stacey never killed  Archie Mitchell.   Janine\n",
      "Look, whoever finds  the best Christmas present wins.   Janine\n",
      "All right, Connor's fit.  He likes me. I like him. He's a lowlife, Whitney.    Ryan Janine\n",
      "What's with the car?  Well, I fancied a little trip.  You know, just to get away from  everything. I've packed you a bag.   Janine\n",
      "Oh, you don't want go wasting your  money on me. It's not my money. It's Phil Mitchell's.  Come again? He's sent Ryan away on  some job this weekend. Should be worth a  few hundred I reckon.   Janine Stacey\n",
      "Janine locked you in the fridge?  With a beef carcass.   Ryan\n",
      "First you don't want Lily,  then you do. First you do want me to stop,  then you don't. Have you ever meant it  when you've said you love me? Yep, I married you because  I loved you. Now just move the car. And do you still love me?  Just start the car, Janine! No, not until you tell me the truth.    Ryan Janine\n",
      "Only house you get invited for  dinner, you have to cook it yourself. It's all right, ain't it?!   Ryan Janine\n",
      "So you either leave Janine  and be with me,   Ryan\n",
      "Has anyone seen Stacey Slater?  Are you going  to tell him or shall I?   Janine\n",
      "Even when you locked him  in a flippin' fridge.   Janine\n",
      "What about her?  Are you getting her a Christmas present?   Ryan Janine\n",
      "Turn that off!  PAT: What are you playing at? Look, your grandfather is asleep.  It ain't my grandfather's funeral.   Ryan Janine\n",
      "You're supposed to be  covering Ryan's shift. Do I have to hold your hand?    Ryan Janine\n",
      "Alfie was so sweet earlier,  wasn't he, with the football? Must be really hard on your own.  I mean, kids really need  their dads, don't they? Lily's got a dad. Your husband.   Ryan Janine Stacey\n",
      "Was it you? Did you kill our father?    Janine Stacey\n",
      "D'you want a tea as well? Yeah?  What's all that?  Got some new decorations  for the tree, for Bobby.   Ryan Janine Stacey\n",
      "RYAN =====>\n",
      "Janine let you out then?  She doesn't own me. Good. I'm going down the Town Hall to  get Lily's birth certificate changed. Why today?  Cos I'm working after. Come on, you, me and Lily. It'll be fun.  All right?   Ryan Stacey\n",
      "# Nothing more, nothing less  Love is the best... # You all right?  I know. Archie Mitchell's killer. I've  worked it out. Your precious Stacey.   Ryan Janine Stacey\n",
      "I agreed to let you  look after Lily for the day. I know, but she does live here.   Ryan\n",
      "STACEY:  'I did it. I killed Archie.   Ryan Stacey\n",
      "Any time you need me, you know  where I am. Please, Janine. Please?  You've dropped your bombshell,  Pat, why don't you just fly off to New Zealand and enjoy  yourself with your real family. I don't know why I bother  caring about you.   Ryan Janine\n",
      "Morning, Lauren.  Are you OK?  Fine. Brilliant. Shouldn't I be?  What I said.  About what?  Don't play games with me. About Bradley. I'm fine. Good. I'm right, though, aren't I? If, you  know, Bradley didn't kill Archie... it's cos you know who did.   Ryan\n",
      "Last night...  I don't care. Really? Well, then,  where you been all day? I've been trying to think things  through and get my head straight. Ryan, I lied to you.  I know, it doesn't matter. I don't care.  I don't care that you killed Archie.   Stacey\n",
      "Well, he was plotting with Kat to  go and see Stacey! I know he was. Well, that's no reason to  shut him in a fridge like a leftover bit of brisket!   Ryan\n",
      "I want to surprise Ryan.  Oh, do you?  I don't know...  I've got stuff to do. Simon phoned. He's invited me  to New Zealand for Christmas.   \n",
      "All right, Connor's fit.  He likes me. I like him. He's a lowlife, Whitney.    Ryan Janine\n",
      "I'll do that, just go and get some  inspiration for the Argee Bhajee. There's too much to do, Masood.   Ryan\n",
      "Oh, you don't want go wasting your  money on me. It's not my money. It's Phil Mitchell's.  Come again? He's sent Ryan away on  some job this weekend. Should be worth a  few hundred I reckon.   Janine Stacey\n",
      "D'you know where she is?  No. Alfie, tell me. Ryan, I don't know anything.  Please. Listen, you've not heard  it from me OK, but Kat does.   Ryan\n",
      "Janine locked you in the fridge?  With a beef carcass.   Ryan\n",
      "First you don't want Lily,  then you do. First you do want me to stop,  then you don't. Have you ever meant it  when you've said you love me? Yep, I married you because  I loved you. Now just move the car. And do you still love me?  Just start the car, Janine! No, not until you tell me the truth.    Ryan Janine\n",
      "So, you decided to stay then?  I didn't want to leave  any unfinished business. Yeah? Any business in particular?  What do you think?  Stace, a shot of rum  and a bottle of beer, please.   Ryan Stacey\n",
      "Only house you get invited for  dinner, you have to cook it yourself. It's all right, ain't it?!   Ryan Janine\n",
      "He said that Bradley  didn't kill Archie.   Ryan\n",
      "I need the weekend off.  What for?  I'm going away for the weekend with Ryan.   Stacey\n",
      "So you either leave Janine  and be with me,   Ryan\n",
      "STACEY =====>\n",
      "had a baby with somebody  else's husband. Yeah? I've never been  engaged to a dirty old rapist.   Stacey\n",
      "Janine let you out then?  She doesn't own me. Good. I'm going down the Town Hall to  get Lily's birth certificate changed. Why today?  Cos I'm working after. Come on, you, me and Lily. It'll be fun.  All right?   Ryan Stacey\n",
      "You didn't kill Archie?    Stacey\n",
      "# Nothing more, nothing less  Love is the best... # You all right?  I know. Archie Mitchell's killer. I've  worked it out. Your precious Stacey.   Ryan Janine Stacey\n",
      "STACEY:  'I did it. I killed Archie.   Ryan Stacey\n",
      "Stacey Slater. Her name is Stacey  Slater. She tried to kill me.   \n",
      "You killed Archie    Stacey\n",
      "I know you want nice little neat  answers. Life's not like that. Don't patronise me.  I'm not a kid any more. Then you should know you can't go  jumping to conclusions and calling it the truth cos that's  what you want to hear. Swear on my life  that it wasn't Stacey. I swear...  on your life...  that Stacey never killed  Archie Mitchell.   Janine\n",
      "But then Dot said that Stacey's  going away for the weekend.   Stacey\n",
      "Last night...  I don't care. Really? Well, then,  where you been all day? I've been trying to think things  through and get my head straight. Ryan, I lied to you.  I know, it doesn't matter. I don't care.  I don't care that you killed Archie.   Stacey\n",
      "Well, he was plotting with Kat to  go and see Stacey! I know he was. Well, that's no reason to  shut him in a fridge like a leftover bit of brisket!   Ryan\n",
      "How do you mean?  Well, I'd get my mum to have Lily and then me and you could spend the weekend  without looking over our shoulders.   Stacey\n",
      "Oh, you don't want go wasting your  money on me. It's not my money. It's Phil Mitchell's.  Come again? He's sent Ryan away on  some job this weekend. Should be worth a  few hundred I reckon.   Janine Stacey\n",
      "I'm begging you, please,  can you just trust me? I don't get why you can't tell  me the truth? I'm sorry, Lauren. I promised I wouldn't.   Stacey\n",
      "So, you decided to stay then?  I didn't want to leave  any unfinished business. Yeah? Any business in particular?  What do you think?  Stace, a shot of rum  and a bottle of beer, please.   Ryan Stacey\n",
      "I need the weekend off.  What for?  I'm going away for the weekend with Ryan.   Stacey\n",
      "You was in the barrel store  with him last night. Don't try and deny it.    Stacey\n",
      "I'll have a glass  of white wine, please. Drink. Lovely.    Stacey\n",
      "Has anyone seen Stacey Slater?  Are you going  to tell him or shall I?   Janine\n",
      "Jean, I know it must have been  a bit of a shock in the pub.   Ryan Stacey\n"
     ]
    }
   ],
   "source": [
    "votes_selection = {c:[] for c in ['Janine', 'Ryan', 'Stacey']}\n",
    "votes_durations = {c:[] for c in ['Janine', 'Ryan', 'Stacey']}\n",
    "\n",
    "for char in votes_selection:\n",
    "    print(char.upper() + ' =====>')\n",
    "    counter = 1\n",
    "    for s in reses:\n",
    "        if char in df['content'].iloc[s[0]]:\n",
    "            print(df['content'].iloc[s[0]])\n",
    "            votes_selection[char].append(df['sid'].iloc[s[0]])\n",
    "            votes_durations[char].append(df['end'].iloc[s[0]] - df['begin'].iloc[s[0]])\n",
    "        if len(votes_selection[char]) == 20: \n",
    "            break"
   ]
  },
  {
   "cell_type": "code",
   "execution_count": 256,
   "metadata": {
    "scrolled": false
   },
   "outputs": [
    {
     "name": "stdout",
     "output_type": "stream",
     "text": [
      "JANINE =====>\n",
      "Janine let you out then?  She doesn't own me. Good. I'm going down the Town Hall to  get Lily's birth certificate changed. Why today?  Cos I'm working after. Come on, you, me and Lily. It'll be fun.  All right?\n",
      "# Nothing more, nothing less  Love is the best... # You all right?  I know. Archie Mitchell's killer. I've  worked it out. Your precious Stacey.\n",
      "Any time you need me, you know  where I am. Please, Janine. Please?  You've dropped your bombshell,  Pat, why don't you just fly off to New Zealand and enjoy  yourself with your real family. I don't know why I bother  caring about you.\n",
      "I know you want nice little neat  answers. Life's not like that. Don't patronise me.  I'm not a kid any more. Then you should know you can't go  jumping to conclusions and calling it the truth cos that's  what you want to hear. Swear on my life  that it wasn't Stacey. I swear...  on your life...  that Stacey never killed  Archie Mitchell.\n",
      "Look, whoever finds  the best Christmas present wins.\n",
      "All right, Connor's fit.  He likes me. I like him. He's a lowlife, Whitney.\n",
      "What's with the car?  Well, I fancied a little trip.  You know, just to get away from  everything. I've packed you a bag.\n",
      "Oh, you don't want go wasting your  money on me. It's not my money. It's Phil Mitchell's.  Come again? He's sent Ryan away on  some job this weekend. Should be worth a  few hundred I reckon.\n",
      "Janine locked you in the fridge?  With a beef carcass.\n",
      "First you don't want Lily,  then you do. First you do want me to stop,  then you don't. Have you ever meant it  when you've said you love me? Yep, I married you because  I loved you. Now just move the car. And do you still love me?  Just start the car, Janine! No, not until you tell me the truth.\n",
      "Only house you get invited for  dinner, you have to cook it yourself. It's all right, ain't it?!\n",
      "So you either leave Janine  and be with me,\n",
      "Has anyone seen Stacey Slater?  Are you going  to tell him or shall I?\n",
      "Even when you locked him  in a flippin' fridge.\n",
      "What about her?  Are you getting her a Christmas present?\n",
      "Turn that off!  PAT: What are you playing at? Look, your grandfather is asleep.  It ain't my grandfather's funeral.\n",
      "You're supposed to be  covering Ryan's shift. Do I have to hold your hand?\n",
      "Alfie was so sweet earlier,  wasn't he, with the football? Must be really hard on your own.  I mean, kids really need  their dads, don't they? Lily's got a dad. Your husband.\n",
      "Was it you? Did you kill our father?\n",
      "D'you want a tea as well? Yeah?  What's all that?  Got some new decorations  for the tree, for Bobby.\n",
      "RYAN =====>\n",
      "Janine let you out then?  She doesn't own me. Good. I'm going down the Town Hall to  get Lily's birth certificate changed. Why today?  Cos I'm working after. Come on, you, me and Lily. It'll be fun.  All right?\n",
      "# Nothing more, nothing less  Love is the best... # You all right?  I know. Archie Mitchell's killer. I've  worked it out. Your precious Stacey.\n",
      "I agreed to let you  look after Lily for the day. I know, but she does live here.\n",
      "STACEY:  'I did it. I killed Archie.\n",
      "Any time you need me, you know  where I am. Please, Janine. Please?  You've dropped your bombshell,  Pat, why don't you just fly off to New Zealand and enjoy  yourself with your real family. I don't know why I bother  caring about you.\n",
      "Morning, Lauren.  Are you OK?  Fine. Brilliant. Shouldn't I be?  What I said.  About what?  Don't play games with me. About Bradley. I'm fine. Good. I'm right, though, aren't I? If, you  know, Bradley didn't kill Archie... it's cos you know who did.\n",
      "Last night...  I don't care. Really? Well, then,  where you been all day? I've been trying to think things  through and get my head straight. Ryan, I lied to you.  I know, it doesn't matter. I don't care.  I don't care that you killed Archie.\n",
      "Well, he was plotting with Kat to  go and see Stacey! I know he was. Well, that's no reason to  shut him in a fridge like a leftover bit of brisket!\n",
      "I want to surprise Ryan.  Oh, do you?  I don't know...  I've got stuff to do. Simon phoned. He's invited me  to New Zealand for Christmas.\n",
      "All right, Connor's fit.  He likes me. I like him. He's a lowlife, Whitney.\n",
      "I'll do that, just go and get some  inspiration for the Argee Bhajee. There's too much to do, Masood.\n",
      "Oh, you don't want go wasting your  money on me. It's not my money. It's Phil Mitchell's.  Come again? He's sent Ryan away on  some job this weekend. Should be worth a  few hundred I reckon.\n",
      "D'you know where she is?  No. Alfie, tell me. Ryan, I don't know anything.  Please. Listen, you've not heard  it from me OK, but Kat does.\n",
      "Janine locked you in the fridge?  With a beef carcass.\n",
      "First you don't want Lily,  then you do. First you do want me to stop,  then you don't. Have you ever meant it  when you've said you love me? Yep, I married you because  I loved you. Now just move the car. And do you still love me?  Just start the car, Janine! No, not until you tell me the truth.\n",
      "So, you decided to stay then?  I didn't want to leave  any unfinished business. Yeah? Any business in particular?  What do you think?  Stace, a shot of rum  and a bottle of beer, please.\n",
      "Only house you get invited for  dinner, you have to cook it yourself. It's all right, ain't it?!\n",
      "He said that Bradley  didn't kill Archie.\n",
      "I need the weekend off.  What for?  I'm going away for the weekend with Ryan.\n",
      "So you either leave Janine  and be with me,\n",
      "STACEY =====>\n",
      "had a baby with somebody  else's husband. Yeah? I've never been  engaged to a dirty old rapist.\n",
      "Janine let you out then?  She doesn't own me. Good. I'm going down the Town Hall to  get Lily's birth certificate changed. Why today?  Cos I'm working after. Come on, you, me and Lily. It'll be fun.  All right?\n",
      "You didn't kill Archie?\n",
      "# Nothing more, nothing less  Love is the best... # You all right?  I know. Archie Mitchell's killer. I've  worked it out. Your precious Stacey.\n",
      "STACEY:  'I did it. I killed Archie.\n",
      "Stacey Slater. Her name is Stacey  Slater. She tried to kill me.\n",
      "You killed Archie\n",
      " ++++  and then you let your precious  Bradley take the blame.\n",
      "I know you want nice little neat  answers. Life's not like that. Don't patronise me.  I'm not a kid any more. Then you should know you can't go  jumping to conclusions and calling it the truth cos that's  what you want to hear. Swear on my life  that it wasn't Stacey. I swear...  on your life...  that Stacey never killed  Archie Mitchell.\n",
      "But then Dot said that Stacey's  going away for the weekend.\n",
      "Last night...  I don't care. Really? Well, then,  where you been all day? I've been trying to think things  through and get my head straight. Ryan, I lied to you.  I know, it doesn't matter. I don't care.  I don't care that you killed Archie.\n",
      "Well, he was plotting with Kat to  go and see Stacey! I know he was. Well, that's no reason to  shut him in a fridge like a leftover bit of brisket!\n",
      "How do you mean?  Well, I'd get my mum to have Lily and then me and you could spend the weekend  without looking over our shoulders.\n",
      "Oh, you don't want go wasting your  money on me. It's not my money. It's Phil Mitchell's.  Come again? He's sent Ryan away on  some job this weekend. Should be worth a  few hundred I reckon.\n",
      "I'm begging you, please,  can you just trust me? I don't get why you can't tell  me the truth? I'm sorry, Lauren. I promised I wouldn't.\n",
      "So, you decided to stay then?  I didn't want to leave  any unfinished business. Yeah? Any business in particular?  What do you think?  Stace, a shot of rum  and a bottle of beer, please.\n",
      "I need the weekend off.  What for?  I'm going away for the weekend with Ryan.\n",
      "You was in the barrel store  with him last night. Don't try and deny it.\n",
      "I'll have a glass  of white wine, please. Drink. Lovely.\n",
      "Has anyone seen Stacey Slater?  Are you going  to tell him or shall I?\n"
     ]
    }
   ],
   "source": [
    "top_selection = {c:[] for c in ['Janine', 'Ryan', 'Stacey']}\n",
    "top_durations = {c:[] for c in ['Janine', 'Ryan', 'Stacey']}\n",
    "top_times     = {c:[] for c in ['Janine', 'Ryan', 'Stacey']}\n",
    "\n",
    "for char in top_selection:\n",
    "    print(char.upper() + ' =====>')\n",
    "    counter = 1\n",
    "    seen = set()\n",
    "    for (v, s, l) in best_matches:\n",
    "        if s not in seen and char in df['content'].iloc[s] + df['chars_query'].iloc[s]:\n",
    "            sentence = df['transcript'].iloc[s].strip()\n",
    "            print(sentence)\n",
    "            \n",
    "            top_selection[char].append(df['sid'].iloc[s])\n",
    "            top_durations[char].append(round(df['end'].iloc[s] - df['begin'].iloc[s], 2))\n",
    "            top_times[char].append((df['begin'].iloc[s], df['end'].iloc[s]))\n",
    "\n",
    "            seen.add(s)\n",
    "            while sentence and sentence[-1] not in ['.', '?', '!', \"'\"]:\n",
    "                s += 1\n",
    "                sentence = df['transcript'].iloc[s].strip()\n",
    "                if sentence == '':\n",
    "                    break\n",
    "                print(' ++++ ', sentence)\n",
    "\n",
    "                top_selection[char].append(df['sid'].iloc[s])\n",
    "                top_durations[char].append(round(df['end'].iloc[s] - df['begin'].iloc[s], 2))\n",
    "                top_times[char].append((df['begin'].iloc[s], df['end'].iloc[s]))\n",
    "                seen.add(s)\n",
    "                counter +=1\n",
    "                \n",
    "            counter += 1\n",
    "        \n",
    "        if len(seen) >= 20: \n",
    "            break"
   ]
  },
  {
   "cell_type": "code",
   "execution_count": 297,
   "metadata": {},
   "outputs": [
    {
     "name": "stdout",
     "output_type": "stream",
     "text": [
      "JANINE\n",
      "Run 1 : 176-1200 177-2024 178-51 182-14 182-1681\n",
      "Run 2 : 176-1200 176-1785 176-2060 177-2024 178-51 181-116 182-14 182-1494 182-1681 183-1411\n",
      "Run 3 : 175-2247 176-1200 176-1785 176-2060 177-2024 178-51 181-116 181-1544 182-1108 182-14 182-1494 182-1681 182-676 183-1411 185-992\n",
      "Run 4 : 175-2247 176-1200 176-1785 176-2060 176-928 177-2024 178-51 181-116 181-1544 182-1108 182-14 182-1494 182-1681 182-676 183-1397 183-1411 183-1883 184-39 185-943 185-992\n",
      "RYAN\n",
      "Run 1 : 175-1772 176-1200 177-2024 178-1549 182-1681\n",
      "Run 2 : 175-1772 176-1092 176-1200 177-2024 178-1549 179-1741 182-1203 182-1681 183-1411 185-438\n",
      "Run 3 : 175-1772 176-1092 176-1200 176-2060 177-2024 178-1549 179-1741 179-940 181-1084 181-116 182-1203 182-1494 182-1681 183-1411 185-438\n",
      "Run 4 : 175-1772 175-2247 176-1092 176-1200 176-1242 176-2060 177-2024 178-1549 179-1741 179-940 181-1084 181-116 181-1250 181-1544 182-1203 182-1279 182-1494 182-1681 183-1411 185-438\n",
      "STACEY\n",
      "Run 1 : 175-941 176-1200 177-2024 178-1549 185-316\n",
      "Run 2 : 175-941 176-1200 177-2024 178-1549 178-51 182-1509 184-2212 184-2213 185-316 185-981\n",
      "Run 3 : 175-941 176-1200 177-1793 177-2024 178-1549 178-51 179-1741 182-1188 182-1494 182-1509 184-2212 184-2213 185-316 185-438 185-981\n",
      "Run 4 : 175-941 176-1200 177-1793 177-2024 178-1549 178-51 179-1741 181-1250 182-1188 182-1279 182-1494 182-1509 182-57 184-1785 184-2212 184-2213 185-316 185-438 185-981 185-992\n"
     ]
    }
   ],
   "source": [
    "for char in top_selection:\n",
    "    print(char.upper())\n",
    "    for run in range(1, 5):\n",
    "        print('Run', run, ':', ' '.join(sorted(top_selection[char][:5*run])))"
   ]
  },
  {
   "cell_type": "code",
   "execution_count": 298,
   "metadata": {},
   "outputs": [
    {
     "name": "stdout",
     "output_type": "stream",
     "text": [
      "JANINE\n",
      "Run 1 : 70.37\n",
      "Run 2 : 110.13000000000001\n",
      "Run 3 : 128.97\n",
      "Run 4 : 174.03\n",
      "RYAN\n",
      "Run 1 : 64.69\n",
      "Run 2 : 121.7\n",
      "Run 3 : 166.69\n",
      "Run 4 : 198.14000000000001\n",
      "STACEY\n",
      "Run 1 : 52.66\n",
      "Run 2 : 83.72999999999999\n",
      "Run 3 : 126.74\n",
      "Run 4 : 158.09999999999997\n"
     ]
    }
   ],
   "source": [
    "for char in top_durations:\n",
    "    print(char.upper())\n",
    "    for run in range(1, 5):\n",
    "        print('Run', run, ':', sum(top_durations[char][:5*run]))"
   ]
  },
  {
   "cell_type": "code",
   "execution_count": 259,
   "metadata": {},
   "outputs": [
    {
     "name": "stdout",
     "output_type": "stream",
     "text": [
      "JANINE\n",
      "Run 1 : 70.37000000000016\n",
      "Run 2 : 110.1300000000018\n",
      "Run 3 : 128.97000000000287\n",
      "Run 4 : 174.03000000000267\n",
      "RYAN\n",
      "Run 1 : 64.69000000000051\n",
      "Run 2 : 121.70000000000073\n",
      "Run 3 : 166.69000000000148\n",
      "Run 4 : 198.1400000000022\n",
      "STACEY\n",
      "Run 1 : 52.660000000000196\n",
      "Run 2 : 93.0399999999998\n",
      "Run 3 : 139.8\n",
      "Run 4 : 162.10000000000065\n"
     ]
    }
   ],
   "source": [
    "for char in votes_durations:\n",
    "    print(char.upper())\n",
    "    for run in range(1, 5):\n",
    "        print('Run', run, ':', sum(votes_durations[char][:5*run]))"
   ]
  },
  {
   "cell_type": "code",
   "execution_count": 291,
   "metadata": {
    "scrolled": true
   },
   "outputs": [
    {
     "data": {
      "text/plain": [
       "{'Janine': [(3904.24, 3917.08),\n",
       "  (7070.01, 7088.24),\n",
       "  (5542.12, 5558.14),\n",
       "  (238.06, 258.23),\n",
       "  (37.09, 40.2),\n",
       "  (4743.24, 4747.24),\n",
       "  (5791.23, 5796.1),\n",
       "  (4854.11, 4867.08),\n",
       "  (347.02, 348.08),\n",
       "  (6681.23, 6698.09),\n",
       "  (6703.17, 6709.13),\n",
       "  (5130.19, 5132.1),\n",
       "  (2986.18, 2989.0),\n",
       "  (2101.16, 2106.21),\n",
       "  (3491.02, 3494.12),\n",
       "  (2861.11, 2867.01),\n",
       "  (6411.17, 6417.17),\n",
       "  (4668.06, 4688.21),\n",
       "  (2883.13, 2886.05),\n",
       "  (138.01, 148.1)],\n",
       " 'Ryan': [(3904.24, 3917.08),\n",
       "  (7070.01, 7088.24),\n",
       "  (5326.22, 5328.05),\n",
       "  (5167.23, 5183.0),\n",
       "  (5542.12, 5558.14),\n",
       "  (3545.24, 3565.09),\n",
       "  (1333.04, 1345.19),\n",
       "  (5856.08, 5864.03),\n",
       "  (3807.08, 3820.14),\n",
       "  (4743.24, 4747.24),\n",
       "  (3746.02, 3749.06),\n",
       "  (4854.11, 4867.08),\n",
       "  (3070.13, 3081.19),\n",
       "  (347.02, 348.08),\n",
       "  (6681.23, 6698.09),\n",
       "  (4212.14, 4228.04),\n",
       "  (6703.17, 6709.13),\n",
       "  (4064.21, 4067.01),\n",
       "  (4068.14, 4073.02),\n",
       "  (5130.19, 5132.1)],\n",
       " 'Stacey': [(2688.13, 2691.01),\n",
       "  (3904.24, 3917.08),\n",
       "  (883.21, 886.15),\n",
       "  (7070.01, 7088.24),\n",
       "  (5167.23, 5183.0),\n",
       "  (2961.06, 2963.06),\n",
       "  (6782.21, 6784.22),\n",
       "  (6784.23, 6787.07),\n",
       "  (238.06, 258.23),\n",
       "  (4925.1, 4929.15),\n",
       "  (1333.04, 1345.19),\n",
       "  (5856.08, 5864.03),\n",
       "  (3763.13, 3768.05),\n",
       "  (4854.11, 4867.08),\n",
       "  (6214.19, 6219.21),\n",
       "  (4212.14, 4228.04),\n",
       "  (4068.14, 4073.02),\n",
       "  (154.21, 157.21),\n",
       "  (5586.24, 5591.0),\n",
       "  (2986.18, 2989.0)]}"
      ]
     },
     "execution_count": 291,
     "metadata": {},
     "output_type": "execute_result"
    }
   ],
   "source": [
    "top_times"
   ]
  },
  {
   "cell_type": "code",
   "execution_count": 261,
   "metadata": {},
   "outputs": [],
   "source": [
    "pickle.dump(top_selection, open('selected_shots_final.pickle', 'wb'))\n",
    "pickle.dump(top_times, open('selected_shots_boundaries_final.pickle', 'wb'))"
   ]
  },
  {
   "cell_type": "markdown",
   "metadata": {},
   "source": [
    "# Generate the Videos!"
   ]
  },
  {
   "cell_type": "code",
   "execution_count": 281,
   "metadata": {},
   "outputs": [],
   "source": [
    "! pip install -q moviepy"
   ]
  },
  {
   "cell_type": "code",
   "execution_count": 299,
   "metadata": {},
   "outputs": [],
   "source": [
    "shot_boundaries = {}\n",
    "for character in top_selection:\n",
    "    for shot in top_selection[character]:\n",
    "        if shot not in shot_boundaries:\n",
    "            shot_boundaries[shot] = mastershot_df[mastershot_df.sid == shot][['start', 'end']].values[0]"
   ]
  },
  {
   "cell_type": "code",
   "execution_count": 300,
   "metadata": {},
   "outputs": [
    {
     "data": {
      "text/plain": [
       "{'175', '176', '177', '178', '179', '181', '182', '183', '184', '185'}"
      ]
     },
     "execution_count": 300,
     "metadata": {},
     "output_type": "execute_result"
    }
   ],
   "source": [
    "set([k.split('-')[0] for k in shot_boundaries])"
   ]
  },
  {
   "cell_type": "code",
   "execution_count": 301,
   "metadata": {},
   "outputs": [
    {
     "data": {
      "text/plain": [
       "dict_keys(['176-1200', '177-2024', '182-1681', '178-51', '182-14', '183-1411', '176-1785', '182-1494', '181-116', '176-2060', '175-2247', '181-1544', '185-992', '182-676', '182-1108', '176-928', '183-1883', '183-1397', '185-943', '184-39', '175-1772', '178-1549', '176-1092', '185-438', '179-1741', '182-1203', '181-1084', '179-940', '181-1250', '176-1242', '182-1279', '175-941', '185-316', '185-981', '184-2212', '184-2213', '182-1509', '182-1188', '177-1793', '182-57', '184-1785'])"
      ]
     },
     "execution_count": 301,
     "metadata": {},
     "output_type": "execute_result"
    }
   ],
   "source": [
    "shot_boundaries.keys()"
   ]
  },
  {
   "cell_type": "code",
   "execution_count": null,
   "metadata": {},
   "outputs": [],
   "source": [
    "shot185_1736"
   ]
  },
  {
   "cell_type": "code",
   "execution_count": null,
   "metadata": {},
   "outputs": [],
   "source": []
  },
  {
   "cell_type": "code",
   "execution_count": 284,
   "metadata": {},
   "outputs": [
    {
     "data": {
      "text/plain": [
       "94078.25"
      ]
     },
     "execution_count": 284,
     "metadata": {},
     "output_type": "execute_result"
    }
   ],
   "source": [
    "3763.13 * 25"
   ]
  },
  {
   "cell_type": "code",
   "execution_count": 285,
   "metadata": {},
   "outputs": [
    {
     "data": {
      "text/plain": [
       "['5531550228324592939.mp4',\n",
       " '5534228999422914578.mp4',\n",
       " '5542003749222140011.mp4',\n",
       " '5555325449284154780.mp4',\n",
       " '5547193787702629969.mp4',\n",
       " '5544620672795594434.mp4',\n",
       " '5555360238519252381.mp4',\n",
       " '5552368364300855101.mp4',\n",
       " '5549784941472309008.mp4',\n",
       " '5544574287152993687.mp4',\n",
       " '5539381671692122744.mp4']"
      ]
     },
     "execution_count": 285,
     "metadata": {},
     "output_type": "execute_result"
    }
   ],
   "source": [
    "os.listdir('../../eastenders_episodes')"
   ]
  },
  {
   "cell_type": "code",
   "execution_count": 286,
   "metadata": {},
   "outputs": [
    {
     "name": "stdout",
     "output_type": "stream",
     "text": [
      "Using OpenCV is too slow\n"
     ]
    }
   ],
   "source": [
    "\"\"\"%%time\n",
    "frames = {}\n",
    "# Read until video is completed\n",
    "for filename in tqdm(os.listdir('../../eastenders_episodes'), total=11):\n",
    "    print('Processing', filename)\n",
    "    vid = cv2.VideoCapture('../../eastenders_episodes/' + filename)\n",
    "    vid_id = file2id[filename]\n",
    "    current_frame = 0\n",
    "    \n",
    "    for sid in sorted([sid for sid in shot_boundaries if sid.startswith(vid_id)]):\n",
    "        start_frame = int(shot_boundaries[shot][0] * 25)\n",
    "        end_frame = int(shot_boundaries[shot][1] * 25)\n",
    "        frames[sid] = []\n",
    "        \n",
    "        while(cap.isOpened()):\n",
    "            ret, frame = cap.read()\n",
    "            current_frame += 1\n",
    "            if ret == True and current_frame >= start_frame and current_frame <= end_frame:\n",
    "                frames[sid].append(frame)\n",
    "            if ret == True and current_frame > end_frame:\n",
    "                print(f'frames[{sid}]:', len(frames[sid]))\n",
    "                break\n",
    "\n",
    "    vid.release()\"\"\"\n",
    "print('Using OpenCV is too slow')"
   ]
  },
  {
   "cell_type": "code",
   "execution_count": 287,
   "metadata": {},
   "outputs": [
    {
     "data": {
      "text/plain": [
       "array([5326.22, 5328.05])"
      ]
     },
     "execution_count": 287,
     "metadata": {},
     "output_type": "execute_result"
    }
   ],
   "source": [
    "df[df.sid == '175-1772'][['begin', 'end']].values[0]"
   ]
  },
  {
   "cell_type": "code",
   "execution_count": 303,
   "metadata": {},
   "outputs": [
    {
     "data": {
      "application/vnd.jupyter.widget-view+json": {
       "model_id": "32c25610f5724b26ad2d13714168499b",
       "version_major": 2,
       "version_minor": 0
      },
      "text/plain": [
       "HBox(children=(FloatProgress(value=0.0, max=11.0), HTML(value='')))"
      ]
     },
     "metadata": {},
     "output_type": "display_data"
    },
    {
     "name": "stdout",
     "output_type": "stream",
     "text": [
      "Processing 5531550228324592939.mp4\n",
      "Processing 5534228999422914578.mp4\n",
      "Processing 5542003749222140011.mp4\n",
      "Processing 5555325449284154780.mp4\n",
      "Processing 5547193787702629969.mp4\n",
      "Processing 5544620672795594434.mp4\n",
      "Processing 5555360238519252381.mp4\n",
      "Processing 5552368364300855101.mp4\n",
      "Processing 5549784941472309008.mp4\n",
      "Processing 5544574287152993687.mp4\n",
      "Processing 5539381671692122744.mp4\n",
      "\n",
      "CPU times: user 130 ms, sys: 4.15 s, total: 4.28 s\n",
      "Wall time: 18.2 s\n"
     ]
    }
   ],
   "source": [
    "%%time\n",
    "frames = {}\n",
    "durs = {}\n",
    "# Read until video is completed\n",
    "for filename in tqdm(os.listdir('../../eastenders_episodes'), total=11):\n",
    "    print('Processing', filename)\n",
    "    video = VideoFileClip('../../eastenders_episodes/' + filename)\n",
    "    vid_id = file2id[filename]\n",
    "    current_frame = 0\n",
    "    \n",
    "    for sid in sorted([sid for sid in shot_boundaries if sid.startswith(vid_id)]):\n",
    "        try:\n",
    "            start, end = shot_boundaries[sid]\n",
    "            frames[sid] = video.subclip(start, end)\n",
    "            durs[sid] = (strptime(end, '%H:%M:%S.%f') - strptime(start, '%H:%M:%S.%f')).total_seconds()\n",
    "        except Exception as e:\n",
    "            print('EXCEPTION', str(e))\n",
    "            print(sid, start, end)"
   ]
  },
  {
   "cell_type": "code",
   "execution_count": 304,
   "metadata": {
    "scrolled": true
   },
   "outputs": [
    {
     "name": "stdout",
     "output_type": "stream",
     "text": [
      "JANINE\n",
      "Generating videos for Janine :\n",
      "   Run 1 .. Done! (20.18 s)\n",
      "   Run 2 .. Done! (37.67 s)\n",
      "   Run 3 .. Done! (45.12 s)\n",
      "   Run 4 .. Done! (58.39 s)\n",
      "RYAN\n",
      "Generating videos for Ryan :\n",
      "   Run 1 .. Done! (20.10 s)\n",
      "   Run 2 .. Done! (37.25 s)\n",
      "   Run 3 .. Done! (53.85 s)\n",
      "   Run 4 .. Done! (68.36 s)\n",
      "STACEY\n",
      "Generating videos for Stacey :\n",
      "   Run 1 .. Done! (20.21 s)\n",
      "   Run 2 .. Done! (28.77 s)\n",
      "   Run 3 .. Done! (44.57 s)\n",
      "   Run 4 .. Done! (59.39 s)\n"
     ]
    }
   ],
   "source": [
    "for char in top_selection:\n",
    "    print(char.upper())\n",
    "    print('Generating videos for', char, ':')\n",
    "    for run in range(1, 5):\n",
    "        t = time.time()\n",
    "        print('   Run', run, '..', end=' ')\n",
    "        shots = sorted(top_selection[char][:5*run])\n",
    "        result = concatenate_videoclips([frames[sid] for sid in shots]) \n",
    "        result.write_videofile(f\"videos/MeMAD_{run}_{char}.mp4\",fps=25, logger=None)\n",
    "        print(f'Done! ({(time.time() - t):.2f} s)')"
   ]
  },
  {
   "cell_type": "code",
   "execution_count": 351,
   "metadata": {},
   "outputs": [],
   "source": [
    "results = {'Janine': {1:[('175_1', 5.3), ('175_2', 5.3)],\n",
    "                      2:[('175_1', 5.3), ('175_2', 5.3), ('175_3', 5.3)],\n",
    "                      3:[('175_1', 5.3), ('175_2', 5.3), ('175_3', 5.3), ('175_4', 5.3)],\n",
    "                      4:[('175_1', 5.3), ('175_2', 5.3), ('175_3', 5.3), ('175_4', 5.3), ('175_5', 5.3)],},\n",
    "           'Ryan':   {1:[('175_1', 5.3), ('175_2', 5.3)],\n",
    "                      2:[('175_1', 5.3), ('175_2', 5.3), ('175_3', 5.3)],\n",
    "                      3:[('175_1', 5.3), ('175_2', 5.3), ('175_3', 5.3), ('175_4', 5.3)],\n",
    "                      4:[('175_1', 5.3), ('175_2', 5.3), ('175_3', 5.3), ('175_4', 5.3), ('175_5', 5.3)],},\n",
    "           'Stacey': {1:[('175_1', 5.3), ('175_2', 5.3)],\n",
    "                      2:[('175_1', 5.3), ('175_2', 5.3), ('175_3', 5.3)],\n",
    "                      3:[('175_1', 5.3), ('175_2', 5.3), ('175_3', 5.3), ('175_4', 5.3)],\n",
    "                      4:[('175_1', 5.3), ('175_2', 5.3), ('175_3', 5.3), ('175_4', 5.3), ('175_5', 5.3)],}}"
   ]
  },
  {
   "cell_type": "code",
   "execution_count": 354,
   "metadata": {},
   "outputs": [
    {
     "data": {
      "text/plain": [
       "{'Janine': {1: [('175_1', 5.3), ('175_2', 5.3)],\n",
       "  2: [('175_1', 5.3), ('175_2', 5.3), ('175_3', 5.3)],\n",
       "  3: [('175_1', 5.3), ('175_2', 5.3), ('175_3', 5.3), ('175_4', 5.3)],\n",
       "  4: [('175_1', 5.3),\n",
       "   ('175_2', 5.3),\n",
       "   ('175_3', 5.3),\n",
       "   ('175_4', 5.3),\n",
       "   ('175_5', 5.3)]},\n",
       " 'Ryan': {1: [('175_1', 5.3), ('175_2', 5.3)],\n",
       "  2: [('175_1', 5.3), ('175_2', 5.3), ('175_3', 5.3)],\n",
       "  3: [('175_1', 5.3), ('175_2', 5.3), ('175_3', 5.3), ('175_4', 5.3)],\n",
       "  4: [('175_1', 5.3),\n",
       "   ('175_2', 5.3),\n",
       "   ('175_3', 5.3),\n",
       "   ('175_4', 5.3),\n",
       "   ('175_5', 5.3)]},\n",
       " 'Stacey': {1: [('175_1', 5.3), ('175_2', 5.3)],\n",
       "  2: [('175_1', 5.3), ('175_2', 5.3), ('175_3', 5.3)],\n",
       "  3: [('175_1', 5.3), ('175_2', 5.3), ('175_3', 5.3), ('175_4', 5.3)],\n",
       "  4: [('175_1', 5.3),\n",
       "   ('175_2', 5.3),\n",
       "   ('175_3', 5.3),\n",
       "   ('175_4', 5.3),\n",
       "   ('175_5', 5.3)]}}"
      ]
     },
     "execution_count": 354,
     "metadata": {},
     "output_type": "execute_result"
    }
   ],
   "source": [
    "results"
   ]
  },
  {
   "cell_type": "code",
   "execution_count": 367,
   "metadata": {},
   "outputs": [],
   "source": [
    "results = {}\n",
    "for char in top_selection:\n",
    "    results[char] = {}\n",
    "    for run in range(1, 5):\n",
    "        shots = sorted(top_selection[char][:5*run])\n",
    "        results[char][run] = [(shot.replace('-', '_'), durs[shot]) for shot in shots] # [('100-1', 10.5) for shot in shots] #"
   ]
  },
  {
   "cell_type": "code",
   "execution_count": 368,
   "metadata": {
    "scrolled": true
   },
   "outputs": [
    {
     "data": {
      "text/plain": [
       "{'Janine': {1: [('176_1200', 12.84),\n",
       "   ('177_2024', 18.23),\n",
       "   ('178_51', 20.17),\n",
       "   ('182_14', 3.11),\n",
       "   ('182_1681', 16.02)],\n",
       "  2: [('176_1200', 12.84),\n",
       "   ('176_1785', 4.87),\n",
       "   ('176_2060', 16.86),\n",
       "   ('177_2024', 18.23),\n",
       "   ('178_51', 20.17),\n",
       "   ('181_116', 1.06),\n",
       "   ('182_14', 3.11),\n",
       "   ('182_1494', 12.97),\n",
       "   ('182_1681', 16.02),\n",
       "   ('183_1411', 4.0)],\n",
       "  3: [('175_2247', 5.96),\n",
       "   ('176_1200', 12.84),\n",
       "   ('176_1785', 4.87),\n",
       "   ('176_2060', 16.86),\n",
       "   ('177_2024', 18.23),\n",
       "   ('178_51', 20.17),\n",
       "   ('181_116', 1.06),\n",
       "   ('181_1544', 1.91),\n",
       "   ('182_1108', 3.1),\n",
       "   ('182_14', 3.11),\n",
       "   ('182_1494', 12.97),\n",
       "   ('182_1681', 16.02),\n",
       "   ('182_676', 5.05),\n",
       "   ('183_1411', 4.0),\n",
       "   ('185_992', 2.82)],\n",
       "  4: [('175_2247', 5.96),\n",
       "   ('176_1200', 12.84),\n",
       "   ('176_1785', 4.87),\n",
       "   ('176_2060', 16.86),\n",
       "   ('176_928', 5.9),\n",
       "   ('177_2024', 18.23),\n",
       "   ('178_51', 20.17),\n",
       "   ('181_116', 1.06),\n",
       "   ('181_1544', 1.91),\n",
       "   ('182_1108', 3.1),\n",
       "   ('182_14', 3.11),\n",
       "   ('182_1494', 12.97),\n",
       "   ('182_1681', 16.02),\n",
       "   ('182_676', 5.05),\n",
       "   ('183_1397', 20.15),\n",
       "   ('183_1411', 4.0),\n",
       "   ('183_1883', 6.0),\n",
       "   ('184_39', 10.09),\n",
       "   ('185_943', 2.92),\n",
       "   ('185_992', 2.82)]},\n",
       " 'Ryan': {1: [('175_1772', 1.83),\n",
       "   ('176_1200', 12.84),\n",
       "   ('177_2024', 18.23),\n",
       "   ('178_1549', 15.77),\n",
       "   ('182_1681', 16.02)],\n",
       "  2: [('175_1772', 1.83),\n",
       "   ('176_1092', 19.85),\n",
       "   ('176_1200', 12.84),\n",
       "   ('177_2024', 18.23),\n",
       "   ('178_1549', 15.77),\n",
       "   ('179_1741', 7.95),\n",
       "   ('182_1203', 13.06),\n",
       "   ('182_1681', 16.02),\n",
       "   ('183_1411', 4.0),\n",
       "   ('185_438', 12.15)],\n",
       "  3: [('175_1772', 1.83),\n",
       "   ('176_1092', 19.85),\n",
       "   ('176_1200', 12.84),\n",
       "   ('176_2060', 16.86),\n",
       "   ('177_2024', 18.23),\n",
       "   ('178_1549', 15.77),\n",
       "   ('179_1741', 7.95),\n",
       "   ('179_940', 11.06),\n",
       "   ('181_1084', 3.04),\n",
       "   ('181_116', 1.06),\n",
       "   ('182_1203', 13.06),\n",
       "   ('182_1494', 12.97),\n",
       "   ('182_1681', 16.02),\n",
       "   ('183_1411', 4.0),\n",
       "   ('185_438', 12.15)],\n",
       "  4: [('175_1772', 1.83),\n",
       "   ('175_2247', 5.96),\n",
       "   ('176_1092', 19.85),\n",
       "   ('176_1200', 12.84),\n",
       "   ('176_1242', 2.8),\n",
       "   ('176_2060', 16.86),\n",
       "   ('177_2024', 18.23),\n",
       "   ('178_1549', 15.77),\n",
       "   ('179_1741', 7.95),\n",
       "   ('179_940', 11.06),\n",
       "   ('181_1084', 3.04),\n",
       "   ('181_116', 1.06),\n",
       "   ('181_1250', 15.9),\n",
       "   ('181_1544', 1.91),\n",
       "   ('182_1203', 13.06),\n",
       "   ('182_1279', 4.88),\n",
       "   ('182_1494', 12.97),\n",
       "   ('182_1681', 16.02),\n",
       "   ('183_1411', 4.0),\n",
       "   ('185_438', 12.15)]},\n",
       " 'Stacey': {1: [('175_941', 2.88),\n",
       "   ('176_1200', 12.84),\n",
       "   ('177_2024', 18.23),\n",
       "   ('178_1549', 15.77),\n",
       "   ('185_316', 2.94)],\n",
       "  2: [('175_941', 2.88),\n",
       "   ('176_1200', 12.84),\n",
       "   ('177_2024', 18.23),\n",
       "   ('178_1549', 15.77),\n",
       "   ('178_51', 20.17),\n",
       "   ('182_1509', 4.05),\n",
       "   ('184_2212', 2.01),\n",
       "   ('184_2213', 2.84),\n",
       "   ('185_316', 2.94),\n",
       "   ('185_981', 2.0)],\n",
       "  3: [('175_941', 2.88),\n",
       "   ('176_1200', 12.84),\n",
       "   ('177_1793', 5.02),\n",
       "   ('177_2024', 18.23),\n",
       "   ('178_1549', 15.77),\n",
       "   ('178_51', 20.17),\n",
       "   ('179_1741', 7.95),\n",
       "   ('182_1188', 4.92),\n",
       "   ('182_1494', 12.97),\n",
       "   ('182_1509', 4.05),\n",
       "   ('184_2212', 2.01),\n",
       "   ('184_2213', 2.84),\n",
       "   ('185_316', 2.94),\n",
       "   ('185_438', 12.15),\n",
       "   ('185_981', 2.0)],\n",
       "  4: [('175_941', 2.88),\n",
       "   ('176_1200', 12.84),\n",
       "   ('177_1793', 5.02),\n",
       "   ('177_2024', 18.23),\n",
       "   ('178_1549', 15.77),\n",
       "   ('178_51', 20.17),\n",
       "   ('179_1741', 7.95),\n",
       "   ('181_1250', 15.9),\n",
       "   ('182_1188', 4.92),\n",
       "   ('182_1279', 4.88),\n",
       "   ('182_1494', 12.97),\n",
       "   ('182_1509', 4.05),\n",
       "   ('182_57', 3.0),\n",
       "   ('184_1785', 4.76),\n",
       "   ('184_2212', 2.01),\n",
       "   ('184_2213', 2.84),\n",
       "   ('185_316', 2.94),\n",
       "   ('185_438', 12.15),\n",
       "   ('185_981', 2.0),\n",
       "   ('185_992', 2.82)]}}"
      ]
     },
     "execution_count": 368,
     "metadata": {},
     "output_type": "execute_result"
    }
   ],
   "source": [
    "results"
   ]
  },
  {
   "cell_type": "code",
   "execution_count": 376,
   "metadata": {},
   "outputs": [],
   "source": [
    "def generate_results(results):\n",
    "    team_name = 'MeMAD'\n",
    "    desc = \"The output\"\n",
    "    query_characters = ['Janine', 'Ryan', 'Stacey']\n",
    "    shots_per_run = {1: 5, 2: 10, 3:15, 4:20}\n",
    "\n",
    "    for run in [1, 2, 3, 4]:\n",
    "        with open(f'xml/{team_name}_run_{run}.xml', 'wt') as file:\n",
    "            file.write('<!DOCTYPE videoSummarizationResults SYSTEM \"https://www-nlpir.nist.gov/projects/tv2020/dtds/videoSummarizationResults.dtd\">\\n')\n",
    "            file.write('<videoSummarizationResults>\\n')\n",
    "            file.write(f'\\t<videoSummarizationRunResult pid=\"{team_name}\" priority=\"{run}\" desc=\"Run {run}\">\\n')\n",
    "            for character in query_characters:\n",
    "                n_shots = shots_per_run[run]\n",
    "                duration = sum([c[1] for c in results[character][run]])\n",
    "                file.write(f'\\t\\t<videoSummarizationTopicResult  target=\"{character}\" numShots=\"{shots_per_run[run]}\" summTime=\"{round(duration, 1)}\">\\n')\n",
    "                for i, shot_id in enumerate(results[character][run]):\n",
    "                    file.write(f'\\t\\t\\t<item seqNum=\"{i+1}\" shotId=\"shot{shot_id[0]}\"/>\\n')\n",
    "                file.write(f'\\t\\t</videoSummarizationTopicResult>\\n')\n",
    "            file.write('\\t</videoSummarizationRunResult>\\n')\n",
    "            file.write('</videoSummarizationResults>\\n')"
   ]
  },
  {
   "cell_type": "code",
   "execution_count": 377,
   "metadata": {},
   "outputs": [],
   "source": [
    "generate_results(results)"
   ]
  },
  {
   "cell_type": "code",
   "execution_count": null,
   "metadata": {},
   "outputs": [],
   "source": []
  }
 ],
 "metadata": {
  "kernelspec": {
   "display_name": "Python 3",
   "language": "python",
   "name": "python3"
  },
  "language_info": {
   "codemirror_mode": {
    "name": "ipython",
    "version": 3
   },
   "file_extension": ".py",
   "mimetype": "text/x-python",
   "name": "python",
   "nbconvert_exporter": "python",
   "pygments_lexer": "ipython3",
   "version": "3.6.9"
  }
 },
 "nbformat": 4,
 "nbformat_minor": 2
}
