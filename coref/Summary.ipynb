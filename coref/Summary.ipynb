{
 "cells": [
  {
   "cell_type": "code",
   "execution_count": 1,
   "metadata": {},
   "outputs": [
    {
     "name": "stdout",
     "output_type": "stream",
     "text": [
      "\u001b[33m  WARNING: The script pathy is installed in '/home/reboud/.local/bin' which is not on PATH.\n",
      "  Consider adding this directory to PATH or, if you prefer to suppress this warning, use --no-warn-script-location.\u001b[0m\n",
      "\u001b[33m  WARNING: The script spacy is installed in '/home/reboud/.local/bin' which is not on PATH.\n",
      "  Consider adding this directory to PATH or, if you prefer to suppress this warning, use --no-warn-script-location.\u001b[0m\n",
      "\u001b[31mERROR: pip's dependency resolver does not currently take into account all the packages that are installed. This behaviour is the source of the following dependency conflicts.\n",
      "chainer 6.1.0 requires protobuf<3.8.0rc1,>=3.0.0, but you have protobuf 3.8.0 which is incompatible.\n",
      "chainer 6.1.0 requires typing<=3.6.6, but you have typing 3.7.4 which is incompatible.\n",
      "chainer 6.1.0 requires typing-extensions<=3.6.6, but you have typing-extensions 3.7.4.3 which is incompatible.\u001b[0m\n"
     ]
    }
   ],
   "source": [
    "! pip -q install bert-extractive-summarizer"
   ]
  },
  {
   "cell_type": "code",
   "execution_count": 1,
   "metadata": {},
   "outputs": [
    {
     "name": "stdout",
     "output_type": "stream",
     "text": [
      "Collecting spacy==2.1.3\n",
      "\u001b[?25l  Downloading https://files.pythonhosted.org/packages/c7/29/ede5977ea144bb5758407542eb363ebfb11bbb459d26dea5dd0545563854/spacy-2.1.3-cp37-cp37m-manylinux1_x86_64.whl (27.7MB)\n",
      "\u001b[K     |████████████████████████████████| 27.7MB 1.9MB/s eta 0:00:01\n",
      "\u001b[?25hCollecting preshed<2.1.0,>=2.0.1 (from spacy==2.1.3)\n",
      "  Using cached https://files.pythonhosted.org/packages/bc/2b/3ecd5d90d2d6fd39fbc520de7d80db5d74defdc2d7c2e15531d9cc3498c7/preshed-2.0.1-cp37-cp37m-manylinux1_x86_64.whl\n",
      "Requirement already satisfied: numpy>=1.15.0 in /home/ismail/anaconda3/lib/python3.7/site-packages (from spacy==2.1.3) (1.17.2)\n",
      "Collecting blis<0.3.0,>=0.2.2 (from spacy==2.1.3)\n",
      "  Using cached https://files.pythonhosted.org/packages/fa/5f/47b7b29ad202b2210020e2f33bfb06d1db2abe0e709c2a84736e8a9d1bd5/blis-0.2.4-cp37-cp37m-manylinux1_x86_64.whl\n",
      "Requirement already satisfied: plac<1.0.0,>=0.9.6 in /home/ismail/anaconda3/lib/python3.7/site-packages (from spacy==2.1.3) (0.9.6)\n",
      "Requirement already satisfied: wasabi<1.1.0,>=0.2.0 in /home/ismail/anaconda3/lib/python3.7/site-packages (from spacy==2.1.3) (0.4.2)\n",
      "Requirement already satisfied: requests<3.0.0,>=2.13.0 in /home/ismail/anaconda3/lib/python3.7/site-packages (from spacy==2.1.3) (2.22.0)\n",
      "Requirement already satisfied: jsonschema<3.0.0,>=2.6.0 in /home/ismail/anaconda3/lib/python3.7/site-packages (from spacy==2.1.3) (2.6.0)\n",
      "Requirement already satisfied: cymem<2.1.0,>=2.0.2 in /home/ismail/anaconda3/lib/python3.7/site-packages (from spacy==2.1.3) (2.0.3)\n",
      "Requirement already satisfied: murmurhash<1.1.0,>=0.28.0 in /home/ismail/anaconda3/lib/python3.7/site-packages (from spacy==2.1.3) (1.0.2)\n",
      "Requirement already satisfied: srsly<1.1.0,>=0.0.5 in /home/ismail/anaconda3/lib/python3.7/site-packages (from spacy==2.1.3) (1.0.2)\n",
      "Collecting thinc<7.1.0,>=7.0.2 (from spacy==2.1.3)\n",
      "  Using cached https://files.pythonhosted.org/packages/36/42/d7ea7539af3852fd8c1f0b3adf4a100fb3d72b40b69cef1a764ff979a743/thinc-7.0.8-cp37-cp37m-manylinux1_x86_64.whl\n",
      "Requirement already satisfied: certifi>=2017.4.17 in /home/ismail/anaconda3/lib/python3.7/site-packages (from requests<3.0.0,>=2.13.0->spacy==2.1.3) (2019.9.11)\n",
      "Requirement already satisfied: urllib3!=1.25.0,!=1.25.1,<1.26,>=1.21.1 in /home/ismail/anaconda3/lib/python3.7/site-packages (from requests<3.0.0,>=2.13.0->spacy==2.1.3) (1.24.2)\n",
      "Requirement already satisfied: chardet<3.1.0,>=3.0.2 in /home/ismail/anaconda3/lib/python3.7/site-packages (from requests<3.0.0,>=2.13.0->spacy==2.1.3) (3.0.4)\n",
      "Requirement already satisfied: idna<2.9,>=2.5 in /home/ismail/anaconda3/lib/python3.7/site-packages (from requests<3.0.0,>=2.13.0->spacy==2.1.3) (2.8)\n",
      "Requirement already satisfied: tqdm<5.0.0,>=4.10.0 in /home/ismail/anaconda3/lib/python3.7/site-packages (from thinc<7.1.0,>=7.0.2->spacy==2.1.3) (4.48.0)\n",
      "\u001b[31mERROR: fr-core-news-md 2.2.5 has requirement spacy>=2.2.2, but you'll have spacy 2.1.3 which is incompatible.\u001b[0m\n",
      "\u001b[31mERROR: en-core-web-sm 2.2.5 has requirement spacy>=2.2.2, but you'll have spacy 2.1.3 which is incompatible.\u001b[0m\n",
      "\u001b[31mERROR: en-core-web-md 2.2.5 has requirement spacy>=2.2.2, but you'll have spacy 2.1.3 which is incompatible.\u001b[0m\n",
      "Installing collected packages: preshed, blis, thinc, spacy\n",
      "  Found existing installation: preshed 3.0.2\n",
      "    Uninstalling preshed-3.0.2:\n",
      "      Successfully uninstalled preshed-3.0.2\n",
      "  Found existing installation: blis 0.4.1\n",
      "    Uninstalling blis-0.4.1:\n",
      "      Successfully uninstalled blis-0.4.1\n",
      "  Found existing installation: thinc 7.4.1\n",
      "    Uninstalling thinc-7.4.1:\n",
      "      Successfully uninstalled thinc-7.4.1\n",
      "  Found existing installation: spacy 2.3.2\n",
      "    Uninstalling spacy-2.3.2:\n",
      "      Successfully uninstalled spacy-2.3.2\n",
      "Successfully installed blis-0.2.4 preshed-2.0.1 spacy-2.1.3 thinc-7.0.8\n"
     ]
    }
   ],
   "source": [
    "! pip install spacy==2.1.3"
   ]
  },
  {
   "cell_type": "code",
   "execution_count": 2,
   "metadata": {},
   "outputs": [
    {
     "name": "stdout",
     "output_type": "stream",
     "text": [
      "Requirement already satisfied: transformers==2.2.2 in /home/ismail/anaconda3/lib/python3.7/site-packages (2.2.2)\n",
      "Requirement already satisfied: boto3 in /home/ismail/anaconda3/lib/python3.7/site-packages (from transformers==2.2.2) (1.12.8)\n",
      "Requirement already satisfied: regex in /home/ismail/anaconda3/lib/python3.7/site-packages (from transformers==2.2.2) (2020.2.20)\n",
      "Requirement already satisfied: requests in /home/ismail/anaconda3/lib/python3.7/site-packages (from transformers==2.2.2) (2.22.0)\n",
      "Requirement already satisfied: tqdm in /home/ismail/anaconda3/lib/python3.7/site-packages (from transformers==2.2.2) (4.48.0)\n",
      "Requirement already satisfied: numpy in /home/ismail/anaconda3/lib/python3.7/site-packages (from transformers==2.2.2) (1.17.2)\n",
      "Requirement already satisfied: sentencepiece in /home/ismail/anaconda3/lib/python3.7/site-packages (from transformers==2.2.2) (0.1.83)\n",
      "Requirement already satisfied: sacremoses in /home/ismail/anaconda3/lib/python3.7/site-packages (from transformers==2.2.2) (0.0.38)\n",
      "Requirement already satisfied: botocore<1.16.0,>=1.15.8 in /home/ismail/anaconda3/lib/python3.7/site-packages (from boto3->transformers==2.2.2) (1.15.8)\n",
      "Requirement already satisfied: s3transfer<0.4.0,>=0.3.0 in /home/ismail/anaconda3/lib/python3.7/site-packages (from boto3->transformers==2.2.2) (0.3.3)\n",
      "Requirement already satisfied: jmespath<1.0.0,>=0.7.1 in /home/ismail/anaconda3/lib/python3.7/site-packages (from boto3->transformers==2.2.2) (0.9.4)\n",
      "Requirement already satisfied: idna<2.9,>=2.5 in /home/ismail/anaconda3/lib/python3.7/site-packages (from requests->transformers==2.2.2) (2.8)\n",
      "Requirement already satisfied: certifi>=2017.4.17 in /home/ismail/anaconda3/lib/python3.7/site-packages (from requests->transformers==2.2.2) (2019.9.11)\n",
      "Requirement already satisfied: urllib3!=1.25.0,!=1.25.1,<1.26,>=1.21.1 in /home/ismail/anaconda3/lib/python3.7/site-packages (from requests->transformers==2.2.2) (1.24.2)\n",
      "Requirement already satisfied: chardet<3.1.0,>=3.0.2 in /home/ismail/anaconda3/lib/python3.7/site-packages (from requests->transformers==2.2.2) (3.0.4)\n",
      "Requirement already satisfied: six in /home/ismail/anaconda3/lib/python3.7/site-packages (from sacremoses->transformers==2.2.2) (1.12.0)\n",
      "Requirement already satisfied: click in /home/ismail/anaconda3/lib/python3.7/site-packages (from sacremoses->transformers==2.2.2) (7.0)\n",
      "Requirement already satisfied: joblib in /home/ismail/anaconda3/lib/python3.7/site-packages (from sacremoses->transformers==2.2.2) (0.13.2)\n",
      "Requirement already satisfied: docutils<0.16,>=0.10 in /home/ismail/anaconda3/lib/python3.7/site-packages (from botocore<1.16.0,>=1.15.8->boto3->transformers==2.2.2) (0.15.2)\n",
      "Requirement already satisfied: python-dateutil<3.0.0,>=2.1 in /home/ismail/anaconda3/lib/python3.7/site-packages (from botocore<1.16.0,>=1.15.8->boto3->transformers==2.2.2) (2.8.0)\n"
     ]
    }
   ],
   "source": [
    "! pip install transformers==2.2.2"
   ]
  },
  {
   "cell_type": "code",
   "execution_count": 3,
   "metadata": {},
   "outputs": [
    {
     "name": "stdout",
     "output_type": "stream",
     "text": [
      "Collecting en_core_web_md==2.1.0 from https://github.com/explosion/spacy-models/releases/download/en_core_web_md-2.1.0/en_core_web_md-2.1.0.tar.gz#egg=en_core_web_md==2.1.0\n",
      "\u001b[?25l  Downloading https://github.com/explosion/spacy-models/releases/download/en_core_web_md-2.1.0/en_core_web_md-2.1.0.tar.gz (95.4MB)\n",
      "\u001b[K     |████████████████████████████████| 95.4MB 1.6MB/s eta 0:00:01     |█████████████████████████▊      | 76.6MB 1.9MB/s eta 0:00:10\n",
      "\u001b[?25hBuilding wheels for collected packages: en-core-web-md\n",
      "  Building wheel for en-core-web-md (setup.py) ... \u001b[?25ldone\n",
      "\u001b[?25h  Created wheel for en-core-web-md: filename=en_core_web_md-2.1.0-cp37-none-any.whl size=97126237 sha256=4571239e679c334157dd1d47085e27211729a43afe712ffa5edee11762c2c140\n",
      "  Stored in directory: /tmp/pip-ephem-wheel-cache-nfnle0js/wheels/c1/2c/5f/fd7f3ec336bf97b0809c86264d2831c5dfb00fc2e239d1bb01\n",
      "Successfully built en-core-web-md\n",
      "Installing collected packages: en-core-web-md\n",
      "  Found existing installation: en-core-web-md 2.2.5\n",
      "    Uninstalling en-core-web-md-2.2.5:\n",
      "      Successfully uninstalled en-core-web-md-2.2.5\n",
      "Successfully installed en-core-web-md-2.1.0\n",
      "\u001b[38;5;2m✔ Download and installation successful\u001b[0m\n",
      "You can now load the model via spacy.load('en_core_web_md')\n"
     ]
    }
   ],
   "source": [
    "! python -m spacy download en_core_web_md"
   ]
  },
  {
   "cell_type": "code",
   "execution_count": 4,
   "metadata": {},
   "outputs": [
    {
     "data": {
      "application/vnd.jupyter.widget-view+json": {
       "model_id": "0a3589d03ba546b5bfb03355196b33c1",
       "version_major": 2,
       "version_minor": 0
      },
      "text/plain": [
       "HBox(children=(FloatProgress(value=0.0, description='Downloading', max=434.0, style=ProgressStyle(description_…"
      ]
     },
     "metadata": {},
     "output_type": "display_data"
    },
    {
     "name": "stdout",
     "output_type": "stream",
     "text": [
      "\n"
     ]
    },
    {
     "data": {
      "application/vnd.jupyter.widget-view+json": {
       "model_id": "6cbe775c95374cf6a88b89d29d3aab67",
       "version_major": 2,
       "version_minor": 0
      },
      "text/plain": [
       "HBox(children=(FloatProgress(value=0.0, description='Downloading', max=1344997306.0, style=ProgressStyle(descr…"
      ]
     },
     "metadata": {},
     "output_type": "display_data"
    },
    {
     "name": "stdout",
     "output_type": "stream",
     "text": [
      "\n"
     ]
    },
    {
     "data": {
      "application/vnd.jupyter.widget-view+json": {
       "model_id": "3d64e670429b4442a76a933392eba762",
       "version_major": 2,
       "version_minor": 0
      },
      "text/plain": [
       "HBox(children=(FloatProgress(value=0.0, description='Downloading', max=231508.0, style=ProgressStyle(descripti…"
      ]
     },
     "metadata": {},
     "output_type": "display_data"
    },
    {
     "name": "stdout",
     "output_type": "stream",
     "text": [
      "\n"
     ]
    }
   ],
   "source": [
    "from summarizer import Summarizer\n",
    "\n",
    "model = Summarizer()"
   ]
  },
  {
   "cell_type": "code",
   "execution_count": 7,
   "metadata": {},
   "outputs": [
    {
     "data": {
      "text/plain": [
       "\"Kat persuades Stacey and Jean to come to R&R with her and Kim, leaving Charlie and Alfie to look after Lily. Lily won't settle so Pat takes her for a walk. Julie explains that she was moved to another home when pregnant, their baby was taken away a week after she gave birth. Stacey realises Billy's upset her mum, Janine and Kat get drawn into their argument before Alfie steps in. Billy then turns on Stacey, who hits him.\""
      ]
     },
     "execution_count": 7,
     "metadata": {},
     "output_type": "execute_result"
    }
   ],
   "source": [
    "body = 'Kat persuades Stacey and Jean to come to R&R with her and Kim, leaving Charlie and Alfie to look after Lily. \\\n",
    "        Alfie quickly escapes to the barrel store. There, Alfie fixes the new television to the wall, it falls off and smashes. \\\n",
    "        Alfie joins the girls in R&R. Charlie has to pick up Mo and leaves Lily with Pat. \\\n",
    "        Lily won’t settle so Pat takes her for a walk.\\\n",
    "        Janine accuses Ryan of wanting to go to R&R because he knew Stacey would be there. \\\n",
    "        Ryan denies it and leaves, Janine stays in the club.\\nJulie explains that she was moved to another home when pregnant, their baby was taken away a week after she gave birth. \\\n",
    "        Billy’s angry, first saying the baby should have stayed with them, then insisting Julie shouldn’t have told him about their son at all. \\\n",
    "        Julie leaves, telling Billy he hasn’t changed.\\\n",
    "        Carol ends up in R&R, Billy joins her. \\\n",
    "        The pair get drunk together. Carol cries, Billy tries to kiss her. When Carol rejects his advances, Billy insults her. \\\n",
    "        Billy then unsuccessfully propositions Jean. Stacey realises Billy’s upset her mum, Janine and Kat get drawn into their argument before Alfie steps in. \\\n",
    "        Ricky takes Carol home, Bianca storms to R&R to confront Billy. Giving Lily to Ryan, Pat follows Bianca into the club, worried. \\\n",
    "        Bianca shouts at Billy. When Bianca backs off, Billy says she’s just like all the other ‘scrubbers’ there.\\\n",
    "        Billy then turns on Stacey, who hits him. Janine pulls out a chunk of Stacey’s hair. Kat and Janine hit each other. \\\n",
    "        Billy staggers away from the fight. Someone puts their hand on Billy’s shoulder, he instinctively turns round and hits them - unfortunately it’s a policeman.\\\n",
    "        Roxy’s jealous when Christian brings Syed to R&R. Christian’s furious when Roxy deliberately spikes Syed’s drink.\\\n",
    "        '.replace('’', \"'\")\n",
    "model(body)"
   ]
  },
  {
   "cell_type": "code",
   "execution_count": null,
   "metadata": {},
   "outputs": [],
   "source": []
  }
 ],
 "metadata": {
  "kernelspec": {
   "display_name": "Python 3",
   "language": "python",
   "name": "python3"
  },
  "language_info": {
   "codemirror_mode": {
    "name": "ipython",
    "version": 3
   },
   "file_extension": ".py",
   "mimetype": "text/x-python",
   "name": "python",
   "nbconvert_exporter": "python",
   "pygments_lexer": "ipython3",
   "version": "3.6.9"
  }
 },
 "nbformat": 4,
 "nbformat_minor": 2
}
