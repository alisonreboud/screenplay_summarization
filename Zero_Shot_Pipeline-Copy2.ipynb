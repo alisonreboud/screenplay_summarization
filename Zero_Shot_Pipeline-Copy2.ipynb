{
 "cells": [
  {
   "cell_type": "code",
   "execution_count": 92,
   "metadata": {
    "id": "yTBP_QYuu6tc"
   },
   "outputs": [],
   "source": [
    "#!pip install --upgrade pip\n",
    "#!pip install transformers==3.1.0\n",
    "#!pip install keybert\n",
    "#!pip install -U imbalanced-learn\n",
    "#!pip install --upgrade scikit-learn\n",
    "#!pip install torch==1.2.0 torchvision==0.4.0"
   ]
  },
  {
   "cell_type": "code",
   "execution_count": 3,
   "metadata": {
    "id": "TiU_ES5tzpMH"
   },
   "outputs": [],
   "source": [
    "from transformers import pipeline\n",
    "from os import listdir\n",
    "import pandas as pd\n",
    "from tqdm import tqdm\n",
    "from sklearn.metrics import f1_score\n",
    "from sklearn.preprocessing import MinMaxScaler, StandardScaler, Normalizer\n",
    "import warnings\n",
    "warnings.simplefilter(action='ignore', category=FutureWarning)\n",
    "import numpy as np\n",
    "#from keybert import KeyBERT"
   ]
  },
  {
   "cell_type": "code",
   "execution_count": 44,
   "metadata": {},
   "outputs": [],
   "source": []
  },
  {
   "cell_type": "code",
   "execution_count": null,
   "metadata": {
    "id": "spkccRiv0CB3"
   },
   "outputs": [],
   "source": [
    "classifier = pipeline(\"zero-shot-classification\",device=0) # to utilize GPU"
   ]
  },
  {
   "cell_type": "markdown",
   "metadata": {
    "id": "xWiovVJG9ei_"
   },
   "source": [
    "We can use this pipeline by passing in a sequence and a list of candidate labels. The pipeline assumes by default that only one of the candidate labels is true, returning a list of scores for each label which add up to 1."
   ]
  },
  {
   "cell_type": "code",
   "execution_count": 96,
   "metadata": {},
   "outputs": [],
   "source": [
    "path_screenplays_scenes='coref/csi-corpus/screenplay_summarization/scene_level_n_aspects'\n",
    "eps=[]\n",
    "\n",
    "\n",
    "for ep in listdir(path_screenplays_scenes):\n",
    "    annotated_scenes=pd.read_csv(path_screenplays_scenes+'/'+ep)\n",
    "    eps.append(ep.split('.csv')[0])\n",
    "    \n",
    "\n",
    "\n",
    "centrality_dict = np.load('centralities.npy',allow_pickle=True)\n",
    "\n",
    "\n",
    "#for ep in centrality_dict.item():\n",
    "    #eps.append(ep)\n",
    "\n",
    "#print(centrality_dict.item()['s05e17'][0].cpu())\n",
    "\n",
    "\n"
   ]
  },
  {
   "cell_type": "code",
   "execution_count": 97,
   "metadata": {},
   "outputs": [],
   "source": [
    "def get_results_several_binary(df, classifier, topic_labels):\n",
    "    for topic in topic_labels:\n",
    "        df[topic] = None\n",
    "        for i in df.index:\n",
    "            #text = df.loc[i, 'scene_text']\n",
    "            #text = df.loc[i, 'non_dialogue']\n",
    "            text = df.loc[i, 'dialogue']\n",
    "            if text is not None:\n",
    "                #print(text)\n",
    "                result = classifier(str(text),topic,multi_class=False)\n",
    "                df.loc[i, topic] = result['scores'][0]\n",
    "\n",
    "            \n",
    "    return df"
   ]
  },
  {
   "cell_type": "code",
   "execution_count": 98,
   "metadata": {},
   "outputs": [],
   "source": [
    "def add_centrality_score(df,centrality_scores):\n",
    "    df['centrality']=None\n",
    "    for i in range(len(centrality_scores)):\n",
    "        #print(centrality_scores[i])\n",
    "        df.loc[i, 'centrality'] = centrality_scores[i].cpu()\n",
    "    return df\n",
    "\n",
    "    "
   ]
  },
  {
   "cell_type": "code",
   "execution_count": 99,
   "metadata": {},
   "outputs": [],
   "source": [
    "\n",
    "def f1_score_summer(in_summary,prediction_class):\n",
    "    gs_summary = []\n",
    "    re=[]\n",
    "    pre=[]\n",
    "    f1=[]\n",
    "    for m, label in enumerate(first_results.in_summary):\n",
    "        if label == 1:\n",
    "            gs_summary.append(m)   \n",
    "    extracted = []\n",
    "    for m, label in enumerate(first_results.prediction_class):\n",
    "        if label == 1:\n",
    "            extracted.append(m)\n",
    "    right_now = len(list(set(gs_summary).intersection(extracted)))\n",
    "    overall_now = len(gs_summary)\n",
    "    predicted_now = len(extracted)\n",
    "    try:\n",
    "        recall_now = right_now / overall_now\n",
    "    except:\n",
    "        recall_now = 0\n",
    "    re.append(recall_now)\n",
    "    try:\n",
    "        precision_now = right_now / predicted_now\n",
    "    except:\n",
    "        precision_now = 0\n",
    "    pre.append(precision_now)\n",
    "    try:\n",
    "        f1.append(\n",
    "            (2 * precision_now * recall_now) / (precision_now + recall_now))\n",
    "    except:\n",
    "        f1.append(0)\n",
    "    return f1"
   ]
  },
  {
   "cell_type": "code",
   "execution_count": 89,
   "metadata": {},
   "outputs": [
    {
     "name": "stderr",
     "output_type": "stream",
     "text": [
      "/usr/local/lib/python3.6/dist-packages/ipykernel_launcher.py:16: UserWarning: Pandas doesn't allow columns to be created via a new attribute name - see https://pandas.pydata.org/pandas-docs/stable/indexing.html#attribute-access\n",
      "  app.launch_new_instance()\n",
      "/usr/local/lib/python3.6/dist-packages/pandas/core/indexing.py:190: SettingWithCopyWarning: \n",
      "A value is trying to be set on a copy of a slice from a DataFrame\n",
      "\n",
      "See the caveats in the documentation: http://pandas.pydata.org/pandas-docs/stable/indexing.html#indexing-view-versus-copy\n",
      "  self._setitem_with_indexer(indexer, value)\n",
      "/usr/local/lib/python3.6/dist-packages/ipykernel_launcher.py:16: UserWarning: Pandas doesn't allow columns to be created via a new attribute name - see https://pandas.pydata.org/pandas-docs/stable/indexing.html#attribute-access\n",
      "  app.launch_new_instance()\n",
      "/usr/local/lib/python3.6/dist-packages/pandas/core/indexing.py:190: SettingWithCopyWarning: \n",
      "A value is trying to be set on a copy of a slice from a DataFrame\n",
      "\n",
      "See the caveats in the documentation: http://pandas.pydata.org/pandas-docs/stable/indexing.html#indexing-view-versus-copy\n",
      "  self._setitem_with_indexer(indexer, value)\n",
      "/usr/local/lib/python3.6/dist-packages/ipykernel_launcher.py:16: UserWarning: Pandas doesn't allow columns to be created via a new attribute name - see https://pandas.pydata.org/pandas-docs/stable/indexing.html#attribute-access\n",
      "  app.launch_new_instance()\n",
      "/usr/local/lib/python3.6/dist-packages/pandas/core/indexing.py:190: SettingWithCopyWarning: \n",
      "A value is trying to be set on a copy of a slice from a DataFrame\n",
      "\n",
      "See the caveats in the documentation: http://pandas.pydata.org/pandas-docs/stable/indexing.html#indexing-view-versus-copy\n",
      "  self._setitem_with_indexer(indexer, value)\n",
      "/usr/local/lib/python3.6/dist-packages/ipykernel_launcher.py:16: UserWarning: Pandas doesn't allow columns to be created via a new attribute name - see https://pandas.pydata.org/pandas-docs/stable/indexing.html#attribute-access\n",
      "  app.launch_new_instance()\n",
      "/usr/local/lib/python3.6/dist-packages/pandas/core/indexing.py:190: SettingWithCopyWarning: \n",
      "A value is trying to be set on a copy of a slice from a DataFrame\n",
      "\n",
      "See the caveats in the documentation: http://pandas.pydata.org/pandas-docs/stable/indexing.html#indexing-view-versus-copy\n",
      "  self._setitem_with_indexer(indexer, value)\n",
      "/usr/local/lib/python3.6/dist-packages/ipykernel_launcher.py:16: UserWarning: Pandas doesn't allow columns to be created via a new attribute name - see https://pandas.pydata.org/pandas-docs/stable/indexing.html#attribute-access\n",
      "  app.launch_new_instance()\n",
      "/usr/local/lib/python3.6/dist-packages/pandas/core/indexing.py:190: SettingWithCopyWarning: \n",
      "A value is trying to be set on a copy of a slice from a DataFrame\n",
      "\n",
      "See the caveats in the documentation: http://pandas.pydata.org/pandas-docs/stable/indexing.html#indexing-view-versus-copy\n",
      "  self._setitem_with_indexer(indexer, value)\n",
      "/usr/local/lib/python3.6/dist-packages/ipykernel_launcher.py:16: UserWarning: Pandas doesn't allow columns to be created via a new attribute name - see https://pandas.pydata.org/pandas-docs/stable/indexing.html#attribute-access\n",
      "  app.launch_new_instance()\n",
      "/usr/local/lib/python3.6/dist-packages/pandas/core/indexing.py:190: SettingWithCopyWarning: \n",
      "A value is trying to be set on a copy of a slice from a DataFrame\n",
      "\n",
      "See the caveats in the documentation: http://pandas.pydata.org/pandas-docs/stable/indexing.html#indexing-view-versus-copy\n",
      "  self._setitem_with_indexer(indexer, value)\n",
      "/usr/local/lib/python3.6/dist-packages/ipykernel_launcher.py:16: UserWarning: Pandas doesn't allow columns to be created via a new attribute name - see https://pandas.pydata.org/pandas-docs/stable/indexing.html#attribute-access\n",
      "  app.launch_new_instance()\n",
      "/usr/local/lib/python3.6/dist-packages/pandas/core/indexing.py:190: SettingWithCopyWarning: \n",
      "A value is trying to be set on a copy of a slice from a DataFrame\n",
      "\n",
      "See the caveats in the documentation: http://pandas.pydata.org/pandas-docs/stable/indexing.html#indexing-view-versus-copy\n",
      "  self._setitem_with_indexer(indexer, value)\n",
      "/usr/local/lib/python3.6/dist-packages/ipykernel_launcher.py:16: UserWarning: Pandas doesn't allow columns to be created via a new attribute name - see https://pandas.pydata.org/pandas-docs/stable/indexing.html#attribute-access\n",
      "  app.launch_new_instance()\n",
      "/usr/local/lib/python3.6/dist-packages/pandas/core/indexing.py:190: SettingWithCopyWarning: \n",
      "A value is trying to be set on a copy of a slice from a DataFrame\n",
      "\n",
      "See the caveats in the documentation: http://pandas.pydata.org/pandas-docs/stable/indexing.html#indexing-view-versus-copy\n",
      "  self._setitem_with_indexer(indexer, value)\n",
      "/usr/local/lib/python3.6/dist-packages/ipykernel_launcher.py:16: UserWarning: Pandas doesn't allow columns to be created via a new attribute name - see https://pandas.pydata.org/pandas-docs/stable/indexing.html#attribute-access\n",
      "  app.launch_new_instance()\n",
      "/usr/local/lib/python3.6/dist-packages/pandas/core/indexing.py:190: SettingWithCopyWarning: \n",
      "A value is trying to be set on a copy of a slice from a DataFrame\n",
      "\n",
      "See the caveats in the documentation: http://pandas.pydata.org/pandas-docs/stable/indexing.html#indexing-view-versus-copy\n",
      "  self._setitem_with_indexer(indexer, value)\n",
      "/usr/local/lib/python3.6/dist-packages/ipykernel_launcher.py:16: UserWarning: Pandas doesn't allow columns to be created via a new attribute name - see https://pandas.pydata.org/pandas-docs/stable/indexing.html#attribute-access\n",
      "  app.launch_new_instance()\n",
      "/usr/local/lib/python3.6/dist-packages/pandas/core/indexing.py:190: SettingWithCopyWarning: \n",
      "A value is trying to be set on a copy of a slice from a DataFrame\n",
      "\n",
      "See the caveats in the documentation: http://pandas.pydata.org/pandas-docs/stable/indexing.html#indexing-view-versus-copy\n",
      "  self._setitem_with_indexer(indexer, value)\n",
      "/usr/local/lib/python3.6/dist-packages/ipykernel_launcher.py:16: UserWarning: Pandas doesn't allow columns to be created via a new attribute name - see https://pandas.pydata.org/pandas-docs/stable/indexing.html#attribute-access\n",
      "  app.launch_new_instance()\n",
      "/usr/local/lib/python3.6/dist-packages/pandas/core/indexing.py:190: SettingWithCopyWarning: \n",
      "A value is trying to be set on a copy of a slice from a DataFrame\n",
      "\n",
      "See the caveats in the documentation: http://pandas.pydata.org/pandas-docs/stable/indexing.html#indexing-view-versus-copy\n",
      "  self._setitem_with_indexer(indexer, value)\n",
      "/usr/local/lib/python3.6/dist-packages/ipykernel_launcher.py:16: UserWarning: Pandas doesn't allow columns to be created via a new attribute name - see https://pandas.pydata.org/pandas-docs/stable/indexing.html#attribute-access\n",
      "  app.launch_new_instance()\n",
      "/usr/local/lib/python3.6/dist-packages/pandas/core/indexing.py:190: SettingWithCopyWarning: \n",
      "A value is trying to be set on a copy of a slice from a DataFrame\n",
      "\n",
      "See the caveats in the documentation: http://pandas.pydata.org/pandas-docs/stable/indexing.html#indexing-view-versus-copy\n",
      "  self._setitem_with_indexer(indexer, value)\n",
      "/usr/local/lib/python3.6/dist-packages/ipykernel_launcher.py:16: UserWarning: Pandas doesn't allow columns to be created via a new attribute name - see https://pandas.pydata.org/pandas-docs/stable/indexing.html#attribute-access\n",
      "  app.launch_new_instance()\n",
      "/usr/local/lib/python3.6/dist-packages/pandas/core/indexing.py:190: SettingWithCopyWarning: \n",
      "A value is trying to be set on a copy of a slice from a DataFrame\n",
      "\n",
      "See the caveats in the documentation: http://pandas.pydata.org/pandas-docs/stable/indexing.html#indexing-view-versus-copy\n",
      "  self._setitem_with_indexer(indexer, value)\n",
      "/usr/local/lib/python3.6/dist-packages/ipykernel_launcher.py:16: UserWarning: Pandas doesn't allow columns to be created via a new attribute name - see https://pandas.pydata.org/pandas-docs/stable/indexing.html#attribute-access\n",
      "  app.launch_new_instance()\n",
      "/usr/local/lib/python3.6/dist-packages/pandas/core/indexing.py:190: SettingWithCopyWarning: \n",
      "A value is trying to be set on a copy of a slice from a DataFrame\n",
      "\n",
      "See the caveats in the documentation: http://pandas.pydata.org/pandas-docs/stable/indexing.html#indexing-view-versus-copy\n",
      "  self._setitem_with_indexer(indexer, value)\n",
      "/usr/local/lib/python3.6/dist-packages/ipykernel_launcher.py:16: UserWarning: Pandas doesn't allow columns to be created via a new attribute name - see https://pandas.pydata.org/pandas-docs/stable/indexing.html#attribute-access\n",
      "  app.launch_new_instance()\n"
     ]
    },
    {
     "name": "stderr",
     "output_type": "stream",
     "text": [
      "/usr/local/lib/python3.6/dist-packages/pandas/core/indexing.py:190: SettingWithCopyWarning: \n",
      "A value is trying to be set on a copy of a slice from a DataFrame\n",
      "\n",
      "See the caveats in the documentation: http://pandas.pydata.org/pandas-docs/stable/indexing.html#indexing-view-versus-copy\n",
      "  self._setitem_with_indexer(indexer, value)\n",
      "/usr/local/lib/python3.6/dist-packages/ipykernel_launcher.py:16: UserWarning: Pandas doesn't allow columns to be created via a new attribute name - see https://pandas.pydata.org/pandas-docs/stable/indexing.html#attribute-access\n",
      "  app.launch_new_instance()\n",
      "/usr/local/lib/python3.6/dist-packages/pandas/core/indexing.py:190: SettingWithCopyWarning: \n",
      "A value is trying to be set on a copy of a slice from a DataFrame\n",
      "\n",
      "See the caveats in the documentation: http://pandas.pydata.org/pandas-docs/stable/indexing.html#indexing-view-versus-copy\n",
      "  self._setitem_with_indexer(indexer, value)\n",
      "/usr/local/lib/python3.6/dist-packages/ipykernel_launcher.py:16: UserWarning: Pandas doesn't allow columns to be created via a new attribute name - see https://pandas.pydata.org/pandas-docs/stable/indexing.html#attribute-access\n",
      "  app.launch_new_instance()\n",
      "/usr/local/lib/python3.6/dist-packages/pandas/core/indexing.py:190: SettingWithCopyWarning: \n",
      "A value is trying to be set on a copy of a slice from a DataFrame\n",
      "\n",
      "See the caveats in the documentation: http://pandas.pydata.org/pandas-docs/stable/indexing.html#indexing-view-versus-copy\n",
      "  self._setitem_with_indexer(indexer, value)\n",
      "/usr/local/lib/python3.6/dist-packages/ipykernel_launcher.py:16: UserWarning: Pandas doesn't allow columns to be created via a new attribute name - see https://pandas.pydata.org/pandas-docs/stable/indexing.html#attribute-access\n",
      "  app.launch_new_instance()\n",
      "/usr/local/lib/python3.6/dist-packages/pandas/core/indexing.py:190: SettingWithCopyWarning: \n",
      "A value is trying to be set on a copy of a slice from a DataFrame\n",
      "\n",
      "See the caveats in the documentation: http://pandas.pydata.org/pandas-docs/stable/indexing.html#indexing-view-versus-copy\n",
      "  self._setitem_with_indexer(indexer, value)\n",
      "/usr/local/lib/python3.6/dist-packages/ipykernel_launcher.py:16: UserWarning: Pandas doesn't allow columns to be created via a new attribute name - see https://pandas.pydata.org/pandas-docs/stable/indexing.html#attribute-access\n",
      "  app.launch_new_instance()\n",
      "/usr/local/lib/python3.6/dist-packages/pandas/core/indexing.py:190: SettingWithCopyWarning: \n",
      "A value is trying to be set on a copy of a slice from a DataFrame\n",
      "\n",
      "See the caveats in the documentation: http://pandas.pydata.org/pandas-docs/stable/indexing.html#indexing-view-versus-copy\n",
      "  self._setitem_with_indexer(indexer, value)\n",
      "/usr/local/lib/python3.6/dist-packages/ipykernel_launcher.py:16: UserWarning: Pandas doesn't allow columns to be created via a new attribute name - see https://pandas.pydata.org/pandas-docs/stable/indexing.html#attribute-access\n",
      "  app.launch_new_instance()\n",
      "/usr/local/lib/python3.6/dist-packages/pandas/core/indexing.py:190: SettingWithCopyWarning: \n",
      "A value is trying to be set on a copy of a slice from a DataFrame\n",
      "\n",
      "See the caveats in the documentation: http://pandas.pydata.org/pandas-docs/stable/indexing.html#indexing-view-versus-copy\n",
      "  self._setitem_with_indexer(indexer, value)\n",
      "/usr/local/lib/python3.6/dist-packages/ipykernel_launcher.py:16: UserWarning: Pandas doesn't allow columns to be created via a new attribute name - see https://pandas.pydata.org/pandas-docs/stable/indexing.html#attribute-access\n",
      "  app.launch_new_instance()\n",
      "/usr/local/lib/python3.6/dist-packages/pandas/core/indexing.py:190: SettingWithCopyWarning: \n",
      "A value is trying to be set on a copy of a slice from a DataFrame\n",
      "\n",
      "See the caveats in the documentation: http://pandas.pydata.org/pandas-docs/stable/indexing.html#indexing-view-versus-copy\n",
      "  self._setitem_with_indexer(indexer, value)\n",
      "/usr/local/lib/python3.6/dist-packages/ipykernel_launcher.py:16: UserWarning: Pandas doesn't allow columns to be created via a new attribute name - see https://pandas.pydata.org/pandas-docs/stable/indexing.html#attribute-access\n",
      "  app.launch_new_instance()\n",
      "/usr/local/lib/python3.6/dist-packages/pandas/core/indexing.py:190: SettingWithCopyWarning: \n",
      "A value is trying to be set on a copy of a slice from a DataFrame\n",
      "\n",
      "See the caveats in the documentation: http://pandas.pydata.org/pandas-docs/stable/indexing.html#indexing-view-versus-copy\n",
      "  self._setitem_with_indexer(indexer, value)\n",
      "/usr/local/lib/python3.6/dist-packages/ipykernel_launcher.py:16: UserWarning: Pandas doesn't allow columns to be created via a new attribute name - see https://pandas.pydata.org/pandas-docs/stable/indexing.html#attribute-access\n",
      "  app.launch_new_instance()\n",
      "/usr/local/lib/python3.6/dist-packages/pandas/core/indexing.py:190: SettingWithCopyWarning: \n",
      "A value is trying to be set on a copy of a slice from a DataFrame\n",
      "\n",
      "See the caveats in the documentation: http://pandas.pydata.org/pandas-docs/stable/indexing.html#indexing-view-versus-copy\n",
      "  self._setitem_with_indexer(indexer, value)\n",
      "/usr/local/lib/python3.6/dist-packages/ipykernel_launcher.py:16: UserWarning: Pandas doesn't allow columns to be created via a new attribute name - see https://pandas.pydata.org/pandas-docs/stable/indexing.html#attribute-access\n",
      "  app.launch_new_instance()\n",
      "/usr/local/lib/python3.6/dist-packages/pandas/core/indexing.py:190: SettingWithCopyWarning: \n",
      "A value is trying to be set on a copy of a slice from a DataFrame\n",
      "\n",
      "See the caveats in the documentation: http://pandas.pydata.org/pandas-docs/stable/indexing.html#indexing-view-versus-copy\n",
      "  self._setitem_with_indexer(indexer, value)\n",
      "/usr/local/lib/python3.6/dist-packages/ipykernel_launcher.py:16: UserWarning: Pandas doesn't allow columns to be created via a new attribute name - see https://pandas.pydata.org/pandas-docs/stable/indexing.html#attribute-access\n",
      "  app.launch_new_instance()\n",
      "/usr/local/lib/python3.6/dist-packages/pandas/core/indexing.py:190: SettingWithCopyWarning: \n",
      "A value is trying to be set on a copy of a slice from a DataFrame\n",
      "\n",
      "See the caveats in the documentation: http://pandas.pydata.org/pandas-docs/stable/indexing.html#indexing-view-versus-copy\n",
      "  self._setitem_with_indexer(indexer, value)\n",
      "/usr/local/lib/python3.6/dist-packages/ipykernel_launcher.py:16: UserWarning: Pandas doesn't allow columns to be created via a new attribute name - see https://pandas.pydata.org/pandas-docs/stable/indexing.html#attribute-access\n",
      "  app.launch_new_instance()\n",
      "/usr/local/lib/python3.6/dist-packages/pandas/core/indexing.py:190: SettingWithCopyWarning: \n",
      "A value is trying to be set on a copy of a slice from a DataFrame\n",
      "\n",
      "See the caveats in the documentation: http://pandas.pydata.org/pandas-docs/stable/indexing.html#indexing-view-versus-copy\n",
      "  self._setitem_with_indexer(indexer, value)\n",
      "/usr/local/lib/python3.6/dist-packages/ipykernel_launcher.py:16: UserWarning: Pandas doesn't allow columns to be created via a new attribute name - see https://pandas.pydata.org/pandas-docs/stable/indexing.html#attribute-access\n",
      "  app.launch_new_instance()\n",
      "/usr/local/lib/python3.6/dist-packages/pandas/core/indexing.py:190: SettingWithCopyWarning: \n",
      "A value is trying to be set on a copy of a slice from a DataFrame\n",
      "\n",
      "See the caveats in the documentation: http://pandas.pydata.org/pandas-docs/stable/indexing.html#indexing-view-versus-copy\n",
      "  self._setitem_with_indexer(indexer, value)\n",
      "/usr/local/lib/python3.6/dist-packages/ipykernel_launcher.py:16: UserWarning: Pandas doesn't allow columns to be created via a new attribute name - see https://pandas.pydata.org/pandas-docs/stable/indexing.html#attribute-access\n",
      "  app.launch_new_instance()\n",
      "/usr/local/lib/python3.6/dist-packages/pandas/core/indexing.py:190: SettingWithCopyWarning: \n",
      "A value is trying to be set on a copy of a slice from a DataFrame\n",
      "\n",
      "See the caveats in the documentation: http://pandas.pydata.org/pandas-docs/stable/indexing.html#indexing-view-versus-copy\n",
      "  self._setitem_with_indexer(indexer, value)\n",
      "/usr/local/lib/python3.6/dist-packages/ipykernel_launcher.py:16: UserWarning: Pandas doesn't allow columns to be created via a new attribute name - see https://pandas.pydata.org/pandas-docs/stable/indexing.html#attribute-access\n",
      "  app.launch_new_instance()\n",
      "/usr/local/lib/python3.6/dist-packages/pandas/core/indexing.py:190: SettingWithCopyWarning: \n",
      "A value is trying to be set on a copy of a slice from a DataFrame\n",
      "\n",
      "See the caveats in the documentation: http://pandas.pydata.org/pandas-docs/stable/indexing.html#indexing-view-versus-copy\n",
      "  self._setitem_with_indexer(indexer, value)\n",
      "/usr/local/lib/python3.6/dist-packages/ipykernel_launcher.py:16: UserWarning: Pandas doesn't allow columns to be created via a new attribute name - see https://pandas.pydata.org/pandas-docs/stable/indexing.html#attribute-access\n",
      "  app.launch_new_instance()\n"
     ]
    },
    {
     "name": "stderr",
     "output_type": "stream",
     "text": [
      "/usr/local/lib/python3.6/dist-packages/pandas/core/indexing.py:190: SettingWithCopyWarning: \n",
      "A value is trying to be set on a copy of a slice from a DataFrame\n",
      "\n",
      "See the caveats in the documentation: http://pandas.pydata.org/pandas-docs/stable/indexing.html#indexing-view-versus-copy\n",
      "  self._setitem_with_indexer(indexer, value)\n",
      "/usr/local/lib/python3.6/dist-packages/ipykernel_launcher.py:16: UserWarning: Pandas doesn't allow columns to be created via a new attribute name - see https://pandas.pydata.org/pandas-docs/stable/indexing.html#attribute-access\n",
      "  app.launch_new_instance()\n",
      "/usr/local/lib/python3.6/dist-packages/pandas/core/indexing.py:190: SettingWithCopyWarning: \n",
      "A value is trying to be set on a copy of a slice from a DataFrame\n",
      "\n",
      "See the caveats in the documentation: http://pandas.pydata.org/pandas-docs/stable/indexing.html#indexing-view-versus-copy\n",
      "  self._setitem_with_indexer(indexer, value)\n",
      "/usr/local/lib/python3.6/dist-packages/ipykernel_launcher.py:16: UserWarning: Pandas doesn't allow columns to be created via a new attribute name - see https://pandas.pydata.org/pandas-docs/stable/indexing.html#attribute-access\n",
      "  app.launch_new_instance()\n",
      "/usr/local/lib/python3.6/dist-packages/pandas/core/indexing.py:190: SettingWithCopyWarning: \n",
      "A value is trying to be set on a copy of a slice from a DataFrame\n",
      "\n",
      "See the caveats in the documentation: http://pandas.pydata.org/pandas-docs/stable/indexing.html#indexing-view-versus-copy\n",
      "  self._setitem_with_indexer(indexer, value)\n",
      "/usr/local/lib/python3.6/dist-packages/ipykernel_launcher.py:16: UserWarning: Pandas doesn't allow columns to be created via a new attribute name - see https://pandas.pydata.org/pandas-docs/stable/indexing.html#attribute-access\n",
      "  app.launch_new_instance()\n",
      "/usr/local/lib/python3.6/dist-packages/pandas/core/indexing.py:190: SettingWithCopyWarning: \n",
      "A value is trying to be set on a copy of a slice from a DataFrame\n",
      "\n",
      "See the caveats in the documentation: http://pandas.pydata.org/pandas-docs/stable/indexing.html#indexing-view-versus-copy\n",
      "  self._setitem_with_indexer(indexer, value)\n",
      "/usr/local/lib/python3.6/dist-packages/ipykernel_launcher.py:16: UserWarning: Pandas doesn't allow columns to be created via a new attribute name - see https://pandas.pydata.org/pandas-docs/stable/indexing.html#attribute-access\n",
      "  app.launch_new_instance()\n",
      "/usr/local/lib/python3.6/dist-packages/pandas/core/indexing.py:190: SettingWithCopyWarning: \n",
      "A value is trying to be set on a copy of a slice from a DataFrame\n",
      "\n",
      "See the caveats in the documentation: http://pandas.pydata.org/pandas-docs/stable/indexing.html#indexing-view-versus-copy\n",
      "  self._setitem_with_indexer(indexer, value)\n",
      "/usr/local/lib/python3.6/dist-packages/ipykernel_launcher.py:16: UserWarning: Pandas doesn't allow columns to be created via a new attribute name - see https://pandas.pydata.org/pandas-docs/stable/indexing.html#attribute-access\n",
      "  app.launch_new_instance()\n",
      "/usr/local/lib/python3.6/dist-packages/pandas/core/indexing.py:190: SettingWithCopyWarning: \n",
      "A value is trying to be set on a copy of a slice from a DataFrame\n",
      "\n",
      "See the caveats in the documentation: http://pandas.pydata.org/pandas-docs/stable/indexing.html#indexing-view-versus-copy\n",
      "  self._setitem_with_indexer(indexer, value)\n",
      "/usr/local/lib/python3.6/dist-packages/ipykernel_launcher.py:16: UserWarning: Pandas doesn't allow columns to be created via a new attribute name - see https://pandas.pydata.org/pandas-docs/stable/indexing.html#attribute-access\n",
      "  app.launch_new_instance()\n",
      "/usr/local/lib/python3.6/dist-packages/pandas/core/indexing.py:190: SettingWithCopyWarning: \n",
      "A value is trying to be set on a copy of a slice from a DataFrame\n",
      "\n",
      "See the caveats in the documentation: http://pandas.pydata.org/pandas-docs/stable/indexing.html#indexing-view-versus-copy\n",
      "  self._setitem_with_indexer(indexer, value)\n",
      "/usr/local/lib/python3.6/dist-packages/ipykernel_launcher.py:16: UserWarning: Pandas doesn't allow columns to be created via a new attribute name - see https://pandas.pydata.org/pandas-docs/stable/indexing.html#attribute-access\n",
      "  app.launch_new_instance()\n",
      "/usr/local/lib/python3.6/dist-packages/pandas/core/indexing.py:190: SettingWithCopyWarning: \n",
      "A value is trying to be set on a copy of a slice from a DataFrame\n",
      "\n",
      "See the caveats in the documentation: http://pandas.pydata.org/pandas-docs/stable/indexing.html#indexing-view-versus-copy\n",
      "  self._setitem_with_indexer(indexer, value)\n",
      "/usr/local/lib/python3.6/dist-packages/ipykernel_launcher.py:16: UserWarning: Pandas doesn't allow columns to be created via a new attribute name - see https://pandas.pydata.org/pandas-docs/stable/indexing.html#attribute-access\n",
      "  app.launch_new_instance()\n",
      "/usr/local/lib/python3.6/dist-packages/pandas/core/indexing.py:190: SettingWithCopyWarning: \n",
      "A value is trying to be set on a copy of a slice from a DataFrame\n",
      "\n",
      "See the caveats in the documentation: http://pandas.pydata.org/pandas-docs/stable/indexing.html#indexing-view-versus-copy\n",
      "  self._setitem_with_indexer(indexer, value)\n",
      "/usr/local/lib/python3.6/dist-packages/ipykernel_launcher.py:16: UserWarning: Pandas doesn't allow columns to be created via a new attribute name - see https://pandas.pydata.org/pandas-docs/stable/indexing.html#attribute-access\n",
      "  app.launch_new_instance()\n"
     ]
    },
    {
     "name": "stdout",
     "output_type": "stream",
     "text": [
      "0.38748553270401664\n"
     ]
    },
    {
     "name": "stderr",
     "output_type": "stream",
     "text": [
      "/usr/local/lib/python3.6/dist-packages/pandas/core/indexing.py:190: SettingWithCopyWarning: \n",
      "A value is trying to be set on a copy of a slice from a DataFrame\n",
      "\n",
      "See the caveats in the documentation: http://pandas.pydata.org/pandas-docs/stable/indexing.html#indexing-view-versus-copy\n",
      "  self._setitem_with_indexer(indexer, value)\n"
     ]
    }
   ],
   "source": [
    "\n",
    "f1_scores =[]\n",
    "f1_exactnb=[]\n",
    "f1_30_perc=[]\n",
    "\n",
    "\n",
    "\n",
    "for ep in eps:\n",
    "    annotated_scenes=pd.read_csv(path_screenplays_scenes+'/'+ep+'.csv')\n",
    "    \n",
    "    # This paragraph separates dialogue and non dialogue\n",
    "    dialogue_matches=annotated_scenes.scene_text.str.extractall(r\"(?P<dialogue_matches>\\[\\[.*?\\\"\\,)\")\n",
    "    annotated_scenes['dialogue']=annotated_scenes.scene_text.str.extract(r\"(?P<dialogue>\\[\\[.*?\\\"\\,)\")\n",
    "    annotated_scenes['non_dialogue']=annotated_scenes.scene_text.str.replace(r\"(?P<non_dialogue>\\[\\[.*?\\\"\\,)\",'')\n",
    "    annotated_scenes['dialogue']=annotated_scenes.dialogue.astype(str).str.replace('[^\\w\\s]','')\n",
    "    annotated_scenes.non_dialogue = annotated_scenes.non_dialogue.str.replace('\"', '')\n",
    "    dialogue_matches.dialogue=dialogue_matches.dialogue_matches.groupby(level=0).apply(list)\n",
    "    annotated_scenes.loc[annotated_scenes['dialogue'].notna(), 'dialogue'] = dialogue_matches.dialogue\n",
    "    annotated_scenes.loc[annotated_scenes['dialogue'].isna(), 'dialogue'] = 'no dialogue'\n",
    "    annotated_scenes.loc[annotated_scenes['non_dialogue'].isna(), 'non_dialogue'] = 'only dialogue'\n",
    "    \n",
    "    \"\"\"#experience with keyword extraction\n",
    "    non_dialogue_text= [' '.join(annotated_scenes['non_dialogue'])]\n",
    "    #dialogue_text=[' '.join(annotated_scenes['dialogue'])]\n",
    "    \n",
    "    #kw_model = KeyBERT('distilbert-base-nli-mean-tokens')\n",
    "    #keywords_non_dialogue = kw_model.extract_keywords(non_dialogue_text)\n",
    "    #keywords_dialogue = kw_model.extract_keywords(dialogue_text)\n",
    "    #print(keywords_non_dialogue)\n",
    "    #print(keywords_dialogue)\"\"\"\n",
    "\n",
    "    \n",
    "    \n",
    "    \n",
    "    #candidate_labels=['Crime','Drama','Mystery','Thriller']\n",
    "    #candidate_labels=[\"thought-provoking\",\"storytelling\",\"suspenseful\"]\n",
    "    #candidate_labels=['murder','death','blood','violence','pistol']\n",
    "    #candidate_labels=['guilty','death','forensic']\n",
    "    #candidate_labels=['crime scene', 'victim', 'death cause','evidence','motive','perpetrator']\n",
    "    #candidate_labels=['motive','perpetrator']\n",
    "    #candidate_labels=['death','killing','fear']\n",
    "    #candidate_labels=['crime scene victim death cause perpetrator evidence motive killing police detective death murder']\n",
    "    #candidate_labels=['crime']\n",
    "    candidate_labels=['annihilate', 'annihilation', 'asphyxiate', 'assassin', 'assassinate', 'assassination', 'behead', 'beheading', 'blood-bath', 'bloodshed', 'butcher', 'butchery','carnage', 'crucifixion', 'crucify', 'deadly', 'decapitate', 'decapitation', 'destroy', 'dispatch','do in', 'drown', 'eliminate', 'euthanasia', 'euthanize', 'exterminate', 'extermination', 'fatal', 'fatality', 'fratricide', 'garrotte', 'genocide', 'holocaust', 'homicide','immolation', 'infanticide', 'kill', 'killer', 'killing', 'lethal', 'liquidate','liquidation','liquidator','lynch', 'massacre', 'matricide','murder', 'murderer', 'patricide', 'pogrom', 'regicide', 'shooting', 'silence', 'slaughter', 'slaughter', 'slaughterer', 'slay', 'slayer', 'slaying', 'smother', 'smothering', 'starve', 'suffocate', 'suffocation', 'suicide', 'take (someone)life', 'take out','terminate']\n",
    "    #candidate_labels=['Killing','Buildings','Aggregate','Dead or Alive','Death','Locative relation','Attempt','Evidence','Natural features','Relative time']\n",
    "    \n",
    "    #candidate_labels=['deduction','character-driven drama', 'team of crime-scene investigators', 'Las Vegas Police Department', 'physical evidence', 'murders']\n",
    "    #candidate_labels=['crime lab','police','crime scene investigation','las vegas nevada','detective']\n",
    "    #candidate_labels=['police','detective','forensics','usa','investigation','evidence','nevada','investigator','suspicion','suspect','scene','crime','murder']\n",
    "    \n",
    "    #Computing total score (adding score of all classes) and sorting \n",
    "    first_results=get_results_several_binary(annotated_scenes,classifier,candidate_labels)\n",
    "    first_results=add_centrality_score(first_results,centrality_dict.item()[ep])\n",
    "    #print(first_results)\n",
    "    first_results['prediction_class']=0\n",
    "    cols_to_keep=['scene_id', 'scene_text', 'in_summary', 'aspects','prediction_class','non_dialogue','dialogue','centrality']\n",
    "    first_results['score'] = first_results.drop(cols_to_keep, axis=1).max(axis=1)\n",
    "    first_results[['score','centrality']]=MinMaxScaler().fit_transform(first_results[['score','centrality']])\n",
    "    #first_results[['score','centrality']]=StandardScaler().fit_transform(first_results[['score','centrality']])\n",
    "    #first_results['combined_score']=first_results['score']+first_results['centrality']\n",
    "    first_results['combined_score']=first_results[['score','centrality']].max(axis=1)\n",
    "    first_results=first_results.sort_values(by=['combined_score'],ascending=False)\n",
    "    \n",
    "    #first_results=first_results.sort_values(by=['score'],ascending=False)\n",
    "    #first_results.to_csv('spoiler_detection_classes.csv')\n",
    "    \n",
    "   \n",
    "    \n",
    "    #Computing F1 score for different numbers of positive lables expected \n",
    "    first_results['prediction_class']=0\n",
    "    first_results['prediction_class'].iloc[0:len(first_results[first_results.in_summary==1])]=1\n",
    "    f1_exactnb.append(f1_score_summer(first_results.in_summary, first_results.prediction_class))\n",
    "    first_results['prediction_class']=0\n",
    "    first_results['prediction_class'].iloc[0:int(0.3*len(first_results.index))]=1\n",
    "    f1_30_perc.append(f1_score_summer(first_results.in_summary, first_results.prediction_class))\n",
    "    #print(first_results['prediction_class'].value_counts())\n",
    "    #print(first_results[first_results.in_summary==1])\n",
    "\n",
    "\n",
    "    \n",
    "    \n",
    "    \n",
    "print(np.mean(f1_30_perc)) \n",
    "\n",
    "\n",
    " \n"
   ]
  },
  {
   "cell_type": "code",
   "execution_count": 268,
   "metadata": {},
   "outputs": [
    {
     "name": "stdout",
     "output_type": "stream",
     "text": [
      "    scene_id  \\\n",
      "32  32         \n",
      "29  29         \n",
      "27  27         \n",
      "0   0          \n",
      "12  12         \n",
      "1   1          \n",
      "24  24         \n",
      "26  26         \n",
      "19  19         \n",
      "10  10         \n",
      "8   8          \n",
      "4   4          \n",
      "\n",
      "                                                                                                                                                                                                                                                                                                                                                                                                                                                                                                                                                                                                                                                                                                                                                                                                                                                                                                                                                                                                                                                                                                                                                                                                                                                                                                                                                                                                                                                                                                                                                                                                                                                                                                                                                                                                                                                                                                                                                                                                                                                                                                                                                                                                                                                                                                                                                                                                                                                                                                                                                                                                                                                                                                                                                                                                                                                                                                                                                                                                                                                                                                                                                                                                                            scene_text  \\\n",
      "32  [\" ( O'RILEY escorts JACK WILLMAN down the hallway . )\", ' ( CATHERINE and NICK walk in )', ' [[Nick]] hi', ' [[Nick]] just the guy i wanted to see', \" ( O'RILEY puts a hand on NICK to stop him from getting any closer . )\", \" [[Catherine]] o'riley\", ' ( CATHERINE shakes her head and they both step aside . )', ' [[Nick]] tell me why you did it', ' [[Jack_Willman]] i got nothing to say to you , cowboy', ' ( NICK grabs JACK and pushes his back up against the wall . )', ' [[Nick]] she was going back to college , turning her life around getting out of the business , and you killed her for it !', ' [[Nick]] why ?', ' [[Jack_Willman]] is that what she told you ?', ' [[Jack_Willman]] she was getting out of the business ?', ' [[Jack_Willman]] she was going to college to recruit more girls', \" [[Nick]] do you think i 'm going to believe the john that killed her ?\", ' [[Jack_Willman]] oh , you think i was her client ?', ' [[Jack_Willman]] i was her pimp', ' [[Jack_Willman]] she was leaving me to start her own racket', ' [[Jack_Willman]] so wake up', \" [[Jack_Willman]] this is n't pretty woman\", \" [[Jack_Willman]] she 's not julia roberts\", \" [[Jack_Willman]] you 're not richard gere\", ' ( JACK takes a step aside , NICK grabs him and pushes him back up against the wall . )', ' [[Nick]] yeah , yeah , yeah', \" [[Nick]] i guess you 're right\", \" [[Nick]] because there 's no happy ending for you\", ' [[Nick]] twenty-five to life', ' [[Catherine]] get him out of here', \" ( O'RILEY steps forward . )\"]                                                                                                                                                                                                                                                                                                                                                                                                                                                                                                                                                                                                                                                                                                                                                                                                                                                                                                                                                                                                                                                                                                                                                                                                                                                                                                                                                                                                                                                                                                                                                                                                                                                                  \n",
      "29  [' ( TYLER STIRLING and NORMAN STIRLING are being interviewed by BRASS and GRISSOM . )', \" [[Brass]] tyler , were you aware of your father 's lawsuits against thrift-right car rental ?\", ' [[Tyler_Stirling]] it was kind of hard not to be', \" [[Tyler_Stirling]] i mean , it 's all him and my mom talked about for a year\", ' [[Tyler_Stirling]] until she left', ' [[Grissom]] do you miss your mother ?', ' [[Tyler_Stirling]] i miss our old life', ' [[Norman_Stirling]] is there something that we should be talking about ?', ' [[Norman_Stirling]] you know , in private ?', \" [[Tyler_Stirling]] you said that 's how corporations do it -- in private\", ' [[Tyler_Stirling]] see , they treated him great at work , in front of everyone', \" [[Tyler_Stirling]] and then they let him go at the end of the day when no one 's around\", ' [[Tyler_Stirling]] thirty years of service , and then ... you know , they realized they could hire two young guys at half the price', \" [[Brass]] what does 'fp ' stand for ?\", ' [[Brass]] it was etched into both bombs', ' [[Grissom]] we think you engraved it with an implement from your high school shop class', ' ( NORMAN looks at TYLER . )', \" [[Tyler_Stirling]] 'fair play '\", \" ( As soon as TYLER answers , NORMAN 'S face falls with the realization that his son did it ... for him . )\", ' [[Norman_Stirling]] i used to yell that around the house -- that i was owed fair play', ' [[Tyler_Stirling]] i mean , they threw him out like trash', ' [[Norman_Stirling]] and you sent them bombs ?', ' [[Tyler_Stirling]] you said you wanted to kill them', ' [[Norman_Stirling]] how did you even know how to do this ?', ' [[Tyler_Stirling]] off the internet', ' ( GRISSOM closes his eyes . )', ' [[Tyler_Stirling]] dad , are you mad at me ?', ' [[Tyler_Stirling]] i did it for you', ' [[Grissom]] tyler , did you make any more bombs ?', ' [[Grissom]] where are they ?', ' [[Grissom]] where are you keeping them ?', ' [[Norman_Stirling]] tyler ... if you did this for me ... please tell them where they are']                                                                                                                                                                                                                                                                                                                                                                                                                                                                                                                                                                                                                                                                                                                                                                                                                                                                                                                                                                                                                                                                                                                               \n",
      "27  [' ( NICK paces the floor . )', ' ( CATHERINE walks in )', ' [[Nick]] well ?', ' [[Catherine]] i think that you and i should head over to the police station', \" [[Nick]] dna did n't pan out , huh ?\", ' [[Catherine]] never have i seen such a clean match', ' [[Catherine]] jack willman killed her', \" ( Quick flashback to : That night in KRISTY 'S living room , JACK WILLMAN has the cord tied tight around her neck and chokes her . )\", ' ( She struggles . )', \" ( Cut to : After KRISTY 'S dead , he unwraps the cord from her neck . )\", ' ( Cut to : He puts the cord back around the curtain )', ' ( End of flashback . )', ' ( Resume to present . )', ' ( NICK sighs . )', ' [[Nick]] thank you', ' ( He hugs CATHERINE . )', \" [[Catherine]] hey ... hey , i 'm just doing my job\", \" [[Catherine]] besides , if they 'd sent you to jail i 'd get stuck with all your cases\", ' ( NICK laughs . )']                                                                                                                                                                                                                                                                                                                                                                                                                                                                                                                                                                                                                                                                                                                                                                                                                                                                                                                                                                                                                                                                                                                                                                                                                                                                                                                                                                                                                                                                                                                                                                                                                                                                                                                                                                                                                                                                                                                                                                                                                                                                                                                                                                                                                                                                                                               \n",
      "0   [' ( DOMINIC KRETZKER walks down the stairs and greets the employees as they walk up to the second floor . )', ' [[Dominic_Kretzker]] hi , renee', ' [[Renee]] hi', ' [[Dominic_Kretzker]] good afternoon , mr ribero', \" [[Dominic_Kretzker]] how 's the golf ?\", ' [[Mr._Ribero]] fine', ' [[Mr._Ribero]] how are you ?', ' ( DOMINIC reaches the first floor and stops to help a woman . )', ' [[Dominic_Kretzker]] hi', ' [[Dominic_Kretzker]] you look lost', \" ( He looks at the piece of paper she 's carrying and points her in the right direction . )\", ' [[Dominic_Kretzker]] okay , the stairs are all the way back to the left and the real estate office is at the end of the hall', ' ( The woman looks at him and nods . )', ' [[Dominic_Kretzker]] okay ?', ' [[Dominic_Kretzker]] bye', ' ( DOMINIC stands in the middle of the lobby and sees NICOLE walk in carrying a large vase of flowers . )', ' [[Dominic_Kretzker]] hello', ' [[Dominic_Kretzker]] oh !', ' [[Dominic_Kretzker]] those for me ?', ' [[Nicole]] hi , dominic', ' [[Nicole]] sign here', ' [[Dominic_Kretzker]] okay', \" [[Dominic_Kretzker]] i 'll tell you , though this is going to be worth a lot of money someday\", ' ( He hands her back her pad . )', ' ( She hands him the flowers . )', ' [[Nicole]] i know , elvis', ' [[Dominic]] okay', ' [[Nicole]] see you', ' [[Dominic]] okay , bye-bye', ' ( NICOLE leaves ; JAKE RICHARDS walks up to DOMINIC . )', \" [[Jake_Richards]] domino , it 's your turn to pick up dinner\", ' [[Dominic]] okay , jake-o', ' [[Dominic]] listen , uh , this goes to cooley real estate', \" [[Dominic]] that 's on two , all right ?\", ' [[Dominic]] and the fed ex is running a little bit late on the pickup', \" [[Dominic]] i 'll be back in ... hmm , about ten minutes , all right ?\", ' [[Jake_Richards]] you got it', ' [[Dominic_Kretzker]] all right , buddy', ' ( DOMINIC leaves . )', ' ( JAKE takes the flowers and puts it on the counter . )', ' ( He glances up at the wall clock which reads 6:02 . )', ' ( He then glances down and notices a ticking sound . )', ' ( He looks over at the stack of boxes and things on the counter . )', ' ( He finally peers around the side of the counter and sees the briefcase sitting on the floor . )', ' ( The ticking sound comes from the briefcase . )', ' ( Camera goes into slow motion . )', ' ( JAKE RICHARDS reaches for the briefcase . )', ' ( Everything and everyone slows down to a complete and silent halt . )', ' ( It explodes . )', ' ( JAKE is flung up and backwards as fire and smoke takes out a good portion of the lobby . )']                                                                                                                                                                                                                                                                                                                                                                                                                                                                                                                                                                                    \n",
      "12  [' ( DR. ROBBINS starts the autopsy on KRISTY HOPKINS . )', ' [[Dr._Albert_Robbins]] 25-year-old female caucasian', \" [[Dr._Albert_Robbins]] liver temp 's indicating time of death at 0600\", ' [[Dr._Albert_Robbins]] petichial hemorrhaging , cyanotic tongue', ' [[Dr._Albert_Robbins]] can i help you , catherine ?', ' ( CATHERINE walks into the room . )', ' [[Catherine]] i just want to see the body , david', \" [[Dr._Albert_Robbins]] unless i 'm mistaken , this is ecklie 's case\", ' [[Catherine]] eyes , no hands', \" ( DR. ROBBINS does n't say anything . )\", ' ( CATHERINE turns to look at the body . )', ' [[Catherine]] look at those ligature marks', ' [[Dr._Robbins]] petichials ... blue tongue , the works', ' [[Catherine]] raccoon eyes excoriation around the neck', \" [[Catherine]] she did n't give up easy\", ' [[Dr._Albert_Robbins]] struggled and strangled', ' [[Catherine]] ecklie find the murder weapon ?', ' [[Dr._Albert_Robbins]] i only deal with bodies', ' [[Catherine]] did you check for fingerprints on the body ?', ' [[Dr._Albert_Robbins]] not yet', \" [[Catherine]] half-life of fingerprints on flesh ... they 're disappearing as we speak\", ' [[Dr._Albert_Robbins]] catherine , i like nick , too', \" [[Dr._Albert_Robbins]] i know you 're here for him\", ' [[Dr._Albert_Robbins]] but what if i lift his prints from her ?', \" [[Catherine]] then that 's what you report\", ' [[Catherine]] evidence , doc', ' [[Catherine]] ... all we got']                                                                                                                                                                                                                                                                                                                                                                                                                                                                                                                                                                                                                                                                                                                                                                                                                                                                                                                                                                                                                                                                                                                                                                                                                                                                                                                                                                                                                                                                                                                                                                                                                                                                                                                               \n",
      "1   [' ( GRISSOM and CATHERINE walk through the police vehicles and activity outside as they make their way to the crime scene . )', ' [[Catherine]] oh , these fire guys really know how to trash a crime scene', \" [[Grissom]] that 's what they do\", ' [[Grissom]] put wet stuff on the red stuff', ' ( GRISSOM and CATHERINE meet up with BRASS in the front of what used to be the doors to the building . )', ' ( BRASS fills them in )', \" [[Brass]] we 're all clear to go in , but here 's what we got\", ' [[Brass]] couple of head wounds', ' [[Brass]] elderly guy had his arm torn off', ' [[Brass]] the only fatality so far is jake richards , a security guard', \" [[Brass]] body 's still inside\", ' ( GRISSOM and CATHERINE turn their flashlights on as they walk through the lobby . )', ' ( BRASS stands aside and looks around . )', ' [[Brass]] how big you think this bomb was ?', \" [[Catherine]] it 's not the size of the bomb\", \" [[Catherine]] it 's the overpressure in the air around it\", ' ( They make their way toward the body . )', ' ( BRASS reaches it first and kneels down beside it . )', ' ( GRISSOM and CATHERINE both put their kits down as they look at the body . )', ' [[Grissom]] the van gogh effect', ' [[Grissom]] in stereo', ' [[Grissom]] both ears gone', ' [[Catherine]] a perfectly symmetrical amputation', ' [[Catherine]] means he was looking directly at the bomb when it went off', ' [[Grissom]] so either it drew his attention or it was contained in something that seemed benign', ' ( GRISSOM continues to look at the body . )', ' ( CATHERINE looks up and around . )', ' [[Grissom]] smell the sulfur ?', ' [[Catherine]] uh-huh', ' [[Catherine]] translation : yes', ' [[Grissom]] got your lighter , jim ?', ' [[Brass]] sure', ' ( GRISSOM takes a small sample scraping of the black stuff on the body . )', ' [[Grissom]] light this', ' ( The black powder on the knife explodes . )', ' [[Catherine]] gunpowder', ' [[Grissom]] well , we know the propellant', ' [[Grissom]] so would you care to make a preliminary call on this ?', \" [[Catherine]] i 'd love to\", ' ( CATHERINE stands up and moves to where the suitcase was on the floor indicated by the markings . )', ' [[Catherine]] seat of the bomb is here', ' [[Catherine]] victim was thrown ... three meters', ' [[Catherine]] his clothes are torn but not burnt , indicating a low-velocity propellant -- 6,000- 7,000 feet per second', ' [[Catherine]] who ?', ' [[Catherine]] why ?', ' [[Catherine]] will he do it again ?', ' ( She shrugs . )', ' [[Catherine]] time will tell']                                                                                                                                                                                                                                                                                                                                                                                                                                                                                                                                                                                                 \n",
      "24  [' ( In the garage , NORMAL STIRLING tinkers with his car while his son , TYLER , sweeps the floors . )', ' ( BRASS , SARA and a couple of officers walk up the driveway . )', ' [[Brass]] norman stirling ?', ' [[Norman_Stirling]] yes', \" [[Norman_Stirling]] what 's going on ?\", \" [[Sara]] 'fp '\", ' [[Norman_Stirling]] what ?', \" [[Sara]] you do n't recognize those initials ?\", ' ( Behind him , a couple of officers come in through the doorway from the house . )', \" [[Norman_Stirling]] what 's this about ?\", ' [[Brass]] the bombing of the thrift-right car rental and the bombing of the hansen building', ' [[Norman_Stirling]] a-a bomb ?', ' [[Norman_Stirling]] are you kidding ?', \" [[Norman_Stirling]] i 've never even been near a bomb my entire life\", ' [[Sara]] well , those orange jackets over there appear to match the materials the bombs were wrapped in', ' [[Norman_Stirling]] i used to wear those to go to work', ' [[Brass]] you were let go by thriftrright last year , and lost a court battle to get your job back', ' [[Brass]] in fact , they filed a tro against you for throwing furniture around their headquarters last july', ' [[Norman_Stirling]] i want to call my lawyer', ' [[Brass]] good', ' [[Brass]] you can call him from the car', ' [[Brass]] he can meet us at the pd', \" [[Brass]] take him in come on , let 's go\", ' ( BRASS takes a hold of NORMAL STIRLING and the OFFICERS put cuffs on him . )', ' [[Norman_Stirling]] call your mom']                                                                                                                                                                                                                                                                                                                                                                                                                                                                                                                                                                                                                                                                                                                                                                                                                                                                                                                                                                                                                                                                                                                                                                                                                                                                                                                                                                                                                                                                                                                                                                                                                                                                                                                      \n",
      "26  [' ( CATHERINE drops the cord out onto the table in front of GREG . )', ' [[Catherine]] kristy hopkins was strangled with this sash', ' ( She puts the evidence bag aside and continues to explain what she wants . )', \" [[Catherine]] it 's fingerprint-free , but the force of the pull would have scratched off epithelials from the killer 's hands , right ?\", ' [[Greg_Sanders]] abraded , yeah', ' [[Catherine]] and can you extract dna from epithelials ?', \" [[Greg_Sanders]] if they 're fresh enough\", ' ( GREG gets to work . )', ' ( He takes a swab from the cord , then puts the sample under the scope . )', ' [[Greg_Sanders]] okay , epithelials are an affirmative', \" [[Greg_Sanders]] and they 're good to go for dna profiling\", \" [[Greg_Sanders]] i 'm just going to need something to compare it to\", ' [[Catherine]] jack willman has a prior for a sexual assault so his dna is on file', ' ( GREG turns around to check on the database . )']                                                                                                                                                                                                                                                                                                                                                                                                                                                                                                                                                                                                                                                                                                                                                                                                                                                                                                                                                                                                                                                                                                                                                                                                                                                                                                                                                                                                                                                                                                                                                                                                                                                                                                                                                                                                                                                                                                                                                                                                                                                                                                                                                                                                                                                          \n",
      "19  [' ( Emergency personnel are all over the parking lot area in the rain BRASS fills in everyone on what they know . )', ' [[Brass]] so , the manager was working the lot when he heard the blast', ' [[Brass]] fatality was on the check-in line and died on the way to the hospital', ' [[Sara]] anybody report hearing any noise ?', ' [[Sara]] ticking ?', ' [[Brass]] no', ' [[Brass]] no one heard anything', ' [[Sara]] oh', \" [[Sara]] it 's not the firemen -- it 's the rain this crime scene is trashed\", ' ( GRISSOM look down on the ground and picks up something . )', ' [[Sara]] what do you have ?', ' [[Grissom]] form follows function', \" [[Grissom]] they 've never been able to make a better one\", ' [[Grissom]] mousetrap', ' [[Sara]] that orange stuff again', ' [[Grissom]] someone picks it up motion trips the trap , sets off the timer', ' ( Quick CGI POV of the trap tripping , the timer sending the spark through the wire . )', ' ( The bomb detonates . )', ' [[Sara]] which sets off the bomb', ' ( It explodes . )', ' ( End of CGI POV . )', ' ( Resume to present . )', ' ( SARA looks around the parking lot , then notices the MANAGER speaking with an OFFICER . )', ' ( She sees something . )', ' [[Sara]] be right back', ' ( SARA leaves and heads toward them . )', ' ( GRISSOM turns to BRASS . )', ' [[Grissom]] we say nothing to the media or anybody', \" [[Grissom]] our bomber 's signature just got a little more sophisticated\", ' ( SARA walks up to the MANAGER . )', ' [[Sara]] excuse me', ' [[Sara]] hi', \" [[Sara]] i 'm with the crime lab\", \" [[Sara]] i 'm sorry , but i have to take your jacket\", ' ( The MANAGER looks down at his orange jacket , then takes it off . )', ' [[Manager]] um ... okay', \" [[Manager]] if it 'll help\", ' ( He gives the jacket to SARA . )', ' [[Sara]] thanks', ' ( The officer leads the MANAGER off to another direction . )', \" [[Officer]] let 's go\", ' [[Manager]] okay', ' ( GRISSOM and BRASS join SARA . )', ' [[Grissom]] what are you doing ?', ' [[Sara]] polyethylene-terephtalete', ' ( SARA gathers up the jacket . )', ' [[Grissom]] polyester', \" [[Sara]] 'orange stuff '\", ' ( She turns and walks away . )']                                                                                                                                                                                                                                                                                                                                                                                                                                                                                                                                                                                                                                                                                                                                                                                                                                                                                                                                                                                                  \n",
      "10  [\" ( SARA looks at all the bomb pieces they 've gathered spread out on the table in front of them . )\", ' ( CATHERINE explains it to her . )', ' [[Sara]] so all this stuff is from a five-meter radius of the point of origin ?', ' [[Catherine]] yep', ' [[Sara]] how could the victim possibly have been in one piece ?', ' [[Catherine]] vacuum effect', ' [[Catherine]] the air is being pushed out so fast', ' ( Quick CGI to : The hands of the clock hit 12 , the electrical pulse is sent through the wires and to the gunpowder where it ignites . )', ' [[Catherine]] ... when the bomb detonates', ' ( End of CGI . )', ' ( White flash to the moment where JAKE RICHARDS leans down to pick up the suitcase . )', ' ( Everything stops in that moment as the bomb explodes . )', \" [[Catherine]] ... there 's a calm at the center\", ' ( The bomb explodes and everything and everyone is pushed away . )', ' ( End of flashback . )', ' ( Resume to present . )', ' ( SARA looks down at the items on the table and picks up the gear piece with the etching on it . )', ' [[Sara]] calm , huh ?', ' [[Catherine]] well , except for when he lost his ears', \" [[Sara]] did you figure out what this 'fp ' stands for ?\", \" [[Catherine]] i ran it through atf 's bomb database\", ' [[Catherine]] no profile', \" [[Sara]] so our bomber 's a newbie\", \" [[Sara]] does he fit grissom 's wack job from the bomb site ?\", ' [[Catherine]] dominic the security guard ?', \" [[Catherine]] it 's too soon to tell\", ' ( GRISSOM walks in carrying something . )', ' ( He holds it out for them to look ati . )', ' [[Grissom]] i found something interesting', ' [[Sara]] what is it ?', ' ( CATHERINE looks at it under the glass . )', ' [[Catherine]] looks like a balance wheel from a clock', ' [[Grissom]] bomb was time-delayed', ' [[Grissom]] this is a piece of the timing device', ' [[Sara]] what about the orange stuff ?', ' [[Grissom]] heat of the explosion must have melted whatever it is all around the wheel', ' [[Grissom]] so , sara ?', ' [[Sara]] mmm ?', \" [[Grissom]] what 's orange and melts ?\", ' [[Sara]] i would have to investigate that', ' [[Grissom]] thank you', ' ( NICK walks into the room . )', ' [[Nick]] hey , guys', ' [[Nick]] can i steal you for a minute ?', ' [[Grissom]] i thought this was your day off', \" [[Catherine]] we 're kind of busy here , nick\", \" [[Nick]] yeah , i know , and i 'm sorry , but i do n't think this can wait\", ' [[Grissom]] okay', ' ( They step out of the lab . )']                                                                                                                                                                                                                                                                                                                                                                                                                                                                                                                                                                                                                                                                      \n",
      "8   [' ( NICK is driving and talking on his cell phone . )', \" [[Nick]] hey , it 's me\", ' [[Nick]] you in the shower ?', ' [[Nick]] what are you doing ?', \" [[Nick]] anyway , if you check your messages i do n't have to work till later\", \" [[Nick]] so i thought , since you 're between careers you might want to grab a late\", \" ( NICK pulls up in front of KRISTY HOPKINS ' house and finds it surrounded by officer cars . )\", ' [[Nick]] ... breakfast', ' ( He pulls up . )', ' ( OFFICER ARVINGTON sees him . )', \" [[Officer_Arvington]] hey , nick , what 's up ?\", ' [[Nick]] not a lot', \" [[Nick]] what 's ... what 's going on ?\", \" [[Officer_Arvington]] it 's a 419\", ' [[Officer_Arvington]] dead prostitute', \" [[Nick]] who 's the decedent ?\", ' [[Officer_Arvington]] kristine marie hopkins', \" [[Officer_Arvington]] day shift 's got it covered\", ' [[Officer_Arvington]] you all right ?', \" ( NICK looks over and sees ECKLIE talking with the LEAD DETECTIVE and they 're both walking down the driveway . )\", \" [[Nick]] yeah , i must 've , uh\", \" [[Nick]] i must 've got my wires crossed\", \" [[Nick]] i 'll see you\", ' [[Officer_Arvington]] all right , man', ' ( NICK drives off . )']                                                                                                                                                                                                                                                                                                                                                                                                                                                                                                                                                                                                                                                                                                                                                                                                                                                                                                                                                                                                                                                                                                                                                                                                                                                                                                                                                                                                                                                                                                                                                                                                                                                                                                                                                                                                                                                                                                                                                                                                          \n",
      "4   [' ( NICK and his friend , ERIC , walk through the hotel toward the front door . )', ' [[Eric]] come on , nick', \" [[Eric]] it 's my last night in sin city\", ' [[Eric]] one more drink , man', ' [[Nick]] oh , no', ' [[Nick]] i just pulled a double and i still have to file my shift report', ' ( NICK hands the valet his ticket . )', \" [[Eric]] hey , you 're off the clock\", \" [[Eric]] you 'd have never passed up a wild night back at aandm\", ' [[Nick]] well , i guess i grew up', ' [[Eric]] too bad', ' [[Eric]] check that out', ' ( ERIC indicates the two women walking down the sidewalk toward the building . )', ' ( He looks at them as they walk inside . )', ' ( They look at him as they walk by . )', ' [[Nick]] enjoy', ' ( They shake hands . )', ' [[Eric]] you must really love your job , man', ' ( ERIC turns and round and calls out to the two women who just walked by . )', ' ( They turn around as he approaches them . )', ' [[Eric]] ladies', ' ( NICK chuckles , then turns to leave . )', \" ( The valet brings NICK 'S car up to the drive . )\", \" ( NICK reaches into his pocket for the tip and walks over to the driver 's side . )\", ' [[Nick]] here you go', ' [[Nick]] thanks , man', ' [[Valet]] thank you', ' ( NICK is just about to get into the car , when he hears a disturbance off in the distance . )', ' [[Kristy_Hopkins]] get your hands off me !', ' [[Kristy_Hopkins]] let go of me', \" [[Kristy_Hopkins]] you do n't own me\", ' [[Kristy_Hopkins]] nobody does', \" [[Jack_Willman]] you 're not going anywhere\", ' [[Jack_Willman]] you got that ?', ' ( NICK looks up and sees KRISTY HOPKINS arguing with a man who has his hand grasping her upper arm . )', ' [[Jack_Willman]] come on', ' [[Jack_Willman]] relax a little bit', ' [[Jack_Willman]] settle down', ' ( NICK heads over to them . )', ' [[Nick]] kristy ?', \" [[Kristy_Hopkins]] you do n't own me , jack\", ' ( NICK starts to cross the street . )', ' [[Nick]] kristy !', ' [[Kristy_Hopkins]] nobody does', ' [[Jack_Willman]] i know , i know', ' ( NICK finally reaches them and stops a distance away from them . )', ' ( He gets their attention . )', ' [[Nick]] hey', ' [[Nick]] back off', ' [[Jack]] hey , just mind your own business', ' [[Kristy_Hopkins]] nick', ' ( JACK tries to shush her . )', ' [[Kristy_Hopkins]] i know him', \" [[Kristy_Hopkins]] he 's a cop\", ' [[Nick]] crime scene investigator', ' [[Kristy_Hopkins]] nick , tell him to leave me alone', ' [[Jack_Willman]] nobody tells me to do anything', ' [[Nick]] hey , we going to have a problem ?', \" [[Jack_Willman]] no , officer , we 're not going to have a problem\", ' [[Jack_Willman]] see you around , baby', ' ( He kisses her on the neck , then lets her go . )', ' ( He leaves . )', ' ( KRISTY appears to be slightly rattled . )', ' ( NICK looks at her and notices . )', ' [[Nick]] you okay ?', ' [[Kristy_Hopkins]] yeah', \" [[Kristy_Hopkins]] yeah , i 'm fine\", ' [[Kristy_Hopkins]] that was good timing', ' [[Kristy_Hopkins]] thanks', ' [[Nick]] i suppose you need a ride', ' [[Kristy_Hopkins]] do you mind ?', ' [[Nick]] no', ' [[Nick]] come on', ' [[Kristy_Hopkins]] thanks']   \n",
      "\n",
      "    in_summary               aspects  \\\n",
      "32  1           Motive                 \n",
      "29  1           Motive                 \n",
      "27  1           None                   \n",
      "0   1           Victim                 \n",
      "12  1           Death cause            \n",
      "1   1           Crime scene            \n",
      "24  1           Perpetrator            \n",
      "26  1           Evidence               \n",
      "19  1           Crime scene,Evidence   \n",
      "10  1           Evidence               \n",
      "8   1           Crime scene            \n",
      "4   1           Victim,Perpetrator     \n",
      "\n",
      "                                                                                                                                                                                                                                                                                                                                                                                                                                                                                                                                                                                                                                                                                                                                                                                                                                                                                                                                                                                                                                                                                                                                                                                                                                                                                                                                                                                                                                                                                                                                                                                                                                                                                                                                                                                                                                                                                                                                                                                                                                                                                                                                                                                                                                                                                                                                                                                                                                                                                                                                                                                                                                                                                                                                                                     dialogue  \\\n",
      "32  [[[Nick]] hi', ' [[Nick]] just the guy i wanted to see', \" ( O'RILEY puts a hand on NICK to stop him from getting any closer . )\",, [[Catherine]] o'riley\",, [[Nick]] tell me why you did it', ' [[Jack_Willman]] i got nothing to say to you , cowboy', ' ( NICK grabs JACK and pushes his back up against the wall . )', ' [[Nick]] she was going back to college , turning her life around getting out of the business , and you killed her for it !', ' [[Nick]] why ?', ' [[Jack_Willman]] is that what she told you ?', ' [[Jack_Willman]] she was getting out of the business ?', ' [[Jack_Willman]] she was going to college to recruit more girls', \" [[Nick]] do you think i 'm going to believe the john that killed her ?\",, [[Jack_Willman]] oh , you think i was her client ?', ' [[Jack_Willman]] i was her pimp', ' [[Jack_Willman]] she was leaving me to start her own racket', ' [[Jack_Willman]] so wake up', \" [[Jack_Willman]] this is n't pretty woman\",, [[Jack_Willman]] she 's not julia roberts\",, [[Jack_Willman]] you 're not richard gere\",, [[Nick]] yeah , yeah , yeah', \" [[Nick]] i guess you 're right\",, [[Nick]] because there 's no happy ending for you\",]                                                                                                                                                                                                                                                                                                                                                                                                                                                                                                                                                                                                                                                                                                                                                                                                                                                                                                                                                                                                                                                                                                                                                                                                                                                                                                                                                                                                                                                                                                                                                                           \n",
      "29  [[[Brass]] tyler , were you aware of your father 's lawsuits against thrift-right car rental ?\",, [[Tyler_Stirling]] it was kind of hard not to be', \" [[Tyler_Stirling]] i mean , it 's all him and my mom talked about for a year\",, [[Tyler_Stirling]] until she left', ' [[Grissom]] do you miss your mother ?', ' [[Tyler_Stirling]] i miss our old life', ' [[Norman_Stirling]] is there something that we should be talking about ?', ' [[Norman_Stirling]] you know , in private ?', \" [[Tyler_Stirling]] you said that 's how corporations do it -- in private\",, [[Tyler_Stirling]] see , they treated him great at work , in front of everyone', \" [[Tyler_Stirling]] and then they let him go at the end of the day when no one 's around\",, [[Tyler_Stirling]] thirty years of service , and then ... you know , they realized they could hire two young guys at half the price', \" [[Brass]] what does 'fp ' stand for ?\",, [[Brass]] it was etched into both bombs', ' [[Grissom]] we think you engraved it with an implement from your high school shop class', ' ( NORMAN looks at TYLER . )', \" [[Tyler_Stirling]] 'fair play '\",]                                                                                                                                                                                                                                                                                                                                                                                                                                                                                                                                                                                                                                                                                                                                                                                                                                                                                                                                                                                                                                                                                                                                                                                                                                                                                                                                                                                                                                                                                                                                                                                                                        \n",
      "27  [[[Nick]] well ?', ' [[Catherine]] i think that you and i should head over to the police station', \" [[Nick]] dna did n't pan out , huh ?\",, [[Catherine]] never have i seen such a clean match', ' [[Catherine]] jack willman killed her', \" ( Quick flashback to : That night in KRISTY 'S living room , JACK WILLMAN has the cord tied tight around her neck and chokes her . )\",, [[Nick]] thank you', ' ( He hugs CATHERINE . )', \" [[Catherine]] hey ... hey , i 'm just doing my job\",, [[Catherine]] besides , if they 'd sent you to jail i 'd get stuck with all your cases\",]                                                                                                                                                                                                                                                                                                                                                                                                                                                                                                                                                                                                                                                                                                                                                                                                                                                                                                                                                                                                                                                                                                                                                                                                                                                                                                                                                                                                                                                                                                                                                                                                                                                                                                                                                                                                                                                                                                                                                                                                                                                                                                                                                                                    \n",
      "0   [[[Dominic_Kretzker]] hi , renee', ' [[Renee]] hi', ' [[Dominic_Kretzker]] good afternoon , mr ribero', \" [[Dominic_Kretzker]] how 's the golf ?\",, [[Mr._Ribero]] fine', ' [[Mr._Ribero]] how are you ?', ' ( DOMINIC reaches the first floor and stops to help a woman . )', ' [[Dominic_Kretzker]] hi', ' [[Dominic_Kretzker]] you look lost', \" ( He looks at the piece of paper she 's carrying and points her in the right direction . )\",, [[Dominic_Kretzker]] okay , the stairs are all the way back to the left and the real estate office is at the end of the hall', ' ( The woman looks at him and nods . )', ' [[Dominic_Kretzker]] okay ?', ' [[Dominic_Kretzker]] bye', ' ( DOMINIC stands in the middle of the lobby and sees NICOLE walk in carrying a large vase of flowers . )', ' [[Dominic_Kretzker]] hello', ' [[Dominic_Kretzker]] oh !', ' [[Dominic_Kretzker]] those for me ?', ' [[Nicole]] hi , dominic', ' [[Nicole]] sign here', ' [[Dominic_Kretzker]] okay', \" [[Dominic_Kretzker]] i 'll tell you , though this is going to be worth a lot of money someday\",, [[Nicole]] i know , elvis', ' [[Dominic]] okay', ' [[Nicole]] see you', ' [[Dominic]] okay , bye-bye', ' ( NICOLE leaves ; JAKE RICHARDS walks up to DOMINIC . )', \" [[Jake_Richards]] domino , it 's your turn to pick up dinner\",, [[Dominic]] okay , jake-o', ' [[Dominic]] listen , uh , this goes to cooley real estate', \" [[Dominic]] that 's on two , all right ?\",, [[Dominic]] and the fed ex is running a little bit late on the pickup', \" [[Dominic]] i 'll be back in ... hmm , about ten minutes , all right ?\",]                                                                                                                                                                                                                                                                                                                                                                                                                                                                                                                                                                                                                                                                                                                                                                                                                                                                                                                                                                                                                                                                                                                                            \n",
      "12  [[[Dr._Albert_Robbins]] 25-year-old female caucasian', \" [[Dr._Albert_Robbins]] liver temp 's indicating time of death at 0600\",, [[Dr._Albert_Robbins]] petichial hemorrhaging , cyanotic tongue', ' [[Dr._Albert_Robbins]] can i help you , catherine ?', ' ( CATHERINE walks into the room . )', ' [[Catherine]] i just want to see the body , david', \" [[Dr._Albert_Robbins]] unless i 'm mistaken , this is ecklie 's case\",, [[Catherine]] eyes , no hands', \" ( DR. ROBBINS does n't say anything . )\",, [[Catherine]] look at those ligature marks', ' [[Dr._Robbins]] petichials ... blue tongue , the works', ' [[Catherine]] raccoon eyes excoriation around the neck', \" [[Catherine]] she did n't give up easy\",, [[Dr._Albert_Robbins]] struggled and strangled', ' [[Catherine]] ecklie find the murder weapon ?', ' [[Dr._Albert_Robbins]] i only deal with bodies', ' [[Catherine]] did you check for fingerprints on the body ?', ' [[Dr._Albert_Robbins]] not yet', \" [[Catherine]] half-life of fingerprints on flesh ... they 're disappearing as we speak\",, [[Dr._Albert_Robbins]] catherine , i like nick , too', \" [[Dr._Albert_Robbins]] i know you 're here for him\",, [[Dr._Albert_Robbins]] but what if i lift his prints from her ?', \" [[Catherine]] then that 's what you report\",]                                                                                                                                                                                                                                                                                                                                                                                                                                                                                                                                                                                                                                                                                                                                                                                                                                                                                                                                                                                                                                                                                                                                                                                                                                                                                                                                                                                                                                                        \n",
      "1   [[[Catherine]] oh , these fire guys really know how to trash a crime scene', \" [[Grissom]] that 's what they do\",, [[Grissom]] put wet stuff on the red stuff', ' ( GRISSOM and CATHERINE meet up with BRASS in the front of what used to be the doors to the building . )', ' ( BRASS fills them in )', \" [[Brass]] we 're all clear to go in , but here 's what we got\",, [[Brass]] couple of head wounds', ' [[Brass]] elderly guy had his arm torn off', ' [[Brass]] the only fatality so far is jake richards , a security guard', \" [[Brass]] body 's still inside\",, [[Brass]] how big you think this bomb was ?', \" [[Catherine]] it 's not the size of the bomb\",, [[Catherine]] it 's the overpressure in the air around it\",, [[Grissom]] the van gogh effect', ' [[Grissom]] in stereo', ' [[Grissom]] both ears gone', ' [[Catherine]] a perfectly symmetrical amputation', ' [[Catherine]] means he was looking directly at the bomb when it went off', ' [[Grissom]] so either it drew his attention or it was contained in something that seemed benign', ' ( GRISSOM continues to look at the body . )', ' ( CATHERINE looks up and around . )', ' [[Grissom]] smell the sulfur ?', ' [[Catherine]] uh-huh', ' [[Catherine]] translation : yes', ' [[Grissom]] got your lighter , jim ?', ' [[Brass]] sure', ' ( GRISSOM takes a small sample scraping of the black stuff on the body . )', ' [[Grissom]] light this', ' ( The black powder on the knife explodes . )', ' [[Catherine]] gunpowder', ' [[Grissom]] well , we know the propellant', ' [[Grissom]] so would you care to make a preliminary call on this ?', \" [[Catherine]] i 'd love to\",]                                                                                                                                                                                                                                                                                                                                                                                                                                                                                                                                                                                                                                                                                                                                                                                                                                                                                                                                                                                                                                                                                                   \n",
      "24  [[[Brass]] norman stirling ?', ' [[Norman_Stirling]] yes', \" [[Norman_Stirling]] what 's going on ?\",, [[Sara]] 'fp '\",, [[Norman_Stirling]] what ?', \" [[Sara]] you do n't recognize those initials ?\",, [[Norman_Stirling]] what 's this about ?\",, [[Brass]] the bombing of the thrift-right car rental and the bombing of the hansen building', ' [[Norman_Stirling]] a-a bomb ?', ' [[Norman_Stirling]] are you kidding ?', \" [[Norman_Stirling]] i 've never even been near a bomb my entire life\",, [[Sara]] well , those orange jackets over there appear to match the materials the bombs were wrapped in', ' [[Norman_Stirling]] i used to wear those to go to work', ' [[Brass]] you were let go by thriftrright last year , and lost a court battle to get your job back', ' [[Brass]] in fact , they filed a tro against you for throwing furniture around their headquarters last july', ' [[Norman_Stirling]] i want to call my lawyer', ' [[Brass]] good', ' [[Brass]] you can call him from the car', ' [[Brass]] he can meet us at the pd', \" [[Brass]] take him in come on , let 's go\",]                                                                                                                                                                                                                                                                                                                                                                                                                                                                                                                                                                                                                                                                                                                                                                                                                                                                                                                                                                                                                                                                                                                                                                                                                                                                                                                                                                                                                                                                                                                                                                                                                                                                \n",
      "26  [[[Catherine]] kristy hopkins was strangled with this sash', ' ( She puts the evidence bag aside and continues to explain what she wants . )', \" [[Catherine]] it 's fingerprint-free , but the force of the pull would have scratched off epithelials from the killer 's hands , right ?\",, [[Greg_Sanders]] abraded , yeah', ' [[Catherine]] and can you extract dna from epithelials ?', \" [[Greg_Sanders]] if they 're fresh enough\",, [[Greg_Sanders]] okay , epithelials are an affirmative', \" [[Greg_Sanders]] and they 're good to go for dna profiling\",, [[Greg_Sanders]] i 'm just going to need something to compare it to\",]                                                                                                                                                                                                                                                                                                                                                                                                                                                                                                                                                                                                                                                                                                                                                                                                                                                                                                                                                                                                                                                                                                                                                                                                                                                                                                                                                                                                                                                                                                                                                                                                                                                                                                                                                                                                                                                                                                                                                                                                                                                                                                                                  \n",
      "19  [[[Brass]] so , the manager was working the lot when he heard the blast', ' [[Brass]] fatality was on the check-in line and died on the way to the hospital', ' [[Sara]] anybody report hearing any noise ?', ' [[Sara]] ticking ?', ' [[Brass]] no', ' [[Brass]] no one heard anything', ' [[Sara]] oh', \" [[Sara]] it 's not the firemen -- it 's the rain this crime scene is trashed\",, [[Sara]] what do you have ?', ' [[Grissom]] form follows function', \" [[Grissom]] they 've never been able to make a better one\",, [[Grissom]] mousetrap', ' [[Sara]] that orange stuff again', ' [[Grissom]] someone picks it up motion trips the trap , sets off the timer', ' ( Quick CGI POV of the trap tripping , the timer sending the spark through the wire . )', ' ( The bomb detonates . )', ' [[Sara]] which sets off the bomb', ' ( It explodes . )', ' ( End of CGI POV . )', ' ( Resume to present . )', ' ( SARA looks around the parking lot , then notices the MANAGER speaking with an OFFICER . )', ' ( She sees something . )', ' [[Sara]] be right back', ' ( SARA leaves and heads toward them . )', ' ( GRISSOM turns to BRASS . )', ' [[Grissom]] we say nothing to the media or anybody', \" [[Grissom]] our bomber 's signature just got a little more sophisticated\",, [[Sara]] excuse me', ' [[Sara]] hi', \" [[Sara]] i 'm with the crime lab\",, [[Sara]] i 'm sorry , but i have to take your jacket\",, [[Manager]] um ... okay', \" [[Manager]] if it 'll help\",, [[Sara]] thanks', ' ( The officer leads the MANAGER off to another direction . )', \" [[Officer]] let 's go\",, [[Manager]] okay', ' ( GRISSOM and BRASS join SARA . )', ' [[Grissom]] what are you doing ?', ' [[Sara]] polyethylene-terephtalete', ' ( SARA gathers up the jacket . )', ' [[Grissom]] polyester', \" [[Sara]] 'orange stuff '\",]                                                                                                                                                                                                                                                                                                                                                                                                                                                                                                                                                                                                                                                                                                                                                                                                                                                                                                                                  \n",
      "10  [[[Sara]] so all this stuff is from a five-meter radius of the point of origin ?', ' [[Catherine]] yep', ' [[Sara]] how could the victim possibly have been in one piece ?', ' [[Catherine]] vacuum effect', ' [[Catherine]] the air is being pushed out so fast', ' ( Quick CGI to : The hands of the clock hit 12 , the electrical pulse is sent through the wires and to the gunpowder where it ignites . )', ' [[Catherine]] ... when the bomb detonates', ' ( End of CGI . )', ' ( White flash to the moment where JAKE RICHARDS leans down to pick up the suitcase . )', ' ( Everything stops in that moment as the bomb explodes . )', \" [[Catherine]] ... there 's a calm at the center\",, [[Sara]] calm , huh ?', ' [[Catherine]] well , except for when he lost his ears', \" [[Sara]] did you figure out what this 'fp ' stands for ?\",, [[Catherine]] i ran it through atf 's bomb database\",, [[Catherine]] no profile', \" [[Sara]] so our bomber 's a newbie\",, [[Sara]] does he fit grissom 's wack job from the bomb site ?\",, [[Catherine]] dominic the security guard ?', \" [[Catherine]] it 's too soon to tell\",, [[Grissom]] i found something interesting', ' [[Sara]] what is it ?', ' ( CATHERINE looks at it under the glass . )', ' [[Catherine]] looks like a balance wheel from a clock', ' [[Grissom]] bomb was time-delayed', ' [[Grissom]] this is a piece of the timing device', ' [[Sara]] what about the orange stuff ?', ' [[Grissom]] heat of the explosion must have melted whatever it is all around the wheel', ' [[Grissom]] so , sara ?', ' [[Sara]] mmm ?', \" [[Grissom]] what 's orange and melts ?\",, [[Sara]] i would have to investigate that', ' [[Grissom]] thank you', ' ( NICK walks into the room . )', ' [[Nick]] hey , guys', ' [[Nick]] can i steal you for a minute ?', ' [[Grissom]] i thought this was your day off', \" [[Catherine]] we 're kind of busy here , nick\",, [[Nick]] yeah , i know , and i 'm sorry , but i do n't think this can wait\",]                                                                                                                                                                                                                                                                                                                                                                                                                                                                                                                                                                                                                                                                                                                                                              \n",
      "8   [[[Nick]] hey , it 's me\",, [[Nick]] you in the shower ?', ' [[Nick]] what are you doing ?', \" [[Nick]] anyway , if you check your messages i do n't have to work till later\",, [[Nick]] so i thought , since you 're between careers you might want to grab a late\",, [[Nick]] ... breakfast', ' ( He pulls up . )', ' ( OFFICER ARVINGTON sees him . )', \" [[Officer_Arvington]] hey , nick , what 's up ?\",, [[Nick]] not a lot', \" [[Nick]] what 's ... what 's going on ?\",, [[Officer_Arvington]] it 's a 419\",, [[Officer_Arvington]] dead prostitute', \" [[Nick]] who 's the decedent ?\",, [[Officer_Arvington]] kristine marie hopkins', \" [[Officer_Arvington]] day shift 's got it covered\",, [[Officer_Arvington]] you all right ?', \" ( NICK looks over and sees ECKLIE talking with the LEAD DETECTIVE and they 're both walking down the driveway . )\",, [[Nick]] yeah , i must 've , uh\",, [[Nick]] i must 've got my wires crossed\",, [[Nick]] i 'll see you\",]                                                                                                                                                                                                                                                                                                                                                                                                                                                                                                                                                                                                                                                                                                                                                                                                                                                                                                                                                                                                                                                                                                                                                                                                                                                                                                                                                                                                                                                                                                                                                                                                                                                                                                                                                                                            \n",
      "4   [[[Eric]] come on , nick', \" [[Eric]] it 's my last night in sin city\",, [[Eric]] one more drink , man', ' [[Nick]] oh , no', ' [[Nick]] i just pulled a double and i still have to file my shift report', ' ( NICK hands the valet his ticket . )', \" [[Eric]] hey , you 're off the clock\",, [[Eric]] you 'd have never passed up a wild night back at aandm\",, [[Nick]] well , i guess i grew up', ' [[Eric]] too bad', ' [[Eric]] check that out', ' ( ERIC indicates the two women walking down the sidewalk toward the building . )', ' ( He looks at them as they walk inside . )', ' ( They look at him as they walk by . )', ' [[Nick]] enjoy', ' ( They shake hands . )', ' [[Eric]] you must really love your job , man', ' ( ERIC turns and round and calls out to the two women who just walked by . )', ' ( They turn around as he approaches them . )', ' [[Eric]] ladies', ' ( NICK chuckles , then turns to leave . )', \" ( The valet brings NICK 'S car up to the drive . )\",, [[Nick]] here you go', ' [[Nick]] thanks , man', ' [[Valet]] thank you', ' ( NICK is just about to get into the car , when he hears a disturbance off in the distance . )', ' [[Kristy_Hopkins]] get your hands off me !', ' [[Kristy_Hopkins]] let go of me', \" [[Kristy_Hopkins]] you do n't own me\",, [[Kristy_Hopkins]] nobody does', \" [[Jack_Willman]] you 're not going anywhere\",, [[Jack_Willman]] you got that ?', ' ( NICK looks up and sees KRISTY HOPKINS arguing with a man who has his hand grasping her upper arm . )', ' [[Jack_Willman]] come on', ' [[Jack_Willman]] relax a little bit', ' [[Jack_Willman]] settle down', ' ( NICK heads over to them . )', ' [[Nick]] kristy ?', \" [[Kristy_Hopkins]] you do n't own me , jack\",, [[Nick]] kristy !', ' [[Kristy_Hopkins]] nobody does', ' [[Jack_Willman]] i know , i know', ' ( NICK finally reaches them and stops a distance away from them . )', ' ( He gets their attention . )', ' [[Nick]] hey', ' [[Nick]] back off', ' [[Jack]] hey , just mind your own business', ' [[Kristy_Hopkins]] nick', ' ( JACK tries to shush her . )', ' [[Kristy_Hopkins]] i know him', \" [[Kristy_Hopkins]] he 's a cop\",, [[Nick]] crime scene investigator', ' [[Kristy_Hopkins]] nick , tell him to leave me alone', ' [[Jack_Willman]] nobody tells me to do anything', ' [[Nick]] hey , we going to have a problem ?', \" [[Jack_Willman]] no , officer , we 're not going to have a problem\",, [[Jack_Willman]] see you around , baby', ' ( He kisses her on the neck , then lets her go . )', ' ( He leaves . )', ' ( KRISTY appears to be slightly rattled . )', ' ( NICK looks at her and notices . )', ' [[Nick]] you okay ?', ' [[Kristy_Hopkins]] yeah', \" [[Kristy_Hopkins]] yeah , i 'm fine\",]   \n",
      "\n",
      "                                                                                                                                                                                                                                                                                                                                                                                                                                                                                                                                                                                                                                                                                                                                                                                                                                                                                                                                                                                                                     non_dialogue  \\\n",
      "32  [ ( O'RILEY escorts JACK WILLMAN down the hallway . ), ' ( CATHERINE and NICK walk in )', '    ' ( CATHERINE shakes her head and they both step aside . )', '  '      ' ( JACK takes a step aside , NICK grabs him and pushes him back up against the wall . )', '    ' [[Nick]] twenty-five to life', ' [[Catherine]] get him out of here',  ( O'RILEY steps forward . )]                                                                                                                                                                                                                                                                                                                                                                                                                                                                                                                                                                                                                                                      \n",
      "29  [' ( TYLER STIRLING and NORMAN STIRLING are being interviewed by BRASS and GRISSOM . )',   '  '  '  '  '   ( As soon as TYLER answers , NORMAN 'S face falls with the realization that his son did it ... for him . ), ' [[Norman_Stirling]] i used to yell that around the house -- that i was owed fair play', ' [[Tyler_Stirling]] i mean , they threw him out like trash', ' [[Norman_Stirling]] and you sent them bombs ?', ' [[Tyler_Stirling]] you said you wanted to kill them', ' [[Norman_Stirling]] how did you even know how to do this ?', ' [[Tyler_Stirling]] off the internet', ' ( GRISSOM closes his eyes . )', ' [[Tyler_Stirling]] dad , are you mad at me ?', ' [[Tyler_Stirling]] i did it for you', ' [[Grissom]] tyler , did you make any more bombs ?', ' [[Grissom]] where are they ?', ' [[Grissom]] where are you keeping them ?', ' [[Norman_Stirling]] tyler ... if you did this for me ... please tell them where they are']                                                                     \n",
      "27  [' ( NICK paces the floor . )', ' ( CATHERINE walks in )', '  '  ' ( She struggles . )',  ( Cut to : After KRISTY 'S dead , he unwraps the cord from her neck . ), ' ( Cut to : He puts the cord back around the curtain )', ' ( End of flashback . )', ' ( Resume to present . )', ' ( NICK sighs . )', '    ' ( NICK laughs . )']                                                                                                                                                                                                                                                                                                                                                                                                                                                                                                                                                                                                                                                                                             \n",
      "0   [' ( DOMINIC KRETZKER walks down the stairs and greets the employees as they walk up to the second floor . )', '  '  '  ' ( He hands her back her pad . )', ' ( She hands him the flowers . )', '  '  '  ' [[Jake_Richards]] you got it', ' [[Dominic_Kretzker]] all right , buddy', ' ( DOMINIC leaves . )', ' ( JAKE takes the flowers and puts it on the counter . )', ' ( He glances up at the wall clock which reads 6:02 . )', ' ( He then glances down and notices a ticking sound . )', ' ( He looks over at the stack of boxes and things on the counter . )', ' ( He finally peers around the side of the counter and sees the briefcase sitting on the floor . )', ' ( The ticking sound comes from the briefcase . )', ' ( Camera goes into slow motion . )', ' ( JAKE RICHARDS reaches for the briefcase . )', ' ( Everything and everyone slows down to a complete and silent halt . )', ' ( It explodes . )', ' ( JAKE is flung up and backwards as fire and smoke takes out a good portion of the lobby . )']   \n",
      "12  [' ( DR. ROBBINS starts the autopsy on KRISTY HOPKINS . )', '  '  '  ' ( CATHERINE turns to look at the body . )', '  '  '  '  ' [[Catherine]] evidence , doc', ' [[Catherine]] ... all we got']                                                                                                                                                                                                                                                                                                                                                                                                                                                                                                                                                                                                                                                                                                                                                                                                                                \n",
      "1   [' ( GRISSOM and CATHERINE walk through the police vehicles and activity outside as they make their way to the crime scene . )', '  '  '  ' ( GRISSOM and CATHERINE turn their flashlights on as they walk through the lobby . )', ' ( BRASS stands aside and looks around . )', '    ' ( They make their way toward the body . )', ' ( BRASS reaches it first and kneels down beside it . )', ' ( GRISSOM and CATHERINE both put their kits down as they look at the body . )', '  ' ( CATHERINE stands up and moves to where the suitcase was on the floor indicated by the markings . )', ' [[Catherine]] seat of the bomb is here', ' [[Catherine]] victim was thrown ... three meters', ' [[Catherine]] his clothes are torn but not burnt , indicating a low-velocity propellant -- 6,000- 7,000 feet per second', ' [[Catherine]] who ?', ' [[Catherine]] why ?', ' [[Catherine]] will he do it again ?', ' ( She shrugs . )', ' [[Catherine]] time will tell']                                                          \n",
      "24  [' ( In the garage , NORMAL STIRLING tinkers with his car while his son , TYLER , sweeps the floors . )', ' ( BRASS , SARA and a couple of officers walk up the driveway . )', '    '  ' ( Behind him , a couple of officers come in through the doorway from the house . )',   '  '  ' ( BRASS takes a hold of NORMAL STIRLING and the OFFICERS put cuffs on him . )', ' [[Norman_Stirling]] call your mom']                                                                                                                                                                                                                                                                                                                                                                                                                                                                                                                                                                                                                   \n",
      "26  [' ( CATHERINE drops the cord out onto the table in front of GREG . )', '  '  ' ( GREG gets to work . )', ' ( He takes a swab from the cord , then puts the sample under the scope . )', '    ' [[Catherine]] jack willman has a prior for a sexual assault so his dna is on file', ' ( GREG turns around to check on the database . )']                                                                                                                                                                                                                                                                                                                                                                                                                                                                                                                                                                                                                                                                                        \n",
      "19  [' ( Emergency personnel are all over the parking lot area in the rain BRASS fills in everyone on what they know . )', '  ' ( GRISSOM look down on the ground and picks up something . )', '  '  ' ( SARA walks up to the MANAGER . )', '    ' ( The MANAGER looks down at his orange jacket , then takes it off . )', '  ' ( He gives the jacket to SARA . )', '  '  ' ( She turns and walks away . )']                                                                                                                                                                                                                                                                                                                                                                                                                                                                                                                                                                                                                        \n",
      "10  [ ( SARA looks at all the bomb pieces they 've gathered spread out on the table in front of them . ), ' ( CATHERINE explains it to her . )', '  ' ( The bomb explodes and everything and everyone is pushed away . )', ' ( End of flashback . )', ' ( Resume to present . )', ' ( SARA looks down at the items on the table and picks up the gear piece with the etching on it . )', '    '    '  ' ( GRISSOM walks in carrying something . )', ' ( He holds it out for them to look ati . )', '  '    ' [[Grissom]] okay', ' ( They step out of the lab . )']                                                                                                                                                                                                                                                                                                                                                                                                                                                                  \n",
      "8   [' ( NICK is driving and talking on his cell phone . )',   '     ( NICK pulls up in front of KRISTY HOPKINS ' house and finds it surrounded by officer cars . ), '  '    '  '  '        ' [[Officer_Arvington]] all right , man', ' ( NICK drives off . )']                                                                                                                                                                                                                                                                                                                                                                                                                                                                                                                                                                                                                                                                                                                                                                     \n",
      "4   [' ( NICK and his friend , ERIC , walk through the hotel toward the front door . )', '  '    '   ( NICK reaches into his pocket for the tip and walks over to the driver 's side . ), '  '  '  ' ( NICK starts to cross the street . )', '  '  '  ' [[Kristy_Hopkins]] that was good timing', ' [[Kristy_Hopkins]] thanks', ' [[Nick]] i suppose you need a ride', ' [[Kristy_Hopkins]] do you mind ?', ' [[Nick]] no', ' [[Nick]] come on', ' [[Kristy_Hopkins]] thanks']                                                                                                                                                                                                                                                                                                                                                                                                                                                                                                                                                      \n",
      "\n",
      "        murder  centrality  prediction_class     score  combined_score  \n",
      "32  0.804414    1.723588    1                 1.547198  3.270786        \n",
      "29  0.792396    1.403314    1                 1.512670  2.915984        \n",
      "27  0.794874    1.200074    1                 1.519788  2.719862        \n",
      "0   0.465544    1.275850    1                 0.573580  1.849430        \n",
      "12  0.933225   -0.708150    1                 1.917291  1.209141        \n",
      "1   0.967437   -1.599584    1                 2.015586  0.416003        \n",
      "24  0.106708    0.729757    1                -0.457405  0.272352        \n",
      "26  0.0301063   0.815447    1                -0.677492  0.137955        \n",
      "19  0.0282852   0.367335    1                -0.682725 -0.315390        \n",
      "10  0.043819   -0.545654    1                -0.638094 -1.183748        \n",
      "8   0.0527685  -0.944871    0                -0.612381 -1.557252        \n",
      "4   0.00440999 -1.334933    0                -0.751322 -2.086255        \n"
     ]
    }
   ],
   "source": [
    "pd.set_option('display.max_colwidth', -1)\n",
    "print(first_results[first_results.in_summary==1])"
   ]
  },
  {
   "cell_type": "code",
   "execution_count": null,
   "metadata": {},
   "outputs": [
    {
     "name": "stderr",
     "output_type": "stream",
     "text": [
      "  0%|          | 0/4 [00:00<?, ?it/s]/usr/local/lib/python3.6/dist-packages/ipykernel_launcher.py:21: UserWarning: Pandas doesn't allow columns to be created via a new attribute name - see https://pandas.pydata.org/pandas-docs/stable/indexing.html#attribute-access\n",
      "/usr/local/lib/python3.6/dist-packages/pandas/core/indexing.py:190: SettingWithCopyWarning: \n",
      "A value is trying to be set on a copy of a slice from a DataFrame\n",
      "\n",
      "See the caveats in the documentation: http://pandas.pydata.org/pandas-docs/stable/indexing.html#indexing-view-versus-copy\n",
      "  self._setitem_with_indexer(indexer, value)\n",
      "/usr/local/lib/python3.6/dist-packages/ipykernel_launcher.py:21: UserWarning: Pandas doesn't allow columns to be created via a new attribute name - see https://pandas.pydata.org/pandas-docs/stable/indexing.html#attribute-access\n"
     ]
    }
   ],
   "source": [
    "aspects_distribution={'motive': 0.109, 'evidence': 0.361,'cause of death': 0.116,'perpetrator': 0.144,'victim': 14.6,'crime scene': 0.124}\n",
    "#candidate_labels={'death relative':100}\n",
    "aspects_distribution={'cause of death': 0.116,'perpetrator': 0.144,'victim': 14.6,'crime scene': 0.124}\n",
    "\n",
    "\n",
    "\n",
    "\n",
    "\n",
    "\n",
    "for topic,weight in tqdm(aspects_distribution.items()):\n",
    "    f1_scores =[]\n",
    "    for ep in eps:\n",
    "        annotated_scenes=pd.read_csv(path_screenplays_scenes+'/'+ep+'.csv')\n",
    "\n",
    "        # This paragraph separates dialogue and non dialogue\n",
    "        dialogue_matches=annotated_scenes.scene_text.str.extractall(r\"(?P<dialogue_matches>\\[\\[.*?\\\"\\,)\")\n",
    "        annotated_scenes['dialogue']=annotated_scenes.scene_text.str.extract(r\"(?P<dialogue>\\[\\[.*?\\\"\\,)\")\n",
    "        annotated_scenes['non_dialogue']=annotated_scenes.scene_text.str.replace(r\"(?P<non_dialogue>\\[\\[.*?\\\"\\,)\",'')\n",
    "        annotated_scenes['dialogue']=annotated_scenes.dialogue.astype(str).str.replace('[^\\w\\s]','')\n",
    "        annotated_scenes.non_dialogue = annotated_scenes.non_dialogue.str.replace('\"', '')\n",
    "        dialogue_matches.dialogue=dialogue_matches.dialogue_matches.groupby(level=0).apply(list)\n",
    "        annotated_scenes.loc[annotated_scenes['dialogue'].notna(), 'dialogue'] = dialogue_matches.dialogue\n",
    "        annotated_scenes.loc[annotated_scenes['dialogue'].isna(), 'dialogue'] = 'no dialogue'\n",
    "        annotated_scenes.loc[annotated_scenes['non_dialogue'].isna(), 'non_dialogue'] = 'only dialogue'\n",
    "\n",
    "        \"\"\"#experience with keyword extraction\n",
    "        non_dialogue_text= [' '.join(annotated_scenes['non_dialogue'])]\n",
    "        #dialogue_text=[' '.join(annotated_scenes['dialogue'])]\n",
    "\n",
    "        #kw_model = KeyBERT('distilbert-base-nli-mean-tokens')\n",
    "        #keywords_non_dialogue = kw_model.extract_keywords(non_dialogue_text)\n",
    "        #keywords_dialogue = kw_model.extract_keywords(dialogue_text)\n",
    "        #print(keywords_non_dialogue)\n",
    "        #print(keywords_dialogue)\"\"\"\n",
    "\n",
    "\n",
    "\n",
    "\n",
    "        #candidate_labels=['Crime','Drama','Mystery','Thriller']\n",
    "        #candidate_labels=[\"thought-provoking\",\"storytelling\",\"suspenseful\"]\n",
    "        #candidate_labels=['murder','death','blood','violence','pistol']\n",
    "        #candidate_labels=['guilty','death','forensic']\n",
    "        #candidate_labels=['crime scene', 'victim', 'death cause','evidence','motive','perpetrator']\n",
    "        #candidate_labels=['motive','perpetrator']\n",
    "        #candidate_labels=['death','killing','fear']\n",
    "        #candidate_labels=['crime scene victim death cause perpetrator evidence motive killing police detective death murder']\n",
    "        candidate_labels=topic\n",
    "        #candidate_labels=['Killing','Buildings','Aggregate','Dead or Alive','Death','Locative relation','Attempt','Evidence','Natural features','Relative time']\n",
    "\n",
    "        #candidate_labels=['crime scene', 'victim', 'death cause', 'perpetrator', 'evidence', 'motive']\n",
    "        #candidate_labels=['deduction','character-driven drama', 'team of crime-scene investigators', 'Las Vegas Police Department', 'physical evidence', 'murders']\n",
    "        #candidate_labels=['crime lab','police','crime scene investigation','las vegas nevada','detective']\n",
    "        #candidate_labels=['police','detective','forensics','usa','investigation','evidence','nevada','investigator','suspicion','suspect','scene','crime','murder']\n",
    "\n",
    "        #Computing total score (adding score of all classes) and sorting \n",
    "        first_results=get_results_several_binary(annotated_scenes,classifier,candidate_labels)\n",
    "        first_results=add_centrality_score(first_results,centrality_dict.item()[ep])\n",
    "        #print(first_results)\n",
    "        first_results['prediction_class']=0\n",
    "        cols_to_keep=['scene_id', 'scene_text', 'in_summary', 'aspects','prediction_class','non_dialogue','dialogue','centrality']\n",
    "        first_results['score'] = first_results.drop(cols_to_keep, axis=1).max(axis=1)\n",
    "        first_results[['score','centrality']]=MinMaxScaler().fit_transform(first_results[['score','centrality']])\n",
    "        #first_results[['score','centrality']]=StandardScaler().fit_transform(first_results[['score','centrality']])\n",
    "        #first_results['combined_score']=first_results['score']+first_results['centrality']\n",
    "        first_results['combined_score']=first_results[['score','centrality']].max(axis=1)\n",
    "        first_results=first_results.sort_values(by=['combined_score'],ascending=False)\n",
    "\n",
    "        #first_results=first_results.sort_values(by=['score'],ascending=False)\n",
    "        #first_results.to_csv('spoiler_detection_classes.csv')\n",
    "\n",
    "\n",
    "\n",
    "        #Computing F1 score for different numbers of positive lables expected \n",
    "        first_results['prediction_class']=0\n",
    "        first_results['prediction_class'].iloc[0:len(first_results[first_results.in_summary==1])]=1\n",
    "        f1_exactnb.append(f1_score_summer(first_results.in_summary, first_results.prediction_class))\n",
    "        first_results['prediction_class']=0\n",
    "        first_results['prediction_class'].iloc[0:int(weight*len(first_results.index))]=1\n",
    "        f1_scores.append(f1_score_summer(first_results.in_summary, first_results.prediction_class))\n",
    "        #print(first_results['prediction_class'].value_counts())\n",
    "        #print(first_results[first_results.in_summary==1])\n",
    "\n",
    "\n",
    "\n",
    "\n",
    "    first_results.to_csv('{}_aspect.csv'.format(topic))\n",
    "    print(np.mean(f1_scores)) \n",
    "\n",
    "    "
   ]
  },
  {
   "cell_type": "code",
   "execution_count": null,
   "metadata": {},
   "outputs": [],
   "source": [
    "#eps=['s05e10']\n",
    "for ep in eps:\n",
    "    print(ep)\n",
    "    df=pd.read_csv(ep+'_'+method_used+'_similarity.csv')\n",
    "    print(df)\n",
    "    "
   ]
  },
  {
   "cell_type": "code",
   "execution_count": 6,
   "metadata": {},
   "outputs": [
    {
     "ename": "NameError",
     "evalue": "name 'first_results' is not defined",
     "output_type": "error",
     "traceback": [
      "\u001b[0;31m---------------------------------------------------------------------------\u001b[0m",
      "\u001b[0;31mNameError\u001b[0m                                 Traceback (most recent call last)",
      "\u001b[0;32m<ipython-input-6-33e6f88f7c36>\u001b[0m in \u001b[0;36m<module>\u001b[0;34m\u001b[0m\n\u001b[1;32m      2\u001b[0m \u001b[0;34m\u001b[0m\u001b[0m\n\u001b[1;32m      3\u001b[0m \u001b[0;34m\u001b[0m\u001b[0m\n\u001b[0;32m----> 4\u001b[0;31m \u001b[0mprint\u001b[0m\u001b[0;34m(\u001b[0m\u001b[0mfirst_results\u001b[0m\u001b[0;34m[\u001b[0m\u001b[0;34m[\u001b[0m\u001b[0;34m'aspects'\u001b[0m\u001b[0;34m,\u001b[0m\u001b[0;34m'in_summary'\u001b[0m\u001b[0;34m,\u001b[0m\u001b[0;34m'topic'\u001b[0m\u001b[0;34m,\u001b[0m\u001b[0;34m'score'\u001b[0m\u001b[0;34m,\u001b[0m\u001b[0;34m'prediction_class'\u001b[0m\u001b[0;34m,\u001b[0m\u001b[0;34m'sum_score'\u001b[0m\u001b[0;34m,\u001b[0m\u001b[0;34m'prediction'\u001b[0m\u001b[0;34m,\u001b[0m\u001b[0;34m'prediction_score'\u001b[0m\u001b[0;34m]\u001b[0m\u001b[0;34m]\u001b[0m\u001b[0;34m)\u001b[0m\u001b[0;34m\u001b[0m\u001b[0;34m\u001b[0m\u001b[0m\n\u001b[0m\u001b[1;32m      5\u001b[0m \u001b[0;34m\u001b[0m\u001b[0m\n",
      "\u001b[0;31mNameError\u001b[0m: name 'first_results' is not defined"
     ]
    }
   ],
   "source": [
    "#print(first_results[first_results.in_summary==1])\n",
    "\n",
    "\n",
    "print(first_results[['aspects','in_summary','topic','score','prediction_class','sum_score','prediction','prediction_score']])\n",
    "\n"
   ]
  },
  {
   "cell_type": "code",
   "execution_count": null,
   "metadata": {},
   "outputs": [],
   "source": [
    "\n",
    "f1_scores =[]\n",
    "f1_exactnb=[]\n",
    "f1_30_perc=[]\n",
    "\n",
    "\n",
    "\n",
    "for ep in eps:\n",
    "    annotated_scenes=pd.read_csv(path_screenplays_scenes+'/'+ep+'.csv')\n",
    "    \n",
    "    # This paragraph separates dialogue and non dialogue\n",
    "    dialogue_matches=annotated_scenes.scene_text.str.extractall(r\"(?P<dialogue_matches>\\[\\[.*?\\\"\\,)\")\n",
    "    annotated_scenes['dialogue']=annotated_scenes.scene_text.str.extract(r\"(?P<dialogue>\\[\\[.*?\\\"\\,)\")\n",
    "    annotated_scenes['non_dialogue']=annotated_scenes.scene_text.str.replace(r\"(?P<non_dialogue>\\[\\[.*?\\\"\\,)\",'')\n",
    "    annotated_scenes['dialogue']=annotated_scenes.dialogue.astype(str).str.replace('[^\\w\\s]','')\n",
    "    annotated_scenes.non_dialogue = annotated_scenes.non_dialogue.str.replace('\"', '')\n",
    "    dialogue_matches.dialogue=dialogue_matches.dialogue_matches.groupby(level=0).apply(list)\n",
    "    annotated_scenes.loc[annotated_scenes['dialogue'].notna(), 'dialogue'] = dialogue_matches.dialogue\n",
    "    annotated_scenes.loc[annotated_scenes['dialogue'].isna(), 'dialogue'] = 'no dialogue'\n",
    "    annotated_scenes.loc[annotated_scenes['non_dialogue'].isna(), 'non_dialogue'] = 'only dialogue'\n",
    "    \n",
    "    \"\"\"#experience with keyword extraction\n",
    "    non_dialogue_text= [' '.join(annotated_scenes['non_dialogue'])]\n",
    "    #dialogue_text=[' '.join(annotated_scenes['dialogue'])]\n",
    "    \n",
    "    #kw_model = KeyBERT('distilbert-base-nli-mean-tokens')\n",
    "    #keywords_non_dialogue = kw_model.extract_keywords(non_dialogue_text)\n",
    "    #keywords_dialogue = kw_model.extract_keywords(dialogue_text)\n",
    "    #print(keywords_non_dialogue)\n",
    "    #print(keywords_dialogue)\"\"\"\n",
    "\n",
    "    \n",
    "    \n",
    "    \n",
    "    #candidate_labels=['Crime','Drama','Mystery','Thriller']\n",
    "    #candidate_labels=[\"thought-provoking\",\"storytelling\",\"suspenseful\"]\n",
    "    #candidate_labels=['murder','death','blood','violence','pistol']\n",
    "    #candidate_labels=['guilty','death','forensic']\n",
    "    #candidate_labels=['crime scene', 'victim', 'death cause','evidence','motive','perpetrator']\n",
    "    #candidate_labels=['motive','perpetrator']\n",
    "    #candidate_labels=['death','killing','fear']\n",
    "    #candidate_labels=['crime scene victim death cause perpetrator evidence motive killing police detective death murder']\n",
    "    candidate_labels=['thriller']\n",
    "    #candidate_labels=['Killing','Buildings','Aggregate','Dead or Alive','Death','Locative relation','Attempt','Evidence','Natural features','Relative time']\n",
    "    \n",
    "    #candidate_labels=['crime scene', 'victim', 'death cause', 'perpetrator', 'evidence', 'motive']\n",
    "    #candidate_labels=['deduction','character-driven drama', 'team of crime-scene investigators', 'Las Vegas Police Department', 'physical evidence', 'murders']\n",
    "    #candidate_labels=['crime lab','police','crime scene investigation','las vegas nevada','detective']\n",
    "    #candidate_labels=['police','detective','forensics','usa','investigation','evidence','nevada','investigator','suspicion','suspect','scene','crime','murder']\n",
    "    \n",
    "    #Computing total score (adding score of all classes) and sorting \n",
    "    first_results=get_results_several_binary(annotated_scenes,classifier,candidate_labels)\n",
    "    first_results=add_centrality_score(first_results,centrality_dict.item()[ep])\n",
    "    #print(first_results)\n",
    "    first_results['prediction_class']=0\n",
    "    cols_to_keep=['scene_id', 'scene_text', 'in_summary', 'aspects','prediction_class','non_dialogue','dialogue','centrality']\n",
    "    first_results['score'] = first_results.drop(cols_to_keep, axis=1).max(axis=1)\n",
    "    first_results[['score','centrality']]=MinMaxScaler().fit_transform(first_results[['score','centrality']])\n",
    "    #first_results[['score','centrality']]=StandardScaler().fit_transform(first_results[['score','centrality']])\n",
    "    #first_results['combined_score']=first_results['score']+first_results['centrality']\n",
    "    first_results['combined_score']=first_results[['score','centrality']].max(axis=1)\n",
    "    first_results=first_results.sort_values(by=['score'],ascending=False)\n",
    "    \n",
    "    #first_results=first_results.sort_values(by=['score'],ascending=False)\n",
    "    #first_results.to_csv('spoiler_detection_classes.csv')\n",
    "    \n",
    "   \n",
    "    \n",
    "    #Computing F1 score for different numbers of positive lables expected \n",
    "    first_results['prediction_class']=0\n",
    "    first_results['prediction_class'].iloc[0:len(first_results[first_results.in_summary==1])]=1\n",
    "    f1_exactnb.append(f1_score_summer(first_results.in_summary, first_results.prediction_class))\n",
    "    first_results['prediction_class']=0\n",
    "    first_results['prediction_class'].iloc[0:int(0.3*len(first_results.index))]=1\n",
    "    f1_30_perc.append(f1_score_summer(first_results.in_summary, first_results.prediction_class))\n",
    "    #print(first_results['prediction_class'].value_counts())\n",
    "    #print(first_results[first_results.in_summary==1])\n",
    "\n",
    "\n",
    "    \n",
    "    \n",
    "    \n",
    "print(np.mean(f1_30_perc)) \n",
    "\n",
    "\n",
    " \n"
   ]
  },
  {
   "cell_type": "code",
   "execution_count": 40,
   "metadata": {},
   "outputs": [
    {
     "name": "stdout",
     "output_type": "stream",
     "text": [
      "0.2940651856941449\n",
      "39\n"
     ]
    }
   ],
   "source": [
    "print(np.mean(f1_scores))\n",
    "\n",
    "print(len(f1_scores))\n",
    "\n"
   ]
  },
  {
   "cell_type": "code",
   "execution_count": null,
   "metadata": {
    "scrolled": false
   },
   "outputs": [],
   "source": [
    "f1_scores_bis=[]\n",
    "\n",
    "\n",
    "\n",
    "\n",
    "\n",
    "for ep in eps:\n",
    "    df=pd.read_csv('combined_scores_murders'+ep+'.csv')\n",
    "    #df['max']=df[[\"prediction_score\", \"score_hf\"]].max(axis=1)\n",
    "    df['max']=0.5*df['score_hf']+0.5*df['prediction_score']\n",
    "    #df['max'][df.topic=='joy']=0\n",
    "    df=df.sort_values(by=['prediction_score'],ascending=False)\n",
    "    df['prediction_class']=0\n",
    "    df['prediction_class'].iloc[0:len(df[df.in_summary==1])]=1\n",
    "    #print(df[['in_summary','topic','score_hf','prediction_class','sum_score','prediction','prediction_score','max']])\n",
    "    \n",
    "            \n",
    "            \n",
    "    #first_results.to_csv('combined_scores'+ep+'.csv')\n",
    "    #first_results.loc[first_results['scene_id'].isin(predicted_pos), 'prediction_huggingface'] = 1 \n",
    "    #print(first_results)\n",
    "    df=df.sort_values(by=['score_hf'],ascending=False)\n",
    "    df['prediction_class'].iloc[0:len(df[df.in_summary==1])]=1\n",
    "    #first_results.loc[first_results['scene_id'].isin(predicted_pos), 'prediction_huggingface'] = 1 \n",
    "    #print(first_results0\n",
    "    f1_scores_bis.append(f1_score(df.in_summary, df.prediction_class))\n",
    "    \n",
    "\n",
    "\n",
    "print(np.mean(f1_scores_bis))\n",
    "\n",
    "#print(len(f1_scores))\n",
    "\n",
    "\n"
   ]
  },
  {
   "cell_type": "code",
   "execution_count": null,
   "metadata": {},
   "outputs": [],
   "source": []
  },
  {
   "cell_type": "code",
   "execution_count": 6,
   "metadata": {},
   "outputs": [
    {
     "ename": "SyntaxError",
     "evalue": "invalid syntax (<ipython-input-6-c61821b32eb2>, line 9)",
     "output_type": "error",
     "traceback": [
      "\u001b[0;36m  File \u001b[0;32m\"<ipython-input-6-c61821b32eb2>\"\u001b[0;36m, line \u001b[0;32m9\u001b[0m\n\u001b[0;31m    first_results[first_results.topic=='Crime'].sort_values(by=['score'],ascending=False)[]\u001b[0m\n\u001b[0m                                                                                          ^\u001b[0m\n\u001b[0;31mSyntaxError\u001b[0m\u001b[0;31m:\u001b[0m invalid syntax\n"
     ]
    }
   ],
   "source": [
    "\n",
    "f1_scores_emotions=[]\n",
    "for ep in eps:\n",
    "    df=pd.read_csv(ep+'_'+method_used+'_similarity.csv')\n",
    "    sequence=df.scene_text\n",
    "    #candidate_labels = ['Crime scene', 'Victim', 'Death cause', 'Perpetrator', 'Evidence', 'Motive']\n",
    "    candidate_labels=['anger', 'anticipation', 'joy', 'trust', 'fear', 'surprise', 'sadness', 'disgust']\n",
    "    first_results=get_results(df,classifier,candidate_labels)   \n",
    "    first_results['prediction_class']=0\n",
    "    first_results[first_results.topic=='Crime'].sort_values(by=['score'],ascending=False)[]\n",
    "\n",
    "    ranked['prediction_class'].iloc[0:len(first_results[first_results.in_summary==1])]=1\n",
    "    ranked.to_csv('murder_hum_class'+ep+'.csv')\n",
    "    print(ranked)\n",
    "    f1_scores_emotions.append(f1_score(ranked.in_summary, ranked.prediction_class))\n",
    "   \n",
    "classifier(sequence, candidate_labels, multi_class=True)\n"
   ]
  },
  {
   "cell_type": "code",
   "execution_count": 114,
   "metadata": {},
   "outputs": [
    {
     "name": "stdout",
     "output_type": "stream",
     "text": [
      "1.0\n",
      "s04e09\n",
      "[0.19999999999999998, 0.2857142857142857, 0.28571428571428575, 0.3157894736842105, 0.3333333333333333, 0.36363636363636365, 0.4, 0.4, 0.4285714285714285, 0.43478260869565216, 0.45454545454545453, 0.47058823529411764, 0.5, 0.5, 0.5, 0.5, 0.5000000000000001, 0.5714285714285714, 0.6, 0.6, 0.6, 0.6153846153846153, 0.6153846153846153, 0.6153846153846153, 0.631578947368421, 0.6666666666666666, 0.6666666666666666, 0.6666666666666666, 0.6666666666666666, 0.7000000000000001, 0.7142857142857143, 0.7142857142857143, 0.7272727272727273, 0.7272727272727273, 0.7272727272727273, 0.7499999999999999, 0.7499999999999999, 0.8571428571428571, 1.0]\n",
      "   Unnamed: 0  Unnamed: 0.1  scene_id  \\\n",
      "0           8             8         8   \n",
      "1          30            30        30   \n",
      "\n",
      "                                          scene_text  in_summary      aspects  \\\n",
      "0  [' ( Scene opens on a close up of two prints ,...           1  Death cause   \n",
      "1  [' ( CATHERINE puts the bagged vice grips on t...           1       Motive   \n",
      "\n",
      "   prediction  aspect?   topic     score  prediction_class  \n",
      "0           0        1  Murder  0.837703                 1  \n",
      "1           1        1  Murder  0.551375                 1  \n"
     ]
    }
   ],
   "source": [
    "import numpy as np\n",
    "\n",
    "sorted_f1 = f1_scores.copy()\n",
    "sorted_f1.sort()\n",
    "print(f1_scores[10])\n",
    "print(eps[10])\n",
    "ep=eps[10]\n",
    "print(sorted_f1)\n",
    "df=pd.read_csv('murder_hum_class'+ep+'.csv')\n",
    "\n",
    "#print(df.scene_text[df.in_summary==0].iloc[4])\n",
    "print(df)\n"
   ]
  },
  {
   "cell_type": "code",
   "execution_count": 4,
   "metadata": {},
   "outputs": [
    {
     "name": "stdout",
     "output_type": "stream",
     "text": [
      "s05e10\n",
      "Index(['Unnamed: 0', 'scene_id', 'scene_text', 'in_summary', 'aspects',\n",
      "       'prediction_score', 'prediction', 'aspect?'],\n",
      "      dtype='object')\n"
     ]
    }
   ],
   "source": [
    "df_all=pd.DataFrame(columns=['Unnamed: 0', 'scene_id', 'scene_text', 'in_summary', 'aspects',\n",
    "       'prediction_score', 'prediction', 'aspect?'])\n",
    "f1_scores=[]\n",
    "eps=['s05e10']\n",
    "for ep in eps:\n",
    "    print(ep)\n",
    "    df=pd.read_csv(ep+'_'+method_used+'_similarity.csv')\n",
    "    print(df.columns)\n",
    "    df_all=df_all.append(df)\n",
    "    \n",
    "   \n"
   ]
  },
  {
   "cell_type": "code",
   "execution_count": null,
   "metadata": {},
   "outputs": [],
   "source": [
    "\n",
    "eps=[]\n",
    "\n",
    "for ep in listdir(path_screenplays_scenes):\n",
    "    annotated_scenes=pd.read_csv(path_screenplays_scenes+'/'+ep)\n",
    "    eps.append(ep.split('.csv')[0])\n",
    "\n",
    "print(eps)\n",
    "    \n",
    "tags_entire_episode=[]\n",
    "\n",
    "\n",
    "eps=['s03e19', 's04e14', 's04e06', 's01e07', 's04e21', 's05e17', 's03e08', 's04e10', 's04e05', 's05e05', 's05e06', 's01e20', 's04e15', 's02e06', 's01e08', 's04e12', 's05e08', 's03e05', 's02e10', 's05e13', 's03e11', 's01e13']\n",
    "\n",
    "for ep in eps:\n",
    "    print(ep)\n",
    "    df=pd.read_csv(ep+'_'+method_used+'_similarity.csv')\n",
    "    #print(df)\n",
    "    #candidate_labels = ['Crime scene', 'Victim', 'Death cause', 'Perpetrator', 'Evidence', 'Motive']\n",
    "    #candidate_labels=['crime scene', 'victim', 'death cause', 'perpetrator', 'evidence', 'motive']\n",
    "    #candidate_labels=['kill','love']\n",
    "    #action, drama, horror and romance.\n",
    "    #candidate_labels=['action', 'crime','romance','comedy','murder']\n",
    "    #candidate_labels=['action', 'crime','romance','comedy']\n",
    "    #candidate_labels=joy,sadness, anger,fear, trust,distrust, surprise,anticipation\n",
    "    candidate_labels=['murder','violence', 'flashback', 'romantic', 'cult', 'revenge', 'psychedelic', 'comedy', 'suspenseful', 'good_versus_evil', 'humor', 'satire', 'entertaining', 'neo noir', 'action', 'sadist', 'insanity', 'tragedy', 'fantasy', 'paranormal', 'boring', 'mystery', 'horror', 'melodrama', 'cruelty', 'gothic', 'dramatic', 'dark', 'atmospheric', 'sci-fi', 'psychological', 'historical', 'absurd', 'prank', 'sentimental', 'philosophical', 'avant garde', 'bleak', 'alternate reality', 'depressing', 'plot twist', 'realism', 'cute', 'stupid', 'intrigue', 'pornographic', 'home movie', 'haunting', 'historical fiction', 'allegory', 'adult comedy', 'inspiring', 'anti war', 'comic', 'brainwashing', 'alternate history', 'queer', 'clever', 'claustrophobic', 'whimsical', 'feel-good', 'blaxploitation', 'western', 'grindhouse film', 'magical realism', 'suicidal', 'autobiographical', 'christian film', 'non fiction']\n",
    "    df['topic'] = None\n",
    "    for i in tqdm(range(0, df.shape[0])):\n",
    "        df.loc[i, 'topic']='bigoudi'\n",
    "        text = df.loc[i, 'scene_text']\n",
    "        result= classifier(text, 'murder')\n",
    "        if text is not None:\n",
    "            for j in candidate_labels:\n",
    "                result_provisoire = classifier(text, j)\n",
    "                #print(result_provisoire['scores'][0].type)\n",
    "                #print(result_provisoire['scores'][0])\n",
    "                #print(result['scores'][0])\n",
    "                if result_provisoire['scores'][0]>result['scores'][0]:\n",
    "                    result['scores']=result_provisoire['scores']\n",
    "                    #print(result['scores'])\n",
    "                    df.loc[i, 'topic'] = result_provisoire['labels'][0]\n",
    "                    #print(df.loc[i, 'topic'])                   \n",
    "            #print(result['labels'][0])\n",
    "    #print(df.loc[i, 'topic'])\n",
    "    print(df['topic'].value_counts().argmax())\n",
    "    tags_entire_episode.append(df['topic'].value_counts().argmax())\n",
    "    \n",
    "    \n",
    "   "
   ]
  },
  {
   "cell_type": "code",
   "execution_count": null,
   "metadata": {},
   "outputs": [],
   "source": [
    "\n",
    "\n",
    "    sequence=df.scene_text\n",
    "    #candidate_labels = ['Crime scene', 'Victim', 'Death cause', 'Perpetrator', 'Evidence', 'Motive']\n",
    "    #candidate_labels=['crime scene', 'victim', 'death cause', 'perpetrator', 'evidence', 'motive']\n",
    "    #candidate_labels=['kill']\n",
    "    #action, drama, horror and romance.\n",
    "    #candidate_labels=['action', 'crime','romance','comedy']\n",
    "    #candidate_labels=['action', 'crime','romance','comedy']\n",
    "    #candidate_labels=joy,sadness, anger,fear, trust,distrust, surprise,anticipation\n",
    "    candidate_labels=['surprise','anticipation']\n",
    "    \n",
    "    #candidate_labels=['Action','Animation','Biography','Comedy','Crime','Drama','Family','Fantasy','Horror','Mystery','Romance','SciFi','Thriller']\n",
    "    #candidate_labels=['Action','Biography','Comedy','Crime','Drama','Family','Fantasy','Horror','Romance','SciFi','Thriller']\n",
    "    #candidate_labels=['anger', 'sadness','joy',feat]\n",
    "    first_results=get_results(df,classifier,candidate_labels)\n",
    "    first_results[['prediction_score','score_hf']]=MinMaxScaler().fit_transform(first_results[['prediction_score','score_hf']])\n",
    "                  \n",
    "    #print(first_results)\n",
    "    first_results['sum_score']=0.5*first_results['score_hf']+0.5*first_results['prediction_score']\n",
    "    #print(first_results['sum_score'])\n",
    "    #ranked=first_results[first_results.topic=='murder'].sort_values(by=['score'],ascending=False)\n",
    "    first_results['prediction_class']=0\n",
    "    #ranked['prediction_class']=0\n",
    "    #ranked['prediction_class'].iloc[0:len(first_results[first_results.in_summary==1])]=1\n",
    "    #predicted_pos= ranked['scene_id'][ranked['prediction_class']==1]\n",
    "    #predicted_pos=list(predicted_pos)\n",
    "    #print(predicted_pos)\n",
    "    #first_results=first_results.sort_values(by=['sum_score'],ascending=False)\n",
    "    first_results=first_results.sort_values(by=['score_hf'],ascending=False)\n",
    "    first_results['prediction_class'].iloc[0:len(first_results[first_results.in_summary==1])]=1\n",
    "    #first_results.to_csv('combined_scores_kill'+ep+'.csv',index=None)\n",
    "    #first_results.loc[first_results['scene_id'].isin(predicted_pos), 'prediction_huggingface'] = 1 \n",
    "    #print(first_results)\n",
    "    f1_scores.append(f1_score(first_results.in_summary, first_results.prediction_class))\n",
    "    "
   ]
  },
  {
   "cell_type": "code",
   "execution_count": null,
   "metadata": {},
   "outputs": [],
   "source": [
    "def get_results(df, classifier, topic_labels):\n",
    "    df['topic'] = None\n",
    "    df['score'] = None\n",
    "    \n",
    "    for i in tqdm(range(0, df.shape[0])):\n",
    "        text = df.loc[i, 'scene_text']\n",
    "        if text is not None:\n",
    "            result = classifier(text, topic_labels)\n",
    "            #df.loc[i, 'topic'] = str(str(result['labels'][0])+\"+\"+str(result['labels'][1]))\n",
    "            #df.loc[i, 'score'] = str(str(result['scores'][0])+\"+\"+str(result['scores'][1]) \n",
    "            df.loc[i, 'topic'] = result['labels'][0]\n",
    "            df.loc[i, 'score'] = result['scores'][0]\n",
    "            #if result['labels'][0]=='surprise':\n",
    "                #df.loc[i, 'score_hf'] = result['scores'][0]\n",
    "            #else:\n",
    "                #df.loc[i, 'score_hf'] = -1\n",
    "            \n",
    "    return df\n"
   ]
  },
  {
   "cell_type": "markdown",
   "metadata": {
    "id": "PGXwxxyn9nOC"
   },
   "source": [
    "To do multi-class classification, simply pass `multi_class=True`. In this case, the scores will be independent, but each will fall between 0 and 1."
   ]
  },
  {
   "cell_type": "code",
   "execution_count": null,
   "metadata": {
    "colab": {
     "base_uri": "https://localhost:8080/",
     "height": 121
    },
    "id": "ZvZeVb2h5RX0",
    "outputId": "9ba085bf-4c52-4011-9c51-3a0adeddd3a2"
   },
   "outputs": [
    {
     "data": {
      "text/plain": [
       "{'labels': ['politics', 'elections', 'public health', 'economics'],\n",
       " 'scores': [0.972069501876831,\n",
       "  0.967610776424408,\n",
       "  0.03248710557818413,\n",
       "  0.0061644683592021465],\n",
       " 'sequence': 'Who are you voting for in 2020?'}"
      ]
     },
     "execution_count": 6,
     "metadata": {
      "tags": []
     },
     "output_type": "execute_result"
    }
   ],
   "source": [
    "sequence = \"Who are you voting for in 2020?\"\n",
    "candidate_labels = [\"politics\", \"public health\", \"economics\", \"elections\"]\n",
    "\n",
    "classifier(sequence, candidate_labels, multi_class=True)"
   ]
  },
  {
   "cell_type": "markdown",
   "metadata": {
    "id": "lLLeDT1r9-yQ"
   },
   "source": [
    "Here's an example of sentiment classification: "
   ]
  },
  {
   "cell_type": "code",
   "execution_count": null,
   "metadata": {
    "colab": {
     "base_uri": "https://localhost:8080/",
     "height": 69
    },
    "id": "f7AF53Wl5f8W",
    "outputId": "50a52076-7d2b-4ce0-b95f-c9cf9a13b361"
   },
   "outputs": [
    {
     "data": {
      "text/plain": [
       "{'labels': ['negative', 'positive'],\n",
       " 'scores': [0.9916268587112427, 0.00837317667901516],\n",
       " 'sequence': 'I hated this movie. The acting sucked.'}"
      ]
     },
     "execution_count": 7,
     "metadata": {
      "tags": []
     },
     "output_type": "execute_result"
    }
   ],
   "source": [
    "sequence = \"I hated this movie. The acting sucked.\"\n",
    "candidate_labels = [\"positive\", \"negative\"]\n",
    "\n",
    "classifier(sequence, candidate_labels)"
   ]
  },
  {
   "cell_type": "markdown",
   "metadata": {
    "id": "uSoBpCpV6k4s"
   },
   "source": [
    "So how does this method work?\n",
    "\n",
    "The underlying model is trained on the task of Natural Language Inference (NLI), which takes in two sequences and determines whether they contradict each other, entail each other, or neither.\n",
    "\n",
    "This can be adapted to the task of zero-shot classification by treating the sequence which we want to classify as one NLI sequence (called the premise) and turning a candidate label into the other (the hypothesis). If the model predicts that the constructed premise _entails_ the hypothesis, then we can take that as a prediction that the label applies to the text. Check out [this blog post](https://joeddav.github.io/blog/2020/05/29/ZSL.html) for a more detailed explanation.\n",
    "\n",
    "By default, the pipeline turns labels into hypotheses with the template `This example is {class_name}.`. This works well in many settings, but you can also customize this for your specific setting. Let's add another review to our above sentiment classification example that's a bit more challenging:"
   ]
  },
  {
   "cell_type": "code",
   "execution_count": null,
   "metadata": {
    "colab": {
     "base_uri": "https://localhost:8080/",
     "height": 121
    },
    "id": "5yLx3pRr5xQA",
    "outputId": "6420fb46-9aeb-4055-8ab6-fdc5eb822a60"
   },
   "outputs": [
    {
     "data": {
      "text/plain": [
       "[{'labels': ['negative', 'positive'],\n",
       "  'scores': [0.9916267991065979, 0.008373182266950607],\n",
       "  'sequence': 'I hated this movie. The acting sucked.'},\n",
       " {'labels': ['negative', 'positive'],\n",
       "  'scores': [0.8148515820503235, 0.1851484179496765],\n",
       "  'sequence': \"This movie didn't quite live up to my high expectations, but overall I still really enjoyed it.\"}]"
      ]
     },
     "execution_count": 8,
     "metadata": {
      "tags": []
     },
     "output_type": "execute_result"
    }
   ],
   "source": [
    "sequences = [\n",
    "    \"I hated this movie. The acting sucked.\",\n",
    "    \"This movie didn't quite live up to my high expectations, but overall I still really enjoyed it.\"\n",
    "]\n",
    "candidate_labels = [\"positive\", \"negative\"]\n",
    "\n",
    "classifier(sequences, candidate_labels)"
   ]
  },
  {
   "cell_type": "markdown",
   "metadata": {
    "id": "CfrpyGWM782R"
   },
   "source": [
    "The second example is a bit harder. Let's see if we can improve the results by using a hypothesis template which is more specific to the setting of review sentiment analysis. Instead of the default, `This example is {}.`, we'll use, `The sentiment of this review is {}.` (where `{}` is replaced with the candidate class name)"
   ]
  },
  {
   "cell_type": "code",
   "execution_count": null,
   "metadata": {
    "colab": {
     "base_uri": "https://localhost:8080/",
     "height": 121
    },
    "id": "kqx5hp7X8XNA",
    "outputId": "69c6e083-f3dc-41db-fca5-d96a3541f1fe"
   },
   "outputs": [
    {
     "data": {
      "text/plain": [
       "[{'labels': ['negative', 'positive'],\n",
       "  'scores': [0.9890093207359314, 0.010990672744810581],\n",
       "  'sequence': 'I hated this movie. The acting sucked.'},\n",
       " {'labels': ['positive', 'negative'],\n",
       "  'scores': [0.9581228494644165, 0.0418771356344223],\n",
       "  'sequence': \"This movie didn't quite live up to my high expectations, but overall I still really enjoyed it.\"}]"
      ]
     },
     "execution_count": 9,
     "metadata": {
      "tags": []
     },
     "output_type": "execute_result"
    }
   ],
   "source": [
    "sequences = [\n",
    "    \"I hated this movie. The acting sucked.\",\n",
    "    \"This movie didn't quite live up to my high expectations, but overall I still really enjoyed it.\"\n",
    "]\n",
    "candidate_labels = [\"positive\", \"negative\"]\n",
    "hypothesis_template = \"The sentiment of this review is {}.\"\n",
    "\n",
    "classifier(sequences, candidate_labels, hypothesis_template=hypothesis_template)"
   ]
  },
  {
   "cell_type": "markdown",
   "metadata": {
    "id": "iArbRAe781-_"
   },
   "source": [
    "By providing a more precise hypothesis template, we are able to see a more accurate classification of the second review.\n",
    "\n",
    "> Note that sentiment classification is used here just as an illustrative example. The [Hugging Face Model Hub](https://huggingface.co/models?filter=text-classification) has a number of models trained specifically on sentiment tasks which can be used instead."
   ]
  },
  {
   "cell_type": "markdown",
   "metadata": {
    "id": "XxUTOnllSH4w"
   },
   "source": [
    "#### Update: Zero-shot classification in 100 languages\n",
    "\n",
    "Interested in using the pipeline for languages other than English? We've trained a cross-lingual model on top of XLM RoBERTa which you can use by passing `model='joeddav/xlm-roberta-large-xnli'` when creating the pipeline:"
   ]
  },
  {
   "cell_type": "code",
   "execution_count": null,
   "metadata": {
    "id": "siZhFPekSN7t"
   },
   "outputs": [],
   "source": [
    "classifier = pipeline(\"zero-shot-classification\", model='joeddav/xlm-roberta-large-xnli')"
   ]
  },
  {
   "cell_type": "markdown",
   "metadata": {
    "id": "zrcljZ75UxKN"
   },
   "source": [
    "You can use it with any combination of languages. For example, let's classify a Russian sentence with English candidate labels:"
   ]
  },
  {
   "cell_type": "code",
   "execution_count": null,
   "metadata": {
    "colab": {
     "base_uri": "https://localhost:8080/",
     "height": 69
    },
    "id": "gBJyFwC2TwGv",
    "outputId": "5e683b8a-2e9f-46c2-95f9-04559bed04ae"
   },
   "outputs": [
    {
     "data": {
      "text/plain": [
       "{'labels': ['politics', 'Europe', 'public health'],\n",
       " 'scores': [0.9048484563827515, 0.05722189322113991, 0.03792969882488251],\n",
       " 'sequence': 'За кого вы голосуете в 2020 году?'}"
      ]
     },
     "execution_count": 11,
     "metadata": {
      "tags": []
     },
     "output_type": "execute_result"
    }
   ],
   "source": [
    "sequence = \"За кого вы голосуете в 2020 году?\" # translation: \"Who are you voting for in 2020?\"\n",
    "candidate_labels = [\"Europe\", \"public health\", \"politics\"]\n",
    "\n",
    "classifier(sequence, candidate_labels)"
   ]
  },
  {
   "cell_type": "markdown",
   "metadata": {
    "id": "b9hGVMsrVI8S"
   },
   "source": [
    "Now let's do the same but with the labels in French:\n",
    "\n"
   ]
  },
  {
   "cell_type": "code",
   "execution_count": null,
   "metadata": {
    "colab": {
     "base_uri": "https://localhost:8080/",
     "height": 69
    },
    "id": "0xKYBOLYVeNJ",
    "outputId": "a8066bb5-9e95-4f80-d77b-9753cc4c4be3"
   },
   "outputs": [
    {
     "data": {
      "text/plain": [
       "{'labels': ['politique', 'Europe', 'santé publique'],\n",
       " 'scores': [0.9726154804229736, 0.017128489911556244, 0.010256024077534676],\n",
       " 'sequence': 'За кого вы голосуете в 2020 году?'}"
      ]
     },
     "execution_count": 12,
     "metadata": {
      "tags": []
     },
     "output_type": "execute_result"
    }
   ],
   "source": [
    "sequence = \"За кого вы голосуете в 2020 году?\" # translation: \"Who are you voting for in 2020?\"\n",
    "candidate_labels = [\"Europe\", \"santé publique\", \"politique\"]\n",
    "\n",
    "classifier(sequence, candidate_labels)"
   ]
  },
  {
   "cell_type": "markdown",
   "metadata": {
    "id": "EHURJUPCVgGP"
   },
   "source": [
    "As we discussed in the last section, the default hypothesis template is the English, `This text is {}.`. If you are working strictly within one language, it may be worthwhile to translate this to the language you are working with:"
   ]
  },
  {
   "cell_type": "code",
   "execution_count": null,
   "metadata": {
    "colab": {
     "base_uri": "https://localhost:8080/",
     "height": 69
    },
    "id": "ZCtTclt7VpMv",
    "outputId": "87c768b3-2193-4164-d993-0ee9c9eec3ff"
   },
   "outputs": [
    {
     "data": {
      "text/plain": [
       "{'labels': ['política', 'Europa', 'salud pública'],\n",
       " 'scores': [0.9109585881233215, 0.05954807624220848, 0.029493311420083046],\n",
       " 'sequence': '¿A quién vas a votar en 2020?'}"
      ]
     },
     "execution_count": 13,
     "metadata": {
      "tags": []
     },
     "output_type": "execute_result"
    }
   ],
   "source": [
    "sequence = \"¿A quién vas a votar en 2020?\"\n",
    "candidate_labels = [\"Europa\", \"salud pública\", \"política\"]\n",
    "hypothesis_template = \"Este ejemplo es {}.\"\n",
    "\n",
    "classifier(sequence, candidate_labels, hypothesis_template=hypothesis_template)"
   ]
  },
  {
   "cell_type": "markdown",
   "metadata": {
    "id": "OQyVNE2fTDVs"
   },
   "source": [
    "The model is fine-tuned on XNLI which includes 15 languages: Arabic, Bulgarian, Chinese, English, French, German, Greek, Hindi, Russian, Spanish, Swahili, Thai, Turkish, Urdu, and Vietnamese. The base model is trained on 85 more, so the model will work to some degree for any of those in the XLM RoBERTa training corpus (see the full list in appendix A of the [XLM Roberata paper](https://arxiv.org/abs/1911.02116)).\n",
    "\n",
    "See the [model page](https://huggingface.co/joeddav/xlm-roberta-large-xnli) for more."
   ]
  }
 ],
 "metadata": {
  "colab": {
   "collapsed_sections": [],
   "name": "🤗 Zero Shot Pipeline.ipynb",
   "provenance": []
  },
  "kernelspec": {
   "display_name": "Python 3",
   "language": "python",
   "name": "python3"
  },
  "language_info": {
   "codemirror_mode": {
    "name": "ipython",
    "version": 3
   },
   "file_extension": ".py",
   "mimetype": "text/x-python",
   "name": "python",
   "nbconvert_exporter": "python",
   "pygments_lexer": "ipython3",
   "version": "3.6.9"
  }
 },
 "nbformat": 4,
 "nbformat_minor": 1
}
